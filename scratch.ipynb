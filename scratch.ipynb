{
 "cells": [
  {
   "cell_type": "code",
   "execution_count": 2,
   "metadata": {
    "scrolled": true
   },
   "outputs": [],
   "source": [
    "import torch\n",
    "from torch import nn\n",
    "import torch.nn.functional as F\n",
    "from torch.utils.data import DataLoader, Dataset\n",
    "import os\n",
    "\n",
    "from PIL import Image\n",
    "from torchvision.transforms import Resize, Compose, ToTensor, Normalize\n",
    "import numpy as np\n",
    "import skimage\n",
    "import matplotlib.pyplot as plt\n",
    "\n",
    "import time\n",
    "\n",
    "import random\n"
   ]
  },
  {
   "cell_type": "code",
   "execution_count": 15,
   "metadata": {},
   "outputs": [
    {
     "name": "stdout",
     "output_type": "stream",
     "text": [
      "[3, 2, 8, 15, 19, 10, 9, 18, 12, 4, 13, 1, 5, 6, 14, 17, 7, 0, 11, 16]\n"
     ]
    }
   ],
   "source": [
    "# print(train_models[\"RESV_109.npy\"][0].net[0].linear.weight.flatten().mean())\n",
    "# print(train_models[\"RESV_109.npy\"][0].net[0].linear.weight.flatten().var())\n",
    "\n",
    "# print(train_models[\"RESV_109.npy\"][0].net[1].linear.weight.flatten().mean())\n",
    "# print(train_models[\"RESV_109.npy\"][0].net[1].linear.weight.flatten().var())\n",
    "\n",
    "# print(train_models[\"RESV_109.npy\"][0].net[2].linear.weight.flatten().mean())\n",
    "# print(train_models[\"RESV_109.npy\"][0].net[2].linear.weight.flatten().var())\n",
    "\n",
    "# print()\n",
    "# print()\n",
    "\n",
    "# print(pcmra_siren.net[0].linear.weight.flatten().mean())\n",
    "# print(pcmra_siren.net[0].linear.weight.flatten().var())\n",
    "# print(pcmra_siren.net[1].linear.weight.flatten().mean())\n",
    "# print(pcmra_siren.net[1].linear.weight.flatten().var())\n",
    "# print(pcmra_siren.net[2].weight.flatten().mean())\n",
    "# print(pcmra_siren.net[2].weight.flatten().var())\n",
    "\n",
    "# print()\n",
    "# print()\n",
    "\n",
    "# print(mask_siren.net[0].linear.weight.flatten().mean())\n",
    "# print(mask_siren.net[0].linear.weight.flatten().var())\n",
    "# print(mask_siren.net[1].linear.weight.flatten().mean())\n",
    "# print(mask_siren.net[1].linear.weight.flatten().var())\n",
    "# print(mask_siren.net[2].weight.flatten().mean()\n",
    "# print(mask_siren.net[2].weight.flatten().var())"
   ]
  },
  {
   "cell_type": "code",
   "execution_count": 2,
   "metadata": {},
   "outputs": [],
   "source": [
    "def print_params():\n",
    "    print(\"Model1\")\n",
    "    for param in m1.parameters():\n",
    "        print(param)\n",
    "        \n",
    "    print()\n",
    "    \n",
    "    print(\"Model2\")\n",
    "    for param in m2.parameters():\n",
    "        print(param)\n",
    "        \n",
    "    print()\n",
    "    \n",
    "    print(\"Complete Model\")\n",
    "    for param in cm.parameters():\n",
    "        print(param)"
   ]
  },
  {
   "cell_type": "code",
   "execution_count": 3,
   "metadata": {},
   "outputs": [],
   "source": [
    "class Model1(torch.nn.Module):\n",
    "    def __init__(self):\n",
    "        super(Model1, self).__init__()\n",
    "        \n",
    "        self.net = nn.Sequential(nn.Linear(2,3), \n",
    "                                 nn.ReLU())\n",
    "        \n",
    "    def forward(self, x):  \n",
    "        return self.net(x)\n",
    "    \n",
    "\n",
    "class Model2(torch.nn.Module):\n",
    "    def __init__(self):\n",
    "        super(Model2, self).__init__()\n",
    "        \n",
    "        self.net = nn.Sequential(nn.Linear(3,1), \n",
    "                                 nn.ReLU())\n",
    "        \n",
    "    def forward(self, x):  \n",
    "        return self.net(x)\n",
    "    \n",
    "    \n",
    "\n",
    "    \n",
    "class CompleteModel(torch.nn.Module):\n",
    "    def __init__(self):\n",
    "        super(CompleteModel, self).__init__()\n",
    "        \n",
    "        self.net = nn.Sequential(nn.Linear(2,3), \n",
    "                                 nn.ReLU(),\n",
    "                                 nn.Linear(3,1), \n",
    "                                 nn.ReLU())\n",
    "        \n",
    "        \n",
    "    def forward(self, x):  \n",
    "        return self.net(x)    "
   ]
  },
  {
   "cell_type": "code",
   "execution_count": 4,
   "metadata": {},
   "outputs": [],
   "source": [
    "data = torch.tensor([[0, 0], [1, 1]], dtype=torch.float).cuda()\n",
    "\n",
    "labels = torch.tensor([[0], [3]], dtype=torch.float).cuda()\n"
   ]
  },
  {
   "cell_type": "code",
   "execution_count": 5,
   "metadata": {},
   "outputs": [
    {
     "name": "stdout",
     "output_type": "stream",
     "text": [
      "Model1\n",
      "Parameter containing:\n",
      "tensor([[ 0.0239, -0.1268],\n",
      "        [-0.5727,  0.3217],\n",
      "        [-0.2448,  0.6367]], device='cuda:0', requires_grad=True)\n",
      "Parameter containing:\n",
      "tensor([-0.1986, -0.0778, -0.2102], device='cuda:0', requires_grad=True)\n",
      "\n",
      "Model2\n",
      "Parameter containing:\n",
      "tensor([[ 0.3919, -0.0908,  0.5441]], device='cuda:0', requires_grad=True)\n",
      "Parameter containing:\n",
      "tensor([-0.3409], device='cuda:0', requires_grad=True)\n",
      "\n",
      "Complete Model\n",
      "Parameter containing:\n",
      "tensor([[ 0.5229, -0.3609],\n",
      "        [-0.3116, -0.3254],\n",
      "        [ 0.0399, -0.5116]], device='cuda:0', requires_grad=True)\n",
      "Parameter containing:\n",
      "tensor([ 0.3407, -0.6120, -0.6978], device='cuda:0', requires_grad=True)\n",
      "Parameter containing:\n",
      "tensor([[0.5647, 0.4746, 0.3597]], device='cuda:0', requires_grad=True)\n",
      "Parameter containing:\n",
      "tensor([0.1372], device='cuda:0', requires_grad=True)\n"
     ]
    }
   ],
   "source": [
    "\n",
    "random.seed(1)\n",
    "\n",
    "m1 = Model1().cuda()\n",
    "m2 = Model2().cuda()\n",
    "cm = CompleteModel().cuda()\n",
    "\n",
    "optim1 = torch.optim.Adam(lr=1, params=m1.parameters())\n",
    "optim2 = torch.optim.Adam(lr=1, params=m2.parameters())\n",
    "optim = torch.optim.Adam(cm.parameters(), lr=1)\n",
    "\n",
    "criterion = torch.nn.MSELoss()\n",
    "\n",
    "print_params()"
   ]
  },
  {
   "cell_type": "code",
   "execution_count": 7,
   "metadata": {},
   "outputs": [
    {
     "data": {
      "text/plain": [
       "CompleteModel(\n",
       "  (net): Sequential(\n",
       "    (0): Linear(in_features=2, out_features=3, bias=True)\n",
       "    (1): ReLU()\n",
       "    (2): Linear(in_features=3, out_features=1, bias=True)\n",
       "    (3): ReLU()\n",
       "  )\n",
       ")"
      ]
     },
     "execution_count": 7,
     "metadata": {},
     "output_type": "execute_result"
    }
   ],
   "source": [
    "weight1 = nn.Parameter(torch.Tensor([[-0.6366,  0.4821],\n",
    "        [-0.5287, -0.3526],\n",
    "        [ 0.1509, -0.4653]])).cuda()\n",
    "bias1 = nn.Parameter(torch.Tensor([ 0.2928, -0.0928,  0.5697])).cuda()\n",
    "\n",
    "weight2 = nn.Parameter(torch.Tensor([[ 0.5473, -0.1857, -0.1335]])).cuda()\n",
    "bias2 = nn.Parameter(torch.Tensor([0.3104])).cuda()\n",
    "\n",
    "\n",
    "with torch.no_grad():\n",
    "    m1.net[0].weight.data = weight1.clone()\n",
    "    m1.net[0].bias.data = bias1.clone()\n",
    "\n",
    "    cm.net[0].weight.data = weight1.clone()\n",
    "    cm.net[0].bias.data = bias1.clone()\n",
    "\n",
    "    m2.net[0].weight.data = weight2.clone()\n",
    "    m2.net[0].bias.data = bias2.clone()\n",
    "\n",
    "    cm.net[2].weight.data = weight2.clone()\n",
    "    cm.net[2].bias.data = bias2.clone()\n",
    "\n",
    "m1.train()\n",
    "m2.train()\n",
    "cm.train()"
   ]
  },
  {
   "cell_type": "code",
   "execution_count": 8,
   "metadata": {},
   "outputs": [
    {
     "name": "stdout",
     "output_type": "stream",
     "text": [
      "Model1\n",
      "Parameter containing:\n",
      "tensor([[-0.6366,  0.4821],\n",
      "        [-0.5287, -0.3526],\n",
      "        [ 0.1509, -0.4653]], device='cuda:0', requires_grad=True)\n",
      "Parameter containing:\n",
      "tensor([ 0.2928, -0.0928,  0.5697], device='cuda:0', requires_grad=True)\n",
      "\n",
      "Model2\n",
      "Parameter containing:\n",
      "tensor([[ 0.5473, -0.1857, -0.1335]], device='cuda:0', requires_grad=True)\n",
      "Parameter containing:\n",
      "tensor([0.3104], device='cuda:0', requires_grad=True)\n",
      "\n",
      "Complete Model\n",
      "Parameter containing:\n",
      "tensor([[-0.6366,  0.4821],\n",
      "        [-0.5287, -0.3526],\n",
      "        [ 0.1509, -0.4653]], device='cuda:0', requires_grad=True)\n",
      "Parameter containing:\n",
      "tensor([ 0.2928, -0.0928,  0.5697], device='cuda:0', requires_grad=True)\n",
      "Parameter containing:\n",
      "tensor([[ 0.5473, -0.1857, -0.1335]], device='cuda:0', requires_grad=True)\n",
      "Parameter containing:\n",
      "tensor([0.3104], device='cuda:0', requires_grad=True)\n"
     ]
    }
   ],
   "source": [
    "print_params()"
   ]
  },
  {
   "cell_type": "code",
   "execution_count": 9,
   "metadata": {},
   "outputs": [
    {
     "name": "stdout",
     "output_type": "stream",
     "text": [
      "tensor(3.5838, device='cuda:0', grad_fn=<MseLossBackward>)\n"
     ]
    }
   ],
   "source": [
    "out = m1(data)\n",
    "out = m2(out)\n",
    "\n",
    "loss = criterion(out, labels)\n",
    "\n",
    "optim1.zero_grad()\n",
    "optim2.zero_grad()\n",
    "\n",
    "loss.backward()\n",
    "print(loss)"
   ]
  },
  {
   "cell_type": "code",
   "execution_count": 10,
   "metadata": {},
   "outputs": [
    {
     "name": "stdout",
     "output_type": "stream",
     "text": [
      "Model1\n",
      "Parameter containing:\n",
      "tensor([[-0.6366,  0.4821],\n",
      "        [-0.5287, -0.3526],\n",
      "        [ 0.1509, -0.4653]], device='cuda:0', requires_grad=True)\n",
      "Parameter containing:\n",
      "tensor([ 0.2928, -0.0928,  0.5697], device='cuda:0', requires_grad=True)\n",
      "\n",
      "Model2\n",
      "Parameter containing:\n",
      "tensor([[ 0.5473, -0.1857, -0.1335]], device='cuda:0', requires_grad=True)\n",
      "Parameter containing:\n",
      "tensor([0.3104], device='cuda:0', requires_grad=True)\n",
      "\n",
      "Complete Model\n",
      "Parameter containing:\n",
      "tensor([[-0.6366,  0.4821],\n",
      "        [-0.5287, -0.3526],\n",
      "        [ 0.1509, -0.4653]], device='cuda:0', requires_grad=True)\n",
      "Parameter containing:\n",
      "tensor([ 0.2928, -0.0928,  0.5697], device='cuda:0', requires_grad=True)\n",
      "Parameter containing:\n",
      "tensor([[ 0.5473, -0.1857, -0.1335]], device='cuda:0', requires_grad=True)\n",
      "Parameter containing:\n",
      "tensor([0.3104], device='cuda:0', requires_grad=True)\n"
     ]
    }
   ],
   "source": [
    "print_params()"
   ]
  },
  {
   "cell_type": "code",
   "execution_count": 11,
   "metadata": {},
   "outputs": [],
   "source": [
    "optim2.step()"
   ]
  },
  {
   "cell_type": "code",
   "execution_count": 12,
   "metadata": {},
   "outputs": [
    {
     "name": "stdout",
     "output_type": "stream",
     "text": [
      "Model1\n",
      "Parameter containing:\n",
      "tensor([[-0.6366,  0.4821],\n",
      "        [-0.5287, -0.3526],\n",
      "        [ 0.1509, -0.4653]], device='cuda:0', requires_grad=True)\n",
      "Parameter containing:\n",
      "tensor([ 0.2928, -0.0928,  0.5697], device='cuda:0', requires_grad=True)\n",
      "\n",
      "Model2\n",
      "Parameter containing:\n",
      "tensor([[ 1.5473, -0.1857,  0.8665]], device='cuda:0', requires_grad=True)\n",
      "Parameter containing:\n",
      "tensor([1.3104], device='cuda:0', requires_grad=True)\n",
      "\n",
      "Complete Model\n",
      "Parameter containing:\n",
      "tensor([[-0.6366,  0.4821],\n",
      "        [-0.5287, -0.3526],\n",
      "        [ 0.1509, -0.4653]], device='cuda:0', requires_grad=True)\n",
      "Parameter containing:\n",
      "tensor([ 0.2928, -0.0928,  0.5697], device='cuda:0', requires_grad=True)\n",
      "Parameter containing:\n",
      "tensor([[ 0.5473, -0.1857, -0.1335]], device='cuda:0', requires_grad=True)\n",
      "Parameter containing:\n",
      "tensor([0.3104], device='cuda:0', requires_grad=True)\n"
     ]
    }
   ],
   "source": [
    "print_params()"
   ]
  },
  {
   "cell_type": "code",
   "execution_count": 13,
   "metadata": {},
   "outputs": [],
   "source": [
    "optim1.step()"
   ]
  },
  {
   "cell_type": "code",
   "execution_count": 14,
   "metadata": {},
   "outputs": [
    {
     "name": "stdout",
     "output_type": "stream",
     "text": [
      "Model1\n",
      "Parameter containing:\n",
      "tensor([[ 0.3634,  1.4821],\n",
      "        [-0.5287, -0.3526],\n",
      "        [-0.8491, -1.4653]], device='cuda:0', requires_grad=True)\n",
      "Parameter containing:\n",
      "tensor([ 1.2928, -0.0928, -0.4303], device='cuda:0', requires_grad=True)\n",
      "\n",
      "Model2\n",
      "Parameter containing:\n",
      "tensor([[ 1.5473, -0.1857,  0.8665]], device='cuda:0', requires_grad=True)\n",
      "Parameter containing:\n",
      "tensor([1.3104], device='cuda:0', requires_grad=True)\n",
      "\n",
      "Complete Model\n",
      "Parameter containing:\n",
      "tensor([[-0.6366,  0.4821],\n",
      "        [-0.5287, -0.3526],\n",
      "        [ 0.1509, -0.4653]], device='cuda:0', requires_grad=True)\n",
      "Parameter containing:\n",
      "tensor([ 0.2928, -0.0928,  0.5697], device='cuda:0', requires_grad=True)\n",
      "Parameter containing:\n",
      "tensor([[ 0.5473, -0.1857, -0.1335]], device='cuda:0', requires_grad=True)\n",
      "Parameter containing:\n",
      "tensor([0.3104], device='cuda:0', requires_grad=True)\n"
     ]
    }
   ],
   "source": [
    "print_params()"
   ]
  },
  {
   "cell_type": "code",
   "execution_count": 15,
   "metadata": {},
   "outputs": [
    {
     "name": "stdout",
     "output_type": "stream",
     "text": [
      "tensor(3.5838, device='cuda:0', grad_fn=<MseLossBackward>)\n"
     ]
    }
   ],
   "source": [
    "out = cm(data)\n",
    "\n",
    "loss = criterion(out, labels)\n",
    "\n",
    "optim.zero_grad()\n",
    "\n",
    "loss.backward()\n",
    "optim.step()\n",
    "print(loss)"
   ]
  },
  {
   "cell_type": "code",
   "execution_count": 16,
   "metadata": {},
   "outputs": [
    {
     "name": "stdout",
     "output_type": "stream",
     "text": [
      "Model1\n",
      "Parameter containing:\n",
      "tensor([[ 0.3634,  1.4821],\n",
      "        [-0.5287, -0.3526],\n",
      "        [-0.8491, -1.4653]], device='cuda:0', requires_grad=True)\n",
      "Parameter containing:\n",
      "tensor([ 1.2928, -0.0928, -0.4303], device='cuda:0', requires_grad=True)\n",
      "\n",
      "Model2\n",
      "Parameter containing:\n",
      "tensor([[ 1.5473, -0.1857,  0.8665]], device='cuda:0', requires_grad=True)\n",
      "Parameter containing:\n",
      "tensor([1.3104], device='cuda:0', requires_grad=True)\n",
      "\n",
      "Complete Model\n",
      "Parameter containing:\n",
      "tensor([[ 0.3634,  1.4821],\n",
      "        [-0.5287, -0.3526],\n",
      "        [-0.8491, -1.4653]], device='cuda:0', requires_grad=True)\n",
      "Parameter containing:\n",
      "tensor([ 1.2928, -0.0928, -0.4303], device='cuda:0', requires_grad=True)\n",
      "Parameter containing:\n",
      "tensor([[ 1.5473, -0.1857,  0.8665]], device='cuda:0', requires_grad=True)\n",
      "Parameter containing:\n",
      "tensor([1.3104], device='cuda:0', requires_grad=True)\n"
     ]
    }
   ],
   "source": [
    "print_params()"
   ]
  },
  {
   "cell_type": "code",
   "execution_count": null,
   "metadata": {},
   "outputs": [],
   "source": []
  },
  {
   "cell_type": "code",
   "execution_count": 3,
   "metadata": {},
   "outputs": [],
   "source": [
    "a = torch.eye(4)"
   ]
  },
  {
   "cell_type": "code",
   "execution_count": 4,
   "metadata": {},
   "outputs": [],
   "source": [
    "b = torch.Tensor([0, 1, 2, 3, 4, 5])"
   ]
  },
  {
   "cell_type": "code",
   "execution_count": 5,
   "metadata": {},
   "outputs": [],
   "source": [
    "c = a.to(b)"
   ]
  },
  {
   "cell_type": "code",
   "execution_count": 6,
   "metadata": {},
   "outputs": [
    {
     "name": "stdout",
     "output_type": "stream",
     "text": [
      "tensor([[1., 0., 0., 0.],\n",
      "        [0., 1., 0., 0.],\n",
      "        [0., 0., 1., 0.],\n",
      "        [0., 0., 0., 1.]])\n"
     ]
    }
   ],
   "source": [
    "print(c)"
   ]
  },
  {
   "cell_type": "code",
   "execution_count": null,
   "metadata": {},
   "outputs": [],
   "source": []
  }
 ],
 "metadata": {
  "kernelspec": {
   "display_name": "Python 3.6.8 64-bit",
   "language": "python",
   "name": "python36864bit0627eb39d7a6497d88458471ef8e42e3"
  },
  "language_info": {
   "codemirror_mode": {
    "name": "ipython",
    "version": 3
   },
   "file_extension": ".py",
   "mimetype": "text/x-python",
   "name": "python",
   "nbconvert_exporter": "python",
   "pygments_lexer": "ipython3",
   "version": "3.6.8"
  }
 },
 "nbformat": 4,
 "nbformat_minor": 2
}
