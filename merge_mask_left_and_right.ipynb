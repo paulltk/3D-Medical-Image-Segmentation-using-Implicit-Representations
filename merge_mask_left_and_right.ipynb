{
 "cells": [
  {
   "cell_type": "code",
   "execution_count": 1,
   "metadata": {},
   "outputs": [],
   "source": [
    "import os \n",
    "import numpy as np\n",
    "\n",
    "root = \"/scratch/ptenkaate/Data\"\n",
    "folder = \"Carotide\"\n",
    "\n",
    "data = \"mask_left\"\n",
    "\n",
    "for _,_, files in os.walk(f\"{root}/{folder}/{data}\"):\n",
    "    break   \n",
    "\n",
    "for subject in files: \n",
    "    \n",
    "    data = \"mask_left\"\n",
    "    ml_path = f\"{root}/{folder}/{data}/{subject}\"\n",
    "    with open(ml_path, 'rb') as f:\n",
    "        mask_left = np.load(f)\n",
    "    \n",
    "    data = \"mask_right\"\n",
    "    mr_path = f\"{root}/{folder}/{data}/{subject}\"\n",
    "    with open(mr_path, 'rb') as f:\n",
    "        mask_right = np.load(f)\n",
    "    \n",
    "    mask = mask_left + mask_right\n",
    "    \n",
    "    data = \"mask\"\n",
    "    \n",
    "    if not os.path.exists(f\"{root}/{folder}/{data}\"):\n",
    "        os.makedirs(f\"{root}/{folder}/{data}\")\n",
    "\n",
    "    m_path = f\"{root}/{folder}/{data}/{subject}\"\n",
    "\n",
    "    with open(m_path, 'wb') as f:\n",
    "        np.save(f,mask)"
   ]
  },
  {
   "cell_type": "code",
   "execution_count": null,
   "metadata": {},
   "outputs": [],
   "source": []
  }
 ],
 "metadata": {
  "kernelspec": {
   "display_name": "Python 3.6.8 64-bit",
   "language": "python",
   "name": "python36864bit0627eb39d7a6497d88458471ef8e42e3"
  },
  "language_info": {
   "codemirror_mode": {
    "name": "ipython",
    "version": 3
   },
   "file_extension": ".py",
   "mimetype": "text/x-python",
   "name": "python",
   "nbconvert_exporter": "python",
   "pygments_lexer": "ipython3",
   "version": "3.6.8"
  }
 },
 "nbformat": 4,
 "nbformat_minor": 2
}
