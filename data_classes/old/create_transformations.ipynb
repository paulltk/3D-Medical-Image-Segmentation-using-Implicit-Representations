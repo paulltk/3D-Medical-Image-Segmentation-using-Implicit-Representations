{
 "cells": [
  {
   "cell_type": "code",
   "execution_count": 2,
   "metadata": {},
   "outputs": [],
   "source": [
    "import numpy as np \n",
    "import os \n",
    "import matplotlib.pyplot as plt\n",
    "\n",
    "import scipy\n",
    "import scipy.ndimage\n",
    "from scipy.ndimage import zoom\n",
    "\n",
    "import itertools as it"
   ]
  },
  {
   "cell_type": "code",
   "execution_count": 25,
   "metadata": {},
   "outputs": [],
   "source": [
    "root = \"/home/ptenkaate/scratch/Master-Thesis/Dataset\"\n",
    "folders = [\"original_normalized\", \"scaled_normalized\"]"
   ]
  },
  {
   "cell_type": "code",
   "execution_count": 29,
   "metadata": {},
   "outputs": [],
   "source": [
    "for folder in folders: \n",
    "    load_path = os.path.join(root, folder)\n",
    "    save_path = os.path.join(root, folder + \"_rotated\")\n",
    "    \n",
    "    if not os.path.exists(save_path):\n",
    "        os.makedirs(save_path)\n",
    "    \n",
    "    for file in os.listdir(load_path):\n",
    "        \n",
    "        image = np.load(os.path.join(load_path, file))\n",
    "        \n",
    "        name = file.split(\"__\")\n",
    "        name[2] += \"_rot 0 (-, -)\"\n",
    "        name = '__'.join(name)\n",
    "        \n",
    "        np.save(os.path.join(save_path, name), image)"
   ]
  },
  {
   "cell_type": "code",
   "execution_count": null,
   "metadata": {
    "scrolled": true
   },
   "outputs": [],
   "source": []
  },
  {
   "cell_type": "code",
   "execution_count": null,
   "metadata": {},
   "outputs": [
    {
     "name": "stdout",
     "output_type": "stream",
     "text": [
      "16-01-14_Kerry_kt-pca_done2__Aorta Volunteers__original_rot 0 (-, -)__pcmra.npy\n",
      "16-01-14_Kerry_kt-pca_done2__Aorta Volunteers__original_rot 0 (-, -)__mask.npy\n",
      "16-01-22_Jarik_kt-pca_done2__Aorta Volunteers__original_rot 0 (-, -)__pcmra.npy\n",
      "16-01-22_Jarik_kt-pca_done2__Aorta Volunteers__original_rot 0 (-, -)__mask.npy\n",
      "16-01-27 Valentine kt-pca_done2__Aorta Volunteers__original_rot 0 (-, -)__pcmra.npy\n",
      "16-01-27 Valentine kt-pca_done2__Aorta Volunteers__original_rot 0 (-, -)__mask.npy\n",
      "16-01-27_Claudia_kt-pca_done2__Aorta Volunteers__original_rot 0 (-, -)__pcmra.npy\n",
      "16-01-27_Claudia_kt-pca_done2__Aorta Volunteers__original_rot 0 (-, -)__mask.npy\n",
      "16-02-03_Feiko_kt-pca_done2__Aorta Volunteers__original_rot 0 (-, -)__pcmra.npy\n",
      "16-02-03_Feiko_kt-pca_done2__Aorta Volunteers__original_rot 0 (-, -)__mask.npy\n",
      "16-02-10_Luuk_kt-pca_done2__Aorta Volunteers__original_rot 0 (-, -)__pcmra.npy\n",
      "16-02-10_Luuk_kt-pca_done2__Aorta Volunteers__original_rot 0 (-, -)__mask.npy\n",
      "16-02-10_Michelle_kt-pca_done__Aorta Volunteers__original_rot 0 (-, -)__pcmra.npy\n",
      "16-02-10_Michelle_kt-pca_done__Aorta Volunteers__original_rot 0 (-, -)__mask.npy\n",
      "16-02-12_Kira_kt-pca_done2__Aorta Volunteers__original_rot 0 (-, -)__pcmra.npy\n",
      "16-02-12_Kira_kt-pca_done2__Aorta Volunteers__original_rot 0 (-, -)__mask.npy\n",
      "16-02-12_Marjolein_kt-pca_done__Aorta Volunteers__original_rot 0 (-, -)__pcmra.npy\n",
      "16-02-12_Marjolein_kt-pca_done__Aorta Volunteers__original_rot 0 (-, -)__mask.npy\n",
      "16-03-11_Mart_kt-pca_done__Aorta Volunteers__original_rot 0 (-, -)__pcmra.npy\n",
      "16-03-11_Mart_kt-pca_done__Aorta Volunteers__original_rot 0 (-, -)__mask.npy\n",
      "16-03-18_Eva_kt-pca_done2__Aorta Volunteers__original_rot 0 (-, -)__pcmra.npy\n",
      "16-03-18_Eva_kt-pca_done2__Aorta Volunteers__original_rot 0 (-, -)__mask.npy\n",
      "16-03-18_Ruud_kt-pca_done2__Aorta Volunteers__original_rot 0 (-, -)__pcmra.npy\n",
      "16-03-18_Ruud_kt-pca_done2__Aorta Volunteers__original_rot 0 (-, -)__mask.npy\n",
      "16-03-18_Sanjay2_kt-pca_done2__Aorta Volunteers__original_rot 0 (-, -)__pcmra.npy\n",
      "16-03-18_Sanjay2_kt-pca_done2__Aorta Volunteers__original_rot 0 (-, -)__mask.npy\n",
      "16-04-13_Pim_kt-pca_done2__Aorta Volunteers__original_rot 0 (-, -)__pcmra.npy\n",
      "16-04-13_Pim_kt-pca_done2__Aorta Volunteers__original_rot 0 (-, -)__mask.npy\n",
      "16-05-11 Sandra_kt-pca_done2__Aorta Volunteers__original_rot 0 (-, -)__pcmra.npy\n",
      "16-05-11 Sandra_kt-pca_done2__Aorta Volunteers__original_rot 0 (-, -)__mask.npy\n",
      "16-05-25_Emile_kt-pca_done__Aorta Volunteers__original_rot 0 (-, -)__pcmra.npy\n",
      "16-05-25_Emile_kt-pca_done__Aorta Volunteers__original_rot 0 (-, -)__mask.npy\n",
      "16-06-08_Paul_kt-pca_done2__Aorta Volunteers__original resized (0.9, 0.9, 1.0)_rot 0 (-, -)__pcmra.npy\n",
      "16-06-08_Paul_kt-pca_done2__Aorta Volunteers__original resized (0.9, 0.9, 1.0)_rot 0 (-, -)__mask.npy\n",
      "16-06-08_Sevink_kt-pca_done2__Aorta Volunteers__original resized (0.9, 0.9, 1.0)_rot 0 (-, -)__pcmra.npy\n",
      "16-06-08_Sevink_kt-pca_done2__Aorta Volunteers__original resized (0.9, 0.9, 1.0)_rot 0 (-, -)__mask.npy\n",
      "16-06-17_Planken_kt-pca_done__Aorta Volunteers__original_rot 0 (-, -)__pcmra.npy\n",
      "16-06-17_Planken_kt-pca_done__Aorta Volunteers__original_rot 0 (-, -)__mask.npy\n",
      "16-06-22_vanKesteren_kt_pca_done2__Aorta Volunteers__original_rot 0 (-, -)__pcmra.npy\n",
      "16-06-22_vanKesteren_kt_pca_done2__Aorta Volunteers__original_rot 0 (-, -)__mask.npy\n",
      "16-04-13_104_done__Aorta BaV__original_rot 0 (-, -)__pcmra.npy\n",
      "16-06-24_Irma_kt-pca_done1__Aorta Volunteers__original resized (0.7, 0.7, 1.0)_rot 0 (-, -)__pcmra.npy\n",
      "16-06-24_Irma_kt-pca_done1__Aorta Volunteers__original resized (0.7, 0.7, 1.0)_rot 0 (-, -)__mask.npy\n",
      "16-06-24_Ot_kt-pca_done1__Aorta Volunteers__original_rot 0 (-, -)__pcmra.npy\n",
      "16-06-24_Ot_kt-pca_done1__Aorta Volunteers__original_rot 0 (-, -)__mask.npy\n",
      "16-12-14_Marcelle_done2__Aorta Volunteers__original_rot 0 (-, -)__pcmra.npy\n",
      "16-12-14_Marcelle_done2__Aorta Volunteers__original_rot 0 (-, -)__mask.npy\n",
      "17-02-03_Nijveld__Aorta Volunteers__original resized (0.9, 0.9, 0.8)_rot 0 (-, -)__pcmra.npy\n",
      "17-02-03_Nijveld__Aorta Volunteers__original resized (0.9, 0.9, 0.8)_rot 0 (-, -)__mask.npy\n",
      "17-02-08_VaderUiterwijk__Aorta Volunteers__original_rot 0 (-, -)__pcmra.npy\n",
      "17-02-08_VaderUiterwijk__Aorta Volunteers__original_rot 0 (-, -)__mask.npy\n",
      "17-03-15_GJ_Romeijn__Aorta Volunteers__original resized (1.0, 1.0, 0.8)_rot 0 (-, -)__pcmra.npy\n"
     ]
    }
   ],
   "source": [
    "axes = [(0, 1), (0, 2), (1, 2)]\n",
    "angles = [-6, -4, -2, 2, 4, 6]\n",
    "axes_angles = list(it.product(axes, angles))\n",
    "\n",
    "folders = [\"original_normalized_rotated\", \"scaled_normalized_rotated\"]\n",
    "\n",
    "for folder in folders: \n",
    "    path = os.path.join(root, folder)\n",
    "    \n",
    "    for file in os.listdir(path):\n",
    "        print(file)\n",
    "        image = np.load(os.path.join(path, file))\n",
    "        \n",
    "        name = file.split(\"__\")\n",
    "        for axis, angle in axes_angles:             \n",
    "            new_name = name.copy()\n",
    "            new_name[2] = new_name[2].split(\"_\")[0] + f\"_rot {angle} {axis}\"\n",
    "            new_name = \"__\".join(new_name)\n",
    "            \n",
    "            new_image = scipy.ndimage.interpolation.rotate(image.astype(np.float64), angle, axis, reshape=False)\n",
    "            np.save(os.path.join(path, new_name), new_image.astype(np.float16))"
   ]
  },
  {
   "cell_type": "code",
   "execution_count": null,
   "metadata": {
    "scrolled": true
   },
   "outputs": [],
   "source": []
  },
  {
   "cell_type": "code",
   "execution_count": null,
   "metadata": {},
   "outputs": [],
   "source": []
  }
 ],
 "metadata": {
  "kernelspec": {
   "display_name": "Python 3.6.8 64-bit",
   "language": "python",
   "name": "python36864bitc17f53f707db4b89be7c32a22adf91a3"
  },
  "language_info": {
   "codemirror_mode": {
    "name": "ipython",
    "version": 3
   },
   "file_extension": ".py",
   "mimetype": "text/x-python",
   "name": "python",
   "nbconvert_exporter": "python",
   "pygments_lexer": "ipython3",
   "version": "3.6.8"
  }
 },
 "nbformat": 4,
 "nbformat_minor": 4
}
