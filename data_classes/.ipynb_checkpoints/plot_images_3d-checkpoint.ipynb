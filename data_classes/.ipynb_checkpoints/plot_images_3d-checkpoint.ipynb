{
 "cells": [
  {
   "cell_type": "code",
   "execution_count": 1,
   "metadata": {},
   "outputs": [],
   "source": [
    "import torch\n",
    "from torch import nn\n",
    "import torch.nn.functional as F\n",
    "from torch.utils.data import DataLoader, Dataset\n",
    "import os\n",
    "\n",
    "from PIL import Image\n",
    "from torchvision.transforms import Resize, Compose, ToTensor, Normalize\n",
    "import numpy as np\n",
    "import skimage\n",
    "import matplotlib.pyplot as plt\n",
    "\n",
    "import time\n",
    "import pickle\n",
    "\n",
    "from datetime import datetime\n",
    "from pathlib import Path\n",
    "\n",
    "import math "
   ]
  },
  {
   "cell_type": "code",
   "execution_count": null,
   "metadata": {},
   "outputs": [],
   "source": [
    "%run \"custom_datasets.ipynb\"\n"
   ]
  },
  {
   "cell_type": "code",
   "execution_count": null,
   "metadata": {},
   "outputs": [],
   "source": [
    "def set_device():\n",
    "    DEVICE = torch.device('cuda' if torch.cuda.is_available() else 'cpu')\n",
    "    return DEVICE \n",
    "\n",
    "DEVICE = set_device()\n",
    "# DEVICE = torch.device('cpu')\n",
    "\n",
    "print('----------------------------------')\n",
    "print('Using device for training:', DEVICE)\n",
    "print('----------------------------------')"
   ]
  },
  {
   "cell_type": "code",
   "execution_count": null,
   "metadata": {},
   "outputs": [],
   "source": [
    "image_size = \"full\"\n",
    "\n",
    "data = PrepareData3D([\"Aorta Volunteers\", \"Aorta BaV\", \"Aorta Resvcue\", \"Aorta CoA\"], \n",
    "                     image_size=image_size, norm_min_max=[0,1])\n",
    "\n",
    "train_ds = SirenDataset(data.train, DEVICE) \n",
    "train_dataloader = DataLoader(train_ds, batch_size=1, num_workers=0, shuffle=True)\n",
    "print(train_ds.__len__())\n",
    "mask = next(iter(train_dataloader))[6].view(128, 128, 24)\n",
    "mask = mask.detach().cpu().numpy()\n",
    "\n",
    "print(mask.shape)"
   ]
  },
  {
   "cell_type": "code",
   "execution_count": null,
   "metadata": {},
   "outputs": [],
   "source": []
  },
  {
   "cell_type": "code",
   "execution_count": null,
   "metadata": {},
   "outputs": [],
   "source": []
  },
  {
   "cell_type": "code",
   "execution_count": null,
   "metadata": {},
   "outputs": [],
   "source": [
    "import plotly.graph_objects as go\n",
    "import numpy as np\n",
    "\n",
    "X, Y, Z = np.mgrid[-8:8:24j, -8:8:128j, -8:8:128j]\n",
    "# values = np.sin(X*Y*Z) / (X*Y*Z)\n",
    "values = mask\n",
    "\n",
    "fig = go.Figure(data=go.Volume(\n",
    "    x=X.flatten(),\n",
    "    y=Y.flatten(),\n",
    "    z=Z.flatten(),\n",
    "    value=values.flatten(),\n",
    "    isomin=0.1,\n",
    "    isomax=1,\n",
    "    opacity=0.1, # needs to be small to see through all surfaces\n",
    "    surface_count=15, # needs to be a large number for good volume rendering\n",
    "    ))\n",
    "fig.show()"
   ]
  },
  {
   "cell_type": "code",
   "execution_count": null,
   "metadata": {},
   "outputs": [],
   "source": [
    "ax = plt.figure(figsize=(15, 15)).add_subplot(projection='3d')\n",
    "ax.voxels(mask)\n",
    "\n",
    "plt.show()"
   ]
  }
 ],
 "metadata": {
  "kernelspec": {
   "display_name": "Python 3.6.8 64-bit",
   "language": "python",
   "name": "python36864bitc17f53f707db4b89be7c32a22adf91a3"
  },
  "language_info": {
   "codemirror_mode": {
    "name": "ipython",
    "version": 3
   },
   "file_extension": ".py",
   "mimetype": "text/x-python",
   "name": "python",
   "nbconvert_exporter": "python",
   "pygments_lexer": "ipython3",
   "version": "3.6.8"
  }
 },
 "nbformat": 4,
 "nbformat_minor": 4
}
