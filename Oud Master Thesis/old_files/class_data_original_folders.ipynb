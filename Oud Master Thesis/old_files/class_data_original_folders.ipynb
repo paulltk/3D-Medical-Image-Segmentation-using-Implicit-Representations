{
 "cells": [
  {
   "cell_type": "code",
   "execution_count": null,
   "metadata": {},
   "outputs": [],
   "source": [
    "import torch \n",
    "import os\n",
    "import numpy as np\n",
    "import matplotlib.pyplot as plt\n",
    "import os, glob\n",
    "import pydicom\n",
    "import pylab as pl\n",
    "import sys\n",
    "import matplotlib.path as mplPath\n",
    "\n",
    "from collections import Counter\n",
    "from collections import defaultdict\n",
    "\n",
    "%matplotlib qt"
   ]
  },
  {
   "cell_type": "code",
   "execution_count": null,
   "metadata": {},
   "outputs": [],
   "source": [
    "class Folder(object): \n",
    "    \n",
    "    def __init__(self, root, subject_substr=\"\"): \n",
    "        \n",
    "        if \"\\\\\" in root: \n",
    "            raise Exception(\"Please replace the backslashes in your path with forwardslashes.\")\n",
    "        self.root = root\n",
    "        self.subfolders = self.get_subjects(subject_substr)\n",
    "        \n",
    "        self.walk_history = []\n",
    "        self.walk_history.append(self.subfolders)\n",
    "\n",
    "        self.walk_history_lost = []\n",
    "        self.walk_history_lost.append([])\n",
    "        \n",
    "     \n",
    "    def get_folders_files(self, path):\n",
    "        for root, folders, files in os.walk(path):\n",
    "            break   \n",
    "        \n",
    "        return folders, files\n",
    "        \n",
    "    def get_subjects(self, subject_substr):         \n",
    "        subjects, _ = self.get_folders_files(self.root)\n",
    "        \n",
    "        return [s for s in subjects if subject_substr in s]\n",
    "\n",
    "    def down(self, equals=[], contains=[], does_not_contain=[], print_absent=False): \n",
    "        if not isinstance(equals, list) or not isinstance(contains, list) or not isinstance(does_not_contain, list):\n",
    "            raise Exception(\"Please enter a list with strings instead of a string.\")\n",
    "        \n",
    "        print(f\"\\nSubfolder equals {str(equals)},   contains {str(contains)},   does not contain {str(does_not_contain)}\")\n",
    "        subfolders_present = []\n",
    "        subfolders_absent = []\n",
    "        \n",
    "        for subfolder in self.subfolders: \n",
    "            path = os.path.join(self.root, subfolder)\n",
    "            \n",
    "            folders, files = self.get_folders_files(path)\n",
    "            \n",
    "            for string in equals: \n",
    "                folders = [f for f in folders if string.lower() == f.lower()]\n",
    "            \n",
    "            for string in contains: \n",
    "                folders = [f for f in folders if string.lower() in f.lower()]\n",
    "            \n",
    "            for string in does_not_contain: \n",
    "                folders = [f for f in folders if string.lower() not in f.lower()]\n",
    "            \n",
    "            if len(folders) == 0: \n",
    "                subfolders_absent.append(subfolder)\n",
    "                \n",
    "            elif len(folders) == 1: \n",
    "                subfolders_present.append(os.path.join(subfolder, folders[0]))\n",
    "                \n",
    "            elif len(folders) > 1: \n",
    "                print(f\"\\n{subfolder} has multiple subfolders with the specified name:\")\n",
    "                print(folders)\n",
    "                subfolders_present.append(os.path.join(subfolder, folders[0]))\n",
    "        \n",
    "        if len(subfolders_present) == 0:\n",
    "            print(\"\\nNo folders contained the specified subfolders, therefore this step is not executed.\")\n",
    "        \n",
    "        else:    \n",
    "            print(f\"\\n{len(subfolders_present)} of {len(self.subfolders)} folders contained specified subfolder.\")\n",
    "            if print_absent: \n",
    "                print(\"\\nFolders without subfolder\")\n",
    "                for s in subfolders_absent:\n",
    "                    print(\"\\t\", s)\n",
    "\n",
    "            self.walk_history.append(subfolders_present)\n",
    "            self.walk_history_lost.append(subfolders_absent)\n",
    "            self.subfolders = subfolders_present\n",
    "            \n",
    "            print(\"\\nPath example after step:\")\n",
    "            print(\"\\t\", self.subfolders[0])\n",
    "        \n",
    "            \n",
    "    def up(self): \n",
    "        if len(self.walk_history) == 1:\n",
    "            print(\"You can not go up as you are already at the subject folder\")\n",
    "        \n",
    "        else: \n",
    "            self.subfolders = self.walk_history[-2]\n",
    "            self.walk_history = self.walk_history[:-1]\n",
    "            self.walk_history_lost = self.walk_history_lost[:-1]  \n",
    "            \n",
    "            print(\"\\nPath example after step:\")\n",
    "            print(\"\\t\", self.subfolders[0])\n",
    "    \n",
    "    def sample_down(self, i=0): \n",
    "        subfolder = self.subfolders[i]\n",
    "        path = os.path.join(self.root, subfolder)\n",
    "            \n",
    "        folders, files = self.get_folders_files(path)\n",
    "        print(\"\\nCurrent path depth:\", subfolder)\n",
    "        print(\"Subfolders:\")\n",
    "        for s in folders: \n",
    "            print(\"\\t\", s)\n",
    "    \n",
    "    def current_path(self):\n",
    "        return self.subfolders[0]\n",
    "            \n",
    "    def number_of_files(self, print_dict=False):\n",
    "        \n",
    "        dct = defaultdict(list)\n",
    "        \n",
    "        for subfolder in self.subfolders: \n",
    "            path = os.path.join(self.root, subfolder)\n",
    "            _, files = self.get_folders_files(path)\n",
    "            length = len(files)\n",
    "            \n",
    "            dct[str(length)].append(subfolder)\n",
    "        \n",
    "        for l, f in dct.items():\n",
    "            print(f\"\\n{str(len(f))} folders contain {l} files each.\")\n",
    "            \n",
    "        if print_dict: \n",
    "            for key, value in dct.items(): \n",
    "                print(f\"Folders with {key} files:\")\n",
    "                for s in value: \n",
    "                    print(\"\\t\", s)\n",
    "            \n",
    "\n"
   ]
  },
  {
   "cell_type": "markdown",
   "metadata": {},
   "source": [
    "# Project class"
   ]
  },
  {
   "cell_type": "code",
   "execution_count": null,
   "metadata": {},
   "outputs": [],
   "source": [
    "class Data(object): \n",
    "    def __init__(self, path): \n",
    "        self.path = path\n",
    "        self.files = sorted(os.listdir(self.path))\n",
    "        self.n_files = len(self.files)\n",
    "        \n",
    "    def number_of_files(self):\n",
    "        return self.n_files\n",
    "    \n",
    "    def get_slice(self, i): \n",
    "        file = self.files[i] #get the i'th slice\n",
    "        file_path = os.path.join(self.path, file)\n",
    "        ds = pydicom.dcmread(file_path) # read complete dicom file\n",
    "        pix = ds.pixel_array # get the slice\n",
    "        \n",
    "        return pix\n",
    "    \n",
    "    def get_3d_image(self): \n",
    "        slices = [] \n",
    "        for i in range(self.n_files): \n",
    "            slices.append(self.get_slice(i))\n",
    "        slices = np.dstack(slices)\n",
    "        \n",
    "        return slices\n",
    "        \n",
    "\n",
    "class Subject(object): \n",
    "    def __init__(self, root, name):\n",
    "        self.root = root \n",
    "        self.name = name\n",
    "        self.pcmra = None\n",
    "        self.mask = None\n",
    "\n",
    "    def save_pcmra(self, subpath):\n",
    "        path = os.path.join(self.root, self.name, subpath)\n",
    "        self.pcmra = Data(path)\n",
    "    \n",
    "    def save_mask(self, subpath):\n",
    "        path = os.path.join(self.root, self.name, subpath)\n",
    "        self.mask = Data(path)\n",
    "        \n",
    "    def checklist(self, print_false=True): \n",
    "        \n",
    "        complete = True\n",
    "        \n",
    "        if self.pcmra == None: \n",
    "            if print_false: \n",
    "                print(f\"sSubject {self.name}: PCMRA not present.\")\n",
    "            complete = False\n",
    "            \n",
    "        elif self.mask == None: \n",
    "            if print_false: \n",
    "                print(f\"Subject {self.name}: Mask not present.\")\n",
    "            complete = False\n",
    "            \n",
    "        else: \n",
    "            pcmra_shape = self.pcmra.get_3d_image().shape\n",
    "            mask_shape = self.mask.get_3d_image().shape\n",
    "            if pcmra_shape != mask_shape: \n",
    "                print(f\"Subject {self.name}: PCMRA and Mask 3d images do not have the same shape\")\n",
    "                print(f\"Shape PRMCA: {pcmra_shape}, shape Mask: {mask_shape}\")\n",
    "                \n",
    "                feedback = input(\"Do you want to keep this subject (type 'y' or 'n')\")\n",
    "                if feedback == \"y\" or feedback == \"yes\": \n",
    "                    pass\n",
    "                else:\n",
    "                    complete = False\n",
    "                    \n",
    "        return complete\n",
    "            \n",
    "        \n",
    "class Project(object):\n",
    "    def __init__(self, root): \n",
    "        self.root = root\n",
    "        self.subjects = {}\n",
    "        \n",
    "    def add_subject(self, name): \n",
    "        self.subjects[name] = Subject(self.root, name)\n",
    "    \n",
    "    def remove_subject(self, name): \n",
    "        del self.subjects[name]\n",
    "        \n",
    "    def get_subjects(self, index=-1):\n",
    "        return list(self.subjects.keys())[:index]\n",
    "    \n",
    "    def remove_incomplete_subjects(self):\n",
    "        subjects = self.get_subjects()\n",
    "        complete_subjects = {}\n",
    "        for sub in subjects: \n",
    "            if self.subjects[sub].checklist(): \n",
    "                complete_subjects[sub] = self.subjects[sub]\n",
    "        self.subjects = complete_subjects"
   ]
  },
  {
   "cell_type": "markdown",
   "metadata": {},
   "source": [
    "## Carotide"
   ]
  },
  {
   "cell_type": "code",
   "execution_count": null,
   "metadata": {},
   "outputs": [],
   "source": [
    "root = \"/home/ptenkaate/lood_storage/\"\n",
    "path = \"divi/Projects/afterfifteen/data/recon\"\n",
    "subjects_dir = root + path\n",
    "\n",
    "carotide = Folder(subjects_dir)\n",
    "\n",
    "dictionary = {\"root\": root}\n",
    "dictionary[\"carotide\"] = {\"path\": path + \"/\"} "
   ]
  },
  {
   "cell_type": "code",
   "execution_count": null,
   "metadata": {},
   "outputs": [],
   "source": [
    "c_proj = Project(subjects_dir)\n",
    "print(c_proj.root)"
   ]
  },
  {
   "cell_type": "code",
   "execution_count": null,
   "metadata": {},
   "outputs": [],
   "source": [
    "carotide.down(contains=[\"wip4dflow\"])"
   ]
  },
  {
   "cell_type": "code",
   "execution_count": null,
   "metadata": {},
   "outputs": [],
   "source": [
    "carotide.down(contains=[\"dicom\"])"
   ]
  },
  {
   "cell_type": "code",
   "execution_count": null,
   "metadata": {},
   "outputs": [],
   "source": [
    "carotide.down(equals=[\"pc_mra\"])"
   ]
  },
  {
   "cell_type": "code",
   "execution_count": null,
   "metadata": {},
   "outputs": [],
   "source": [
    "for string in sorted(carotide.subfolders):\n",
    "    subj, loc = string.split(\"/\", 1)\n",
    "    c_proj.add_subject(subj)\n",
    "    c_proj.subjects[subj].save_pcmra(loc)"
   ]
  },
  {
   "cell_type": "code",
   "execution_count": null,
   "metadata": {},
   "outputs": [],
   "source": [
    "subjects = c_proj.get_subjects(5)\n",
    "print(subjects)"
   ]
  },
  {
   "cell_type": "code",
   "execution_count": null,
   "metadata": {},
   "outputs": [],
   "source": [
    "im = c_proj.subjects[\"AF_0001\"].pcmra.get_3d_image()\n",
    "print(im.shape)"
   ]
  },
  {
   "cell_type": "code",
   "execution_count": null,
   "metadata": {
    "scrolled": true
   },
   "outputs": [],
   "source": [
    "carotide.up()\n",
    "carotide.down(contains=[\"mask_left\"])\n",
    "carotide.number_of_files()"
   ]
  },
  {
   "cell_type": "code",
   "execution_count": null,
   "metadata": {},
   "outputs": [],
   "source": [
    "for string in sorted(carotide.subfolders):\n",
    "    subj, loc = string.split(\"/\", 1)\n",
    "    c_proj.subjects[subj].save_mask(loc)"
   ]
  },
  {
   "cell_type": "code",
   "execution_count": null,
   "metadata": {
    "scrolled": true
   },
   "outputs": [],
   "source": [
    "c_proj.remove_incomplete_subjects()\n",
    "print(c_proj.get_subjects())"
   ]
  },
  {
   "cell_type": "code",
   "execution_count": null,
   "metadata": {},
   "outputs": [],
   "source": [
    "subjects = "
   ]
  },
  {
   "cell_type": "markdown",
   "metadata": {},
   "source": [
    "## Aorta Volunteers"
   ]
  },
  {
   "cell_type": "code",
   "execution_count": null,
   "metadata": {},
   "outputs": [],
   "source": [
    "root = \"/home/ptenkaate/lood_storage/\"\n",
    "path = \"divi/Projects/4dflow/4D-flow Volunteers/Aorta\"\n",
    "subjects_dir = root + path\n",
    "\n",
    "aorta_v = Folder(subjects_dir)"
   ]
  },
  {
   "cell_type": "code",
   "execution_count": null,
   "metadata": {},
   "outputs": [],
   "source": [
    "aorta_v.down(contains=[\"_pca\"], print_absent=True)"
   ]
  },
  {
   "cell_type": "code",
   "execution_count": null,
   "metadata": {},
   "outputs": [],
   "source": [
    "aorta_v.down(equals=[\"dicom\"])"
   ]
  },
  {
   "cell_type": "markdown",
   "metadata": {},
   "source": [
    "#### Waarom hebben 2 van onderstaande volunteers meer slices in de 3d opname? Zijn de dimensies per slice hier anders?"
   ]
  },
  {
   "cell_type": "code",
   "execution_count": null,
   "metadata": {},
   "outputs": [],
   "source": [
    "# aorta_v.up()\n",
    "aorta_v.down(equals=[\"mask\"])\n",
    "aorta_v.number_of_files()"
   ]
  },
  {
   "cell_type": "code",
   "execution_count": null,
   "metadata": {},
   "outputs": [],
   "source": [
    "aorta_v.up()\n",
    "aorta_v.down(equals=[\"M\"])\n",
    "aorta_v.number_of_files()"
   ]
  },
  {
   "cell_type": "code",
   "execution_count": null,
   "metadata": {},
   "outputs": [],
   "source": [
    "aorta_v.up()\n",
    "aorta_v.up()\n",
    "aorta_v.up()\n",
    "aorta_v.down(contains=[\"_sense\"], does_not_contain=[\"dont_use\"])"
   ]
  },
  {
   "cell_type": "code",
   "execution_count": null,
   "metadata": {},
   "outputs": [],
   "source": [
    "aorta_v.down(contains=[\"dicom\"])\n",
    "# aorta_v.sample_down()"
   ]
  },
  {
   "cell_type": "code",
   "execution_count": null,
   "metadata": {},
   "outputs": [],
   "source": [
    "aorta_v.down(contains=[\"pc_mra\"])\n",
    "aorta_v.number_of_files()"
   ]
  },
  {
   "cell_type": "markdown",
   "metadata": {},
   "source": [
    "## Aorta BaV"
   ]
  },
  {
   "cell_type": "code",
   "execution_count": null,
   "metadata": {},
   "outputs": [],
   "source": [
    "root = \"/home/ptenkaate/lood_storage/\"\n",
    "path = \"divi/Projects/4dflow/4D-flow BAV\"\n",
    "subjects_dir = root + path\n",
    "print(subjects_dir)\n",
    "\n",
    "aorta_b = Folder(subjects_dir, subject_substr=\"done\")"
   ]
  },
  {
   "cell_type": "code",
   "execution_count": null,
   "metadata": {},
   "outputs": [],
   "source": [
    "aorta_b.down(contains=[\"_PCA\"]) "
   ]
  },
  {
   "cell_type": "code",
   "execution_count": null,
   "metadata": {},
   "outputs": [],
   "source": [
    "aorta_b.down(contains=[\"dicom\"])"
   ]
  },
  {
   "cell_type": "markdown",
   "metadata": {},
   "source": [
    "#### aorta_122_withgap heeft een eerste slice met segmentatie, die in Aorta zelf mist. Bij 121 is er ook enkel een verschil in de eerste slice."
   ]
  },
  {
   "cell_type": "code",
   "execution_count": null,
   "metadata": {},
   "outputs": [],
   "source": [
    "aorta_b.down(contains=[\"aorta\"],print_absent=True)"
   ]
  },
  {
   "cell_type": "code",
   "execution_count": null,
   "metadata": {},
   "outputs": [],
   "source": [
    "aorta_b.up()\n",
    "aorta_b.down(equals=[\"Aorta\"])"
   ]
  },
  {
   "cell_type": "markdown",
   "metadata": {},
   "source": [
    "#### waarom verschilt het aantal slices? Is de dimensie per slice wel gelijk?"
   ]
  },
  {
   "cell_type": "code",
   "execution_count": null,
   "metadata": {},
   "outputs": [],
   "source": [
    "aorta_b.number_of_files()"
   ]
  },
  {
   "cell_type": "code",
   "execution_count": null,
   "metadata": {},
   "outputs": [],
   "source": [
    "aorta_b.up()\n",
    "aorta_b.down(equals=[\"M\"], print_absent=True)"
   ]
  },
  {
   "cell_type": "markdown",
   "metadata": {},
   "source": [
    "#### hier komt het aantal wel overeen met pc_mra. Dus aantal tijdsstappen is hetzelfde"
   ]
  },
  {
   "cell_type": "code",
   "execution_count": null,
   "metadata": {},
   "outputs": [],
   "source": [
    "aorta_b.number_of_files()"
   ]
  },
  {
   "cell_type": "code",
   "execution_count": null,
   "metadata": {},
   "outputs": [],
   "source": [
    "aorta_b.up()\n",
    "aorta_b.up()\n",
    "aorta_b.up()\n",
    "aorta_b.down(contains=[\"_sense\"])"
   ]
  },
  {
   "cell_type": "code",
   "execution_count": null,
   "metadata": {},
   "outputs": [],
   "source": [
    "aorta_b.down(contains=[\"dicom\"])\n",
    "# aorta_b.sample_down(3)"
   ]
  },
  {
   "cell_type": "code",
   "execution_count": null,
   "metadata": {},
   "outputs": [],
   "source": [
    "aorta_b.down(contains=[\"pc_mra\"])"
   ]
  },
  {
   "cell_type": "code",
   "execution_count": null,
   "metadata": {},
   "outputs": [],
   "source": [
    "aorta_b.number_of_files()"
   ]
  },
  {
   "cell_type": "markdown",
   "metadata": {},
   "source": [
    "## Aorta CoA"
   ]
  },
  {
   "cell_type": "code",
   "execution_count": null,
   "metadata": {},
   "outputs": [],
   "source": [
    "root = \"/home/ptenkaate/lood_storage/\"\n",
    "path = \"divi/Projects/4dflow/4D-flow CoA\"\n",
    "subjects_dir = root + path\n",
    "print(subjects_dir)\n",
    "\n",
    "aorta_c = Folder(subjects_dir, subject_substr=\"done\")\n",
    "# aorta_c.sample_down(2)"
   ]
  },
  {
   "cell_type": "code",
   "execution_count": null,
   "metadata": {},
   "outputs": [],
   "source": [
    "aorta_c.down(contains=[\"_pca\"])\n",
    "# aorta_c.sample_down()"
   ]
  },
  {
   "cell_type": "code",
   "execution_count": null,
   "metadata": {},
   "outputs": [],
   "source": [
    "aorta_c.down(contains=[\"dicom\"])"
   ]
  },
  {
   "cell_type": "markdown",
   "metadata": {},
   "source": [
    "#### weer meerdere segmentaties, hoe behandel ik deze?"
   ]
  },
  {
   "cell_type": "code",
   "execution_count": null,
   "metadata": {},
   "outputs": [],
   "source": [
    "aorta_c.down(contains=[\"aorta\"])"
   ]
  },
  {
   "cell_type": "markdown",
   "metadata": {},
   "source": [
    "#### verschil in aantal slices"
   ]
  },
  {
   "cell_type": "code",
   "execution_count": null,
   "metadata": {},
   "outputs": [],
   "source": [
    "aorta_c.number_of_files()"
   ]
  },
  {
   "cell_type": "code",
   "execution_count": null,
   "metadata": {},
   "outputs": [],
   "source": [
    "aorta_c.up()\n",
    "aorta_c.down(equals=[\"M\"])"
   ]
  },
  {
   "cell_type": "code",
   "execution_count": null,
   "metadata": {},
   "outputs": [],
   "source": [
    "aorta_c.number_of_files()"
   ]
  },
  {
   "cell_type": "code",
   "execution_count": null,
   "metadata": {},
   "outputs": [],
   "source": [
    "aorta_c.up()\n",
    "aorta_c.up()\n",
    "aorta_c.up()"
   ]
  },
  {
   "cell_type": "code",
   "execution_count": null,
   "metadata": {},
   "outputs": [],
   "source": [
    "aorta_c.down(contains=[\"_sense\"])"
   ]
  },
  {
   "cell_type": "code",
   "execution_count": null,
   "metadata": {},
   "outputs": [],
   "source": [
    "aorta_c.down(contains=[\"dicom\"])"
   ]
  },
  {
   "cell_type": "code",
   "execution_count": null,
   "metadata": {},
   "outputs": [],
   "source": [
    "aorta_c.down(contains=[\"pc_mra\"])"
   ]
  },
  {
   "cell_type": "code",
   "execution_count": null,
   "metadata": {},
   "outputs": [],
   "source": [
    "aorta_c.number_of_files()"
   ]
  },
  {
   "cell_type": "markdown",
   "metadata": {},
   "source": [
    "## Aorta RESV"
   ]
  },
  {
   "cell_type": "code",
   "execution_count": null,
   "metadata": {},
   "outputs": [],
   "source": [
    "root = \"/home/ptenkaate/lood_storage/\"\n",
    "path = \"divi/Projects/resvcue_marfan/analysis/RESVcue Marfan\"\n",
    "subjects_dir = root + path\n",
    "print(subjects_dir)\n",
    "\n",
    "aorta_r = Folder(subjects_dir, subject_substr=\"RESV\")"
   ]
  },
  {
   "cell_type": "code",
   "execution_count": null,
   "metadata": {},
   "outputs": [],
   "source": [
    "aorta_r.down()"
   ]
  },
  {
   "cell_type": "code",
   "execution_count": null,
   "metadata": {},
   "outputs": [],
   "source": [
    "aorta_r.down(contains=[\"segmentatie\"], print_absent=True)"
   ]
  },
  {
   "cell_type": "markdown",
   "metadata": {},
   "source": [
    "#### weer verschil in aantal slices. Zijn dimensies hetzelfde?"
   ]
  },
  {
   "cell_type": "code",
   "execution_count": null,
   "metadata": {},
   "outputs": [],
   "source": [
    "aorta_r.number_of_files()"
   ]
  },
  {
   "cell_type": "markdown",
   "metadata": {},
   "source": [
    "L:\\basic\\divi\\Projects\\resvcue_marfan\\analysis\\RESVcue Marfan\\RESV_001\\V1 21-10-2019\\4D flow recon out\\re_21102019_1526-out\\DICOM_PCMRA\n",
    "L:\\basic\\divi\\Projects\\resvcue_marfan\\analysis\\RESVcue Marfan\\RESV_001\\V1 21-10-2019\\Segmentatie\n",
    "\n",
    "L:\\basic\\divi\\Projects\\4dflowimpulse\\Pilot study with LUMC\\Scans\\20181029_2_EPI-PROUD\\4D flow\\recon_out_20181029_2_PROUD_noNC\\PCMRA\n",
    "L:\\basic\\divi\\Projects\\4dflowimpulse\\Pilot study with LUMC\\Scans\\20181029_2_EPI-PROUD\\SEGM\\PROUD SEGM\n",
    "\n",
    "L:\\basic\\divi\\Projects\\cs_4dflow\\project_VitalEyeComparisonClinical\\data\\subject_01\\recon_out_subject_01_VE\\PCMRA\n",
    "L:\\basic\\divi\\Projects\\cs_4dflow\\project_VitalEyeComparisonClinical\\data\\subject_01\\segm_sub01\n",
    "\n"
   ]
  },
  {
   "cell_type": "code",
   "execution_count": null,
   "metadata": {},
   "outputs": [],
   "source": [
    "aorta_r.up()"
   ]
  },
  {
   "cell_type": "code",
   "execution_count": null,
   "metadata": {},
   "outputs": [],
   "source": [
    "aorta_r.down(contains=[\"4d flow\"], print_absent=True)"
   ]
  },
  {
   "cell_type": "code",
   "execution_count": null,
   "metadata": {},
   "outputs": [],
   "source": [
    "aorta_r.down(print_absent=True)"
   ]
  },
  {
   "cell_type": "code",
   "execution_count": null,
   "metadata": {},
   "outputs": [],
   "source": [
    "aorta_r.subfolders"
   ]
  },
  {
   "cell_type": "code",
   "execution_count": null,
   "metadata": {
    "scrolled": true
   },
   "outputs": [],
   "source": [
    "aorta_r.down(contains=[\"dicom_pcmra\"], print_absent=True)"
   ]
  },
  {
   "cell_type": "code",
   "execution_count": null,
   "metadata": {},
   "outputs": [],
   "source": [
    "aorta_r.down(contains=[\"pcmra\"], print_absent=True)"
   ]
  },
  {
   "cell_type": "markdown",
   "metadata": {},
   "source": [
    "#### Dit waren de getallen voor segmentatie:\n",
    "\n",
    "15 folders contain 30 files each.\n",
    "\n",
    "40 folders contain 24 files each.\n",
    "\n",
    "2 folders contain 0 files each.\n",
    "\n",
    "#### Komst niet overeen met de PCMRA, wat gebeurt er."
   ]
  },
  {
   "cell_type": "code",
   "execution_count": null,
   "metadata": {},
   "outputs": [],
   "source": [
    "aorta_r.number_of_files()"
   ]
  },
  {
   "cell_type": "markdown",
   "metadata": {},
   "source": [
    "## Heart LUMC"
   ]
  },
  {
   "cell_type": "code",
   "execution_count": null,
   "metadata": {},
   "outputs": [],
   "source": [
    "root = \"/home/ptenkaate/lood_storage/\"\n",
    "path = \"divi/Projects/4dflowimpulse/Pilot study with LUMC/Scans\"\n",
    "subjects_dir = root + path\n",
    "print(subjects_dir)\n",
    "\n",
    "heart_l = Folder(subjects_dir, subject_substr=\"PROUD\")"
   ]
  },
  {
   "cell_type": "code",
   "execution_count": null,
   "metadata": {},
   "outputs": [],
   "source": [
    "heart_l.down(contains=[\"segm\"])"
   ]
  },
  {
   "cell_type": "code",
   "execution_count": null,
   "metadata": {},
   "outputs": [],
   "source": [
    "heart_l.down(contains=['proud'], print_absent=True)"
   ]
  },
  {
   "cell_type": "code",
   "execution_count": null,
   "metadata": {},
   "outputs": [],
   "source": [
    "heart_l.number_of_files()"
   ]
  },
  {
   "cell_type": "code",
   "execution_count": null,
   "metadata": {},
   "outputs": [],
   "source": [
    "heart_l.up()\n",
    "heart_l.up()"
   ]
  },
  {
   "cell_type": "code",
   "execution_count": null,
   "metadata": {},
   "outputs": [],
   "source": [
    "heart_l.down(contains=['4d flow'], print_absent=True)"
   ]
  },
  {
   "cell_type": "code",
   "execution_count": null,
   "metadata": {},
   "outputs": [],
   "source": [
    "heart_l.down(contains=[\"proud\"])"
   ]
  },
  {
   "cell_type": "code",
   "execution_count": null,
   "metadata": {},
   "outputs": [],
   "source": [
    "# heart_l.subfolders"
   ]
  },
  {
   "cell_type": "markdown",
   "metadata": {},
   "source": [
    "#### Wat is het verschil tussen deze twee?"
   ]
  },
  {
   "cell_type": "code",
   "execution_count": null,
   "metadata": {},
   "outputs": [],
   "source": [
    "heart_l.down(contains=[\"pcmra\"])"
   ]
  },
  {
   "cell_type": "code",
   "execution_count": null,
   "metadata": {},
   "outputs": [],
   "source": [
    "heart_l.down()"
   ]
  },
  {
   "cell_type": "code",
   "execution_count": null,
   "metadata": {},
   "outputs": [],
   "source": [
    "heart_l.number_of_files()"
   ]
  },
  {
   "cell_type": "markdown",
   "metadata": {},
   "source": [
    "## Heart Vital"
   ]
  },
  {
   "cell_type": "code",
   "execution_count": null,
   "metadata": {},
   "outputs": [],
   "source": [
    "root = \"/home/ptenkaate/lood_storage/\"\n",
    "path = \"divi/Projects/cs_4dflow/project_VitalEyeComparisonClinical/data\"\n",
    "subjects_dir = root + path\n",
    "print(subjects_dir)\n",
    "\n",
    "heart_v = Folder(subjects_dir)\n",
    "heart_v.sample_down(2)"
   ]
  },
  {
   "cell_type": "code",
   "execution_count": null,
   "metadata": {},
   "outputs": [],
   "source": [
    "heart_v.down(contains=[\"segm\"])\n",
    "heart_v.subfolders"
   ]
  },
  {
   "cell_type": "code",
   "execution_count": null,
   "metadata": {},
   "outputs": [],
   "source": [
    "heart_v.up()"
   ]
  },
  {
   "cell_type": "code",
   "execution_count": null,
   "metadata": {},
   "outputs": [],
   "source": [
    "heart_v.down(contains=[\"VE\"])\n"
   ]
  },
  {
   "cell_type": "code",
   "execution_count": null,
   "metadata": {},
   "outputs": [],
   "source": [
    "heart_v.down(contains=[\"pcmra\"])\n"
   ]
  },
  {
   "cell_type": "code",
   "execution_count": null,
   "metadata": {},
   "outputs": [],
   "source": [
    "heart_v.number_of_files()"
   ]
  },
  {
   "cell_type": "code",
   "execution_count": null,
   "metadata": {},
   "outputs": [],
   "source": []
  }
 ],
 "metadata": {
  "kernelspec": {
   "display_name": "Python 3.6.8 64-bit",
   "language": "python",
   "name": "python36864bitc17f53f707db4b89be7c32a22adf91a3"
  },
  "language_info": {
   "codemirror_mode": {
    "name": "ipython",
    "version": 3
   },
   "file_extension": ".py",
   "mimetype": "text/x-python",
   "name": "python",
   "nbconvert_exporter": "python",
   "pygments_lexer": "ipython3",
   "version": "3.6.8"
  }
 },
 "nbformat": 4,
 "nbformat_minor": 2
}
