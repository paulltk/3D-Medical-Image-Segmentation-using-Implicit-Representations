{
 "cells": [
  {
   "cell_type": "code",
   "execution_count": 12,
   "metadata": {},
   "outputs": [
    {
     "name": "stderr",
     "output_type": "stream",
     "text": [
      "/home/ptenkaate/.local/lib/python3.6/site-packages/matplotlib/backends/qt_editor/figureoptions.py:11: MatplotlibDeprecationWarning: \n",
      "The support for Qt4  was deprecated in Matplotlib 3.3 and will be removed two minor releases later.\n",
      "  from matplotlib.backends.qt_compat import QtGui\n"
     ]
    }
   ],
   "source": [
    "import torch \n",
    "import os\n",
    "import numpy as np\n",
    "import matplotlib.pyplot as plt\n",
    "import os, glob\n",
    "import pydicom\n",
    "import pylab as pl\n",
    "import sys\n",
    "import matplotlib.path as mplPath\n",
    "\n",
    "from collections import Counter\n",
    "from collections import defaultdict\n",
    "\n",
    "%matplotlib qt"
   ]
  },
  {
   "cell_type": "code",
   "execution_count": null,
   "metadata": {},
   "outputs": [],
   "source": [
    "dictionary = {\n",
    "    carotide: {\n",
    "        path: \"folder1/folder2/folder4\"\n",
    "        patients: {\n",
    "            patient1: {\n",
    "                sample: {\n",
    "                    location: \"folder/folder/folder\",\n",
    "                    number_of_files: 32,\n",
    "                    file_names: [\"slice1\", \"slice2\", ...]\n",
    "                \n",
    "                }\n",
    "                label: {\n",
    "                    location: \"folder/folder/folder\",\n",
    "                    number_of_files: 32,\n",
    "                    file_names: [\"slice1\", \"slice2\", ...]                \n",
    "                }\n",
    "                raw_data: {\n",
    "                    location: \"folder/folder/folder\",\n",
    "                    number_of_files: 32,\n",
    "                    file_names: [\"slice1\", \"slice2\", ...]                \n",
    "                }   \n",
    "            }\n",
    "            patient2: {\n",
    "                sample: {\n",
    "                    location: \"folder/folder/folder\",\n",
    "                    number_of_files: 32,\n",
    "                    file_names: [\"slice1\", \"slice2\", ...]\n",
    "                \n",
    "                }\n",
    "                label: {\n",
    "                    location: \"folder/folder/folder\",\n",
    "                    number_of_files: 32,\n",
    "                    file_names: [\"slice1\", \"slice2\", ...]                \n",
    "                }\n",
    "                raw_data: {\n",
    "                    location: \"folder/folder/folder\",\n",
    "                    number_of_files: 32,\n",
    "                    file_names: [\"slice1\", \"slice2\", ...]                \n",
    "                }   \n",
    "            }\n",
    "        }\n",
    "    }\n",
    "    aorta: {\n",
    "        path: \"folder1/folder2/folder3\"\n",
    "        patients: {\n",
    "            patient1: {\n",
    "                sample: {\n",
    "                    location: \"folder/folder/folder\",\n",
    "                    number_of_files: 32,\n",
    "                    file_names: [\"slice1\", \"slice2\", ...]\n",
    "                \n",
    "                }\n",
    "                label: {\n",
    "                    location: \"folder/folder/folder\",\n",
    "                    number_of_files: 32,\n",
    "                    file_names: [\"slice1\", \"slice2\", ...]                \n",
    "                }\n",
    "                raw_data: {\n",
    "                    location: \"folder/folder/folder\",\n",
    "                    number_of_files: 32,\n",
    "                    file_names: [\"slice1\", \"slice2\", ...]                \n",
    "                }   \n",
    "            }\n",
    "            patient2: {\n",
    "                sample: {\n",
    "                    location: \"folder/folder/folder\",\n",
    "                    number_of_files: 32,\n",
    "                    file_names: [\"slice1\", \"slice2\", ...]\n",
    "                \n",
    "                }\n",
    "                label: {\n",
    "                    location: \"folder/folder/folder\",\n",
    "                    number_of_files: 32,\n",
    "                    file_names: [\"slice1\", \"slice2\", ...]                \n",
    "                }\n",
    "                raw_data: {\n",
    "                    location: \"folder/folder/folder\",\n",
    "                    number_of_files: 32,\n",
    "                    file_names: [\"slice1\", \"slice2\", ...]                \n",
    "                }   \n",
    "            }\n",
    "        }\n",
    "    }\n",
    "}"
   ]
  },
  {
   "cell_type": "code",
   "execution_count": 19,
   "metadata": {},
   "outputs": [
    {
     "name": "stdout",
     "output_type": "stream",
     "text": [
      "/home/ptenkaate/lood_storage/divi/Projects/afterfifteen/data/recon\n"
     ]
    }
   ],
   "source": [
    "import os \n",
    "\n",
    "class Data(object): \n",
    "    def __init__(self, path): \n",
    "        self.path = path\n",
    "        self.files = sorted(os.listdir(self.path))\n",
    "        self.n_files = len(self.files)\n",
    "        \n",
    "    def number_of_files(self):\n",
    "        return self.n_files\n",
    "    \n",
    "    def get_slice(self, i): \n",
    "        file = self.files[i] #get the i'th slice\n",
    "        file_path = os.path.join(self.path, file)\n",
    "        ds = pydicom.dcmread(file_path) # read complete dicom file\n",
    "        pix = ds.pixel_array # get the slice\n",
    "        \n",
    "        return pix\n",
    "    \n",
    "    def get_3d_image(self): \n",
    "        slices = [] \n",
    "        for i in range(self.n_files): \n",
    "            slices.append(self.get_slice(i))\n",
    "        slices = np.dstack(slices)\n",
    "        \n",
    "        return slices\n",
    "        \n",
    "\n",
    "class Subject(object): \n",
    "    def __init__(self, root, name):\n",
    "        self.root = root \n",
    "        self.name = name\n",
    "        self.pcmra = None\n",
    "        self.mask = None\n",
    "\n",
    "    def save_pcmra(self, subpath):\n",
    "        path = os.path.join(self.root, self.name, subpath)\n",
    "        self.pcmra = Data(path)\n",
    "    \n",
    "    def save_mask(self, subpath):\n",
    "        path = os.path.join(self.root, self.name, subpath)\n",
    "        self.mask = Data(path)\n",
    "        \n",
    "    def checklist(self, print_false=True): \n",
    "        \n",
    "        complete = True\n",
    "        \n",
    "        if self.pcmra == None: \n",
    "            if print_false: \n",
    "                print(f\"sSubject {self.name}: PCMRA not present.\")\n",
    "            complete = False\n",
    "            \n",
    "        elif self.mask == None: \n",
    "            if print_false: \n",
    "                print(f\"Subject {self.name}: Mask not present.\")\n",
    "            complete = False\n",
    "            \n",
    "        else: \n",
    "            pcmra_shape = self.pcmra.get_3d_image.shape\n",
    "            mask_shape = self.mask.get_3d_image.shape\n",
    "            if pcmra_shape != mask_shape: \n",
    "                print(f\"Subject {self.name}: PCMRA and Mask 3d images do not have the same shape\")\n",
    "                complete = False\n",
    "        \n",
    "        return complete\n",
    "            \n",
    "        \n",
    "class Project(object):\n",
    "    def __init__(self, root): \n",
    "        self.root = root\n",
    "        self.p = {}\n",
    "        \n",
    "    def add_patient(name): \n",
    "        self.p[name] = Subject(self.root, name)\n",
    "    \n",
    "    \n",
    "    \n",
    "        \n",
    "\n",
    "\n",
    "            \n",
    "        \n",
    "    \n",
    "root = \"/home/ptenkaate/lood_storage/\"\n",
    "path = \"divi/Projects/afterfifteen/data/recon\"\n",
    "s_dir = root + path\n",
    "\n",
    "print(s_dir)\n",
    "\n",
    "subject_name = \"AF_0001\"\n",
    "pcmra_path = \"af_22092017_1008398_11_2_wip4dflowktpcaprospective15minV4/DICOM/PC_MRA\"\n",
    "mask_path = \"af_22092017_1008398_11_2_wip4dflowktpcaprospective15minV4/DICOM/Mask_Left/\"\n",
    "\n",
    "subject = Subject(s_dir, subject_name)\n",
    "subject.save_pcmra(pcmra_path)\n",
    "subject.save_mask(mask_path)"
   ]
  },
  {
   "cell_type": "code",
   "execution_count": 20,
   "metadata": {},
   "outputs": [
    {
     "data": {
      "text/plain": [
       "array([[ 46,  93, 124, ...,  72,  52,  62],\n",
       "       [ 99,  76,  68, ...,  49,  43,  89],\n",
       "       [ 93, 171, 166, ...,  57,  62,  55],\n",
       "       ...,\n",
       "       [316, 518, 376, ..., 181, 226, 246],\n",
       "       [424, 268, 235, ..., 172, 206, 263],\n",
       "       [137, 265, 296, ..., 157, 183, 149]], dtype=uint16)"
      ]
     },
     "execution_count": 20,
     "metadata": {},
     "output_type": "execute_result"
    }
   ],
   "source": [
    "subject.pcmra.get_slice(1)"
   ]
  },
  {
   "cell_type": "code",
   "execution_count": 21,
   "metadata": {},
   "outputs": [
    {
     "ename": "FileNotFoundError",
     "evalue": "[Errno 2] No such file or directory: 'asdlkfjsdlk'",
     "output_type": "error",
     "traceback": [
      "\u001b[0;31m---------------------------------------------------------------------------\u001b[0m",
      "\u001b[0;31mFileNotFoundError\u001b[0m                         Traceback (most recent call last)",
      "\u001b[0;32m<ipython-input-21-6f343cca6c71>\u001b[0m in \u001b[0;36m<module>\u001b[0;34m\u001b[0m\n\u001b[0;32m----> 1\u001b[0;31m \u001b[0mos\u001b[0m\u001b[0;34m.\u001b[0m\u001b[0mlistdir\u001b[0m\u001b[0;34m(\u001b[0m\u001b[0;34m\"asdlkfjsdlk\"\u001b[0m\u001b[0;34m)\u001b[0m\u001b[0;34m\u001b[0m\u001b[0;34m\u001b[0m\u001b[0m\n\u001b[0m",
      "\u001b[0;31mFileNotFoundError\u001b[0m: [Errno 2] No such file or directory: 'asdlkfjsdlk'"
     ]
    }
   ],
   "source": [
    "try: \n",
    "    os.listdir(\"asdlkfjsdlk\")\n"
   ]
  },
  {
   "cell_type": "code",
   "execution_count": 22,
   "metadata": {},
   "outputs": [
    {
     "data": {
      "text/plain": [
       "True"
      ]
     },
     "execution_count": 22,
     "metadata": {},
     "output_type": "execute_result"
    }
   ],
   "source": [
    "a = np.array([[2, 3], [4, 5]])\n",
    "b = np.array([[2, 3], [4, 6]])\n",
    "a.shape == (2, 2)"
   ]
  },
  {
   "cell_type": "code",
   "execution_count": 23,
   "metadata": {},
   "outputs": [
    {
     "ename": "SyntaxError",
     "evalue": "'break' outside loop (<ipython-input-23-5aa3f835643c>, line 7)",
     "output_type": "error",
     "traceback": [
      "\u001b[0;36m  File \u001b[0;32m\"<ipython-input-23-5aa3f835643c>\"\u001b[0;36m, line \u001b[0;32m7\u001b[0m\n\u001b[0;31m    print(\"4\")\u001b[0m\n\u001b[0m           ^\u001b[0m\n\u001b[0;31mSyntaxError\u001b[0m\u001b[0;31m:\u001b[0m 'break' outside loop\n"
     ]
    }
   ],
   "source": [
    "def a(b): \n",
    "    if b == 2: \n",
    "        print(\"2\")\n",
    "        continue\n",
    "    \n",
    "    if b == 4: \n",
    "        print(\"4\")\n",
    "        break\n",
    "    \n",
    "    if b == 6: \n",
    "        print(\"6\")\n",
    "        break\n",
    "        \n",
    "a(4)\n",
    "    "
   ]
  },
  {
   "cell_type": "code",
   "execution_count": 25,
   "metadata": {},
   "outputs": [
    {
     "data": {
      "text/plain": [
       "'asdfl/asdf/fgh/tyy'"
      ]
     },
     "execution_count": 25,
     "metadata": {},
     "output_type": "execute_result"
    }
   ],
   "source": [
    "a = \"asdfl/asdf/\"\n",
    "b = \"fgh/tyy\"\n",
    "\n",
    "os.path.join(a,b)"
   ]
  },
  {
   "cell_type": "code",
   "execution_count": 28,
   "metadata": {},
   "outputs": [
    {
     "name": "stdout",
     "output_type": "stream",
     "text": [
      "testasdf\n",
      "testasdflk\n",
      "testlkjf\n",
      "testjfkl\n",
      "testf\n",
      "testlkfjjdlsdlj\n",
      "testsdfjksd\n",
      "testfksdf\n",
      "testsdklfjsdkl\n",
      "testflsdkfjskld\n",
      "flsdkfjskld\n"
     ]
    }
   ],
   "source": [
    "for i in range(10):\n",
    "    b = input('test')\n",
    "print(b)"
   ]
  },
  {
   "cell_type": "code",
   "execution_count": null,
   "metadata": {},
   "outputs": [],
   "source": []
  },
  {
   "cell_type": "code",
   "execution_count": null,
   "metadata": {},
   "outputs": [],
   "source": []
  }
 ],
 "metadata": {
  "kernelspec": {
   "display_name": "Python 3.6.8 64-bit",
   "language": "python",
   "name": "python36864bit0627eb39d7a6497d88458471ef8e42e3"
  },
  "language_info": {
   "codemirror_mode": {
    "name": "ipython",
    "version": 3
   },
   "file_extension": ".py",
   "mimetype": "text/x-python",
   "name": "python",
   "nbconvert_exporter": "python",
   "pygments_lexer": "ipython3",
   "version": "3.6.8"
  }
 },
 "nbformat": 4,
 "nbformat_minor": 2
}
