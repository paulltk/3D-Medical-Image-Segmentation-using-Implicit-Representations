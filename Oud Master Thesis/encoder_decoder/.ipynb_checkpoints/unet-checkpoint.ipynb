{
 "cells": [
  {
   "cell_type": "code",
   "execution_count": 1,
   "metadata": {},
   "outputs": [],
   "source": [
    "# %run /home/ptenkaate/scratch/Master-Thesis/convert_ipynb_to_py_files.ipynb"
   ]
  },
  {
   "cell_type": "code",
   "execution_count": 2,
   "metadata": {},
   "outputs": [
    {
     "name": "stdout",
     "output_type": "stream",
     "text": [
      "Imported CNN and Mapping functions.\n",
      "Imported PI-Gan model.\n",
      "Loaded all helper functions.\n"
     ]
    }
   ],
   "source": [
    "import torch\n",
    "import torch.nn.functional as F\n",
    "\n",
    "from torch import nn\n",
    "from torch.utils.data import DataLoader, Dataset\n",
    "from torchvision.transforms import Resize, Compose, ToTensor, Normalize\n",
    "\n",
    "import argparse\n",
    "import os\n",
    "import math \n",
    "import skimage\n",
    "import numpy as np\n",
    "import matplotlib.pyplot as plt\n",
    "from PIL import Image\n",
    "\n",
    "import time\n",
    "import pickle\n",
    "\n",
    "from datetime import datetime\n",
    "from pathlib import Path\n",
    "\n",
    "from py_files.new_dataset import *\n",
    "\n",
    "from py_files.cnn_model import *\n",
    "from py_files.pigan_model import *\n",
    "\n",
    "from py_files.seq_pi_gan_functions import *"
   ]
  },
  {
   "cell_type": "code",
   "execution_count": 3,
   "metadata": {},
   "outputs": [],
   "source": [
    "class Encoder(nn.Module):\n",
    "\n",
    "    def __init__(self):\n",
    "        \n",
    "        super(Encoder, self).__init__()\n",
    "        \n",
    "        self.model = nn.Sequential(\n",
    "            ConvLayer(1,   16,  kernel_size=5, stride=1, padding=2, activation=\"relu\", layer_norm=(24, 64, 64)),\n",
    "            ConvLayer(16,  16,  kernel_size=5, stride=2, padding=2, activation=\"relu\", layer_norm=(12, 32, 32)),\n",
    "            ConvLayer(16,  32,  kernel_size=5, stride=1, padding=2, activation=\"relu\", layer_norm=(12, 32, 32)),\n",
    "            ConvLayer(32,  32,  kernel_size=5, stride=2, padding=2, activation=\"relu\", layer_norm=(6, 16, 16)),\n",
    "            ConvLayer(32,  64,  kernel_size=5, stride=1, padding=2, activation=\"relu\", layer_norm=(6, 16, 16)),\n",
    "            ConvLayer(64,  64,  kernel_size=5, stride=2, padding=2, activation=\"relu\", layer_norm=(3, 8, 8)),\n",
    "            ConvLayer(64,  128, kernel_size=5, stride=1, padding=2, activation=\"relu\", layer_norm=(3, 8, 8)),\n",
    "            ConvLayer(128, 128, kernel_size=5, stride=2, padding=2, activation=\"relu\", layer_norm=(2, 4, 4)),\n",
    "        )\n",
    "\n",
    "    def forward(self, x):\n",
    "        out = self.model(x)\n",
    "            \n",
    "        return out\n",
    "    \n",
    "class Decoder(nn.Module):\n",
    "\n",
    "    def __init__(self):\n",
    "        \n",
    "        super(Decoder, self).__init__()\n",
    "        \n",
    "        self.model = nn.Sequential(\n",
    "            nn.ConvTranspose3d(128, 64, 5, stride=2, padding=2, output_padding=(0, 1, 1)),\n",
    "            nn.ReLU(),\n",
    "            nn.ConvTranspose3d(64, 32, 5, stride=2, padding=2, output_padding=1),\n",
    "            nn.ReLU(),\n",
    "            nn.ConvTranspose3d(32, 16, 5, stride=2, padding=2, output_padding=1),\n",
    "            nn.ReLU(),\n",
    "            nn.ConvTranspose3d(16, 1, 5, stride=2, padding=2, output_padding=1),\n",
    "        )\n",
    "\n",
    "    def forward(self, x):\n",
    "        out = self.model(x)\n",
    "            \n",
    "        return out"
   ]
  },
  {
   "cell_type": "code",
   "execution_count": 4,
   "metadata": {},
   "outputs": [
    {
     "name": "stdout",
     "output_type": "stream",
     "text": [
      "WARNING: ARGS class initialized.\n",
      "----------------------------------\n",
      "Using device for training: cuda\n",
      "----------------------------------\n",
      "Train subjects: 1596\n",
      "Val subjects: 28\n",
      "Test subjects: 28\n"
     ]
    }
   ],
   "source": [
    "ARGS = init_ARGS()\n",
    "\n",
    "ARGS.rotate, ARGS.translate, ARGS.flip = True, True, True\n",
    "ARGS.epochs = 50\n",
    "\n",
    "ARGS.batch_size = 24\n",
    "\n",
    "\n",
    "##### path to wich the model should be saved #####\n",
    "path = get_folder(ARGS)\n",
    "\n",
    "##### save ARGS #####\n",
    "with open(f\"{path}/ARGS.txt\", \"w\") as f:\n",
    "    print(vars(ARGS), file=f)\n",
    "\n",
    "##### data preparation #####\n",
    "train_dl, val_dl, test_dl = initialize_dataloaders(ARGS) "
   ]
  },
  {
   "cell_type": "code",
   "execution_count": 5,
   "metadata": {},
   "outputs": [],
   "source": [
    "encoder = Encoder().cuda()\n",
    "decoder = Decoder().cuda()\n",
    "\n",
    "e_optim = torch.optim.Adam(lr=1e-4, params=encoder.parameters())\n",
    "d_optim = torch.optim.Adam(lr=1e-4, params=decoder.parameters())\n",
    "\n",
    "\n",
    "##### loss function #####\n",
    "criterion = nn.MSELoss()\n",
    "\n",
    "losses = np.empty((0, 5))"
   ]
  },
  {
   "cell_type": "code",
   "execution_count": 8,
   "metadata": {
    "scrolled": true
   },
   "outputs": [
    {
     "name": "stdout",
     "output_type": "stream",
     "text": [
      "0.000959149436719382\n",
      "Epoch 0 took 34.48 seconds.\n",
      "val loss 0.0010112332529388368\n",
      "0.0009496494938285826\n",
      "0.0009451919146674449\n",
      "0.000948761941677432\n",
      "0.0009430825507004203\n",
      "0.0009261108813251354\n",
      "Epoch 5 took 34.47 seconds.\n",
      "val loss 0.0009644256788305938\n",
      "0.0009216235111356337\n",
      "0.0009224490990598144\n",
      "0.0009130744642313959\n",
      "0.0009076439839815582\n",
      "0.0009072517277672887\n",
      "Epoch 10 took 34.5 seconds.\n",
      "val loss 0.000946509710047394\n",
      "0.0009046796450405312\n",
      "0.0008976845689284712\n",
      "0.0008942818272608652\n",
      "0.0008883520634149882\n",
      "0.0008785583551472692\n",
      "Epoch 15 took 34.47 seconds.\n",
      "val loss 0.0009387271711602807\n",
      "0.0008842579580829548\n",
      "0.000872791246094032\n"
     ]
    },
    {
     "ename": "KeyboardInterrupt",
     "evalue": "",
     "output_type": "error",
     "traceback": [
      "\u001b[0;31m---------------------------------------------------------------------------\u001b[0m",
      "\u001b[0;31mKeyboardInterrupt\u001b[0m                         Traceback (most recent call last)",
      "\u001b[0;32m<ipython-input-8-199d30a917a0>\u001b[0m in \u001b[0;36m<module>\u001b[0;34m\u001b[0m\n\u001b[1;32m     13\u001b[0m         \u001b[0mloss\u001b[0m\u001b[0;34m.\u001b[0m\u001b[0mbackward\u001b[0m\u001b[0;34m(\u001b[0m\u001b[0;34m)\u001b[0m\u001b[0;34m\u001b[0m\u001b[0;34m\u001b[0m\u001b[0m\n\u001b[1;32m     14\u001b[0m \u001b[0;34m\u001b[0m\u001b[0m\n\u001b[0;32m---> 15\u001b[0;31m         \u001b[0mep_loss\u001b[0m\u001b[0;34m.\u001b[0m\u001b[0mappend\u001b[0m\u001b[0;34m(\u001b[0m\u001b[0mloss\u001b[0m\u001b[0;34m.\u001b[0m\u001b[0mitem\u001b[0m\u001b[0;34m(\u001b[0m\u001b[0;34m)\u001b[0m\u001b[0;34m)\u001b[0m\u001b[0;34m\u001b[0m\u001b[0;34m\u001b[0m\u001b[0m\n\u001b[0m\u001b[1;32m     16\u001b[0m \u001b[0;34m\u001b[0m\u001b[0m\n\u001b[1;32m     17\u001b[0m         \u001b[0me_optim\u001b[0m\u001b[0;34m.\u001b[0m\u001b[0mstep\u001b[0m\u001b[0;34m(\u001b[0m\u001b[0;34m)\u001b[0m\u001b[0;34m\u001b[0m\u001b[0;34m\u001b[0m\u001b[0m\n",
      "\u001b[0;31mKeyboardInterrupt\u001b[0m: "
     ]
    }
   ],
   "source": [
    "for ep in range(ARGS.epochs):\n",
    "\n",
    "    t = time.time() \n",
    "\n",
    "    ep_loss = []\n",
    "\n",
    "    for _, _, _, pcmra, coords, pcmra_array, mask_array in train_dl:\n",
    "\n",
    "        out = encoder(pcmra)\n",
    "        out = decoder(out)\n",
    "\n",
    "        loss = criterion(out, pcmra)\n",
    "        loss.backward()\n",
    "\n",
    "        ep_loss.append(loss.item())\n",
    "\n",
    "        e_optim.step()\n",
    "        d_optim.step()  \n",
    "\n",
    "        e_optim.zero_grad()\n",
    "        d_optim.zero_grad()  \n",
    "\n",
    "    print(np.array(ep_loss).mean())\n",
    "    \n",
    "    if ep % 5 == 0: \n",
    "        \n",
    "        print(f\"Epoch {ep} took {round(time.time() - t, 2)} seconds.\")\n",
    "\n",
    "        ep_loss = []\n",
    "        \n",
    "        for _, _, _, pcmra, coords, pcmra_array, mask_array in val_dl:\n",
    "\n",
    "            out = encoder(pcmra)\n",
    "            out = decoder(out)\n",
    "\n",
    "            loss = criterion(out, pcmra)\n",
    "\n",
    "            ep_loss.append(loss.item())\n",
    "\n",
    "        print(\"val loss\", np.array(ep_loss).mean())"
   ]
  },
  {
   "cell_type": "code",
   "execution_count": 11,
   "metadata": {
    "scrolled": false
   },
   "outputs": [
    {
     "name": "stdout",
     "output_type": "stream",
     "text": [
      "0.000978262978605926\n"
     ]
    },
    {
     "data": {
      "image/png": "[encoded data removed]",
      "text/plain": [
       "<Figure size 432x288 with 1 Axes>"
      ]
     },
     "metadata": {
      "needs_background": "light"
     },
     "output_type": "display_data"
    },
    {
     "data": {
      "image/png": "[encoded data removed]",
      "text/plain": [
       "<Figure size 432x288 with 1 Axes>"
      ]
     },
     "metadata": {
      "needs_background": "light"
     },
     "output_type": "display_data"
    }
   ],
   "source": [
    "idx, subj, proj, pcmra, coords, pcmra_array, mask_array = next(iter(val_dl))\n",
    "            \n",
    "out = encoder(pcmra)\n",
    "out = decoder(out)\n",
    "\n",
    "# print(subj)\n",
    "\n",
    "# print(out.shape)\n",
    "# print(out.shape)\n",
    "\n",
    "print(criterion(pcmra, out).item())\n",
    "\n",
    "i = 6\n",
    "slce = 8\n",
    "in_i = pcmra[i, 0, slce, :, :]\n",
    "out_i = out[i, 0, slce, :, :]\n",
    "\n",
    "plt.imshow(in_i.cpu())\n",
    "plt.show()\n",
    "\n",
    "plt.imshow(out_i.cpu().detach())\n",
    "plt.show()\n",
    "\n"
   ]
  },
  {
   "cell_type": "code",
   "execution_count": null,
   "metadata": {},
   "outputs": [],
   "source": []
  },
  {
   "cell_type": "code",
   "execution_count": null,
   "metadata": {},
   "outputs": [],
   "source": []
  },
  {
   "cell_type": "code",
   "execution_count": null,
   "metadata": {},
   "outputs": [],
   "source": []
  },
  {
   "cell_type": "code",
   "execution_count": null,
   "metadata": {},
   "outputs": [],
   "source": []
  },
  {
   "cell_type": "code",
   "execution_count": null,
   "metadata": {},
   "outputs": [],
   "source": []
  },
  {
   "cell_type": "code",
   "execution_count": null,
   "metadata": {},
   "outputs": [],
   "source": []
  },
  {
   "cell_type": "code",
   "execution_count": null,
   "metadata": {},
   "outputs": [],
   "source": []
  },
  {
   "cell_type": "code",
   "execution_count": null,
   "metadata": {},
   "outputs": [],
   "source": []
  }
 ],
 "metadata": {
  "kernelspec": {
   "display_name": "Python 3.6.8 64-bit",
   "language": "python",
   "name": "python36864bitc17f53f707db4b89be7c32a22adf91a3"
  },
  "language_info": {
   "codemirror_mode": {
    "name": "ipython",
    "version": 3
   },
   "file_extension": ".py",
   "mimetype": "text/x-python",
   "name": "python",
   "nbconvert_exporter": "python",
   "pygments_lexer": "ipython3",
   "version": "3.6.8"
  }
 },
 "nbformat": 4,
 "nbformat_minor": 4
}
