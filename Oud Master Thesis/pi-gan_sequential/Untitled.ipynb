{
 "cells": [
  {
   "cell_type": "code",
   "execution_count": 6,
   "id": "6ce0e1f2",
   "metadata": {},
   "outputs": [],
   "source": [
    "from py_files.cnn_models import *"
   ]
  },
  {
   "cell_type": "code",
   "execution_count": 7,
   "id": "c353361b",
   "metadata": {},
   "outputs": [
    {
     "name": "stdout",
     "output_type": "stream",
     "text": [
      "CNN_ExtraLayer(\n",
      "  (model): Sequential(\n",
      "    (0): ConvLayer(\n",
      "      (model): Sequential(\n",
      "        (0): Conv3d(1, 8, kernel_size=(5, 5, 5), stride=(1, 1, 1), padding=(2, 2, 2))\n",
      "        (1): ReLU()\n",
      "      )\n",
      "    )\n",
      "    (1): ConvLayer(\n",
      "      (model): Sequential(\n",
      "        (0): Conv3d(8, 8, kernel_size=(5, 5, 5), stride=(1, 1, 1), padding=(2, 2, 2))\n",
      "        (1): ReLU()\n",
      "        (2): LayerNorm((24, 128, 128), eps=1e-05, elementwise_affine=True)\n",
      "        (3): MaxPool3d(kernel_size=(1, 2, 2), stride=(1, 2, 2), padding=0, dilation=1, ceil_mode=False)\n",
      "      )\n",
      "    )\n",
      "    (2): ConvLayer(\n",
      "      (model): Sequential(\n",
      "        (0): Conv3d(8, 16, kernel_size=(5, 5, 5), stride=(1, 1, 1), padding=(2, 2, 2))\n",
      "        (1): ReLU()\n",
      "      )\n",
      "    )\n",
      "    (3): ConvLayer(\n",
      "      (model): Sequential(\n",
      "        (0): Conv3d(16, 16, kernel_size=(5, 5, 5), stride=(1, 2, 2), padding=(2, 2, 2))\n",
      "        (1): ReLU()\n",
      "        (2): LayerNorm((24, 32, 32), eps=1e-05, elementwise_affine=True)\n",
      "      )\n",
      "    )\n",
      "    (4): ConvLayer(\n",
      "      (model): Sequential(\n",
      "        (0): Conv3d(16, 32, kernel_size=(5, 5, 5), stride=(1, 1, 1), padding=(2, 2, 2))\n",
      "        (1): ReLU()\n",
      "      )\n",
      "    )\n",
      "    (5): ConvLayer(\n",
      "      (model): Sequential(\n",
      "        (0): Conv3d(32, 32, kernel_size=(5, 5, 5), stride=(2, 2, 2), padding=(2, 2, 2))\n",
      "        (1): ReLU()\n",
      "        (2): LayerNorm((12, 16, 16), eps=1e-05, elementwise_affine=True)\n",
      "      )\n",
      "    )\n",
      "    (6): ConvLayer(\n",
      "      (model): Sequential(\n",
      "        (0): Conv3d(32, 64, kernel_size=(5, 5, 5), stride=(1, 1, 1), padding=(2, 2, 2))\n",
      "        (1): ReLU()\n",
      "      )\n",
      "    )\n",
      "    (7): ConvLayer(\n",
      "      (model): Sequential(\n",
      "        (0): Conv3d(64, 64, kernel_size=(5, 5, 5), stride=(2, 2, 2), padding=(2, 2, 2))\n",
      "        (1): ReLU()\n",
      "        (2): LayerNorm((6, 8, 8), eps=1e-05, elementwise_affine=True)\n",
      "      )\n",
      "    )\n",
      "    (8): ConvLayer(\n",
      "      (model): Sequential(\n",
      "        (0): Conv3d(64, 128, kernel_size=(5, 5, 5), stride=(1, 1, 1), padding=(2, 2, 2))\n",
      "        (1): ReLU()\n",
      "      )\n",
      "    )\n",
      "    (9): ConvLayer(\n",
      "      (model): Sequential(\n",
      "        (0): Conv3d(128, 128, kernel_size=(5, 5, 5), stride=(2, 2, 2), padding=(2, 2, 2))\n",
      "        (1): ReLU()\n",
      "        (2): LayerNorm((3, 4, 4), eps=1e-05, elementwise_affine=True)\n",
      "      )\n",
      "    )\n",
      "    (10): ConvLayer(\n",
      "      (model): Sequential(\n",
      "        (0): Conv3d(128, 256, kernel_size=(5, 5, 5), stride=(1, 1, 1), padding=(2, 2, 2))\n",
      "        (1): ReLU()\n",
      "      )\n",
      "    )\n",
      "    (11): ConvLayer(\n",
      "      (model): Sequential(\n",
      "        (0): Conv3d(256, 256, kernel_size=(5, 5, 5), stride=(1, 1, 1), padding=(1, 1, 1))\n",
      "        (1): ReLU()\n",
      "      )\n",
      "    )\n",
      "  )\n",
      ")\n"
     ]
    }
   ],
   "source": [
    "cnn = CNN_ExtraLayer()\n",
    "print(cnn)\n",
    "# cnn = CNN_Golden()"
   ]
  },
  {
   "cell_type": "code",
   "execution_count": 3,
   "id": "4fbb36d9",
   "metadata": {},
   "outputs": [],
   "source": [
    "inp = torch.zeros((6, 1, 24, 128, 128))"
   ]
  },
  {
   "cell_type": "code",
   "execution_count": 4,
   "id": "80935513",
   "metadata": {},
   "outputs": [],
   "source": [
    "out = cnn(inp)"
   ]
  },
  {
   "cell_type": "code",
   "execution_count": 5,
   "id": "dfe12fe9",
   "metadata": {},
   "outputs": [
    {
     "name": "stdout",
     "output_type": "stream",
     "text": [
      "torch.Size([6, 256, 1, 2, 2])\n"
     ]
    }
   ],
   "source": [
    "print(out.shape)"
   ]
  },
  {
   "cell_type": "code",
   "execution_count": null,
   "id": "d7bfba84",
   "metadata": {},
   "outputs": [],
   "source": []
  }
 ],
 "metadata": {
  "kernelspec": {
   "display_name": "Python 3",
   "language": "python",
   "name": "python3"
  },
  "language_info": {
   "codemirror_mode": {
    "name": "ipython",
    "version": 3
   },
   "file_extension": ".py",
   "mimetype": "text/x-python",
   "name": "python",
   "nbconvert_exporter": "python",
   "pygments_lexer": "ipython3",
   "version": "3.7.4"
  }
 },
 "nbformat": 4,
 "nbformat_minor": 5
}
