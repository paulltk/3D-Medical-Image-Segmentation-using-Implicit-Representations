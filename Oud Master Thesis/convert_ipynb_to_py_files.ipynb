{
 "cells": [
  {
   "cell_type": "code",
   "execution_count": null,
   "metadata": {},
   "outputs": [],
   "source": [
    "# !jupyter nbconvert --to script --output-dir py_files \\\n",
    "#     /home/ptenkaate/scratch/Master-Thesis/data_classes/new_dataset.ipynb \n",
    "\n",
    "!jupyter nbconvert --to script --output-dir py_files \\\n",
    "    C:/Users/pault/Documents/Master Thesis/data_classes/new_dataset.ipynb "
   ]
  },
  {
   "cell_type": "code",
   "execution_count": null,
   "metadata": {},
   "outputs": [],
   "source": [
    "# !jupyter nbconvert --to script --output-dir py_files \\\n",
    "#     /home/ptenkaate/scratch/Master-Thesis/model_classes/cnn_model.ipynb \n",
    "\n",
    "!jupyter nbconvert --to script --output-dir py_files \\\n",
    "    C:/Users/pault/Documents/Master Thesis/model_classes/cnn_model.ipynb "
   ]
  },
  {
   "cell_type": "code",
   "execution_count": null,
   "metadata": {},
   "outputs": [],
   "source": [
    "# !jupyter nbconvert --to script --output-dir py_files \\\n",
    "#     /home/ptenkaate/scratch/Master-Thesis/model_classes/pigan_model.ipynb \n",
    "\n",
    "!jupyter nbconvert --to script --output-dir py_files \\\n",
    "    C:/Users/pault/Documents/Master Thesis/model_classes/pigan_model.ipynb "
   ]
  },
  {
   "cell_type": "code",
   "execution_count": null,
   "metadata": {},
   "outputs": [],
   "source": [
    "# !jupyter nbconvert --to script --output-dir py_files \\\n",
    "#     /home/ptenkaate/scratch/Master-Thesis/pi-gan/pi_gan_functions.ipynb\n",
    "\n",
    "!jupyter nbconvert --to script --output-dir py_files \\\n",
    "    C:/Users/pault/Documents/Master Thesis/pi-gan/pi_gan_functions.ipynb"
   ]
  },
  {
   "cell_type": "code",
   "execution_count": null,
   "metadata": {},
   "outputs": [],
   "source": [
    "# !jupyter nbconvert --to script --output-dir py_files \\\n",
    "#     /home/ptenkaate/scratch/Master-Thesis/pi-gan_sequential/seq_pi_gan_functions.ipynb\n",
    "\n",
    "!jupyter nbconvert --to script --output-dir py_files \\\n",
    "    C:/Users/pault/Documents/Master Thesis/pi-gan_sequential/seq_pi_gan_functions.ipynb"
   ]
  },
  {
   "cell_type": "code",
   "execution_count": 3,
   "metadata": {},
   "outputs": [
    {
     "name": "stdout",
     "output_type": "stream",
     "text": [
      "[NbConvertApp] Converting notebook /home/ptenkaate/scratch/Master-Thesis/pi-gan_sequential/seq_pi_gan.ipynb to script\n",
      "[NbConvertApp] Writing 13181 bytes to /home/ptenkaate/scratch/Master-Thesis/pi-gan_sequential/seq_pi_gan.py\n"
     ]
    }
   ],
   "source": [
    "# !jupyter nbconvert --to script \\\n",
    "#     /home/ptenkaate/scratch/Master-Thesis/pi-gan_sequential/seq_pi_gan.ipynb"
   ]
  },
  {
   "cell_type": "code",
   "execution_count": null,
   "metadata": {},
   "outputs": [],
   "source": [
    "print(\"Saved py files.\")"
   ]
  }
 ],
 "metadata": {
  "kernelspec": {
   "display_name": "Python 3",
   "language": "python",
   "name": "python3"
  },
  "language_info": {
   "codemirror_mode": {
    "name": "ipython",
    "version": 3
   },
   "file_extension": ".py",
   "mimetype": "text/x-python",
   "name": "python",
   "nbconvert_exporter": "python",
   "pygments_lexer": "ipython3",
   "version": "3.7.4"
  }
 },
 "nbformat": 4,
 "nbformat_minor": 4
}
