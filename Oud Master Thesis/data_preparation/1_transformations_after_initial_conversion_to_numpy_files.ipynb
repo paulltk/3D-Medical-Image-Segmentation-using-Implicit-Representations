{
 "cells": [
  {
   "cell_type": "markdown",
   "metadata": {},
   "source": [
    "## Create a mask from mask_left and mask_right"
   ]
  },
  {
   "cell_type": "code",
   "execution_count": 1,
   "metadata": {},
   "outputs": [],
   "source": [
    "import os \n",
    "import numpy as np\n",
    "\n",
    "root = \"/scratch/ptenkaate/Data\"\n",
    "folder = \"Carotide\"\n",
    "\n",
    "data = \"mask_left\"\n",
    "\n",
    "for _,_, files in os.walk(f\"{root}/{folder}/{data}\"):\n",
    "    break   \n",
    "\n",
    "for subject in files: \n",
    "    \n",
    "    data = \"mask_left\"\n",
    "    ml_path = f\"{root}/{folder}/{data}/{subject}\"\n",
    "    with open(ml_path, 'rb') as f:\n",
    "        mask_left = np.load(f)\n",
    "    \n",
    "    data = \"mask_right\"\n",
    "    mr_path = f\"{root}/{folder}/{data}/{subject}\"\n",
    "    with open(mr_path, 'rb') as f:\n",
    "        mask_right = np.load(f)\n",
    "    \n",
    "    mask = mask_left + mask_right\n",
    "    \n",
    "    data = \"mask\"\n",
    "    \n",
    "    if not os.path.exists(f\"{root}/{folder}/{data}\"):\n",
    "        os.makedirs(f\"{root}/{folder}/{data}\")\n",
    "\n",
    "    m_path = f\"{root}/{folder}/{data}/{subject}\"\n",
    "\n",
    "    with open(m_path, 'wb') as f:\n",
    "        np.save(f,mask)"
   ]
  },
  {
   "cell_type": "markdown",
   "metadata": {},
   "source": [
    "## Flip all masks "
   ]
  },
  {
   "cell_type": "code",
   "execution_count": 3,
   "metadata": {},
   "outputs": [],
   "source": [
    "import os \n",
    "import numpy as np\n",
    "\n",
    "root = \"/scratch/ptenkaate/Data\"\n",
    "folder = \"Aorta Volunteers\"\n",
    "\n",
    "data = \"mask\"\n",
    "\n",
    "for _,_, files in os.walk(f\"{root}/{folder}/{data}\"):\n",
    "    break   \n",
    "\n",
    "for subject in files: \n",
    "    \n",
    "    path = f\"{root}/{folder}/{data}/{subject}\"\n",
    "    with open(path, 'rb') as f:\n",
    "        mask = np.load(f)\n",
    "    \n",
    "    mask = np.flip(mask, 2)\n",
    "\n",
    "    with open(path, 'wb') as f:\n",
    "        np.save(f, mask)"
   ]
  },
  {
   "cell_type": "markdown",
   "metadata": {},
   "source": [
    "## Cut off the last half of pcmra's that contain white frames at the end"
   ]
  },
  {
   "cell_type": "code",
   "execution_count": 6,
   "metadata": {
    "scrolled": true
   },
   "outputs": [
    {
     "name": "stdout",
     "output_type": "stream",
     "text": [
      "/scratch/ptenkaate/Data/Aorta Resvcue/pcmra/RESV_001.npy\n",
      "(128, 128, 48)\n",
      "(128, 128, 24)\n",
      "/scratch/ptenkaate/Data/Aorta Resvcue/pcmra/RESV_003.npy\n",
      "(128, 128, 48)\n",
      "(128, 128, 24)\n",
      "/scratch/ptenkaate/Data/Aorta Resvcue/pcmra/RESV_004.npy\n",
      "(128, 128, 48)\n",
      "(128, 128, 24)\n",
      "/scratch/ptenkaate/Data/Aorta Resvcue/pcmra/RESV_005.npy\n",
      "(144, 144, 48)\n",
      "(144, 144, 24)\n",
      "/scratch/ptenkaate/Data/Aorta Resvcue/pcmra/RESV_008.npy\n",
      "(128, 128, 48)\n",
      "(128, 128, 24)\n",
      "/scratch/ptenkaate/Data/Aorta Resvcue/pcmra/RESV_015.npy\n",
      "(128, 128, 60)\n",
      "(128, 128, 30)\n",
      "/scratch/ptenkaate/Data/Aorta Resvcue/pcmra/RESV_016.npy\n",
      "(128, 128, 48)\n",
      "(128, 128, 24)\n",
      "/scratch/ptenkaate/Data/Aorta Resvcue/pcmra/RESV_018.npy\n",
      "(128, 128, 60)\n",
      "(128, 128, 30)\n",
      "/scratch/ptenkaate/Data/Aorta Resvcue/pcmra/RESV_023.npy\n",
      "(128, 128, 60)\n",
      "(128, 128, 30)\n",
      "/scratch/ptenkaate/Data/Aorta Resvcue/pcmra/RESV_025.npy\n",
      "(128, 128, 60)\n",
      "(128, 128, 30)\n",
      "/scratch/ptenkaate/Data/Aorta Resvcue/pcmra/RESV_026.npy\n",
      "(128, 128, 60)\n",
      "(128, 128, 30)\n",
      "/scratch/ptenkaate/Data/Aorta Resvcue/pcmra/RESV_027.npy\n",
      "(128, 128, 48)\n",
      "(128, 128, 24)\n",
      "/scratch/ptenkaate/Data/Aorta Resvcue/pcmra/RESV_028.npy\n",
      "(128, 128, 60)\n",
      "(128, 128, 30)\n",
      "/scratch/ptenkaate/Data/Aorta Resvcue/pcmra/RESV_029.npy\n",
      "(128, 128, 48)\n",
      "(128, 128, 24)\n",
      "/scratch/ptenkaate/Data/Aorta Resvcue/pcmra/RESV_100.npy\n",
      "(128, 128, 48)\n",
      "(128, 128, 24)\n",
      "/scratch/ptenkaate/Data/Aorta Resvcue/pcmra/RESV_101.npy\n",
      "(128, 128, 48)\n",
      "(128, 128, 24)\n",
      "/scratch/ptenkaate/Data/Aorta Resvcue/pcmra/RESV_102.npy\n",
      "(128, 128, 60)\n",
      "(128, 128, 30)\n",
      "/scratch/ptenkaate/Data/Aorta Resvcue/pcmra/RESV_103.npy\n",
      "(128, 128, 48)\n",
      "(128, 128, 24)\n",
      "/scratch/ptenkaate/Data/Aorta Resvcue/pcmra/RESV_106.npy\n",
      "(144, 144, 48)\n",
      "(144, 144, 24)\n",
      "/scratch/ptenkaate/Data/Aorta Resvcue/pcmra/RESV_202.npy\n",
      "(128, 128, 48)\n",
      "(128, 128, 24)\n",
      "/scratch/ptenkaate/Data/Aorta Resvcue/pcmra/RESV_301.npy\n",
      "(128, 128, 60)\n",
      "(128, 128, 30)\n",
      "/scratch/ptenkaate/Data/Aorta Resvcue/pcmra/RESV_302.npy\n",
      "(128, 128, 48)\n",
      "(128, 128, 24)\n",
      "/scratch/ptenkaate/Data/Aorta Resvcue/pcmra/RESV_304.npy\n",
      "(128, 128, 48)\n",
      "(128, 128, 24)\n",
      "/scratch/ptenkaate/Data/Aorta Resvcue/pcmra/RESV_306.npy\n",
      "(128, 128, 48)\n",
      "(128, 128, 24)\n"
     ]
    }
   ],
   "source": [
    "oot = \"/scratch/ptenkaate/Data\"\n",
    "folder = \"Aorta Resvcue\"\n",
    "\n",
    "data = \"pcmra\"\n",
    "\n",
    "for _,_, files in os.walk(f\"{root}/{folder}/{data}\"):\n",
    "    break   \n",
    "\n",
    "for subject in files: \n",
    "    \n",
    "    path = f\"{root}/{folder}/{data}/{subject}\"\n",
    "    with open(path, 'rb') as f:\n",
    "        pcmra = np.load(f)\n",
    "        if pcmra.shape[2] > 40: \n",
    "            print(path)\n",
    "            print(pcmra.shape)\n",
    "            pcmra = pcmra[:, :, :pcmra.shape[2] // 2]\n",
    "            print(pcmra.shape)\n",
    "\n",
    "    with open(path, 'wb') as f:\n",
    "        np.save(f, pcmra)"
   ]
  },
  {
   "cell_type": "markdown",
   "metadata": {},
   "source": [
    "## Make all masks 0, 1 labels"
   ]
  },
  {
   "cell_type": "code",
   "execution_count": 7,
   "metadata": {},
   "outputs": [
    {
     "name": "stderr",
     "output_type": "stream",
     "text": [
      "/home/ptenkaate/.local/lib/python3.6/site-packages/matplotlib/backends/qt_editor/figureoptions.py:11: MatplotlibDeprecationWarning: \n",
      "The support for Qt4  was deprecated in Matplotlib 3.3 and will be removed two minor releases later.\n",
      "  from matplotlib.backends.qt_compat import QtGui\n"
     ]
    }
   ],
   "source": [
    "%matplotlib qt"
   ]
  },
  {
   "cell_type": "code",
   "execution_count": 11,
   "metadata": {},
   "outputs": [
    {
     "name": "stdout",
     "output_type": "stream",
     "text": [
      "Imported classes.\n"
     ]
    }
   ],
   "source": [
    "%run data_classes.ipynb\n",
    "\n",
    "from collections import Counter \n",
    "\n",
    "oot = \"/scratch/ptenkaate/Data\"\n",
    "folder = \"Aorta Volunteers\"\n",
    "\n",
    "data = \"mask\"\n",
    "\n",
    "for _,_, files in os.walk(f\"{root}/{folder}/{data}\"):\n",
    "    break   \n",
    "\n",
    "for i, subject in enumerate(sorted(files)): \n",
    "    \n",
    "    path = f\"{root}/{folder}/{data}/{subject}\"\n",
    "    with open(path, 'rb') as f:\n",
    "        mask = np.load(f)\n",
    "        count = Counter(mask.flatten())\n",
    "        \n",
    "        if len(count) != 2:\n",
    "            print(i, subject)\n",
    "            print(mask.max(), \":  \", count[mask.max()])\n",
    "            print(len(count))\n",
    "            \n",
    "            mask = np.where(mask != mask.max(), 0, mask)           \n",
    "            \n",
    "            with open(path, 'wb') as f:\n",
    "                np.save(f, mask)\n"
   ]
  },
  {
   "cell_type": "markdown",
   "metadata": {},
   "source": [
    "## Aorta BaV swap mask of patient 16-04-13_106_done"
   ]
  },
  {
   "cell_type": "code",
   "execution_count": 16,
   "metadata": {},
   "outputs": [],
   "source": [
    "oot = \"/scratch/ptenkaate/Data\"\n",
    "folder = \"Aorta BaV\"\n",
    "\n",
    "data = \"mask\"\n",
    "\n",
    "subject = \"16-04-13_106_done.npy\"\n",
    "\n",
    "path = f\"{root}/{folder}/{data}/{subject}\"\n",
    "with open(path, 'rb') as f:\n",
    "    mask = np.load(f)\n",
    "    \n",
    "    mx = mask.max()\n",
    "    mn = mask.min()\n",
    "\n",
    "    mask = np.where(mask == mx, 0, mask)           \n",
    "    mask = np.where(mask == mn, 1, mask)          \n",
    "    \n",
    "#     print(mask)\n",
    "    \n",
    "with open(path, 'wb') as f:\n",
    "    np.save(f, mask)"
   ]
  },
  {
   "cell_type": "markdown",
   "metadata": {},
   "source": [
    "### Delete Aorta BAV res 018, heeft verschillende size pcmra en mask"
   ]
  },
  {
   "cell_type": "code",
   "execution_count": null,
   "metadata": {},
   "outputs": [],
   "source": []
  }
 ],
 "metadata": {
  "kernelspec": {
   "display_name": "Python 3.6.8 64-bit",
   "language": "python",
   "name": "python36864bit0627eb39d7a6497d88458471ef8e42e3"
  },
  "language_info": {
   "codemirror_mode": {
    "name": "ipython",
    "version": 3
   },
   "file_extension": ".py",
   "mimetype": "text/x-python",
   "name": "python",
   "nbconvert_exporter": "python",
   "pygments_lexer": "ipython3",
   "version": "3.6.8"
  }
 },
 "nbformat": 4,
 "nbformat_minor": 2
}
