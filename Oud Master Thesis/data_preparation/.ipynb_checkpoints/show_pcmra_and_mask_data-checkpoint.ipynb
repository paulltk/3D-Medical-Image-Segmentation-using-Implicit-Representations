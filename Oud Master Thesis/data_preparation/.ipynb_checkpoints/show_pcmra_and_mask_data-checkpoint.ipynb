{
 "cells": [
  {
   "cell_type": "code",
   "execution_count": 1,
   "metadata": {
    "scrolled": true
   },
   "outputs": [
    {
     "name": "stderr",
     "output_type": "stream",
     "text": [
      "/home/ptenkaate/.local/lib/python3.6/site-packages/matplotlib/backends/qt_editor/figureoptions.py:11: MatplotlibDeprecationWarning: \n",
      "The support for Qt4  was deprecated in Matplotlib 3.3 and will be removed two minor releases later.\n",
      "  from matplotlib.backends.qt_compat import QtGui\n"
     ]
    }
   ],
   "source": [
    "%matplotlib qt"
   ]
  },
  {
   "cell_type": "code",
   "execution_count": 3,
   "metadata": {
    "scrolled": true
   },
   "outputs": [
    {
     "name": "stdout",
     "output_type": "stream",
     "text": [
      "Imported Project and Show_images classes.\n"
     ]
    }
   ],
   "source": [
    "%run /home/ptenkaate/scratch/Master-Thesis/data_classes/data_classes.ipynb"
   ]
  },
  {
   "cell_type": "code",
   "execution_count": 4,
   "metadata": {},
   "outputs": [],
   "source": [
    "def check_sizes(project): \n",
    "    for i in range(0, len(project.subjects)):\n",
    "        subject,pcmra, mask = project.get_subject(i)\n",
    "        if pcmra.shape != mask.shape:\n",
    "            print(subject, \"has different mask and pcmra shapes\")\n",
    "            print(\"shape pcmra:\", pcmra.shape)\n",
    "            print(\"shape mask:\", mask.shape)"
   ]
  },
  {
   "cell_type": "code",
   "execution_count": 5,
   "metadata": {
    "scrolled": true
   },
   "outputs": [],
   "source": [
    "def scroll_through_all_subjects(project): \n",
    "    titles = []\n",
    "    for i in range(len(project.subjects)):\n",
    "        subject = project.subjects[i]\n",
    "        for j in range(project.masks_shape[i][2]): \n",
    "            titles.append(str(i) + \": \" +  subject)\n",
    "                        \n",
    "    masks = np.dstack(project.masks)\n",
    "    pcmras = np.dstack(project.pcmras)\n",
    "\n",
    "    image = Show_images(titles, (pcmras, \"PCMRA\"), (masks, \"Mask\"), (pcmras + 0.3 * masks, \"PCMRA + Mask\"))\n",
    "    \n",
    "    return image"
   ]
  },
  {
   "cell_type": "markdown",
   "metadata": {},
   "source": [
    "# Carotide"
   ]
  },
  {
   "cell_type": "code",
   "execution_count": 5,
   "metadata": {},
   "outputs": [
    {
     "name": "stdout",
     "output_type": "stream",
     "text": [
      "Masks without PCMRA: []\n"
     ]
    }
   ],
   "source": [
    "project = \"Carotide\"\n",
    "carotide = Project(project)\n",
    "carotide.normalize()\n",
    "\n",
    "check_sizes(carotide)\n",
    "images = scroll_through_all_subjects(carotide)\n",
    "\n",
    "# for i, (subj, shape) in enumerate(zip(carotide.subjects, carotide.masks_shape)): \n",
    "#     print(i, subj, shape)"
   ]
  },
  {
   "cell_type": "markdown",
   "metadata": {},
   "source": [
    "# Aorta Volunteers"
   ]
  },
  {
   "cell_type": "code",
   "execution_count": 6,
   "metadata": {},
   "outputs": [
    {
     "name": "stdout",
     "output_type": "stream",
     "text": [
      "Masks without PCMRA: []\n",
      "Counter({(128, 128, 24): 21, (144, 144, 24): 2, (192, 192, 24): 1, (144, 144, 30): 1, (128, 128, 30): 1})\n",
      "\n",
      "Subject nr 16, name 16-06-08_Paul_kt-pca_done2.npy does not have a size 128 at dimension 0\n",
      "Subject nr 17, name 16-06-08_Sevink_kt-pca_done2.npy does not have a size 128 at dimension 0\n",
      "Subject nr 20, name 16-06-24_Irma_kt-pca_done1.npy does not have a size 128 at dimension 0\n",
      "Subject nr 23, name 17-02-03_Nijveld.npy does not have a size 128 at dimension 0\n",
      "\n",
      "Counter({(128, 128, 24): 21, (128, 128, 30): 1})\n"
     ]
    }
   ],
   "source": [
    "project = \"Aorta Volunteers\"\n",
    "aorta_volunteers = Project(project)\n",
    "\n",
    "# aorta_volunteers.masks = [np.flip(mask, 2) for mask in aorta_volunteers.masks]\n",
    "\n",
    "print(Counter(aorta_volunteers.masks_shape))\n",
    "print()\n",
    "aorta_volunteers.filter_dimension_shape(0, 128, True)\n",
    "print()\n",
    "print(Counter(aorta_volunteers.masks_shape))\n",
    "\n",
    "images = scroll_through_all_subjects(aorta_volunteers)\n",
    "\n",
    "# for i, (subj, shape) in enumerate(zip(aorta_volunteers.subjects, aorta_volunteers.masks_shape)): \n",
    "#     print(i, subj, shape)"
   ]
  },
  {
   "cell_type": "code",
   "execution_count": 7,
   "metadata": {},
   "outputs": [
    {
     "name": "stdout",
     "output_type": "stream",
     "text": [
      "1.0\n"
     ]
    }
   ],
   "source": [
    "subject, pcmra, mask = aorta_volunteers.get_subject(4)\n",
    "\n",
    "image = Show_images(subject, (pcmra, \"PCMRA\"), (mask, \"Mask\"), (pcmra + 0.3 * mask, \"PCMRA + Mask\"))\n",
    "    \n",
    "print(mask.max())"
   ]
  },
  {
   "cell_type": "markdown",
   "metadata": {},
   "source": [
    "# Aorta Bav"
   ]
  },
  {
   "cell_type": "code",
   "execution_count": 11,
   "metadata": {},
   "outputs": [
    {
     "name": "stdout",
     "output_type": "stream",
     "text": [
      "['16-03-23_101_done.npy', '16-04-13_104_done.npy', '16-04-13_106_done.npy', '16-04-20_105_done.npy', '16-04-20_107_done.npy', '16-04-29_102_done.npy', '16-05-18_108_done.npy', '16-05-25_109_done.npy', '16-06-03_111_done.npy', '16-06-22_113_done1.npy', '16-06-29_115_done1.npy', '16-06-29_116_done1.npy', '16-07-15_114_done1.npy', '16-08-03_100_done1.npy', '16-08-17_117_done1.npy', '16-08-19_119_done1.npy', '16-08-24_120_done1.npy', '16-08-26_121_done1.npy', '16-09-02_122_done1.npy', '16-09-14_124_done1.npy', '16-09-14_125_done1.npy', '16-09-28_126_done1.npy', '16-10-07_127_done1.npy']\n",
      "Masks without PCMRA: []\n",
      "Counter({(128, 128, 24): 13, (144, 144, 30): 3, (128, 128, 25): 2, (128, 128, 30): 2, (144, 144, 26): 1, (176, 176, 30): 1, (128, 128, 36): 1})\n",
      "\n",
      "Subject nr 6, name 16-05-18_108_done.npy does not have a size 128 at dimension 0\n",
      "Subject nr 8, name 16-06-03_111_done.npy does not have a size 128 at dimension 0\n",
      "Subject nr 14, name 16-08-17_117_done1.npy does not have a size 128 at dimension 0\n",
      "Subject nr 15, name 16-08-19_119_done1.npy does not have a size 128 at dimension 0\n",
      "Subject nr 19, name 16-09-14_124_done1.npy does not have a size 128 at dimension 0\n",
      "\n",
      "Counter({(128, 128, 24): 13, (128, 128, 25): 2, (128, 128, 30): 2, (128, 128, 36): 1})\n"
     ]
    }
   ],
   "source": [
    "project = \"Aorta BaV\"\n",
    "aorta_bav = Project(project)\n",
    "\n",
    "print(Counter(aorta_bav.masks_shape))\n",
    "print()\n",
    "aorta_bav.filter_dimension_shape(0, 128, True)\n",
    "print()\n",
    "print(Counter(aorta_bav.masks_shape))\n",
    "\n",
    "images = scroll_through_all_subjects(aorta_bav)\n",
    "\n",
    "# for i, (subj, shape) in enumerate(zip(aorta_volunteers.subjects, aorta_volunteers.masks_shape)): \n",
    "#     print(i, subj, shape)"
   ]
  },
  {
   "cell_type": "markdown",
   "metadata": {},
   "source": [
    "### waarom heeft de mask steeds een andere waarde als labels? "
   ]
  },
  {
   "cell_type": "code",
   "execution_count": 12,
   "metadata": {},
   "outputs": [
    {
     "name": "stdout",
     "output_type": "stream",
     "text": [
      "Counter({0.0: 393140, 1.0: 16460})\n",
      "Counter({0.0: 380469, 1.0: 12747})\n",
      "Counter({0.0: 376774, 1.0: 16442})\n"
     ]
    }
   ],
   "source": [
    "subject, pcmra, mask = aorta_bav.get_subject(0)\n",
    "print(Counter(mask.flatten()))\n",
    "\n",
    "subject, pcmra, mask = aorta_bav.get_subject(1)\n",
    "print(Counter(mask.flatten()))\n",
    "\n",
    "subject, pcmra, mask = aorta_bav.get_subject(2)\n",
    "print(Counter(mask.flatten()))\n",
    "\n",
    "image = Show_images(subject, (pcmra, \"PCMRA\"), (mask, \"Mask\"), (pcmra + mask, \"PCMRA + Mask\"))\n"
   ]
  },
  {
   "cell_type": "markdown",
   "metadata": {},
   "source": [
    "# Aorta CoA"
   ]
  },
  {
   "cell_type": "code",
   "execution_count": 7,
   "metadata": {},
   "outputs": [
    {
     "name": "stdout",
     "output_type": "stream",
     "text": [
      "Masks without PCMRA: []\n",
      "Counter({(128, 128, 24): 25, (128, 128, 30): 11, (144, 144, 24): 3, (144, 144, 30): 2, (128, 128, 28): 1, (128, 128, 26): 1})\n",
      "\n",
      "Subject nr 11, name 16-06-01_218_done.npy does not have a size 128 at dimension 0\n",
      "Subject nr 12, name 16-06-03_219_done.npy does not have a size 128 at dimension 0\n",
      "Subject nr 19, name 16-07-06_207_done1.npy does not have a size 128 at dimension 0\n",
      "Subject nr 21, name 16-07-15_225_done1.npy does not have a size 128 at dimension 0\n",
      "Subject nr 28, name 16-08-10_232_done1.npy does not have a size 128 at dimension 0\n",
      "\n",
      "Counter({(128, 128, 24): 25, (128, 128, 30): 11, (128, 128, 28): 1, (128, 128, 26): 1})\n"
     ]
    }
   ],
   "source": [
    "project = \"Aorta CoA\"\n",
    "aorta_coa = Project(project)\n",
    "\n",
    "print(Counter(aorta_coa.masks_shape))\n",
    "print()\n",
    "aorta_coa.filter_dimension_shape(0, 128, True)\n",
    "print()\n",
    "print(Counter(aorta_coa.masks_shape))\n",
    "\n",
    "images = scroll_through_all_subjects(aorta_coa)\n",
    "\n",
    "# for i, (subj, shape) in enumerate(zip(aorta_volunteers.subjects, aorta_volunteers.masks_shape)): \n",
    "#     print(i, subj, shape)"
   ]
  },
  {
   "cell_type": "markdown",
   "metadata": {},
   "source": [
    "# Aorta Resvcue"
   ]
  },
  {
   "cell_type": "code",
   "execution_count": 8,
   "metadata": {
    "scrolled": true
   },
   "outputs": [
    {
     "name": "stdout",
     "output_type": "stream",
     "text": [
      "Masks without PCMRA: ['RESV_006.npy', 'RESV_011.npy', 'RESV_012.npy', 'RESV_014.npy', 'RESV_111.npy', 'RESV_204.npy', 'RESV_205.npy']\n",
      "Counter({(128, 128, 24): 31, (128, 128, 30): 15, (144, 144, 24): 2})\n",
      "\n",
      "Subject nr 4, name RESV_005.npy does not have a size 128 at dimension 0\n",
      "Subject nr 26, name RESV_106.npy does not have a size 128 at dimension 0\n",
      "\n",
      "Counter({(128, 128, 24): 31, (128, 128, 30): 15})\n"
     ]
    }
   ],
   "source": [
    "project = \"Aorta Resvcue\"\n",
    "aorta_resvcue = Project(project)\n",
    "\n",
    "print(Counter(aorta_resvcue.masks_shape))\n",
    "print()\n",
    "aorta_resvcue.filter_dimension_shape(0, 128, True)\n",
    "print()\n",
    "print(Counter(aorta_resvcue.masks_shape))\n",
    "\n",
    "images = scroll_through_all_subjects(aorta_resvcue)"
   ]
  }
 ],
 "metadata": {
  "kernelspec": {
   "display_name": "Python 3.6.8 64-bit",
   "language": "python",
   "name": "python36864bit0627eb39d7a6497d88458471ef8e42e3"
  },
  "language_info": {
   "codemirror_mode": {
    "name": "ipython",
    "version": 3
   },
   "file_extension": ".py",
   "mimetype": "text/x-python",
   "name": "python",
   "nbconvert_exporter": "python",
   "pygments_lexer": "ipython3",
   "version": "3.6.8"
  }
 },
 "nbformat": 4,
 "nbformat_minor": 2
}
