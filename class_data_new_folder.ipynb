{
 "cells": [
  {
   "cell_type": "code",
   "execution_count": 2,
   "metadata": {},
   "outputs": [],
   "source": [
    "import pydicom\n",
    "import numpy as np\n",
    "import os "
   ]
  },
  {
   "cell_type": "code",
   "execution_count": 57,
   "metadata": {},
   "outputs": [],
   "source": [
    "root = \"/scratch/ptenkaate/Data\"\n",
    "folder = \"Aorta Volunteers\"\n",
    "\n",
    "data = \"mask\"\n",
    "subject = \"16-01-22_Jarik_kt-pca_done2\"\n",
    "m_path = f\"{root}/{folder}/{data}/{subject}.npy\"\n",
    "\n",
    "data = \"pcmra\"\n",
    "p_path = f\"{root}/{folder}/{data}/{subject}.npy\"\n",
    "\n",
    "with open(m_path, 'rb') as f:\n",
    "    mask = np.load(f)\n",
    "\n",
    "mask = np.flip(mask, 2)\n",
    "    \n",
    "with open(p_path, 'rb') as f:\n",
    "    pcmra = np.load(f)"
   ]
  },
  {
   "cell_type": "code",
   "execution_count": 58,
   "metadata": {},
   "outputs": [],
   "source": [
    "class IndexTracker(object):\n",
    "    def __init__(self, ax, pcmra, mask):\n",
    "        self.ax = ax\n",
    "        self.pcmra = pcmra\n",
    "        self.mask = mask\n",
    "        self.pcmra_mask = pcmra + mask\n",
    "\n",
    "        rows, cols, self.slices = pcmra.shape\n",
    "        \n",
    "        self.ind = self.slices//2\n",
    "        \n",
    "        self.im0 = ax[0].imshow(self.pcmra[:, :, self.ind])\n",
    "        self.im1 = ax[1].imshow(self.mask[:, :, self.ind])\n",
    "        self.im2 = ax[2].imshow(self.pcmra_mask[:, :, self.ind])\n",
    "        \n",
    "        self.update()\n",
    "\n",
    "    def onscroll(self, event):\n",
    "#         print(\"%s %s\" % (event.button, event.step))\n",
    "        if event.button == 'up':\n",
    "            self.ind = (self.ind + 1) % self.slices\n",
    "        else:\n",
    "            self.ind = (self.ind - 1) % self.slices\n",
    "        self.update()\n",
    "\n",
    "    def update(self):\n",
    "        self.im0.set_data(self.pcmra[:, :, self.ind])\n",
    "        self.im1.set_data(self.mask[:, :, self.ind])\n",
    "        self.im2.set_data(self.pcmra_mask[:, :, self.ind])\n",
    "        \n",
    "        ax[0].set_ylabel('Slice Number: %s' % self.ind)\n",
    "        self.im0.axes.figure.canvas.draw()\n",
    "\n",
    "fig, ax = plt.subplots(1,3)\n",
    "\n",
    "tracker = IndexTracker(ax, pcmra, mask)\n",
    "\n",
    "fig.canvas.mpl_connect('scroll_event', tracker.onscroll)\n",
    "plt.show()\n",
    "\n"
   ]
  },
  {
   "cell_type": "code",
   "execution_count": 49,
   "metadata": {},
   "outputs": [],
   "source": [
    "a = list(mask.reshape(-1))"
   ]
  },
  {
   "cell_type": "code",
   "execution_count": 51,
   "metadata": {},
   "outputs": [
    {
     "name": "stdout",
     "output_type": "stream",
     "text": [
      "Counter({0: 1544302, 1961: 11154})\n"
     ]
    }
   ],
   "source": [
    "from collections import Counter \n",
    "\n",
    "b = Counter(a)\n",
    "print(b)"
   ]
  },
  {
   "cell_type": "code",
   "execution_count": 12,
   "metadata": {},
   "outputs": [
    {
     "name": "stdout",
     "output_type": "stream",
     "text": [
      "['16-03-23_101_done.npy', '16-04-13_104_done.npy', '16-04-13_106_done.npy', '16-04-20_105_done.npy', '16-04-20_107_done.npy', '16-04-29_102_done.npy', '16-05-18_108_done.npy', '16-05-25_109_done.npy', '16-06-03_111_done.npy', '16-06-22_113_done1.npy', '16-06-29_115_done1.npy', '16-06-29_116_done1.npy', '16-07-15_114_done1.npy', '16-08-03_100_done1.npy', '16-08-17_117_done1.npy', '16-08-19_119_done1.npy', '16-08-24_120_done1.npy', '16-08-26_121_done1.npy', '16-09-02_122_done1.npy', '16-09-14_124_done1.npy', '16-09-14_125_done1.npy', '16-09-28_126_done1.npy', '16-10-07_127_done1.npy']\n",
      "['16-01-14_Kerry_kt-pca_done2.npy', '16-01-22_Jarik_kt-pca_done2.npy', '16-01-27 Valentine kt-pca_done2.npy', '16-01-27_Claudia_kt-pca_done2.npy', '16-01-29 Charlotte kt-pca2_done.npy', '16-01-29 Dorien kt-pca2_done.npy', '16-02-03 Thijs kt-pca_done.npy', '16-02-03_Feiko_kt-pca_done2.npy', '16-02-10_Luuk_kt-pca_done2.npy', '16-02-10_Michelle_kt-pca_done.npy', '16-02-12_Kira_kt-pca_done2.npy', '16-02-12_Marjolein_kt-pca_done.npy', '16-02-24 lucas_kt-pca.npy', '16-03-11_Mart_kt-pca_done.npy', '16-03-18_Eva_kt-pca_done2.npy', '16-03-18_Ruud_kt-pca_done2.npy', '16-03-18_Sanjay2_kt-pca_done2.npy', '16-04-13_Pim_kt-pca_done2.npy', '16-05-11 Sandra_kt-pca_done2.npy', '16-05-25_Emile_kt-pca_done.npy', '16-06-08_Paul_kt-pca_done2.npy', '16-06-08_Sevink_kt-pca_done2.npy', '16-06-17_Planken_kt-pca_done.npy', '16-06-22_vanKesteren_kt_pca_done2.npy', '16-06-24_Irma_kt-pca_done1.npy', '16-06-24_Ot_kt-pca_done1.npy', '16-12-14_Marcelle_done2.npy', '17-02-03_Nijveld.npy', '17-02-08_VaderUiterwijk.npy', '17-03-15_GJ_Romeijn.npy']\n",
      "[]\n",
      "['16-03-23_101_done.npy', '16-04-13_104_done.npy', '16-04-13_106_done.npy', '16-04-20_105_done.npy', '16-04-20_107_done.npy', '16-04-29_102_done.npy', '16-05-18_108_done.npy', '16-05-25_109_done.npy', '16-06-03_111_done.npy', '16-06-22_113_done1.npy', '16-06-29_115_done1.npy', '16-06-29_116_done1.npy', '16-07-15_114_done1.npy', '16-08-03_100_done1.npy', '16-08-17_117_done1.npy', '16-08-19_119_done1.npy', '16-08-24_120_done1.npy', '16-08-26_121_done1.npy', '16-09-02_122_done1.npy', '16-09-14_124_done1.npy', '16-09-14_125_done1.npy', '16-09-28_126_done1.npy', '16-10-07_127_done1.npy']\n"
     ]
    }
   ],
   "source": [
    "class Project(object): \n",
    "    def __init__(self, project): \n",
    "        self.root = \"/scratch/ptenkaate/Data\"\n",
    "        self.project = project\n",
    "        \n",
    "        self.m_path = os.path.join(self.root, self.project, \"mask\")\n",
    "        self.p_path = os.path.join(self.root, self.project, \"pcmra\")\n",
    "        \n",
    "        if not os.path.exists(self.m_path):\n",
    "            raise(Exception(\"This project does not exist, please specify a different project\"))\n",
    "        \n",
    "        for root, folders, mask_files in os.walk(self.m_path):\n",
    "            break   \n",
    "        for root, folders, pcmra_files in os.walk(self.p_path):\n",
    "            break   \n",
    "        print(mask_files)    \n",
    "        print(pcmra_files)\n",
    "        \n",
    "        self.sample_files = [file for file in mask_files if file in pcmra_files]\n",
    "        no_pcmra = [file for file in mask_files if file not in pcmra_files]\n",
    "\n",
    "        print(self.sample_files)\n",
    "        print(no_pcmra)\n",
    "\n",
    "project = \"Aorta BaV\"\n",
    "aorta = Project(project)\n"
   ]
  },
  {
   "cell_type": "code",
   "execution_count": null,
   "metadata": {},
   "outputs": [],
   "source": []
  }
 ],
 "metadata": {
  "kernelspec": {
   "display_name": "Python 3.6.8 64-bit",
   "language": "python",
   "name": "python36864bit0627eb39d7a6497d88458471ef8e42e3"
  },
  "language_info": {
   "codemirror_mode": {
    "name": "ipython",
    "version": 3
   },
   "file_extension": ".py",
   "mimetype": "text/x-python",
   "name": "python",
   "nbconvert_exporter": "python",
   "pygments_lexer": "ipython3",
   "version": "3.6.8"
  }
 },
 "nbformat": 4,
 "nbformat_minor": 2
}
