{
 "cells": [
  {
   "cell_type": "code",
   "execution_count": 1,
   "metadata": {},
   "outputs": [
    {
     "name": "stdout",
     "output_type": "stream",
     "text": [
      "Imported classes.\n"
     ]
    },
    {
     "name": "stderr",
     "output_type": "stream",
     "text": [
      "/home/ptenkaate/.local/lib/python3.6/site-packages/matplotlib/backends/qt_editor/figureoptions.py:11: MatplotlibDeprecationWarning: \n",
      "The support for Qt4  was deprecated in Matplotlib 3.3 and will be removed two minor releases later.\n",
      "  from matplotlib.backends.qt_compat import QtGui\n"
     ]
    }
   ],
   "source": [
    "%run data_classes.ipynb\n"
   ]
  },
  {
   "cell_type": "code",
   "execution_count": 8,
   "metadata": {},
   "outputs": [],
   "source": [
    "from torch.utils.data import Dataset, DataLoader\n",
    "import random\n",
    "\n",
    "class PrepareData2D(object):\n",
    "    def __init__(self, project_names, seed=34): \n",
    "        self.project_names = project_names\n",
    "        self.seed = seed \n",
    "        \n",
    "        self.project = self.load_project(self.project_names)\n",
    "        \n",
    "        #filter shape of the images, temporarily until further preprocessing\n",
    "        self.project.filter_dimension_shape(0, 128, print_dropped=False)\n",
    "        self.project.filter_dimension_shape(2, 24, print_dropped=False)\n",
    "        \n",
    "        self.project.normalize()\n",
    "        \n",
    "        self.proj_list = np.array(self.projects_list())\n",
    "        self.subj_list = np.array(self.subjects_list())\n",
    "        self.masks = np.dstack(self.project.masks)\n",
    "        self.pcmras = np.dstack(self.project.pcmras)\n",
    "        \n",
    "        self.train, self.val, self.test = self.create_train_val_test_split()\n",
    "\n",
    "\n",
    "    def load_project(self, project_names): \n",
    "        if type(project_names) == str: \n",
    "            project = Project(project_names)\n",
    "        \n",
    "        if type(project_names) == list: \n",
    "            if len(project_names) == 1: \n",
    "                project = Project(project_names[0])\n",
    "            else:\n",
    "                project = Project(project_names[0])\n",
    "                for i in range(1, len(project_names)):\n",
    "                    project.append_project(project_names[i])\n",
    "        \n",
    "        return project \n",
    "    \n",
    "    \n",
    "    def subjects_list(self):\n",
    "        subj_list = []\n",
    "        \n",
    "        for i in range(len(self.project.subjects)):\n",
    "            subject = self.project.subjects[i]\n",
    "            for j in range(self.project.masks_shape[i][2]): \n",
    "                subj_list.append(subject)\n",
    "        \n",
    "        return subj_list\n",
    "\n",
    "    \n",
    "    def projects_list(self): \n",
    "        proj_list = []\n",
    "        \n",
    "        for i in range(len(self.project.subprojects)):\n",
    "            subproject = self.project.subprojects[i]\n",
    "            for j in range(self.project.masks_shape[i][2]): \n",
    "                proj_list.append(subproject)\n",
    "        \n",
    "        return proj_list\n",
    "    \n",
    "    import random \n",
    "\n",
    "    def create_train_val_test_split(self):\n",
    "\n",
    "        random.seed(self.seed)\n",
    "\n",
    "        idx = list(range(self.subj_list.shape[0]))\n",
    "        random.shuffle(idx)\n",
    "\n",
    "        split1 = int(len(idx) * 0.6)\n",
    "        split2 = int(len(idx) * 0.8)\n",
    "\n",
    "        train_idx = idx[:split1]\n",
    "        val_idx = idx[split1:split2]\n",
    "        test_idx = idx[split2:]\n",
    "\n",
    "        train_data = (self.proj_list[train_idx], \n",
    "                      self.subj_list[train_idx], \n",
    "                      self.pcmras[:,:,train_idx], \n",
    "                      self.masks[:,:,train_idx])\n",
    "\n",
    "        val_data = (self.proj_list[val_idx], \n",
    "                      self.subj_list[val_idx], \n",
    "                      self.pcmras[:,:,val_idx], \n",
    "                      self.masks[:,:,val_idx])\n",
    "\n",
    "        test_data = (self.proj_list[test_idx], \n",
    "                      self.subj_list[test_idx], \n",
    "                      self.pcmras[:,:,test_idx], \n",
    "                      self.masks[:,:,test_idx])\n",
    "\n",
    "        return train_data, val_data, test_data\n",
    "    \n",
    "    \n",
    "    \n",
    "class Dataset2D(Dataset):   \n",
    "    def __init__(self, data):\n",
    "        self.data = data\n",
    "\n",
    "    def __len__(self):\n",
    "        return self.data[0].shape[0]\n",
    "\n",
    "    def __getitem__(self, idx):\n",
    "        # returns: <project>, <subject>, <pcmra>, <mask>\n",
    "        \n",
    "        return (self.data[0][idx], \n",
    "                self.data[1][idx], \n",
    "                np.dstack(self.data[2][:, :, idx]), \n",
    "                np.dstack(self.data[3][:,:,idx]))\n",
    "        \n",
    "#         return (self.data[0][:, :, idx], \n",
    "#                 self.data[1][:,:,idx])"
   ]
  },
  {
   "cell_type": "code",
   "execution_count": null,
   "metadata": {},
   "outputs": [],
   "source": []
  },
  {
   "cell_type": "code",
   "execution_count": 15,
   "metadata": {
    "scrolled": true
   },
   "outputs": [
    {
     "name": "stdout",
     "output_type": "stream",
     "text": [
      "Masks without PCMRA: []\n",
      "Masks without PCMRA: []\n",
      "Masks without PCMRA: ['RESV_006.npy', 'RESV_011.npy', 'RESV_012.npy', 'RESV_014.npy', 'RESV_111.npy', 'RESV_204.npy', 'RESV_205.npy']\n",
      "Masks without PCMRA: []\n",
      "Projects: ('Aorta CoA', 'Aorta CoA', 'Aorta Volunteers', 'Aorta CoA', 'Aorta BaV', 'Aorta BaV', 'Aorta CoA', 'Aorta CoA', 'Aorta Volunteers', 'Aorta Resvcue', 'Aorta Resvcue', 'Aorta BaV', 'Aorta Resvcue', 'Aorta Resvcue', 'Aorta Resvcue', 'Aorta Volunteers', 'Aorta Resvcue', 'Aorta Resvcue', 'Aorta Volunteers', 'Aorta CoA', 'Aorta Resvcue', 'Aorta Volunteers', 'Aorta Volunteers', 'Aorta CoA', 'Aorta BaV', 'Aorta CoA', 'Aorta Resvcue', 'Aorta Resvcue', 'Aorta CoA', 'Aorta Resvcue', 'Aorta Volunteers', 'Aorta Volunteers')\n",
      "\n",
      " Subjects: ('16-06-15_224_done.npy', '16-05-18_215_done.npy', '16-01-22_Jarik_kt-pca_done2.npy', '16-07-06_216_done1.npy', '16-08-03_100_done1.npy', '16-04-20_105_done.npy', '16-04-20_212_done.npy', '16-09-09_241_done1.npy', '16-06-22_vanKesteren_kt_pca_done2.npy', 'RESV_007.npy', 'RESV_202.npy', '16-08-26_121_done1.npy', 'RESV_302.npy', 'RESV_017.npy', 'RESV_101.npy', '16-01-14_Kerry_kt-pca_done2.npy', 'RESV_306.npy', 'RESV_007.npy', '16-05-25_Emile_kt-pca_done.npy', '16-08-10_234_done1.npy', 'RESV_021.npy', '16-01-14_Kerry_kt-pca_done2.npy', '16-02-12_Kira_kt-pca_done2.npy', '16-06-29_221_done1.npy', '16-04-20_107_done.npy', '16-07-22_228_done1.npy', 'RESV_107.npy', 'RESV_302.npy', '16-08-24_239_done1.npy', 'RESV_007.npy', '16-02-12_Kira_kt-pca_done2.npy', '16-01-27 Valentine kt-pca_done2.npy')\n",
      "\n",
      " PCMRAs: torch.Size([32, 1, 128, 128])\n",
      "\n",
      " Masks: torch.Size([32, 1, 128, 128])\n"
     ]
    }
   ],
   "source": [
    "# data = PrepareData2D([\"Aorta Volunteers\", \"Aorta BaV\", \"Aorta Resvcue\", \"Aorta CoA\"])\n",
    "# train_ds = Dataset2D(data.train)\n",
    "# train_dl = DataLoader(train_ds, batch_size=32)\n",
    "\n",
    "# for batch in train_dl: \n",
    "#     break\n",
    "\n",
    "# print(\"Projects:\", batch[0])\n",
    "# print(\"\\n Subjects:\", batch[1])\n",
    "# print(\"\\n PCMRAs:\", batch[2].shape)\n",
    "# print(\"\\n Masks:\", batch[3].shape)"
   ]
  },
  {
   "cell_type": "code",
   "execution_count": 22,
   "metadata": {},
   "outputs": [],
   "source": [
    "def show_2d_batch(batch):\n",
    "    title = [proj + \": \" + subj for proj, subj in zip(batch[0], batch[1])]\n",
    "    \n",
    "    pcmra = batch[2].clone()\n",
    "    pcmra = pcmra.reshape(pcmra.shape[0], pcmra.shape[2], pcmra.shape[3])\n",
    "    pcmra = pcmra.permute(2, 1, 0).detach().numpy()\n",
    "    \n",
    "    mask = batch[3].clone()\n",
    "    mask = mask.reshape(mask.shape[0], mask.shape[2], mask.shape[3])\n",
    "    mask = mask.permute(2, 1, 0).detach().numpy()\n",
    "\n",
    "\n",
    "    show = Show_images(title, (pcmra, \"pcmra\"), (mask, \"mask\"), (pcmra + mask, \"pcmra + mask\"))\n",
    "    \n",
    "    return show"
   ]
  },
  {
   "cell_type": "code",
   "execution_count": 23,
   "metadata": {},
   "outputs": [],
   "source": [
    "# %matplotlib qt\n",
    "# show = show_2d_batch(batch)"
   ]
  },
  {
   "cell_type": "code",
   "execution_count": null,
   "metadata": {},
   "outputs": [],
   "source": []
  }
 ],
 "metadata": {
  "kernelspec": {
   "display_name": "Python 3.6.8 64-bit",
   "language": "python",
   "name": "python36864bit0627eb39d7a6497d88458471ef8e42e3"
  },
  "language_info": {
   "codemirror_mode": {
    "name": "ipython",
    "version": 3
   },
   "file_extension": ".py",
   "mimetype": "text/x-python",
   "name": "python",
   "nbconvert_exporter": "python",
   "pygments_lexer": "ipython3",
   "version": "3.6.8"
  }
 },
 "nbformat": 4,
 "nbformat_minor": 2
}
