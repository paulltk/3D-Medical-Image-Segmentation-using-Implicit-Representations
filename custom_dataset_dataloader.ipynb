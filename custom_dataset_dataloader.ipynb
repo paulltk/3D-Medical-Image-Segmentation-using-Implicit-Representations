{
 "cells": [
  {
   "cell_type": "code",
   "execution_count": 30,
   "metadata": {},
   "outputs": [
    {
     "name": "stdout",
     "output_type": "stream",
     "text": [
      "Imported classes.\n"
     ]
    }
   ],
   "source": [
    "%run data_classes.ipynb"
   ]
  },
  {
   "cell_type": "code",
   "execution_count": 42,
   "metadata": {},
   "outputs": [],
   "source": [
    "from torch.utils.data import Dataset \n",
    "\n",
    "class Dataset2D(Dataset): \n",
    "    def __init__(self, project_names): \n",
    "        self.project_names = project_names\n",
    "        \n",
    "        self.project = self.load_project(self.project_names)\n",
    "        \n",
    "        #filter shape of the images, temporarily until further preprocessing\n",
    "        self.project.filter_dimension_shape(0, 128, True)\n",
    "        \n",
    "        self.project.normalize()\n",
    "        \n",
    "        self.proj_list = self.projects_list()\n",
    "        self.subj_list = self.subjects_list()\n",
    "        self.masks = np.dstack(self.project.masks)\n",
    "        self.pcmras = np.dstack(self.project.pcmras)\n",
    "        \n",
    "\n",
    "    def load_project(self, project_names): \n",
    "        if type(project_names) == str: \n",
    "            project = Project(project_names)\n",
    "        \n",
    "        if type(project_names) == list: \n",
    "            if len(project_names) == 1: \n",
    "                project = Project(project_names[0])\n",
    "            else:\n",
    "                project = Project(project_names[0])\n",
    "                for i in range(1, len(project_names)):\n",
    "                    project.append_project(project_names[i])\n",
    "        \n",
    "        return project \n",
    "    \n",
    "    def subjects_list(self):\n",
    "        subj_list = []\n",
    "        \n",
    "        for i in range(len(self.project.subjects)):\n",
    "            subject = self.project.subjects[i]\n",
    "            for j in range(self.project.masks_shape[i][2]): \n",
    "                subj_list.append(subject)\n",
    "        \n",
    "        return subj_list\n",
    "\n",
    "    def projects_list(self): \n",
    "        proj_list = []\n",
    "        \n",
    "        for i in range(len(self.project.subprojects)):\n",
    "            subproject = self.project.subprojects[i]\n",
    "            for j in range(self.project.masks_shape[i][2]): \n",
    "                proj_list.append(subproject)\n",
    "        \n",
    "        return proj_list\n",
    "    \n",
    "    def __len__(self):\n",
    "        return len(self.subj_list)\n",
    "\n",
    "    def __getitem__(self, idx):\n",
    "        return self.proj_list[idx], self.subj_list[idx], self.pcmras[:, :, idx], self.masks[:,:,idx]"
   ]
  },
  {
   "cell_type": "code",
   "execution_count": null,
   "metadata": {},
   "outputs": [],
   "source": []
  },
  {
   "cell_type": "code",
   "execution_count": 45,
   "metadata": {
    "scrolled": true
   },
   "outputs": [
    {
     "name": "stdout",
     "output_type": "stream",
     "text": [
      "Masks without PCMRA: []\n",
      "Masks without PCMRA: []\n",
      "Masks without PCMRA: ['RESV_006.npy', 'RESV_011.npy', 'RESV_012.npy', 'RESV_014.npy', 'RESV_111.npy', 'RESV_204.npy', 'RESV_205.npy']\n",
      "Masks without PCMRA: []\n",
      "Subject nr 16, name 16-06-08_Paul_kt-pca_done2.npy does not have a size 128 at dimension 0\n",
      "Subject nr 17, name 16-06-08_Sevink_kt-pca_done2.npy does not have a size 128 at dimension 0\n",
      "Subject nr 20, name 16-06-24_Irma_kt-pca_done1.npy does not have a size 128 at dimension 0\n",
      "Subject nr 23, name 17-02-03_Nijveld.npy does not have a size 128 at dimension 0\n",
      "Subject nr 32, name 16-05-18_108_done.npy does not have a size 128 at dimension 0\n",
      "Subject nr 34, name 16-06-03_111_done.npy does not have a size 128 at dimension 0\n",
      "Subject nr 40, name 16-08-17_117_done1.npy does not have a size 128 at dimension 0\n",
      "Subject nr 41, name 16-08-19_119_done1.npy does not have a size 128 at dimension 0\n",
      "Subject nr 45, name 16-09-14_124_done1.npy does not have a size 128 at dimension 0\n",
      "Subject nr 53, name RESV_005.npy does not have a size 128 at dimension 0\n",
      "Subject nr 75, name RESV_106.npy does not have a size 128 at dimension 0\n",
      "Subject nr 108, name 16-06-01_218_done.npy does not have a size 128 at dimension 0\n",
      "Subject nr 109, name 16-06-03_219_done.npy does not have a size 128 at dimension 0\n",
      "Subject nr 116, name 16-07-06_207_done1.npy does not have a size 128 at dimension 0\n",
      "Subject nr 118, name 16-07-15_225_done1.npy does not have a size 128 at dimension 0\n",
      "Subject nr 125, name 16-08-10_232_done1.npy does not have a size 128 at dimension 0\n"
     ]
    }
   ],
   "source": [
    "ds = Dataset2D([\"Aorta Volunteers\", \"Aorta BaV\", \"Aorta Resvcue\", \"Aorta CoA\"])"
   ]
  },
  {
   "cell_type": "code",
   "execution_count": null,
   "metadata": {},
   "outputs": [],
   "source": []
  },
  {
   "cell_type": "code",
   "execution_count": null,
   "metadata": {},
   "outputs": [],
   "source": []
  },
  {
   "cell_type": "code",
   "execution_count": null,
   "metadata": {},
   "outputs": [],
   "source": []
  }
 ],
 "metadata": {
  "kernelspec": {
   "display_name": "Python 3.6.8 64-bit",
   "language": "python",
   "name": "python36864bit0627eb39d7a6497d88458471ef8e42e3"
  },
  "language_info": {
   "codemirror_mode": {
    "name": "ipython",
    "version": 3
   },
   "file_extension": ".py",
   "mimetype": "text/x-python",
   "name": "python",
   "nbconvert_exporter": "python",
   "pygments_lexer": "ipython3",
   "version": "3.6.8"
  }
 },
 "nbformat": 4,
 "nbformat_minor": 2
}
