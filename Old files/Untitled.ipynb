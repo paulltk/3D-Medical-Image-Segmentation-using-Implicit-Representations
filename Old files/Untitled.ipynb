{
 "cells": [
  {
   "cell_type": "code",
   "execution_count": 6,
   "metadata": {},
   "outputs": [],
   "source": [
    "import torch \n",
    "from torch.utils.data import Dataset, DataLoader\n",
    "import numpy as np"
   ]
  },
  {
   "cell_type": "code",
   "execution_count": 49,
   "metadata": {},
   "outputs": [
    {
     "name": "stdout",
     "output_type": "stream",
     "text": [
      "[      0       1       2 ... 2499997 2499998 2499999]\n",
      "(50, 50)\n"
     ]
    }
   ],
   "source": [
    "inp = np.array(list(range(2500000)))\n",
    "out = np.array(list(range(1000)))\n",
    "\n",
    "print(inp)\n",
    "inp = inp.reshape(50, 50, 1000)\n",
    "\n",
    "#shape im height x im width x images\n",
    "print(inp[:,:,0].shape)\n"
   ]
  },
  {
   "cell_type": "code",
   "execution_count": 56,
   "metadata": {},
   "outputs": [],
   "source": [
    "class Dataset2D(Dataset):   \n",
    "    def __init__(self, inp, out):\n",
    "        self.inp = inp\n",
    "        self.out = out\n",
    "        \n",
    "    def __len__(self):\n",
    "        return len(self.inp)\n",
    "\n",
    "    def __getitem__(self, idx):\n",
    "        sample = self.inp[:,:,idx].reshape(1, *self.inp[:,:,idx].shape)\n",
    "        label = self.out[idx].reshape(1, *self.out[idx].shape)\n",
    "        return sample, label"
   ]
  },
  {
   "cell_type": "code",
   "execution_count": 57,
   "metadata": {},
   "outputs": [],
   "source": [
    "ds = Dataset2D(inp, out)"
   ]
  },
  {
   "cell_type": "code",
   "execution_count": 58,
   "metadata": {},
   "outputs": [
    {
     "data": {
      "text/plain": [
       "array([[[      0,    1000,    2000, ...,   47000,   48000,   49000],\n",
       "        [  50000,   51000,   52000, ...,   97000,   98000,   99000],\n",
       "        [ 100000,  101000,  102000, ...,  147000,  148000,  149000],\n",
       "        ...,\n",
       "        [2350000, 2351000, 2352000, ..., 2397000, 2398000, 2399000],\n",
       "        [2400000, 2401000, 2402000, ..., 2447000, 2448000, 2449000],\n",
       "        [2450000, 2451000, 2452000, ..., 2497000, 2498000, 2499000]]])"
      ]
     },
     "execution_count": 58,
     "metadata": {},
     "output_type": "execute_result"
    }
   ],
   "source": [
    "ds[0][0]"
   ]
  },
  {
   "cell_type": "code",
   "execution_count": 59,
   "metadata": {},
   "outputs": [],
   "source": [
    "dl = DataLoader(ds, batch_size=20)"
   ]
  },
  {
   "cell_type": "code",
   "execution_count": 60,
   "metadata": {},
   "outputs": [
    {
     "name": "stdout",
     "output_type": "stream",
     "text": [
      "torch.Size([20, 1, 50, 50])\n",
      "torch.Size([20, 1])\n"
     ]
    }
   ],
   "source": [
    "for sample, label in dl: \n",
    "    print(sample.shape)\n",
    "    print(label.shape)\n",
    "    break"
   ]
  },
  {
   "cell_type": "code",
   "execution_count": 43,
   "metadata": {},
   "outputs": [
    {
     "data": {
      "text/plain": [
       "array([[[      0,    1000,    2000, ...,   47000,   48000,   49000],\n",
       "        [  50000,   51000,   52000, ...,   97000,   98000,   99000],\n",
       "        [ 100000,  101000,  102000, ...,  147000,  148000,  149000],\n",
       "        ...,\n",
       "        [2350000, 2351000, 2352000, ..., 2397000, 2398000, 2399000],\n",
       "        [2400000, 2401000, 2402000, ..., 2447000, 2448000, 2449000],\n",
       "        [2450000, 2451000, 2452000, ..., 2497000, 2498000, 2499000]]])"
      ]
     },
     "execution_count": 43,
     "metadata": {},
     "output_type": "execute_result"
    }
   ],
   "source": [
    "inp[:,:,0].reshape(1, *inp[:,:,0].shape)"
   ]
  },
  {
   "cell_type": "code",
   "execution_count": 41,
   "metadata": {},
   "outputs": [
    {
     "data": {
      "text/plain": [
       "array([[      0,    1000,    2000, ...,   47000,   48000,   49000],\n",
       "       [  50000,   51000,   52000, ...,   97000,   98000,   99000],\n",
       "       [ 100000,  101000,  102000, ...,  147000,  148000,  149000],\n",
       "       ...,\n",
       "       [2350000, 2351000, 2352000, ..., 2397000, 2398000, 2399000],\n",
       "       [2400000, 2401000, 2402000, ..., 2447000, 2448000, 2449000],\n",
       "       [2450000, 2451000, 2452000, ..., 2497000, 2498000, 2499000]])"
      ]
     },
     "execution_count": 41,
     "metadata": {},
     "output_type": "execute_result"
    }
   ],
   "source": [
    "inp[:,:,0]"
   ]
  },
  {
   "cell_type": "code",
   "execution_count": 45,
   "metadata": {},
   "outputs": [
    {
     "name": "stdout",
     "output_type": "stream",
     "text": [
      "50 50\n"
     ]
    }
   ],
   "source": [
    "print(*inp[:,:,0].shape)"
   ]
  },
  {
   "cell_type": "code",
   "execution_count": null,
   "metadata": {},
   "outputs": [],
   "source": []
  }
 ],
 "metadata": {
  "kernelspec": {
   "display_name": "Python 3.6.8 64-bit",
   "language": "python",
   "name": "python36864bit0627eb39d7a6497d88458471ef8e42e3"
  },
  "language_info": {
   "codemirror_mode": {
    "name": "ipython",
    "version": 3
   },
   "file_extension": ".py",
   "mimetype": "text/x-python",
   "name": "python",
   "nbconvert_exporter": "python",
   "pygments_lexer": "ipython3",
   "version": "3.6.8"
  }
 },
 "nbformat": 4,
 "nbformat_minor": 2
}
