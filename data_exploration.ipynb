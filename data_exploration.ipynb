{
 "cells": [
  {
   "cell_type": "code",
   "execution_count": null,
   "metadata": {},
   "outputs": [],
   "source": [
    "from collections import Counter\n",
    "import os"
   ]
  },
  {
   "cell_type": "code",
   "execution_count": null,
   "metadata": {},
   "outputs": [],
   "source": [
    "class Folder(object): \n",
    "    \n",
    "    def __init__(self, root, subject_substr=\"\"): \n",
    "        \n",
    "        if \"\\\\\" in root: \n",
    "            raise Exception(\"Please replace the backslashes in your path with forwardslashes.\")\n",
    "        self.root = root\n",
    "        self.subfolders = self.get_subjects(subject_substr)\n",
    "        \n",
    "        self.walk_history = []\n",
    "        self.walk_history.append(self.subfolders)\n",
    "\n",
    "        self.walk_history_lost = []\n",
    "        self.walk_history_lost.append([])\n",
    "        \n",
    "     \n",
    "    def get_folders_files(self, path):\n",
    "        for root, folders, files in os.walk(path):\n",
    "            break   \n",
    "        \n",
    "        return folders, files\n",
    "        \n",
    "    def get_subjects(self, subject_substr):         \n",
    "        subjects, _ = self.get_folders_files(self.root)\n",
    "        \n",
    "        return [s for s in subjects if subject_substr in s]\n",
    "\n",
    "    def down(self, equals=[], contains=[], does_not_contain=[], print_absent=False): \n",
    "                    \n",
    "        print(f\"\\nSubfolder equals {str(equals)},   contains {str(contains)},   does not contain {str(does_not_contain)}\")\n",
    "        subfolders_present = []\n",
    "        subfolders_absent = []\n",
    "        \n",
    "        for subfolder in self.subfolders: \n",
    "            path = os.path.join(self.root, subfolder)\n",
    "            \n",
    "            folders, files = self.get_folders_files(path)\n",
    "            \n",
    "            for string in equals: \n",
    "                folders = [f for f in folders if string.lower() == f.lower()]\n",
    "            \n",
    "            for string in contains: \n",
    "                folders = [f for f in folders if string.lower() in f.lower()]\n",
    "            \n",
    "            for string in does_not_contain: \n",
    "                folders = [f for f in folders if string.lower() not in f.lower()]\n",
    "            \n",
    "            if len(folders) == 0: \n",
    "                subfolders_absent.append(subfolder)\n",
    "                \n",
    "            elif len(folders) == 1: \n",
    "                subfolders_present.append(os.path.join(subfolder, folders[0]))\n",
    "                \n",
    "            elif len(folders) > 1: \n",
    "                print(f\"\\n{subfolder} has multiple subfolders with the specified name:\")\n",
    "                print(folders)\n",
    "                subfolders_present.append(os.path.join(subfolder, folders[0]))\n",
    "        \n",
    "        if len(subfolders_present) == 0:\n",
    "            print(\"\\nNo folders contained the specified subfolders, therefore this step is not executed.\")\n",
    "        \n",
    "        else:    \n",
    "            print(f\"\\n{len(subfolders_present)} of {len(self.subfolders)} folders contained specified subfolder.\")\n",
    "            if print_absent: \n",
    "                print(\"\\nFolders without subfolder\")\n",
    "                for s in subfolders_absent:\n",
    "                    print(\"\\t\", s)\n",
    "\n",
    "            self.walk_history.append(subfolders_present)\n",
    "            self.walk_history_lost.append(subfolders_absent)\n",
    "            self.subfolders = subfolders_present\n",
    "            \n",
    "            print(\"\\nPath example after step:\")\n",
    "            print(\"\\t\", self.subfolders[0])\n",
    "        \n",
    "            \n",
    "    def up(self): \n",
    "        if len(self.walk_history) == 1:\n",
    "            print(\"You can not go up as you are already at the subject folder\")\n",
    "        \n",
    "        else: \n",
    "            self.subfolders = self.walk_history[-2]\n",
    "            self.walk_history = self.walk_history[:-1]\n",
    "            self.walk_history_lost = self.walk_history_lost[:-1]  \n",
    "            \n",
    "            print(\"\\nPath example after step:\")\n",
    "            print(\"\\t\", self.subfolders[0])\n",
    "    \n",
    "    def sample_down(self, i=0): \n",
    "        subfolder = self.subfolders[i]\n",
    "        path = os.path.join(self.root, subfolder)\n",
    "            \n",
    "        folders, files = self.get_folders_files(path)\n",
    "        print(\"\\nCurrent path depth:\", subfolder)\n",
    "        print(\"Subfolders:\")\n",
    "        for s in folders: \n",
    "            print(\"\\t\", s)\n",
    "    \n",
    "    def current_path(self):\n",
    "        return self.subfolders[0]\n",
    "            \n",
    "    def number_of_files(self):\n",
    "        \n",
    "        lengths = []\n",
    "        \n",
    "        for subfolder in self.subfolders: \n",
    "            path = os.path.join(self.root, subfolder)\n",
    "            _, files = self.get_folders_files(path)\n",
    "            lengths.append(len(files))\n",
    "        \n",
    "        dct = Counter(lengths).most_common()\n",
    "        most_common = dct[0][0]\n",
    "        for i, j in dct:\n",
    "            print(f\"\\n{j} folders contain {i} files each.\")\n",
    "            \n",
    "#         differing_subfolders = []\n",
    "        if len(dct) > 1:\n",
    "            print(\"\\nFolders with a differing number of files:\")\n",
    "            for subfolder, length in zip(self.subfolders, lengths): \n",
    "                if length != most_common: \n",
    "#                     differing_subfolders.append(subfolder)\n",
    "                    print(f\"\\t{length} files: {subfolder}\")\n",
    "    \n",
    "        print(\"\\nPath example after current step:\")\n",
    "        print(\"\\t\", self.subfolders[0])\n"
   ]
  },
  {
   "cell_type": "markdown",
   "metadata": {},
   "source": [
    "## Carotide"
   ]
  },
  {
   "cell_type": "code",
   "execution_count": null,
   "metadata": {},
   "outputs": [],
   "source": [
    "root = \"/home/ptenkaate/lood_storage/\"\n",
    "path = \"divi/Projects/afterfifteen/data/recon\"\n",
    "subjects_dir = root + path\n",
    "\n",
    "carotide = Folder(subjects_dir)\n",
    "carotide.sample_down()\n"
   ]
  },
  {
   "cell_type": "code",
   "execution_count": null,
   "metadata": {},
   "outputs": [],
   "source": [
    "carotide.down(contains=[\"4dflow\"], print_absent=True)"
   ]
  },
  {
   "cell_type": "code",
   "execution_count": null,
   "metadata": {},
   "outputs": [],
   "source": [
    "carotide.up()\n",
    "carotide.down(contains=[\"wip4dflow\"], print_absent=True)"
   ]
  },
  {
   "cell_type": "code",
   "execution_count": null,
   "metadata": {},
   "outputs": [],
   "source": [
    "carotide.down(contains=[\"dicom\"])"
   ]
  },
  {
   "cell_type": "code",
   "execution_count": null,
   "metadata": {},
   "outputs": [],
   "source": [
    "carotide.sample_down()"
   ]
  },
  {
   "cell_type": "code",
   "execution_count": null,
   "metadata": {},
   "outputs": [],
   "source": [
    "carotide.down(equals=[\"pc_mra\"])"
   ]
  },
  {
   "cell_type": "code",
   "execution_count": null,
   "metadata": {},
   "outputs": [],
   "source": [
    "carotide.number_of_files()"
   ]
  },
  {
   "cell_type": "code",
   "execution_count": null,
   "metadata": {},
   "outputs": [],
   "source": [
    "carotide.up()\n",
    "carotide.down(equals=[\"M\"])\n",
    "carotide.number_of_files()"
   ]
  },
  {
   "cell_type": "code",
   "execution_count": null,
   "metadata": {},
   "outputs": [],
   "source": [
    "carotide.up()\n",
    "carotide.down(contains=\"mask_left\")\n",
    "carotide.number_of_files()"
   ]
  },
  {
   "cell_type": "code",
   "execution_count": null,
   "metadata": {},
   "outputs": [],
   "source": [
    "carotide.up()\n",
    "carotide.down(contains=\"mask_right\")\n",
    "carotide.number_of_files()"
   ]
  },
  {
   "cell_type": "markdown",
   "metadata": {},
   "source": [
    "## Aorta Volunteers"
   ]
  },
  {
   "cell_type": "code",
   "execution_count": null,
   "metadata": {},
   "outputs": [],
   "source": [
    "root = \"/home/ptenkaate/lood_storage/\"\n",
    "path = \"divi/Projects/4dflow/4D-flow Volunteers/Aorta\"\n",
    "subjects_dir = root + path\n",
    "\n",
    "aorta_v = Folder(subjects_dir)\n",
    "aorta_v.sample_down()\n"
   ]
  },
  {
   "cell_type": "code",
   "execution_count": null,
   "metadata": {},
   "outputs": [],
   "source": [
    "aorta_v.down(contains=[\"_pca\"], print_absent=True)"
   ]
  },
  {
   "cell_type": "code",
   "execution_count": null,
   "metadata": {},
   "outputs": [],
   "source": [
    "aorta_v.down(equals=[\"dicom\"])"
   ]
  },
  {
   "cell_type": "code",
   "execution_count": null,
   "metadata": {},
   "outputs": [],
   "source": [
    "aorta_v.sample_down()"
   ]
  },
  {
   "cell_type": "code",
   "execution_count": null,
   "metadata": {},
   "outputs": [],
   "source": [
    "aorta_v.up()\n",
    "aorta_v.down(equals=[\"M\"])\n",
    "aorta_v.number_of_files()"
   ]
  },
  {
   "cell_type": "code",
   "execution_count": null,
   "metadata": {},
   "outputs": [],
   "source": [
    "aorta_v.up()\n",
    "aorta_v.down(equals=[\"mask\"])\n",
    "aorta_v.number_of_files()"
   ]
  },
  {
   "cell_type": "code",
   "execution_count": null,
   "metadata": {},
   "outputs": [],
   "source": [
    "aorta_v.up()\n",
    "aorta_v.up()\n",
    "aorta_v.up()\n",
    "aorta_v.down(contains=[\"_sense\"])\n"
   ]
  },
  {
   "cell_type": "code",
   "execution_count": null,
   "metadata": {},
   "outputs": [],
   "source": [
    "aorta_v.down(contains=\"dicom\")\n",
    "aorta_v.sample_down()"
   ]
  },
  {
   "cell_type": "code",
   "execution_count": null,
   "metadata": {},
   "outputs": [],
   "source": [
    "aorta_v.down(contains=[\"pc_mra\"])"
   ]
  },
  {
   "cell_type": "code",
   "execution_count": null,
   "metadata": {},
   "outputs": [],
   "source": [
    "aorta_v.number_of_files()"
   ]
  },
  {
   "cell_type": "markdown",
   "metadata": {},
   "source": [
    "## Aorta BaV"
   ]
  },
  {
   "cell_type": "code",
   "execution_count": null,
   "metadata": {},
   "outputs": [],
   "source": [
    "root = \"/home/ptenkaate/lood_storage/\"\n",
    "path = \"divi/Projects/4dflow/4D-flow BAV\"\n",
    "subjects_dir = root + path\n",
    "print(subjects_dir)\n",
    "\n",
    "aorta_b = Folder(subjects_dir, subject_substr=\"done\")\n",
    "aorta_b.sample_down(1)\n"
   ]
  },
  {
   "cell_type": "code",
   "execution_count": null,
   "metadata": {},
   "outputs": [],
   "source": [
    "aorta_b.down(contains=[\"_PCA\"]) \n",
    "aorta_b.sample_down()"
   ]
  },
  {
   "cell_type": "code",
   "execution_count": null,
   "metadata": {},
   "outputs": [],
   "source": [
    "aorta_b.down(contains=[\"dicom\"])\n",
    "aorta_b.sample_down()"
   ]
  },
  {
   "cell_type": "code",
   "execution_count": null,
   "metadata": {},
   "outputs": [],
   "source": [
    "aorta_b.down(equals=[\"aorta\"],print_absent=True)\n",
    "aorta_b.sample_down()"
   ]
  },
  {
   "cell_type": "code",
   "execution_count": null,
   "metadata": {},
   "outputs": [],
   "source": [
    "aorta_b.sample_down()"
   ]
  },
  {
   "cell_type": "code",
   "execution_count": null,
   "metadata": {},
   "outputs": [],
   "source": []
  }
 ],
 "metadata": {
  "kernelspec": {
   "display_name": "Python 3.6.8 64-bit",
   "language": "python",
   "name": "python36864bitc17f53f707db4b89be7c32a22adf91a3"
  },
  "language_info": {
   "codemirror_mode": {
    "name": "ipython",
    "version": 3
   },
   "file_extension": ".py",
   "mimetype": "text/x-python",
   "name": "python",
   "nbconvert_exporter": "python",
   "pygments_lexer": "ipython3",
   "version": "3.6.8"
  }
 },
 "nbformat": 4,
 "nbformat_minor": 2
}
