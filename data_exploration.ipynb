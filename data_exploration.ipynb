{
 "cells": [
  {
   "cell_type": "code",
   "execution_count": 1,
   "metadata": {},
   "outputs": [],
   "source": [
    "from collections import Counter\n",
    "import os"
   ]
  },
  {
   "cell_type": "code",
   "execution_count": 52,
   "metadata": {},
   "outputs": [],
   "source": [
    "class Folder(object): \n",
    "    \n",
    "    def __init__(self, root, subject_substr=\"\"): \n",
    "        \n",
    "        if \"\\\\\" in root: \n",
    "            raise Exception(\"Please replace the backslashes in your path with forwardslashes.\")\n",
    "        self.root = root\n",
    "        self.subfolders = self.get_subjects(subject_substr)\n",
    "        \n",
    "        self.walk_history = []\n",
    "        self.walk_history.append(self.subfolders)\n",
    "\n",
    "        self.walk_history_lost = []\n",
    "        self.walk_history_lost.append([])\n",
    "        \n",
    "     \n",
    "    def get_folders_files(self, path):\n",
    "        for root, folders, files in os.walk(path):\n",
    "            break   \n",
    "        \n",
    "        return folders, files\n",
    "        \n",
    "    def get_subjects(self, subject_substr):         \n",
    "        subjects, _ = self.get_folders_files(self.root)\n",
    "        \n",
    "        return [s for s in subjects if subject_substr in s]\n",
    "\n",
    "    def down(self, equals=[], contains=[], does_not_contain=[], print_absent=False): \n",
    "                    \n",
    "        print(f\"\\nSubfolder equals {str(equals)},   contains {str(contains)},   does not contain {str(does_not_contain)}\")\n",
    "        subfolders_present = []\n",
    "        subfolders_absent = []\n",
    "        \n",
    "        for subfolder in self.subfolders: \n",
    "            path = os.path.join(self.root, subfolder)\n",
    "            \n",
    "            folders, files = self.get_folders_files(path)\n",
    "            \n",
    "            for string in equals: \n",
    "                folders = [f for f in folders if string.lower() == f.lower()]\n",
    "            \n",
    "            for string in contains: \n",
    "                folders = [f for f in folders if string.lower() in f.lower()]\n",
    "            \n",
    "            for string in does_not_contain: \n",
    "                folders = [f for f in folders if string.lower() not in f.lower()]\n",
    "            \n",
    "            if len(folders) == 0: \n",
    "                subfolders_absent.append(subfolder)\n",
    "                \n",
    "            elif len(folders) == 1: \n",
    "                subfolders_present.append(os.path.join(subfolder, folders[0]))\n",
    "                \n",
    "            elif len(folders) > 1: \n",
    "                print(f\"\\n{subfolder} has multiple subfolders with the specified name:\")\n",
    "                print(folders)\n",
    "                subfolders_present.append(os.path.join(subfolder, folders[0]))\n",
    "        \n",
    "        if len(subfolders_present) == 0:\n",
    "            print(\"\\nNo folders contained the specified subfolders, therefore this step is not executed.\")\n",
    "        \n",
    "        else:    \n",
    "            print(f\"\\n{len(subfolders_present)} of {len(self.subfolders)} folders contained specified subfolder.\")\n",
    "            if print_absent: \n",
    "                print(\"\\nFolders without subfolder\")\n",
    "                for s in subfolders_absent:\n",
    "                    print(\"\\t\", s)\n",
    "\n",
    "            self.walk_history.append(subfolders_present)\n",
    "            self.walk_history_lost.append(subfolders_absent)\n",
    "            self.subfolders = subfolders_present\n",
    "            \n",
    "            print(\"\\nPath example after step:\")\n",
    "            print(\"\\t\", self.subfolders[0])\n",
    "        \n",
    "            \n",
    "    def up(self): \n",
    "        if len(self.walk_history) == 1:\n",
    "            print(\"You can not go up as you are already at the subject folder\")\n",
    "        \n",
    "        else: \n",
    "            self.subfolders = self.walk_history[-2]\n",
    "            self.walk_history = self.walk_history[:-1]\n",
    "            self.walk_history_lost = self.walk_history_lost[:-1]  \n",
    "            \n",
    "            print(\"\\nPath example after step:\")\n",
    "            print(\"\\t\", self.subfolders[0])\n",
    "    \n",
    "    def sample_down(self, i=0): \n",
    "        subfolder = self.subfolders[i]\n",
    "        path = os.path.join(self.root, subfolder)\n",
    "            \n",
    "        folders, files = self.get_folders_files(path)\n",
    "        print(\"\\nCurrent path depth:\", subfolder)\n",
    "        print(\"Subfolders:\")\n",
    "        for s in folders: \n",
    "            print(\"\\t\", s)\n",
    "    \n",
    "    def current_path(self):\n",
    "        return self.subfolders[0]\n",
    "            \n",
    "    def number_of_files(self):\n",
    "        \n",
    "        lengths = []\n",
    "        \n",
    "        for subfolder in self.subfolders: \n",
    "            path = os.path.join(self.root, subfolder)\n",
    "            _, files = self.get_folders_files(path)\n",
    "            lengths.append(len(files))\n",
    "        \n",
    "        dct = Counter(lengths).most_common()\n",
    "        most_common = dct[0][0]\n",
    "        for i, j in dct:\n",
    "            print(f\"\\n{j} folders contain {i} files each.\")\n",
    "            \n",
    "#         differing_subfolders = []\n",
    "        if len(dct) > 1:\n",
    "            print(\"\\nFolders with a differing number of files:\")\n",
    "            for subfolder, length in zip(self.subfolders, lengths): \n",
    "                if length != most_common: \n",
    "#                     differing_subfolders.append(subfolder)\n",
    "                    print(f\"\\t{length} files: {subfolder}\")\n",
    "    \n",
    "        print(\"\\nPath example after current step:\")\n",
    "        print(\"\\t\", self.subfolders[0])\n"
   ]
  },
  {
   "cell_type": "markdown",
   "metadata": {},
   "source": [
    "## Carotide"
   ]
  },
  {
   "cell_type": "code",
   "execution_count": 50,
   "metadata": {},
   "outputs": [
    {
     "name": "stdout",
     "output_type": "stream",
     "text": [
      "\n",
      "Current path depth: AF_0292\n",
      "Subfolders:\n",
      "\t PWV\n",
      "\t AF_0292_wip3d05mmcssenseV4\n",
      "\t AF_0292_PWV_wippwvslice1ccalowsenseV4\n",
      "\t AF_0292_PWV_wippwvlocalccasenseV4_EP\n",
      "\t AF_0292_PWV_wippwvslice2icasenseV4\n",
      "\t af_28042017_0946492_11_2_wip4dflowktpcaprospective15minV4\n"
     ]
    }
   ],
   "source": [
    "root = \"/home/ptenkaate/lood_storage/\"\n",
    "path = \"divi/Projects/afterfifteen/data/recon\"\n",
    "subjects_dir = root + path\n",
    "\n",
    "carotide = Folder(subjects_dir)\n",
    "carotide.sample_down()\n"
   ]
  },
  {
   "cell_type": "code",
   "execution_count": 4,
   "metadata": {},
   "outputs": [
    {
     "name": "stdout",
     "output_type": "stream",
     "text": [
      "\n",
      "Subfolder equals [],   contains ['4dflow'],   does not contain []\n",
      "\n",
      "AF_0056 has multiple subfolders with the specified name:\n",
      "['seg_4Dflow_PCMRA_vcalukovic', 'af_27012017_1021264_11_2_wip4dflowktpcaprospective15minV4']\n",
      "\n",
      "AF_0114 has multiple subfolders with the specified name:\n",
      "['seg_4Dflow_PCMRA_vcalukovic', 'af_20012017_1024356_11_2_wip4dflowktpcaprospective15minV4']\n",
      "\n",
      "AF_0206 has multiple subfolders with the specified name:\n",
      "['af_07012017_1502256_11_2_wip4dflowktpcaprospective15minV4', 'seg_4Dflow_PCMRA_vcalukovic']\n",
      "\n",
      "AF_0160 has multiple subfolders with the specified name:\n",
      "['af_17032017_0852211_13_2_wip4dflowktpcaprospective15minV4', 'seg_4Dflow_PCMRA_vcalukovic']\n",
      "\n",
      "AF_0012 has multiple subfolders with the specified name:\n",
      "['seg_4Dflow_PCMRA_vcalukovic', 'af_07012017_1027083_11_2_wip4dflowktpcaprospective15minV4']\n",
      "\n",
      "AF_0154 has multiple subfolders with the specified name:\n",
      "['seg_4Dflow_PCMRA_vcalukovic', 'af_20012017_0929551_11_2_wip4dflowktpcaprospective15minV4']\n",
      "\n",
      "AF_0155 has multiple subfolders with the specified name:\n",
      "['seg_4Dflow_PCMRA_vcalukovic', 'af_20012017_0835502_11_2_wip4dflowktpcaprospective15minV4']\n",
      "\n",
      "AF_0093 has multiple subfolders with the specified name:\n",
      "['af_18022017_1442426_11_2_wip4dflowktpcaprospective15minV4', 'seg_4Dflow_PCMRA_vcalukovic']\n",
      "\n",
      "AF_0196 has multiple subfolders with the specified name:\n",
      "['seg_4Dflow_PCMRA_vcalukovic', 'af_07012017_1130512_11_2_wip4dflowktpcaprospective15minV4']\n",
      "\n",
      "234 of 251 folders contained specified subfolder.\n",
      "\n",
      "Folders without subfolder\n",
      "\t AF_0310\n",
      "\t AF_0352\n",
      "\t AF_0040\n",
      "\t AF_0129\n",
      "\t AF_0233\n",
      "\t AF_0335\n",
      "\t AF_0041\n",
      "\t AF_0018\n",
      "\t AF_0029\n",
      "\t AF_0242\n",
      "\t AF_0003\n",
      "\t AF_0103\n",
      "\t AF_0204\n",
      "\t AF_0358\n",
      "\t AF_0286\n",
      "\t AF_0231\n",
      "\t AF_0280\n",
      "\n",
      "Path example after step:\n",
      "\t AF_0292/af_28042017_0946492_11_2_wip4dflowktpcaprospective15minV4\n"
     ]
    }
   ],
   "source": [
    "carotide.down(contains=[\"4dflow\"], print_absent=True)"
   ]
  },
  {
   "cell_type": "code",
   "execution_count": 5,
   "metadata": {},
   "outputs": [
    {
     "name": "stdout",
     "output_type": "stream",
     "text": [
      "\n",
      "Path example after step:\n",
      "\t AF_0292\n",
      "\n",
      "Subfolder equals [],   contains ['wip4dflow'],   does not contain []\n",
      "\n",
      "234 of 251 folders contained specified subfolder.\n",
      "\n",
      "Folders without subfolder\n",
      "\t AF_0310\n",
      "\t AF_0352\n",
      "\t AF_0040\n",
      "\t AF_0129\n",
      "\t AF_0233\n",
      "\t AF_0335\n",
      "\t AF_0041\n",
      "\t AF_0018\n",
      "\t AF_0029\n",
      "\t AF_0242\n",
      "\t AF_0003\n",
      "\t AF_0103\n",
      "\t AF_0204\n",
      "\t AF_0358\n",
      "\t AF_0286\n",
      "\t AF_0231\n",
      "\t AF_0280\n",
      "\n",
      "Path example after step:\n",
      "\t AF_0292/af_28042017_0946492_11_2_wip4dflowktpcaprospective15minV4\n"
     ]
    }
   ],
   "source": [
    "carotide.up()\n",
    "carotide.down(contains=[\"wip4dflow\"], print_absent=True)"
   ]
  },
  {
   "cell_type": "code",
   "execution_count": 6,
   "metadata": {},
   "outputs": [
    {
     "name": "stdout",
     "output_type": "stream",
     "text": [
      "\n",
      "Subfolder equals [],   contains ['dicom'],   does not contain []\n",
      "\n",
      "234 of 234 folders contained specified subfolder.\n",
      "\n",
      "Path example after step:\n",
      "\t AF_0292/af_28042017_0946492_11_2_wip4dflowktpcaprospective15minV4/DICOM\n"
     ]
    }
   ],
   "source": [
    "carotide.down(contains=[\"dicom\"])"
   ]
  },
  {
   "cell_type": "code",
   "execution_count": 7,
   "metadata": {},
   "outputs": [
    {
     "name": "stdout",
     "output_type": "stream",
     "text": [
      "\n",
      "Path: AF_0292/af_28042017_0946492_11_2_wip4dflowktpcaprospective15minV4/DICOM\n",
      "Subfolders:\n",
      "\t PC_MRA\n",
      "\t M\n",
      "\t MaxVel\n",
      "\t FFE\n",
      "\t tMIP\n",
      "\t magnitude_systole\n",
      "\t P\n",
      "\t S\n"
     ]
    }
   ],
   "source": [
    "carotide.sample_down()"
   ]
  },
  {
   "cell_type": "code",
   "execution_count": 8,
   "metadata": {},
   "outputs": [
    {
     "name": "stdout",
     "output_type": "stream",
     "text": [
      "\n",
      "Subfolder equals ['pc_mra'],   contains [],   does not contain []\n",
      "\n",
      "234 of 234 folders contained specified subfolder.\n",
      "\n",
      "Path example after step:\n",
      "\t AF_0292/af_28042017_0946492_11_2_wip4dflowktpcaprospective15minV4/DICOM/PC_MRA\n"
     ]
    }
   ],
   "source": [
    "carotide.down(equals=[\"pc_mra\"])"
   ]
  },
  {
   "cell_type": "code",
   "execution_count": 9,
   "metadata": {},
   "outputs": [
    {
     "name": "stdout",
     "output_type": "stream",
     "text": [
      "\n",
      "234 folders contain 31 files each.\n",
      "\n",
      "Path example after current step:\n",
      "\t AF_0292/af_28042017_0946492_11_2_wip4dflowktpcaprospective15minV4/DICOM/PC_MRA\n"
     ]
    }
   ],
   "source": [
    "carotide.number_of_files()"
   ]
  },
  {
   "cell_type": "code",
   "execution_count": 10,
   "metadata": {},
   "outputs": [
    {
     "name": "stdout",
     "output_type": "stream",
     "text": [
      "\n",
      "Path example after step:\n",
      "\t AF_0292/af_28042017_0946492_11_2_wip4dflowktpcaprospective15minV4/DICOM\n",
      "\n",
      "Subfolder equals ['M'],   contains [],   does not contain []\n",
      "\n",
      "234 of 234 folders contained specified subfolder.\n",
      "\n",
      "Path example after step:\n",
      "\t AF_0292/af_28042017_0946492_11_2_wip4dflowktpcaprospective15minV4/DICOM/M\n",
      "\n",
      "234 folders contain 744 files each.\n",
      "\n",
      "Path example after current step:\n",
      "\t AF_0292/af_28042017_0946492_11_2_wip4dflowktpcaprospective15minV4/DICOM/M\n"
     ]
    }
   ],
   "source": [
    "carotide.up()\n",
    "carotide.down(equals=[\"M\"])\n",
    "carotide.number_of_files()"
   ]
  },
  {
   "cell_type": "code",
   "execution_count": 11,
   "metadata": {},
   "outputs": [
    {
     "name": "stdout",
     "output_type": "stream",
     "text": [
      "\n",
      "Path example after step:\n",
      "\t AF_0292/af_28042017_0946492_11_2_wip4dflowktpcaprospective15minV4/DICOM\n",
      "\n",
      "Subfolder equals [],   contains mask_left,   does not contain []\n",
      "\n",
      "71 of 234 folders contained specified subfolder.\n",
      "\n",
      "Path example after step:\n",
      "\t AF_0013/af_31032017_0842505_11_2_wip4dflowktpcaprospective15minV4/DICOM/Mask_Left\n",
      "\n",
      "71 folders contain 31 files each.\n",
      "\n",
      "Path example after current step:\n",
      "\t AF_0013/af_31032017_0842505_11_2_wip4dflowktpcaprospective15minV4/DICOM/Mask_Left\n"
     ]
    }
   ],
   "source": [
    "carotide.up()\n",
    "carotide.down(contains=\"mask_left\")\n",
    "carotide.number_of_files()"
   ]
  },
  {
   "cell_type": "code",
   "execution_count": 12,
   "metadata": {},
   "outputs": [
    {
     "name": "stdout",
     "output_type": "stream",
     "text": [
      "\n",
      "Path example after step:\n",
      "\t AF_0292/af_28042017_0946492_11_2_wip4dflowktpcaprospective15minV4/DICOM\n",
      "\n",
      "Subfolder equals [],   contains mask_right,   does not contain []\n",
      "\n",
      "AF_0056/af_27012017_1021264_11_2_wip4dflowktpcaprospective15minV4/DICOM has multiple subfolders with the specified name:\n",
      "['Mask_Right_old', 'Mask_Right']\n",
      "\n",
      "71 of 234 folders contained specified subfolder.\n",
      "\n",
      "Path example after step:\n",
      "\t AF_0013/af_31032017_0842505_11_2_wip4dflowktpcaprospective15minV4/DICOM/Mask_Right\n",
      "\n",
      "71 folders contain 31 files each.\n",
      "\n",
      "Path example after current step:\n",
      "\t AF_0013/af_31032017_0842505_11_2_wip4dflowktpcaprospective15minV4/DICOM/Mask_Right\n"
     ]
    }
   ],
   "source": [
    "carotide.up()\n",
    "carotide.down(contains=\"mask_right\")\n",
    "carotide.number_of_files()"
   ]
  },
  {
   "cell_type": "markdown",
   "metadata": {},
   "source": [
    "## Aorta Volunteers"
   ]
  },
  {
   "cell_type": "code",
   "execution_count": 45,
   "metadata": {},
   "outputs": [
    {
     "name": "stdout",
     "output_type": "stream",
     "text": [
      "\n",
      "Path: 16-03-18_Sanjay2_kt-pca_done2\n",
      "Subfolders:\n",
      "\t te_18032016_1137394_7_2_wip4dflowktpcaretroV4_one_pca\n",
      "\t te_18032016_1137394_7_2_wip4dflowktpcaretroV4_one_sense\n"
     ]
    }
   ],
   "source": [
    "root = \"/home/ptenkaate/lood_storage/\"\n",
    "path = \"divi/Projects/4dflow/4D-flow Volunteers/Aorta\"\n",
    "subjects_dir = root + path\n",
    "\n",
    "aorta_v = Folder(subjects_dir)\n",
    "aorta_v.sample_down()\n"
   ]
  },
  {
   "cell_type": "code",
   "execution_count": 25,
   "metadata": {},
   "outputs": [
    {
     "name": "stdout",
     "output_type": "stream",
     "text": [
      "\n",
      "Path example after step:\n",
      "\t 16-03-18_Sanjay2_kt-pca_done2\n",
      "\n",
      "Subfolder equals [],   contains ['_pca'],   does not contain []\n",
      "\n",
      "30 of 34 folders contained specified subfolder.\n",
      "\n",
      "Folders without subfolder\n",
      "\t 17-03-03, Milo\n",
      "\t 17-11-01_Quintes_student\n",
      "\t results\n",
      "\t 16-11-18_Male24\n",
      "\n",
      "Path example after step:\n",
      "\t 16-03-18_Sanjay2_kt-pca_done2/te_18032016_1137394_7_2_wip4dflowktpcaretroV4_one_pca\n"
     ]
    }
   ],
   "source": [
    "aorta_v.down(contains=[\"_pca\"], print_absent=True)"
   ]
  },
  {
   "cell_type": "code",
   "execution_count": 27,
   "metadata": {},
   "outputs": [
    {
     "name": "stdout",
     "output_type": "stream",
     "text": [
      "\n",
      "Subfolder equals ['dicom'],   contains [],   does not contain []\n",
      "\n",
      "30 of 30 folders contained specified subfolder.\n",
      "\n",
      "Path example after step:\n",
      "\t 16-03-18_Sanjay2_kt-pca_done2/te_18032016_1137394_7_2_wip4dflowktpcaretroV4_one_pca/DICOM\n"
     ]
    }
   ],
   "source": [
    "aorta_v.down(equals=[\"dicom\"])"
   ]
  },
  {
   "cell_type": "code",
   "execution_count": null,
   "metadata": {},
   "outputs": [],
   "source": [
    "aorta_v.sample_down()"
   ]
  },
  {
   "cell_type": "code",
   "execution_count": 31,
   "metadata": {},
   "outputs": [
    {
     "name": "stdout",
     "output_type": "stream",
     "text": [
      "\n",
      "Path example after step:\n",
      "\t 16-03-18_Sanjay2_kt-pca_done2/te_18032016_1137394_7_2_wip4dflowktpcaretroV4_one_pca/DICOM\n",
      "\n",
      "Subfolder equals ['M'],   contains [],   does not contain []\n",
      "\n",
      "30 of 30 folders contained specified subfolder.\n",
      "\n",
      "Path example after step:\n",
      "\t 16-03-18_Sanjay2_kt-pca_done2/te_18032016_1137394_7_2_wip4dflowktpcaretroV4_one_pca/DICOM/M\n",
      "\n",
      "28 folders contain 1152 files each.\n",
      "\n",
      "2 folders contain 1440 files each.\n",
      "\n",
      "Folders with a differing number of files:\n",
      "\t1440 files: 17-03-15_GJ_Romeijn/4d_22032017_0910594_4_2_wip4dflowktpcaretroV4_PCA/DICOM/M\n",
      "\t1440 files: 17-02-03_Nijveld/4d_03022017_1402026_5_2_wip4dflowktpcaretroV4_PCA/DICOM/M\n",
      "\n",
      "Path example after current step:\n",
      "\t 16-03-18_Sanjay2_kt-pca_done2/te_18032016_1137394_7_2_wip4dflowktpcaretroV4_one_pca/DICOM/M\n"
     ]
    }
   ],
   "source": [
    "aorta_v.up()\n",
    "aorta_v.down(equals=[\"M\"])\n",
    "aorta_v.number_of_files()"
   ]
  },
  {
   "cell_type": "code",
   "execution_count": 32,
   "metadata": {},
   "outputs": [
    {
     "name": "stdout",
     "output_type": "stream",
     "text": [
      "\n",
      "Path example after step:\n",
      "\t 16-03-18_Sanjay2_kt-pca_done2/te_18032016_1137394_7_2_wip4dflowktpcaretroV4_one_pca/DICOM\n",
      "\n",
      "Subfolder equals ['mask'],   contains [],   does not contain []\n",
      "\n",
      "26 of 30 folders contained specified subfolder.\n",
      "\n",
      "Path example after step:\n",
      "\t 16-03-18_Sanjay2_kt-pca_done2/te_18032016_1137394_7_2_wip4dflowktpcaretroV4_one_pca/DICOM/mask\n",
      "\n",
      "24 folders contain 24 files each.\n",
      "\n",
      "2 folders contain 30 files each.\n",
      "\n",
      "Folders with a differing number of files:\n",
      "\t30 files: 17-03-15_GJ_Romeijn/4d_22032017_0910594_4_2_wip4dflowktpcaretroV4_PCA/DICOM/mask\n",
      "\t30 files: 17-02-03_Nijveld/4d_03022017_1402026_5_2_wip4dflowktpcaretroV4_PCA/DICOM/mask\n",
      "\n",
      "Path example after current step:\n",
      "\t 16-03-18_Sanjay2_kt-pca_done2/te_18032016_1137394_7_2_wip4dflowktpcaretroV4_one_pca/DICOM/mask\n"
     ]
    }
   ],
   "source": [
    "aorta_v.up()\n",
    "aorta_v.down(equals=[\"mask\"])\n",
    "aorta_v.number_of_files()"
   ]
  },
  {
   "cell_type": "code",
   "execution_count": 35,
   "metadata": {},
   "outputs": [
    {
     "name": "stdout",
     "output_type": "stream",
     "text": [
      "\n",
      "Subfolder equals [],   contains ['_sense'],   does not contain []\n",
      "\n",
      "17-02-03_Nijveld has multiple subfolders with the specified name:\n",
      "['4d_03022017_1402026_5_2_wip4dflowktpcaretroV4_sense', '4d_03022017_1402026_5_2_wip4dflowktpcaretroV4_sense_dont_use']\n",
      "\n",
      "30 of 34 folders contained specified subfolder.\n",
      "\n",
      "Path example after step:\n",
      "\t 16-03-18_Sanjay2_kt-pca_done2/te_18032016_1137394_7_2_wip4dflowktpcaretroV4_one_sense\n"
     ]
    }
   ],
   "source": [
    "aorta_v.up()\n",
    "aorta_v.up()\n",
    "aorta_v.up()\n",
    "aorta_v.down(contains=[\"_sense\"])\n"
   ]
  },
  {
   "cell_type": "code",
   "execution_count": 37,
   "metadata": {},
   "outputs": [
    {
     "name": "stdout",
     "output_type": "stream",
     "text": [
      "\n",
      "Subfolder equals [],   contains dicom,   does not contain []\n",
      "\n",
      "30 of 30 folders contained specified subfolder.\n",
      "\n",
      "Path example after step:\n",
      "\t 16-03-18_Sanjay2_kt-pca_done2/te_18032016_1137394_7_2_wip4dflowktpcaretroV4_one_sense/DICOM\n"
     ]
    }
   ],
   "source": [
    "aorta_v.down(contains=\"dicom\")\n",
    "aorta_v.sample_down()"
   ]
  },
  {
   "cell_type": "code",
   "execution_count": 39,
   "metadata": {},
   "outputs": [
    {
     "name": "stdout",
     "output_type": "stream",
     "text": [
      "\n",
      "Subfolder equals [],   contains ['pc_mra'],   does not contain []\n",
      "\n",
      "30 of 30 folders contained specified subfolder.\n",
      "\n",
      "Path example after step:\n",
      "\t 16-03-18_Sanjay2_kt-pca_done2/te_18032016_1137394_7_2_wip4dflowktpcaretroV4_one_sense/DICOM/PC_MRA\n"
     ]
    }
   ],
   "source": [
    "aorta_v.down(contains=[\"pc_mra\"])"
   ]
  },
  {
   "cell_type": "code",
   "execution_count": 40,
   "metadata": {},
   "outputs": [
    {
     "name": "stdout",
     "output_type": "stream",
     "text": [
      "\n",
      "28 folders contain 24 files each.\n",
      "\n",
      "2 folders contain 30 files each.\n",
      "\n",
      "Folders with a differing number of files:\n",
      "\t30 files: 17-03-15_GJ_Romeijn/4d_22032017_0910594_4_2_wip4dflowktpcaretroV4_sense/DICOM/PC_MRA\n",
      "\t30 files: 17-02-03_Nijveld/4d_03022017_1402026_5_2_wip4dflowktpcaretroV4_sense/DICOM/PC_MRA\n",
      "\n",
      "Path example after current step:\n",
      "\t 16-03-18_Sanjay2_kt-pca_done2/te_18032016_1137394_7_2_wip4dflowktpcaretroV4_one_sense/DICOM/PC_MRA\n"
     ]
    }
   ],
   "source": [
    "aorta_v.number_of_files()"
   ]
  },
  {
   "cell_type": "markdown",
   "metadata": {},
   "source": [
    "## Aorta BaV"
   ]
  },
  {
   "cell_type": "code",
   "execution_count": 62,
   "metadata": {},
   "outputs": [
    {
     "name": "stdout",
     "output_type": "stream",
     "text": [
      "/home/ptenkaate/lood_storage/divi/Projects/4dflow/4D-flow BAV\n",
      "\n",
      "Current path depth: 16-08-19_119_done1\n",
      "Subfolders:\n",
      "\t ko_19082016_1549079_13_2_wip4dflowktpcaretroV4_sense\n",
      "\t ko_19082016_1549079_13_2_wip4dflowktpcaretroV4_PCA\n"
     ]
    }
   ],
   "source": [
    "root = \"/home/ptenkaate/lood_storage/\"\n",
    "path = \"divi/Projects/4dflow/4D-flow BAV\"\n",
    "subjects_dir = root + path\n",
    "print(subjects_dir)\n",
    "\n",
    "aorta_b = Folder(subjects_dir, subject_substr=\"done\")\n",
    "aorta_b.sample_down(1)\n"
   ]
  },
  {
   "cell_type": "code",
   "execution_count": 63,
   "metadata": {},
   "outputs": [
    {
     "name": "stdout",
     "output_type": "stream",
     "text": [
      "\n",
      "Subfolder equals [],   contains ['_PCA'],   does not contain []\n",
      "\n",
      "23 of 23 folders contained specified subfolder.\n",
      "\n",
      "Path example after step:\n",
      "\t 16-03-23_101_done/ru_23032016_1404331_15_2_wip4dflowktpcaretroV4_PCA\n",
      "\n",
      "Current path depth: 16-03-23_101_done/ru_23032016_1404331_15_2_wip4dflowktpcaretroV4_PCA\n",
      "Subfolders:\n",
      "\t DICOM\n"
     ]
    }
   ],
   "source": [
    "aorta_b.down(contains=[\"_PCA\"]) \n",
    "aorta_b.sample_down()"
   ]
  },
  {
   "cell_type": "code",
   "execution_count": 64,
   "metadata": {},
   "outputs": [
    {
     "name": "stdout",
     "output_type": "stream",
     "text": [
      "\n",
      "Subfolder equals [],   contains ['dicom'],   does not contain []\n",
      "\n",
      "23 of 23 folders contained specified subfolder.\n",
      "\n",
      "Path example after step:\n",
      "\t 16-03-23_101_done/ru_23032016_1404331_15_2_wip4dflowktpcaretroV4_PCA/DICOM\n",
      "\n",
      "Current path depth: 16-03-23_101_done/ru_23032016_1404331_15_2_wip4dflowktpcaretroV4_PCA/DICOM\n",
      "Subfolders:\n",
      "\t results_heatmap\n",
      "\t DICOM\n",
      "\t ROIs\n",
      "\t results_heatmap_velocity_direction\n",
      "\t heat_map_higher_lower_masks_direction_AAo_only\n",
      "\t heat_map_higher_lower_masks_direction\n",
      "\t Aorta_seg-sense\n",
      "\t ROIs_BAV_paper\n",
      "\t results_energy_loss\n",
      "\t dicom_postprocessed\n",
      "\t magnitude_systole\n",
      "\t results_heatmap_wss_direction\n",
      "\t Aorta\n"
     ]
    }
   ],
   "source": [
    "aorta_b.down(contains=[\"dicom\"])\n",
    "aorta_b.sample_down()"
   ]
  },
  {
   "cell_type": "code",
   "execution_count": 65,
   "metadata": {},
   "outputs": [
    {
     "name": "stdout",
     "output_type": "stream",
     "text": [
      "\n",
      "Subfolder equals ['aorta'],   contains [],   does not contain []\n",
      "\n",
      "23 of 23 folders contained specified subfolder.\n",
      "\n",
      "Folders without subfolder\n",
      "\n",
      "Path example after step:\n",
      "\t 16-03-23_101_done/ru_23032016_1404331_15_2_wip4dflowktpcaretroV4_PCA/DICOM/Aorta\n"
     ]
    }
   ],
   "source": [
    "aorta_b.down(equals=[\"aorta\"],print_absent=True)\n",
    "aorta_b.sample_down()"
   ]
  },
  {
   "cell_type": "code",
   "execution_count": 66,
   "metadata": {},
   "outputs": [
    {
     "name": "stdout",
     "output_type": "stream",
     "text": [
      "\n",
      "Current path depth: 16-03-23_101_done/ru_23032016_1404331_15_2_wip4dflowktpcaretroV4_PCA/DICOM/Aorta\n",
      "Subfolders:\n"
     ]
    }
   ],
   "source": [
    "aorta_b.sample_down()"
   ]
  },
  {
   "cell_type": "code",
   "execution_count": null,
   "metadata": {},
   "outputs": [],
   "source": []
  }
 ],
 "metadata": {
  "kernelspec": {
   "display_name": "Python 3.6.8 64-bit",
   "language": "python",
   "name": "python36864bitc17f53f707db4b89be7c32a22adf91a3"
  },
  "language_info": {
   "codemirror_mode": {
    "name": "ipython",
    "version": 3
   },
   "file_extension": ".py",
   "mimetype": "text/x-python",
   "name": "python",
   "nbconvert_exporter": "python",
   "pygments_lexer": "ipython3",
   "version": "3.6.8"
  }
 },
 "nbformat": 4,
 "nbformat_minor": 2
}
