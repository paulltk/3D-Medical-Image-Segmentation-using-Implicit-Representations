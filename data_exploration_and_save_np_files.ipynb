{
 "cells": [
  {
   "cell_type": "code",
   "execution_count": 1,
   "metadata": {},
   "outputs": [
    {
     "name": "stdout",
     "output_type": "stream",
     "text": [
      "Imported classes.\n"
     ]
    }
   ],
   "source": [
    "%run data_classes.ipynb"
   ]
  },
  {
   "cell_type": "markdown",
   "metadata": {},
   "source": [
    "## Carotide"
   ]
  },
  {
   "cell_type": "code",
   "execution_count": 2,
   "metadata": {},
   "outputs": [],
   "source": [
    "root = \"/home/ptenkaate/lood_storage/\"\n",
    "path = \"divi/Projects/afterfifteen/data/recon\"\n",
    "subjects_dir = root + path\n",
    "\n",
    "carotide = Folder(subjects_dir)"
   ]
  },
  {
   "cell_type": "markdown",
   "metadata": {},
   "source": [
    "#### Onderstaande patienten hebben twee segmentaties, die verschillen, hoe kan dat?"
   ]
  },
  {
   "cell_type": "code",
   "execution_count": 3,
   "metadata": {},
   "outputs": [
    {
     "name": "stdout",
     "output_type": "stream",
     "text": [
      "\n",
      "Subfolder equals [],   contains ['4dflow'],   does not contain []\n",
      "\n",
      "AF_0056 has multiple subfolders with the specified name:\n",
      "['seg_4Dflow_PCMRA_vcalukovic', 'af_27012017_1021264_11_2_wip4dflowktpcaprospective15minV4']\n",
      "\n",
      "AF_0114 has multiple subfolders with the specified name:\n",
      "['seg_4Dflow_PCMRA_vcalukovic', 'af_20012017_1024356_11_2_wip4dflowktpcaprospective15minV4']\n",
      "\n",
      "AF_0206 has multiple subfolders with the specified name:\n",
      "['af_07012017_1502256_11_2_wip4dflowktpcaprospective15minV4', 'seg_4Dflow_PCMRA_vcalukovic']\n",
      "\n",
      "AF_0160 has multiple subfolders with the specified name:\n",
      "['af_17032017_0852211_13_2_wip4dflowktpcaprospective15minV4', 'seg_4Dflow_PCMRA_vcalukovic']\n",
      "\n",
      "AF_0012 has multiple subfolders with the specified name:\n",
      "['seg_4Dflow_PCMRA_vcalukovic', 'af_07012017_1027083_11_2_wip4dflowktpcaprospective15minV4']\n",
      "\n",
      "AF_0154 has multiple subfolders with the specified name:\n",
      "['seg_4Dflow_PCMRA_vcalukovic', 'af_20012017_0929551_11_2_wip4dflowktpcaprospective15minV4']\n",
      "\n",
      "AF_0155 has multiple subfolders with the specified name:\n",
      "['seg_4Dflow_PCMRA_vcalukovic', 'af_20012017_0835502_11_2_wip4dflowktpcaprospective15minV4']\n",
      "\n",
      "AF_0093 has multiple subfolders with the specified name:\n",
      "['af_18022017_1442426_11_2_wip4dflowktpcaprospective15minV4', 'seg_4Dflow_PCMRA_vcalukovic']\n",
      "\n",
      "AF_0196 has multiple subfolders with the specified name:\n",
      "['seg_4Dflow_PCMRA_vcalukovic', 'af_07012017_1130512_11_2_wip4dflowktpcaprospective15minV4']\n",
      "\n",
      "234 of 251 folders contained specified subfolder.\n",
      "\n",
      "Path example after step:\n",
      "\t AF_0292/af_28042017_0946492_11_2_wip4dflowktpcaprospective15minV4\n"
     ]
    }
   ],
   "source": [
    "carotide.down(contains=[\"4dflow\"])"
   ]
  },
  {
   "cell_type": "code",
   "execution_count": 4,
   "metadata": {},
   "outputs": [
    {
     "name": "stdout",
     "output_type": "stream",
     "text": [
      "\n",
      "Path example after step:\n",
      "\t AF_0292\n",
      "\n",
      "Subfolder equals [],   contains ['wip4dflow'],   does not contain []\n",
      "\n",
      "234 of 251 folders contained specified subfolder.\n",
      "\n",
      "Path example after step:\n",
      "\t AF_0292/af_28042017_0946492_11_2_wip4dflowktpcaprospective15minV4\n"
     ]
    }
   ],
   "source": [
    "carotide.up()\n",
    "carotide.down(contains=[\"wip4dflow\"])"
   ]
  },
  {
   "cell_type": "code",
   "execution_count": 5,
   "metadata": {},
   "outputs": [
    {
     "name": "stdout",
     "output_type": "stream",
     "text": [
      "\n",
      "Subfolder equals [],   contains ['dicom'],   does not contain []\n",
      "\n",
      "234 of 234 folders contained specified subfolder.\n",
      "\n",
      "Path example after step:\n",
      "\t AF_0292/af_28042017_0946492_11_2_wip4dflowktpcaprospective15minV4/DICOM\n"
     ]
    }
   ],
   "source": [
    "carotide.down(contains=[\"dicom\"])"
   ]
  },
  {
   "cell_type": "code",
   "execution_count": 6,
   "metadata": {},
   "outputs": [
    {
     "name": "stdout",
     "output_type": "stream",
     "text": [
      "\n",
      "Subfolder equals ['pc_mra'],   contains [],   does not contain []\n",
      "\n",
      "234 of 234 folders contained specified subfolder.\n",
      "\n",
      "Path example after step:\n",
      "\t AF_0292/af_28042017_0946492_11_2_wip4dflowktpcaprospective15minV4/DICOM/PC_MRA\n"
     ]
    }
   ],
   "source": [
    "carotide.down(equals=[\"pc_mra\"])"
   ]
  },
  {
   "cell_type": "code",
   "execution_count": 7,
   "metadata": {},
   "outputs": [],
   "source": [
    "save_to = \"/scratch/ptenkaate/Data/Carotide/pcmra\"\n",
    "save_3d_images(carotide, save_to)"
   ]
  },
  {
   "cell_type": "code",
   "execution_count": 8,
   "metadata": {},
   "outputs": [
    {
     "name": "stdout",
     "output_type": "stream",
     "text": [
      "\n",
      "234 folders contain 31 files each.\n"
     ]
    }
   ],
   "source": [
    "carotide.number_of_files()"
   ]
  },
  {
   "cell_type": "code",
   "execution_count": 9,
   "metadata": {},
   "outputs": [
    {
     "name": "stdout",
     "output_type": "stream",
     "text": [
      "\n",
      "Path example after step:\n",
      "\t AF_0292/af_28042017_0946492_11_2_wip4dflowktpcaprospective15minV4/DICOM\n",
      "\n",
      "Subfolder equals [],   contains ['mask_right'],   does not contain ['old']\n",
      "\n",
      "71 of 234 folders contained specified subfolder.\n",
      "\n",
      "Path example after step:\n",
      "\t AF_0013/af_31032017_0842505_11_2_wip4dflowktpcaprospective15minV4/DICOM/Mask_Right\n",
      "\n",
      "71 folders contain 31 files each.\n"
     ]
    }
   ],
   "source": [
    "carotide.up()\n",
    "carotide.down(contains=[\"mask_right\"], does_not_contain=[\"old\"])\n",
    "carotide.number_of_files()"
   ]
  },
  {
   "cell_type": "code",
   "execution_count": 10,
   "metadata": {},
   "outputs": [],
   "source": [
    "save_to = \"/scratch/ptenkaate/Data/Carotide/mask_right\"\n",
    "save_3d_images(carotide, save_to)"
   ]
  },
  {
   "cell_type": "code",
   "execution_count": 11,
   "metadata": {},
   "outputs": [
    {
     "name": "stdout",
     "output_type": "stream",
     "text": [
      "\n",
      "Path example after step:\n",
      "\t AF_0292/af_28042017_0946492_11_2_wip4dflowktpcaprospective15minV4/DICOM\n",
      "\n",
      "Subfolder equals [],   contains ['mask_left'],   does not contain ['old']\n",
      "\n",
      "71 of 234 folders contained specified subfolder.\n",
      "\n",
      "Path example after step:\n",
      "\t AF_0013/af_31032017_0842505_11_2_wip4dflowktpcaprospective15minV4/DICOM/Mask_Left\n",
      "\n",
      "71 folders contain 31 files each.\n"
     ]
    }
   ],
   "source": [
    "carotide.up()\n",
    "carotide.down(contains=[\"mask_left\"], does_not_contain=[\"old\"])\n",
    "carotide.number_of_files()"
   ]
  },
  {
   "cell_type": "code",
   "execution_count": 12,
   "metadata": {},
   "outputs": [],
   "source": [
    "save_to = \"/scratch/ptenkaate/Data/Carotide/mask_left\"\n",
    "save_3d_images(carotide, save_to)"
   ]
  },
  {
   "cell_type": "code",
   "execution_count": 13,
   "metadata": {},
   "outputs": [
    {
     "name": "stdout",
     "output_type": "stream",
     "text": [
      "\n",
      "Path example after step:\n",
      "\t AF_0292/af_28042017_0946492_11_2_wip4dflowktpcaprospective15minV4/DICOM\n",
      "\n",
      "Subfolder equals ['M'],   contains [],   does not contain []\n",
      "\n",
      "234 of 234 folders contained specified subfolder.\n",
      "\n",
      "Path example after step:\n",
      "\t AF_0292/af_28042017_0946492_11_2_wip4dflowktpcaprospective15minV4/DICOM/M\n",
      "\n",
      "234 folders contain 744 files each.\n"
     ]
    }
   ],
   "source": [
    "carotide.up()\n",
    "carotide.down(equals=[\"M\"])\n",
    "carotide.number_of_files()"
   ]
  },
  {
   "cell_type": "markdown",
   "metadata": {},
   "source": [
    "## Aorta Volunteers"
   ]
  },
  {
   "cell_type": "code",
   "execution_count": 84,
   "metadata": {},
   "outputs": [],
   "source": [
    "root = \"/home/ptenkaate/lood_storage/\"\n",
    "path = \"divi/Projects/4dflow/4D-flow Volunteers/Aorta\"\n",
    "subjects_dir = root + path\n",
    "\n",
    "aorta_v = Folder(subjects_dir)"
   ]
  },
  {
   "cell_type": "code",
   "execution_count": 85,
   "metadata": {},
   "outputs": [
    {
     "name": "stdout",
     "output_type": "stream",
     "text": [
      "\n",
      "Subfolder equals [],   contains ['_pca'],   does not contain []\n",
      "\n",
      "30 of 34 folders contained specified subfolder.\n",
      "\n",
      "Folders without subfolder\n",
      "\t 17-03-03, Milo\n",
      "\t 17-11-01_Quintes_student\n",
      "\t results\n",
      "\t 16-11-18_Male24\n",
      "\n",
      "Path example after step:\n",
      "\t 16-03-18_Sanjay2_kt-pca_done2/te_18032016_1137394_7_2_wip4dflowktpcaretroV4_one_pca\n"
     ]
    }
   ],
   "source": [
    "aorta_v.down(contains=[\"_pca\"], print_absent=True)"
   ]
  },
  {
   "cell_type": "code",
   "execution_count": 86,
   "metadata": {},
   "outputs": [
    {
     "name": "stdout",
     "output_type": "stream",
     "text": [
      "\n",
      "Subfolder equals ['dicom'],   contains [],   does not contain []\n",
      "\n",
      "30 of 30 folders contained specified subfolder.\n",
      "\n",
      "Path example after step:\n",
      "\t 16-03-18_Sanjay2_kt-pca_done2/te_18032016_1137394_7_2_wip4dflowktpcaretroV4_one_pca/DICOM\n"
     ]
    }
   ],
   "source": [
    "aorta_v.down(equals=[\"dicom\"])"
   ]
  },
  {
   "cell_type": "markdown",
   "metadata": {},
   "source": [
    "#### Waarom hebben 2 van onderstaande volunteers meer slices in de 3d opname? Zijn de dimensies per slice hier anders?"
   ]
  },
  {
   "cell_type": "code",
   "execution_count": 87,
   "metadata": {},
   "outputs": [
    {
     "name": "stdout",
     "output_type": "stream",
     "text": [
      "\n",
      "Subfolder equals ['mask'],   contains [],   does not contain []\n",
      "\n",
      "26 of 30 folders contained specified subfolder.\n",
      "\n",
      "Folders without subfolder\n",
      "\t 16-02-03 Thijs kt-pca_done/th_03022016_0953583_5_2_wip4dflowktpcaretroV4_pca/DICOM\n",
      "\t 16-01-29 Charlotte kt-pca2_done/ch_29012016_1141535_4_2_wip4dflowktpcaretroV4_pca/DICOM\n",
      "\t 16-02-24 lucas_kt-pca/lu_24022016_0934243_7_2_wip4dflowktpcaretroAortaV4_pca/DICOM\n",
      "\t 16-01-29 Dorien kt-pca2_done/do_29012016_1206249_4_2_wip4dflowktpcaretroV4_pca/DICOM\n",
      "\n",
      "Path example after step:\n",
      "\t 16-03-18_Sanjay2_kt-pca_done2/te_18032016_1137394_7_2_wip4dflowktpcaretroV4_one_pca/DICOM/mask\n",
      "\n",
      "24 folders contain 24 files each.\n",
      "\n",
      "2 folders contain 30 files each.\n"
     ]
    }
   ],
   "source": [
    "# aorta_v.up()\n",
    "aorta_v.down(equals=[\"mask\"], print_absent=True)\n",
    "aorta_v.number_of_files()"
   ]
  },
  {
   "cell_type": "code",
   "execution_count": 88,
   "metadata": {},
   "outputs": [],
   "source": [
    "save_to = \"/scratch/ptenkaate/Data/Aorta Volunteers/mask\"\n",
    "save_3d_images(aorta_v, save_to)"
   ]
  },
  {
   "cell_type": "code",
   "execution_count": 19,
   "metadata": {},
   "outputs": [
    {
     "name": "stdout",
     "output_type": "stream",
     "text": [
      "\n",
      "Path example after step:\n",
      "\t 16-03-18_Sanjay2_kt-pca_done2/te_18032016_1137394_7_2_wip4dflowktpcaretroV4_one_pca/DICOM\n",
      "\n",
      "Subfolder equals ['M'],   contains [],   does not contain []\n",
      "\n",
      "30 of 30 folders contained specified subfolder.\n",
      "\n",
      "Path example after step:\n",
      "\t 16-03-18_Sanjay2_kt-pca_done2/te_18032016_1137394_7_2_wip4dflowktpcaretroV4_one_pca/DICOM/M\n",
      "\n",
      "28 folders contain 1152 files each.\n",
      "\n",
      "2 folders contain 1440 files each.\n"
     ]
    }
   ],
   "source": [
    "aorta_v.up()\n",
    "aorta_v.down(equals=[\"M\"])\n",
    "aorta_v.number_of_files()"
   ]
  },
  {
   "cell_type": "code",
   "execution_count": 20,
   "metadata": {},
   "outputs": [
    {
     "name": "stdout",
     "output_type": "stream",
     "text": [
      "\n",
      "Path example after step:\n",
      "\t 16-03-18_Sanjay2_kt-pca_done2/te_18032016_1137394_7_2_wip4dflowktpcaretroV4_one_pca/DICOM\n",
      "\n",
      "Path example after step:\n",
      "\t 16-03-18_Sanjay2_kt-pca_done2/te_18032016_1137394_7_2_wip4dflowktpcaretroV4_one_pca\n",
      "\n",
      "Path example after step:\n",
      "\t 16-03-18_Sanjay2_kt-pca_done2\n",
      "\n",
      "Subfolder equals [],   contains ['_sense'],   does not contain ['dont_use']\n",
      "\n",
      "30 of 34 folders contained specified subfolder.\n",
      "\n",
      "Path example after step:\n",
      "\t 16-03-18_Sanjay2_kt-pca_done2/te_18032016_1137394_7_2_wip4dflowktpcaretroV4_one_sense\n"
     ]
    }
   ],
   "source": [
    "aorta_v.up()\n",
    "aorta_v.up()\n",
    "aorta_v.up()\n",
    "aorta_v.down(contains=[\"_sense\"], does_not_contain=[\"dont_use\"])"
   ]
  },
  {
   "cell_type": "code",
   "execution_count": 21,
   "metadata": {},
   "outputs": [
    {
     "name": "stdout",
     "output_type": "stream",
     "text": [
      "\n",
      "Subfolder equals [],   contains ['dicom'],   does not contain []\n",
      "\n",
      "30 of 30 folders contained specified subfolder.\n",
      "\n",
      "Path example after step:\n",
      "\t 16-03-18_Sanjay2_kt-pca_done2/te_18032016_1137394_7_2_wip4dflowktpcaretroV4_one_sense/DICOM\n"
     ]
    }
   ],
   "source": [
    "aorta_v.down(contains=[\"dicom\"])\n",
    "# aorta_v.sample_down()"
   ]
  },
  {
   "cell_type": "code",
   "execution_count": 22,
   "metadata": {},
   "outputs": [
    {
     "name": "stdout",
     "output_type": "stream",
     "text": [
      "\n",
      "Subfolder equals [],   contains ['pc_mra'],   does not contain []\n",
      "\n",
      "30 of 30 folders contained specified subfolder.\n",
      "\n",
      "Path example after step:\n",
      "\t 16-03-18_Sanjay2_kt-pca_done2/te_18032016_1137394_7_2_wip4dflowktpcaretroV4_one_sense/DICOM/PC_MRA\n",
      "\n",
      "28 folders contain 24 files each.\n",
      "\n",
      "2 folders contain 30 files each.\n"
     ]
    }
   ],
   "source": [
    "aorta_v.down(contains=[\"pc_mra\"])\n",
    "aorta_v.number_of_files()"
   ]
  },
  {
   "cell_type": "code",
   "execution_count": 23,
   "metadata": {},
   "outputs": [],
   "source": [
    "save_to = \"/scratch/ptenkaate/Data/Aorta Volunteers/pcmra\"\n",
    "save_3d_images(aorta_v, save_to)"
   ]
  },
  {
   "cell_type": "markdown",
   "metadata": {},
   "source": [
    "## Aorta BaV"
   ]
  },
  {
   "cell_type": "code",
   "execution_count": 24,
   "metadata": {},
   "outputs": [
    {
     "name": "stdout",
     "output_type": "stream",
     "text": [
      "/home/ptenkaate/lood_storage/divi/Projects/4dflow/4D-flow BAV\n"
     ]
    }
   ],
   "source": [
    "root = \"/home/ptenkaate/lood_storage/\"\n",
    "path = \"divi/Projects/4dflow/4D-flow BAV\"\n",
    "subjects_dir = root + path\n",
    "print(subjects_dir)\n",
    "\n",
    "aorta_b = Folder(subjects_dir, subject_substr=\"done\")"
   ]
  },
  {
   "cell_type": "code",
   "execution_count": 25,
   "metadata": {},
   "outputs": [
    {
     "name": "stdout",
     "output_type": "stream",
     "text": [
      "\n",
      "Subfolder equals [],   contains ['_PCA'],   does not contain []\n",
      "\n",
      "23 of 23 folders contained specified subfolder.\n",
      "\n",
      "Path example after step:\n",
      "\t 16-03-23_101_done/ru_23032016_1404331_15_2_wip4dflowktpcaretroV4_PCA\n"
     ]
    }
   ],
   "source": [
    "aorta_b.down(contains=[\"_PCA\"]) "
   ]
  },
  {
   "cell_type": "code",
   "execution_count": 26,
   "metadata": {},
   "outputs": [
    {
     "name": "stdout",
     "output_type": "stream",
     "text": [
      "\n",
      "Subfolder equals [],   contains ['dicom'],   does not contain []\n",
      "\n",
      "23 of 23 folders contained specified subfolder.\n",
      "\n",
      "Path example after step:\n",
      "\t 16-03-23_101_done/ru_23032016_1404331_15_2_wip4dflowktpcaretroV4_PCA/DICOM\n"
     ]
    }
   ],
   "source": [
    "aorta_b.down(contains=[\"dicom\"])"
   ]
  },
  {
   "cell_type": "markdown",
   "metadata": {},
   "source": [
    "#### aorta_122_withgap heeft een eerste slice met segmentatie, die in Aorta zelf mist. Bij 121 is er ook enkel een verschil in de eerste slice."
   ]
  },
  {
   "cell_type": "code",
   "execution_count": 27,
   "metadata": {},
   "outputs": [
    {
     "name": "stdout",
     "output_type": "stream",
     "text": [
      "\n",
      "Subfolder equals [],   contains ['aorta'],   does not contain []\n",
      "\n",
      "16-03-23_101_done/ru_23032016_1404331_15_2_wip4dflowktpcaretroV4_PCA/DICOM has multiple subfolders with the specified name:\n",
      "['Aorta_seg-sense', 'Aorta']\n",
      "\n",
      "16-08-26_121_done1/ta_26082016_1145135_18_2_wip4dflowktpcaretroV4_PCA/DICOM has multiple subfolders with the specified name:\n",
      "['Aorta_121', 'Aorta']\n",
      "\n",
      "16-09-02_122_done1/ha_02092016_1121065_4_2_wip4dflowktpcaretroV4_PCA/DICOM has multiple subfolders with the specified name:\n",
      "['Aorta_122_withgap', 'Aorta']\n",
      "\n",
      "23 of 23 folders contained specified subfolder.\n",
      "\n",
      "Folders without subfolder\n",
      "\n",
      "Path example after step:\n",
      "\t 16-03-23_101_done/ru_23032016_1404331_15_2_wip4dflowktpcaretroV4_PCA/DICOM/Aorta_seg-sense\n"
     ]
    }
   ],
   "source": [
    "aorta_b.down(contains=[\"aorta\"],print_absent=True)"
   ]
  },
  {
   "cell_type": "code",
   "execution_count": 28,
   "metadata": {},
   "outputs": [
    {
     "name": "stdout",
     "output_type": "stream",
     "text": [
      "\n",
      "Path example after step:\n",
      "\t 16-03-23_101_done/ru_23032016_1404331_15_2_wip4dflowktpcaretroV4_PCA/DICOM\n",
      "\n",
      "Subfolder equals ['Aorta'],   contains [],   does not contain []\n",
      "\n",
      "23 of 23 folders contained specified subfolder.\n",
      "\n",
      "Path example after step:\n",
      "\t 16-03-23_101_done/ru_23032016_1404331_15_2_wip4dflowktpcaretroV4_PCA/DICOM/Aorta\n"
     ]
    }
   ],
   "source": [
    "aorta_b.up()\n",
    "aorta_b.down(equals=[\"Aorta\"])"
   ]
  },
  {
   "cell_type": "code",
   "execution_count": 29,
   "metadata": {},
   "outputs": [],
   "source": [
    "save_to = \"/scratch/ptenkaate/Data/Aorta BaV/mask\"\n",
    "save_3d_images(aorta_b, save_to)"
   ]
  },
  {
   "cell_type": "markdown",
   "metadata": {},
   "source": [
    "#### waarom verschilt het aantal slices? Is de dimensie per slice wel gelijk?"
   ]
  },
  {
   "cell_type": "code",
   "execution_count": 30,
   "metadata": {},
   "outputs": [
    {
     "name": "stdout",
     "output_type": "stream",
     "text": [
      "\n",
      "2 folders contain 25 files each.\n",
      "\n",
      "6 folders contain 30 files each.\n",
      "\n",
      "1 folders contain 26 files each.\n",
      "\n",
      "13 folders contain 24 files each.\n",
      "\n",
      "1 folders contain 36 files each.\n"
     ]
    }
   ],
   "source": [
    "aorta_b.number_of_files()"
   ]
  },
  {
   "cell_type": "code",
   "execution_count": 31,
   "metadata": {},
   "outputs": [
    {
     "name": "stdout",
     "output_type": "stream",
     "text": [
      "\n",
      "Path example after step:\n",
      "\t 16-03-23_101_done/ru_23032016_1404331_15_2_wip4dflowktpcaretroV4_PCA/DICOM\n",
      "\n",
      "Subfolder equals ['M'],   contains [],   does not contain []\n",
      "\n",
      "21 of 23 folders contained specified subfolder.\n",
      "\n",
      "Folders without subfolder\n",
      "\t 16-03-23_101_done/ru_23032016_1404331_15_2_wip4dflowktpcaretroV4_PCA/DICOM\n",
      "\t 16-08-03_100_done1/ja_03082016_1050555_18_2_wip4dflowktpcaretroV4_PCA/DICOM\n",
      "\n",
      "Path example after step:\n",
      "\t 16-08-19_119_done1/ko_19082016_1549079_13_2_wip4dflowktpcaretroV4_PCA/DICOM/M\n"
     ]
    }
   ],
   "source": [
    "aorta_b.up()\n",
    "aorta_b.down(equals=[\"M\"], print_absent=True)"
   ]
  },
  {
   "cell_type": "markdown",
   "metadata": {},
   "source": [
    "#### hier komt het aantal wel overeen met pc_mra. Dus aantal tijdsstappen is hetzelfde"
   ]
  },
  {
   "cell_type": "code",
   "execution_count": 32,
   "metadata": {},
   "outputs": [
    {
     "name": "stdout",
     "output_type": "stream",
     "text": [
      "\n",
      "6 folders contain 1440 files each.\n",
      "\n",
      "1 folders contain 1248 files each.\n",
      "\n",
      "12 folders contain 1152 files each.\n",
      "\n",
      "1 folders contain 1728 files each.\n",
      "\n",
      "1 folders contain 1200 files each.\n"
     ]
    }
   ],
   "source": [
    "aorta_b.number_of_files()"
   ]
  },
  {
   "cell_type": "code",
   "execution_count": 33,
   "metadata": {},
   "outputs": [
    {
     "name": "stdout",
     "output_type": "stream",
     "text": [
      "\n",
      "Path example after step:\n",
      "\t 16-03-23_101_done/ru_23032016_1404331_15_2_wip4dflowktpcaretroV4_PCA/DICOM\n",
      "\n",
      "Path example after step:\n",
      "\t 16-03-23_101_done/ru_23032016_1404331_15_2_wip4dflowktpcaretroV4_PCA\n",
      "\n",
      "Path example after step:\n",
      "\t 16-03-23_101_done\n",
      "\n",
      "Subfolder equals [],   contains ['_sense'],   does not contain []\n",
      "\n",
      "23 of 23 folders contained specified subfolder.\n",
      "\n",
      "Path example after step:\n",
      "\t 16-03-23_101_done/ru_23032016_1404331_15_2_wip4dflowktpcaretroV4_Sense\n"
     ]
    }
   ],
   "source": [
    "aorta_b.up()\n",
    "aorta_b.up()\n",
    "aorta_b.up()\n",
    "aorta_b.down(contains=[\"_sense\"])"
   ]
  },
  {
   "cell_type": "code",
   "execution_count": 34,
   "metadata": {},
   "outputs": [
    {
     "name": "stdout",
     "output_type": "stream",
     "text": [
      "\n",
      "Subfolder equals [],   contains ['dicom'],   does not contain []\n",
      "\n",
      "23 of 23 folders contained specified subfolder.\n",
      "\n",
      "Path example after step:\n",
      "\t 16-03-23_101_done/ru_23032016_1404331_15_2_wip4dflowktpcaretroV4_Sense/DICOM\n"
     ]
    }
   ],
   "source": [
    "aorta_b.down(contains=[\"dicom\"])\n",
    "# aorta_b.sample_down(3)"
   ]
  },
  {
   "cell_type": "code",
   "execution_count": 35,
   "metadata": {},
   "outputs": [
    {
     "name": "stdout",
     "output_type": "stream",
     "text": [
      "\n",
      "Subfolder equals [],   contains ['pc_mra'],   does not contain []\n",
      "\n",
      "16-07-15_114_done1/be_15072016_1037278_16_2_wip4dflowktpcaretroV4_sense/DICOM has multiple subfolders with the specified name:\n",
      "['PC_MRA', 'PC_MRA_old']\n",
      "\n",
      "23 of 23 folders contained specified subfolder.\n",
      "\n",
      "Path example after step:\n",
      "\t 16-03-23_101_done/ru_23032016_1404331_15_2_wip4dflowktpcaretroV4_Sense/DICOM/PC_MRA\n"
     ]
    }
   ],
   "source": [
    "aorta_b.down(contains=[\"pc_mra\"])"
   ]
  },
  {
   "cell_type": "code",
   "execution_count": 36,
   "metadata": {},
   "outputs": [
    {
     "name": "stdout",
     "output_type": "stream",
     "text": [
      "\n",
      "2 folders contain 25 files each.\n",
      "\n",
      "6 folders contain 30 files each.\n",
      "\n",
      "1 folders contain 26 files each.\n",
      "\n",
      "13 folders contain 24 files each.\n",
      "\n",
      "1 folders contain 36 files each.\n"
     ]
    }
   ],
   "source": [
    "aorta_b.number_of_files()"
   ]
  },
  {
   "cell_type": "code",
   "execution_count": 37,
   "metadata": {},
   "outputs": [],
   "source": [
    "save_to = \"/scratch/ptenkaate/Data/Aorta BaV/pcmra\"\n",
    "save_3d_images(aorta_b, save_to)"
   ]
  },
  {
   "cell_type": "markdown",
   "metadata": {},
   "source": [
    "## Aorta CoA"
   ]
  },
  {
   "cell_type": "code",
   "execution_count": 38,
   "metadata": {},
   "outputs": [
    {
     "name": "stdout",
     "output_type": "stream",
     "text": [
      "/home/ptenkaate/lood_storage/divi/Projects/4dflow/4D-flow CoA\n"
     ]
    }
   ],
   "source": [
    "root = \"/home/ptenkaate/lood_storage/\"\n",
    "path = \"divi/Projects/4dflow/4D-flow CoA\"\n",
    "subjects_dir = root + path\n",
    "print(subjects_dir)\n",
    "\n",
    "aorta_c = Folder(subjects_dir, subject_substr=\"done\")\n",
    "# aorta_c.sample_down(2)"
   ]
  },
  {
   "cell_type": "code",
   "execution_count": 39,
   "metadata": {},
   "outputs": [
    {
     "name": "stdout",
     "output_type": "stream",
     "text": [
      "\n",
      "Subfolder equals [],   contains ['_pca'],   does not contain []\n",
      "\n",
      "43 of 43 folders contained specified subfolder.\n",
      "\n",
      "Path example after step:\n",
      "\t 16-04-01_203_done/wi_01042016_1123584_14_2_wip4dflowktpcaretroV4_pca\n"
     ]
    }
   ],
   "source": [
    "aorta_c.down(contains=[\"_pca\"])\n",
    "# aorta_c.sample_down()"
   ]
  },
  {
   "cell_type": "code",
   "execution_count": 40,
   "metadata": {},
   "outputs": [
    {
     "name": "stdout",
     "output_type": "stream",
     "text": [
      "\n",
      "Subfolder equals [],   contains ['dicom'],   does not contain []\n",
      "\n",
      "43 of 43 folders contained specified subfolder.\n",
      "\n",
      "Path example after step:\n",
      "\t 16-04-01_203_done/wi_01042016_1123584_14_2_wip4dflowktpcaretroV4_pca/DICOM\n"
     ]
    }
   ],
   "source": [
    "aorta_c.down(contains=[\"dicom\"])"
   ]
  },
  {
   "cell_type": "markdown",
   "metadata": {},
   "source": [
    "#### weer meerdere segmentaties, hoe behandel ik deze?"
   ]
  },
  {
   "cell_type": "code",
   "execution_count": 41,
   "metadata": {},
   "outputs": [
    {
     "name": "stdout",
     "output_type": "stream",
     "text": [
      "\n",
      "Subfolder equals [],   contains ['aorta'],   does not contain []\n",
      "\n",
      "16-03-11_204_done/vVe_11032016_1149331_14_2_wip4dflowktpcaretroV4_PCA/DICOM has multiple subfolders with the specified name:\n",
      "['Aorta_metgat', 'Aorta']\n",
      "\n",
      "16-06-17_220_done/sm_17062016_1223277_20_2_4dflowktpcaretroV4_Pca/DICOM has multiple subfolders with the specified name:\n",
      "['Aorta_oud', 'Aorta']\n",
      "\n",
      "16-09-14_242_done1/ro_14092016_1154409_17_2_wip4dflowktpcaretroV4_PCA/DICOM has multiple subfolders with the specified name:\n",
      "['Aorta_empty', 'Aorta']\n",
      "\n",
      "43 of 43 folders contained specified subfolder.\n",
      "\n",
      "Path example after step:\n",
      "\t 16-04-01_203_done/wi_01042016_1123584_14_2_wip4dflowktpcaretroV4_pca/DICOM/Aorta\n"
     ]
    }
   ],
   "source": [
    "aorta_c.down(contains=[\"aorta\"])"
   ]
  },
  {
   "cell_type": "code",
   "execution_count": 42,
   "metadata": {},
   "outputs": [
    {
     "name": "stdout",
     "output_type": "stream",
     "text": [
      "\n",
      "Path example after step:\n",
      "\t 16-04-01_203_done/wi_01042016_1123584_14_2_wip4dflowktpcaretroV4_pca/DICOM\n",
      "\n",
      "Subfolder equals ['Aorta'],   contains [],   does not contain []\n",
      "\n",
      "43 of 43 folders contained specified subfolder.\n",
      "\n",
      "Path example after step:\n",
      "\t 16-04-01_203_done/wi_01042016_1123584_14_2_wip4dflowktpcaretroV4_pca/DICOM/Aorta\n"
     ]
    }
   ],
   "source": [
    "aorta_c.up()\n",
    "aorta_c.down(equals=[\"Aorta\"])"
   ]
  },
  {
   "cell_type": "code",
   "execution_count": 43,
   "metadata": {},
   "outputs": [],
   "source": [
    "save_to = \"/scratch/ptenkaate/Data/Aorta CoA/mask\"\n",
    "save_3d_images(aorta_c, save_to)"
   ]
  },
  {
   "cell_type": "markdown",
   "metadata": {},
   "source": [
    "#### verschil in aantal slices"
   ]
  },
  {
   "cell_type": "code",
   "execution_count": 44,
   "metadata": {},
   "outputs": [
    {
     "name": "stdout",
     "output_type": "stream",
     "text": [
      "\n",
      "28 folders contain 24 files each.\n",
      "\n",
      "13 folders contain 30 files each.\n",
      "\n",
      "1 folders contain 28 files each.\n",
      "\n",
      "1 folders contain 26 files each.\n"
     ]
    }
   ],
   "source": [
    "aorta_c.number_of_files()"
   ]
  },
  {
   "cell_type": "code",
   "execution_count": 45,
   "metadata": {},
   "outputs": [
    {
     "name": "stdout",
     "output_type": "stream",
     "text": [
      "\n",
      "Path example after step:\n",
      "\t 16-04-01_203_done/wi_01042016_1123584_14_2_wip4dflowktpcaretroV4_pca/DICOM\n",
      "\n",
      "Subfolder equals ['M'],   contains [],   does not contain []\n",
      "\n",
      "43 of 43 folders contained specified subfolder.\n",
      "\n",
      "Path example after step:\n",
      "\t 16-04-01_203_done/wi_01042016_1123584_14_2_wip4dflowktpcaretroV4_pca/DICOM/M\n"
     ]
    }
   ],
   "source": [
    "aorta_c.up()\n",
    "aorta_c.down(equals=[\"M\"])"
   ]
  },
  {
   "cell_type": "code",
   "execution_count": 46,
   "metadata": {},
   "outputs": [
    {
     "name": "stdout",
     "output_type": "stream",
     "text": [
      "\n",
      "28 folders contain 1152 files each.\n",
      "\n",
      "13 folders contain 1440 files each.\n",
      "\n",
      "1 folders contain 1344 files each.\n",
      "\n",
      "1 folders contain 1248 files each.\n"
     ]
    }
   ],
   "source": [
    "aorta_c.number_of_files()"
   ]
  },
  {
   "cell_type": "code",
   "execution_count": 47,
   "metadata": {},
   "outputs": [
    {
     "name": "stdout",
     "output_type": "stream",
     "text": [
      "\n",
      "Path example after step:\n",
      "\t 16-04-01_203_done/wi_01042016_1123584_14_2_wip4dflowktpcaretroV4_pca/DICOM\n",
      "\n",
      "Path example after step:\n",
      "\t 16-04-01_203_done/wi_01042016_1123584_14_2_wip4dflowktpcaretroV4_pca\n",
      "\n",
      "Path example after step:\n",
      "\t 16-04-01_203_done\n"
     ]
    }
   ],
   "source": [
    "aorta_c.up()\n",
    "aorta_c.up()\n",
    "aorta_c.up()"
   ]
  },
  {
   "cell_type": "code",
   "execution_count": 48,
   "metadata": {},
   "outputs": [
    {
     "name": "stdout",
     "output_type": "stream",
     "text": [
      "\n",
      "Subfolder equals [],   contains ['_sense'],   does not contain []\n",
      "\n",
      "43 of 43 folders contained specified subfolder.\n",
      "\n",
      "Path example after step:\n",
      "\t 16-04-01_203_done/wi_01042016_1123584_14_2_wip4dflowktpcaretroV4_sense\n"
     ]
    }
   ],
   "source": [
    "aorta_c.down(contains=[\"_sense\"])"
   ]
  },
  {
   "cell_type": "code",
   "execution_count": 49,
   "metadata": {},
   "outputs": [
    {
     "name": "stdout",
     "output_type": "stream",
     "text": [
      "\n",
      "Subfolder equals [],   contains ['dicom'],   does not contain []\n",
      "\n",
      "43 of 43 folders contained specified subfolder.\n",
      "\n",
      "Path example after step:\n",
      "\t 16-04-01_203_done/wi_01042016_1123584_14_2_wip4dflowktpcaretroV4_sense/DICOM\n"
     ]
    }
   ],
   "source": [
    "aorta_c.down(contains=[\"dicom\"])"
   ]
  },
  {
   "cell_type": "code",
   "execution_count": 50,
   "metadata": {},
   "outputs": [
    {
     "name": "stdout",
     "output_type": "stream",
     "text": [
      "\n",
      "Subfolder equals [],   contains ['pc_mra'],   does not contain []\n",
      "\n",
      "43 of 43 folders contained specified subfolder.\n",
      "\n",
      "Path example after step:\n",
      "\t 16-04-01_203_done/wi_01042016_1123584_14_2_wip4dflowktpcaretroV4_sense/DICOM/PC_MRA\n"
     ]
    }
   ],
   "source": [
    "aorta_c.down(contains=[\"pc_mra\"])"
   ]
  },
  {
   "cell_type": "code",
   "execution_count": 51,
   "metadata": {},
   "outputs": [
    {
     "name": "stdout",
     "output_type": "stream",
     "text": [
      "\n",
      "28 folders contain 24 files each.\n",
      "\n",
      "13 folders contain 30 files each.\n",
      "\n",
      "1 folders contain 28 files each.\n",
      "\n",
      "1 folders contain 26 files each.\n"
     ]
    }
   ],
   "source": [
    "aorta_c.number_of_files()"
   ]
  },
  {
   "cell_type": "code",
   "execution_count": 52,
   "metadata": {},
   "outputs": [],
   "source": [
    "save_to = \"/scratch/ptenkaate/Data/Aorta CoA/pcmra\"\n",
    "save_3d_images(aorta_c, save_to)"
   ]
  },
  {
   "cell_type": "markdown",
   "metadata": {},
   "source": [
    "## Aorta RESV"
   ]
  },
  {
   "cell_type": "code",
   "execution_count": 53,
   "metadata": {},
   "outputs": [
    {
     "name": "stdout",
     "output_type": "stream",
     "text": [
      "/home/ptenkaate/lood_storage/divi/Projects/resvcue_marfan/analysis/RESVcue Marfan\n"
     ]
    }
   ],
   "source": [
    "root = \"/home/ptenkaate/lood_storage/\"\n",
    "path = \"divi/Projects/resvcue_marfan/analysis/RESVcue Marfan\"\n",
    "subjects_dir = root + path\n",
    "print(subjects_dir)\n",
    "\n",
    "aorta_r = Folder(subjects_dir, subject_substr=\"RESV\")"
   ]
  },
  {
   "cell_type": "code",
   "execution_count": 54,
   "metadata": {},
   "outputs": [
    {
     "name": "stdout",
     "output_type": "stream",
     "text": [
      "\n",
      "Subfolder equals [],   contains [],   does not contain []\n",
      "\n",
      "RESV_010 has multiple subfolders with the specified name:\n",
      "['V1 05-10-2019', 'V2 10-10-2020']\n",
      "\n",
      "60 of 62 folders contained specified subfolder.\n",
      "\n",
      "Path example after step:\n",
      "\t RESV_015/V1 04-11-2019\n"
     ]
    }
   ],
   "source": [
    "aorta_r.down()"
   ]
  },
  {
   "cell_type": "code",
   "execution_count": 55,
   "metadata": {},
   "outputs": [
    {
     "name": "stdout",
     "output_type": "stream",
     "text": [
      "\n",
      "Subfolder equals [],   contains ['segmentatie'],   does not contain []\n",
      "\n",
      "57 of 60 folders contained specified subfolder.\n",
      "\n",
      "Folders without subfolder\n",
      "\t RESV_022/V1 04-01-2020\n",
      "\t RESV_019/V1 03-07-2019\n",
      "\t RESV_024/V1 21-10-2019\n",
      "\n",
      "Path example after step:\n",
      "\t RESV_015/V1 04-11-2019/Segmentatie\n"
     ]
    }
   ],
   "source": [
    "aorta_r.down(contains=[\"segmentatie\"], print_absent=True)"
   ]
  },
  {
   "cell_type": "markdown",
   "metadata": {},
   "source": [
    "#### weer verschil in aantal slices. Zijn dimensies hetzelfde?"
   ]
  },
  {
   "cell_type": "code",
   "execution_count": 56,
   "metadata": {},
   "outputs": [
    {
     "name": "stdout",
     "output_type": "stream",
     "text": [
      "\n",
      "15 folders contain 30 files each.\n",
      "\n",
      "40 folders contain 24 files each.\n",
      "\n",
      "2 folders contain 0 files each.\n"
     ]
    }
   ],
   "source": [
    "aorta_r.number_of_files()"
   ]
  },
  {
   "cell_type": "code",
   "execution_count": 57,
   "metadata": {},
   "outputs": [],
   "source": [
    "save_to = \"/scratch/ptenkaate/Data/Aorta Resque/mask\"\n",
    "save_3d_images(aorta_r, save_to)"
   ]
  },
  {
   "cell_type": "code",
   "execution_count": 58,
   "metadata": {},
   "outputs": [
    {
     "name": "stdout",
     "output_type": "stream",
     "text": [
      "\n",
      "Path example after step:\n",
      "\t RESV_015/V1 04-11-2019\n",
      "\n",
      "Subfolder equals [],   contains ['4d flow'],   does not contain []\n",
      "\n",
      "RESV_020/V1 24-08-2019 has multiple subfolders with the specified name:\n",
      "['4D flow recon out - opnieuw geroncstrueerd', '4D flow recon out']\n",
      "\n",
      "57 of 60 folders contained specified subfolder.\n",
      "\n",
      "Folders without subfolder\n",
      "\t RESV_022/V1 04-01-2020\n",
      "\t RESV_019/V1 03-07-2019\n",
      "\t RESV_024/V1 21-10-2019\n",
      "\n",
      "Path example after step:\n",
      "\t RESV_015/V1 04-11-2019/4D flow recon out\n"
     ]
    }
   ],
   "source": [
    "aorta_r.up()\n",
    "aorta_r.down(contains=[\"4d flow\"], print_absent=True)"
   ]
  },
  {
   "cell_type": "code",
   "execution_count": 59,
   "metadata": {},
   "outputs": [
    {
     "name": "stdout",
     "output_type": "stream",
     "text": [
      "\n",
      "Subfolder equals [],   contains [],   does not contain []\n",
      "\n",
      "RESV_205/V1 07-11-2020/4D flow recon out has multiple subfolders with the specified name:\n",
      "['DICOM', 'DICOM_PCMRA']\n",
      "\n",
      "RESV_111/V1 04-11-2020/4D flow recon out has multiple subfolders with the specified name:\n",
      "['DICOM', 'DICOM_PCMRA']\n",
      "\n",
      "RESV_204/V1 24-10-2020/4D flow recon out has multiple subfolders with the specified name:\n",
      "['DICOM', 'DICOM_PCMRA']\n",
      "\n",
      "56 of 57 folders contained specified subfolder.\n",
      "\n",
      "Folders without subfolder\n",
      "\t RESV_010/V1 05-10-2019/4D flow recon out\n",
      "\n",
      "Path example after step:\n",
      "\t RESV_015/V1 04-11-2019/4D flow recon out/re_04112019_1516-out\n"
     ]
    }
   ],
   "source": [
    "aorta_r.down(print_absent=True)"
   ]
  },
  {
   "cell_type": "code",
   "execution_count": 60,
   "metadata": {},
   "outputs": [
    {
     "data": {
      "text/plain": [
       "['RESV_015/V1 04-11-2019/4D flow recon out/re_04112019_1516-out',\n",
       " 'RESV_026/V1 08-02-2020/4D flow recon out/7890_20200208_095146',\n",
       " 'RESV_306/V1 22-02-2020/4D flow recon out/RESV306_20200222_135330',\n",
       " 'RESV_110/V1 24-10-2020/4D flow recon out/RESV110_20201024_120328',\n",
       " 'RESV_308/V1 04-07-2020/4D flow recon out/RESV308_20200704_102458',\n",
       " 'RESV_104/V1 29-08-2020/4D flow recon out/RESV104_20200829_120156',\n",
       " 'RESV_312/V1 03-10-2020/4D flow recon out/RESV312_20201003_135713',\n",
       " 'RESV_203/V1 15-08-2020/4D flow recon out/RESV203_20200815_120400',\n",
       " 'RESV_201/V1 20-06-2020/4D flow recon out/RESV201_20200620_122916',\n",
       " 'RESV_600/V1 10-10-2020/4D flow recon out/RESV600_20201010_092904',\n",
       " 'RESV_105/V1 15-08-2020/4D flow recon out/RESV105_20200815_101923',\n",
       " 'RESV_310/V1 29-08-2020/4D flow recon out/RESV310_20200829_093535',\n",
       " 'RESV_027/V1 22-02-2020/4D flow recon out/RESV027_20200222_090235',\n",
       " 'RESV_309/V1 12-09-2020/4D flow recon out/RESV309_20200912_115841',\n",
       " 'RESV_017/V1 11-07-2020/4D flow recon out/RESV017_20200711_112240',\n",
       " 'RESV_304/V1 08-02-2020/4D flow recon out/8527_20200208_120508',\n",
       " 'RESV_102/V1 08-02-2020/4D flow recon out/7895_20200208_080121',\n",
       " 'RESV_200/V1 04-07-2020/4D flow recon out/RESV200_20200704_120432',\n",
       " 'RESV_301/V1 18-01-2020/4D flow recon out/1235_20200118_095121',\n",
       " 'RESV_002/V1 17-08-2020/4D flow recon out/RESV002_20200817_143528',\n",
       " 'RESV_100/V1 18-01-2020/4D flow recon out/8521_20200118_120322',\n",
       " 'RESV_023/V1 18-01-2020/4D flow recon out/7895_20200118_125651',\n",
       " 'RESV_028/V1 05-10-2019/4D flow recon out/re_05102019_1230-out',\n",
       " 'RESV_012/V1 24-08-2019/4D flow recon out/recon_out_RESVcue_20190824_3',\n",
       " 'RESV_014/V1 20-06-2019/4D flow recon out/recon_out_PROUD_4Dflow',\n",
       " 'RESV_311/V1 19-08-2020/4D flow recon out/RESV311_20200819_145409',\n",
       " 'RESV_007/V1 20-08-2019/4D flow recon out/1236_20190820_160213',\n",
       " 'RESV_205/V1 07-11-2020/4D flow recon out/DICOM',\n",
       " 'RESV_305/V1 15-07-2020/4D flow recon out/RESV305_20200715_153606',\n",
       " 'RESV_108/V1 12-09-2020/4D flow recon out/RESV108_20200912_102509',\n",
       " 'RESV_111/V1 04-11-2020/4D flow recon out/DICOM',\n",
       " 'RESV_011/V1 24-08-2019/4D flow recon out/recon_out_RESVcue_20190824_4',\n",
       " 'RESV_101/V1 08-02-2020/4D flow recon out/7532_20200208_125859',\n",
       " 'RESV_021/V1 20-06-2020/4D flow recon out/RESV021_20200620_142046',\n",
       " 'RESV_107/V1 15-08-2020/4D flow recon out/RESV107_20200815_140035',\n",
       " 'RESV_006/V1 24-08-2019/4D flow recon out/recon_out_RESVcue_20190824_1',\n",
       " 'RESV_307/V1 20-06-2020/4D flow recon out/RESV307_20200620_101733',\n",
       " 'RESV_003/V1 18-01-2020/4D flow recon out/7896_20200118_110759',\n",
       " 'RESV_020/V1 24-08-2019/4D flow recon out - opnieuw geroncstrueerd/RESV020_20190824_110416',\n",
       " 'RESV_005/V1 27-01-2020/4D flow recon out/RESV_05_20200127_152439',\n",
       " 'RESV_001/V1 21-10-2019/4D flow recon out/re_21102019_1526-out',\n",
       " 'RESV_202/V1 22-02-2020/4D flow recon out/RESV202_20200222_124742',\n",
       " 'RESV_009/V1 29-08-2020/4D flow recon out/RESV009_20200829_131141',\n",
       " 'RESV_303/V1 04-07-2020/4D flow recon out/RESV303_20200704_132641',\n",
       " 'RESV_103/V1 22-02-2020/4D flow recon out/RESV103_20200222_112038',\n",
       " 'RESV_004/V1 18-01-2020/4D flow recon out/9514_20200118_135408',\n",
       " 'RESV_018/V1 05-10-2019/4D flow recon out/re_05102019_1444-out',\n",
       " 'RESV_025/V1 08-02-2020/4D flow recon out/9857_20200208_111143',\n",
       " 'RESV_013/V1 27-03-2019/4D flow recon out/1016_20190327_152019',\n",
       " 'RESV_016/V1 05-10-2019/4D flow recon out/re_05102019_1122-out',\n",
       " 'RESV_109/V1 03-10-2020/4D flow recon out/RESV109_20201003_111527',\n",
       " 'RESV_008/V1 05-10-2019/4D flow recon out/re_05102019_1323-out',\n",
       " 'RESV_029/V1 09-12-2019/4D flow recon out/re_09122019_1504-out',\n",
       " 'RESV_302/V1 22-02-2020/4D flow recon out/RESV302_20200222_101238',\n",
       " 'RESV_106/V1 22-02-2020/4D flow recon out/RESV106_20200222_144258',\n",
       " 'RESV_204/V1 24-10-2020/4D flow recon out/DICOM']"
      ]
     },
     "execution_count": 60,
     "metadata": {},
     "output_type": "execute_result"
    }
   ],
   "source": [
    "aorta_r.subfolders"
   ]
  },
  {
   "cell_type": "code",
   "execution_count": 61,
   "metadata": {
    "scrolled": true
   },
   "outputs": [
    {
     "name": "stdout",
     "output_type": "stream",
     "text": [
      "\n",
      "Subfolder equals [],   contains ['dicom_pcmra'],   does not contain []\n",
      "\n",
      "49 of 56 folders contained specified subfolder.\n",
      "\n",
      "Folders without subfolder\n",
      "\t RESV_012/V1 24-08-2019/4D flow recon out/recon_out_RESVcue_20190824_3\n",
      "\t RESV_014/V1 20-06-2019/4D flow recon out/recon_out_PROUD_4Dflow\n",
      "\t RESV_205/V1 07-11-2020/4D flow recon out/DICOM\n",
      "\t RESV_111/V1 04-11-2020/4D flow recon out/DICOM\n",
      "\t RESV_011/V1 24-08-2019/4D flow recon out/recon_out_RESVcue_20190824_4\n",
      "\t RESV_006/V1 24-08-2019/4D flow recon out/recon_out_RESVcue_20190824_1\n",
      "\t RESV_204/V1 24-10-2020/4D flow recon out/DICOM\n",
      "\n",
      "Path example after step:\n",
      "\t RESV_015/V1 04-11-2019/4D flow recon out/re_04112019_1516-out/DICOM_PCMRA\n"
     ]
    }
   ],
   "source": [
    "aorta_r.down(contains=[\"dicom_pcmra\"], print_absent=True)"
   ]
  },
  {
   "cell_type": "code",
   "execution_count": 62,
   "metadata": {},
   "outputs": [
    {
     "name": "stdout",
     "output_type": "stream",
     "text": [
      "\n",
      "Subfolder equals [],   contains ['pcmra'],   does not contain []\n",
      "\n",
      "49 of 49 folders contained specified subfolder.\n",
      "\n",
      "Folders without subfolder\n",
      "\n",
      "Path example after step:\n",
      "\t RESV_015/V1 04-11-2019/4D flow recon out/re_04112019_1516-out/DICOM_PCMRA/PCMRA\n"
     ]
    }
   ],
   "source": [
    "aorta_r.down(contains=[\"pcmra\"], print_absent=True)"
   ]
  },
  {
   "cell_type": "markdown",
   "metadata": {},
   "source": [
    "#### Dit waren de getallen voor segmentatie:\n",
    "\n",
    "15 folders contain 30 files each.\n",
    "\n",
    "40 folders contain 24 files each.\n",
    "\n",
    "2 folders contain 0 files each.\n",
    "\n",
    "#### Komst niet overeen met de PCMRA, wat gebeurt er."
   ]
  },
  {
   "cell_type": "code",
   "execution_count": 63,
   "metadata": {},
   "outputs": [
    {
     "name": "stdout",
     "output_type": "stream",
     "text": [
      "\n",
      "8 folders contain 61 files each.\n",
      "\n",
      "16 folders contain 49 files each.\n",
      "\n",
      "17 folders contain 24 files each.\n",
      "\n",
      "8 folders contain 30 files each.\n"
     ]
    }
   ],
   "source": [
    "aorta_r.number_of_files()"
   ]
  },
  {
   "cell_type": "code",
   "execution_count": 64,
   "metadata": {},
   "outputs": [],
   "source": [
    "save_to = \"/scratch/ptenkaate/Data/Aorta Resque/pcmra\"\n",
    "save_3d_images(aorta_r, save_to)"
   ]
  },
  {
   "cell_type": "markdown",
   "metadata": {},
   "source": [
    "## Heart LUMC"
   ]
  },
  {
   "cell_type": "code",
   "execution_count": 65,
   "metadata": {},
   "outputs": [
    {
     "name": "stdout",
     "output_type": "stream",
     "text": [
      "/home/ptenkaate/lood_storage/divi/Projects/4dflowimpulse/Pilot study with LUMC/Scans\n"
     ]
    }
   ],
   "source": [
    "root = \"/home/ptenkaate/lood_storage/\"\n",
    "path = \"divi/Projects/4dflowimpulse/Pilot study with LUMC/Scans\"\n",
    "subjects_dir = root + path\n",
    "print(subjects_dir)\n",
    "\n",
    "heart_l = Folder(subjects_dir, subject_substr=\"PROUD\")"
   ]
  },
  {
   "cell_type": "code",
   "execution_count": 66,
   "metadata": {},
   "outputs": [
    {
     "name": "stdout",
     "output_type": "stream",
     "text": [
      "\n",
      "Subfolder equals [],   contains ['segm'],   does not contain []\n",
      "\n",
      "12 of 12 folders contained specified subfolder.\n",
      "\n",
      "Path example after step:\n",
      "\t 20181113_EPI-PROUD/SEGM\n"
     ]
    }
   ],
   "source": [
    "heart_l.down(contains=[\"segm\"])"
   ]
  },
  {
   "cell_type": "code",
   "execution_count": 67,
   "metadata": {},
   "outputs": [
    {
     "name": "stdout",
     "output_type": "stream",
     "text": [
      "\n",
      "Subfolder equals [],   contains ['proud'],   does not contain []\n",
      "\n",
      "11 of 12 folders contained specified subfolder.\n",
      "\n",
      "Folders without subfolder\n",
      "\t 20181210_EPI-PROUD/PROUD SEGM\n",
      "\n",
      "Path example after step:\n",
      "\t 20181113_EPI-PROUD/SEGM/PROUD SEGM\n"
     ]
    }
   ],
   "source": [
    "heart_l.down(contains=['proud'], print_absent=True)"
   ]
  },
  {
   "cell_type": "code",
   "execution_count": 68,
   "metadata": {},
   "outputs": [
    {
     "name": "stdout",
     "output_type": "stream",
     "text": [
      "\n",
      "9 folders contain 35 files each.\n",
      "\n",
      "1 folders contain 40 files each.\n",
      "\n",
      "1 folders contain 37 files each.\n"
     ]
    }
   ],
   "source": [
    "heart_l.number_of_files()"
   ]
  },
  {
   "cell_type": "code",
   "execution_count": 69,
   "metadata": {},
   "outputs": [],
   "source": [
    "save_to = \"/scratch/ptenkaate/Data/Heart LUMC/mask\"\n",
    "save_3d_images(heart_l, save_to)"
   ]
  },
  {
   "cell_type": "code",
   "execution_count": 70,
   "metadata": {},
   "outputs": [
    {
     "name": "stdout",
     "output_type": "stream",
     "text": [
      "\n",
      "Path example after step:\n",
      "\t 20181113_EPI-PROUD/SEGM\n",
      "\n",
      "Path example after step:\n",
      "\t 20181113_EPI-PROUD\n"
     ]
    }
   ],
   "source": [
    "heart_l.up()\n",
    "heart_l.up()"
   ]
  },
  {
   "cell_type": "code",
   "execution_count": 71,
   "metadata": {},
   "outputs": [
    {
     "name": "stdout",
     "output_type": "stream",
     "text": [
      "\n",
      "Subfolder equals [],   contains ['4d flow'],   does not contain []\n",
      "\n",
      "12 of 12 folders contained specified subfolder.\n",
      "\n",
      "Folders without subfolder\n",
      "\n",
      "Path example after step:\n",
      "\t 20181113_EPI-PROUD/4D flow\n"
     ]
    }
   ],
   "source": [
    "heart_l.down(contains=['4d flow'], print_absent=True)"
   ]
  },
  {
   "cell_type": "code",
   "execution_count": 72,
   "metadata": {},
   "outputs": [
    {
     "name": "stdout",
     "output_type": "stream",
     "text": [
      "\n",
      "Subfolder equals [],   contains ['proud'],   does not contain []\n",
      "\n",
      "20181031_EPI-PROUD/4D flow has multiple subfolders with the specified name:\n",
      "['recon_out_20181031_PROUD_1_noNC', 'recon_out_20181031_1_PROUD_nc100']\n",
      "\n",
      "20181031_EPI-PROUD_2/4D flow has multiple subfolders with the specified name:\n",
      "['recon_out_20181031_2_PROUD_NCpcmra', 'recon_out_20181031_2_PROUD_nc100']\n",
      "\n",
      "20181029_2_EPI-PROUD/4D flow has multiple subfolders with the specified name:\n",
      "['recon_out_20181029_2_PROUD_noNC', 'recon_out_20181029_2_PROUD_nc100']\n",
      "\n",
      "12 of 12 folders contained specified subfolder.\n",
      "\n",
      "Path example after step:\n",
      "\t 20181113_EPI-PROUD/4D flow/recon_out_20181113_PROUD_noNC\n"
     ]
    }
   ],
   "source": [
    "heart_l.down(contains=[\"proud\"])"
   ]
  },
  {
   "cell_type": "code",
   "execution_count": 73,
   "metadata": {},
   "outputs": [],
   "source": [
    "# heart_l.subfolders"
   ]
  },
  {
   "cell_type": "markdown",
   "metadata": {},
   "source": [
    "#### Wat is het verschil tussen deze twee?"
   ]
  },
  {
   "cell_type": "code",
   "execution_count": 74,
   "metadata": {},
   "outputs": [
    {
     "name": "stdout",
     "output_type": "stream",
     "text": [
      "\n",
      "Subfolder equals [],   contains ['pcmra'],   does not contain []\n",
      "\n",
      "20181113_EPI-PROUD/4D flow/recon_out_20181113_PROUD_noNC has multiple subfolders with the specified name:\n",
      "['PCMRA', 'NC-PCMRA']\n",
      "\n",
      "20181212_EPI-PROUD/4D flow/recon_out_20181212_PROUD has multiple subfolders with the specified name:\n",
      "['PCMRA', 'NC-PCMRA']\n",
      "\n",
      "20181128_EPI-PROUD/4D flow/recon_out_20181128_PROUD_2pcmra has multiple subfolders with the specified name:\n",
      "['PCMRA', 'NC-PCMRA']\n",
      "\n",
      "20181115_2_EPI-PROUD/4D flow/recon_out_20181115_2_PROUD_NCpcmra has multiple subfolders with the specified name:\n",
      "['PCMRA', 'NC-PCMRA']\n",
      "\n",
      "20181210_EPI-PROUD/4D flow/recon_out_20181210_1_PROUD_NCpcmra has multiple subfolders with the specified name:\n",
      "['PCMRA', 'NC-PCMRA', 'NC-PCMRA_threshold150']\n",
      "\n",
      "20181211_EPI-PROUD/4D flow/recon_out_20181211_PROUD has multiple subfolders with the specified name:\n",
      "['PCMRA', 'NC-PCMRA']\n",
      "\n",
      "12 of 12 folders contained specified subfolder.\n",
      "\n",
      "Path example after step:\n",
      "\t 20181113_EPI-PROUD/4D flow/recon_out_20181113_PROUD_noNC/PCMRA\n"
     ]
    }
   ],
   "source": [
    "heart_l.down(contains=[\"pcmra\"])"
   ]
  },
  {
   "cell_type": "code",
   "execution_count": 75,
   "metadata": {},
   "outputs": [
    {
     "name": "stdout",
     "output_type": "stream",
     "text": [
      "\n",
      "Subfolder equals [],   contains [],   does not contain []\n",
      "\n",
      "12 of 12 folders contained specified subfolder.\n",
      "\n",
      "Path example after step:\n",
      "\t 20181113_EPI-PROUD/4D flow/recon_out_20181113_PROUD_noNC/PCMRA/DICOM\n"
     ]
    }
   ],
   "source": [
    "heart_l.down()"
   ]
  },
  {
   "cell_type": "code",
   "execution_count": 76,
   "metadata": {},
   "outputs": [
    {
     "name": "stdout",
     "output_type": "stream",
     "text": [
      "\n",
      "10 folders contain 70 files each.\n",
      "\n",
      "1 folders contain 80 files each.\n",
      "\n",
      "1 folders contain 74 files each.\n"
     ]
    }
   ],
   "source": [
    "heart_l.number_of_files()"
   ]
  },
  {
   "cell_type": "code",
   "execution_count": 77,
   "metadata": {},
   "outputs": [],
   "source": [
    "save_to = \"/scratch/ptenkaate/Data/Heart LUMC/pcmra\"\n",
    "save_3d_images(heart_l, save_to)"
   ]
  },
  {
   "cell_type": "markdown",
   "metadata": {},
   "source": [
    "## Heart Vital"
   ]
  },
  {
   "cell_type": "code",
   "execution_count": 78,
   "metadata": {},
   "outputs": [
    {
     "name": "stdout",
     "output_type": "stream",
     "text": [
      "/home/ptenkaate/lood_storage/divi/Projects/cs_4dflow/project_VitalEyeComparisonClinical/data\n",
      "\n",
      "Current path depth: subject_29\n",
      "Subfolders:\n",
      "\t recon_out_subject_29_none\n",
      "\t recon_out_subject_29_RNAV\n",
      "\t recon_out_subject_29_VE\n",
      "\t recon_out_subject_29_noGating_nonwrap\n"
     ]
    }
   ],
   "source": [
    "root = \"/home/ptenkaate/lood_storage/\"\n",
    "path = \"divi/Projects/cs_4dflow/project_VitalEyeComparisonClinical/data\"\n",
    "subjects_dir = root + path\n",
    "print(subjects_dir)\n",
    "\n",
    "heart_v = Folder(subjects_dir)\n",
    "heart_v.sample_down(2)"
   ]
  },
  {
   "cell_type": "code",
   "execution_count": 79,
   "metadata": {},
   "outputs": [
    {
     "name": "stdout",
     "output_type": "stream",
     "text": [
      "\n",
      "Subfolder equals [],   contains ['segm'],   does not contain []\n",
      "\n",
      "4 of 32 folders contained specified subfolder.\n",
      "\n",
      "Path example after step:\n",
      "\t subject_07/segm_sub07\n"
     ]
    },
    {
     "data": {
      "text/plain": [
       "['subject_07/segm_sub07',\n",
       " 'subject_01/segm_sub01',\n",
       " 'subject_13/Z_SEGM',\n",
       " 'subject_02/segm_sub02']"
      ]
     },
     "execution_count": 79,
     "metadata": {},
     "output_type": "execute_result"
    }
   ],
   "source": [
    "heart_v.down(contains=[\"segm\"])\n",
    "heart_v.subfolders"
   ]
  },
  {
   "cell_type": "code",
   "execution_count": 80,
   "metadata": {},
   "outputs": [
    {
     "name": "stdout",
     "output_type": "stream",
     "text": [
      "\n",
      "Path example after step:\n",
      "\t subject_17\n"
     ]
    }
   ],
   "source": [
    "heart_v.up()"
   ]
  },
  {
   "cell_type": "code",
   "execution_count": 81,
   "metadata": {},
   "outputs": [
    {
     "name": "stdout",
     "output_type": "stream",
     "text": [
      "\n",
      "Subfolder equals [],   contains ['VE'],   does not contain []\n",
      "\n",
      "subject_30 has multiple subfolders with the specified name:\n",
      "['recon_out_subject_30_VE', 'zzz_recon_out_subject_30_VE_unflipped']\n",
      "\n",
      "32 of 32 folders contained specified subfolder.\n",
      "\n",
      "Path example after step:\n",
      "\t subject_17/recon_out_subject_17_VE\n"
     ]
    }
   ],
   "source": [
    "heart_v.down(contains=[\"VE\"])\n"
   ]
  },
  {
   "cell_type": "code",
   "execution_count": 82,
   "metadata": {},
   "outputs": [
    {
     "name": "stdout",
     "output_type": "stream",
     "text": [
      "\n",
      "Subfolder equals [],   contains ['pcmra'],   does not contain []\n",
      "\n",
      "32 of 32 folders contained specified subfolder.\n",
      "\n",
      "Path example after step:\n",
      "\t subject_17/recon_out_subject_17_VE/PCMRA\n"
     ]
    }
   ],
   "source": [
    "heart_v.down(contains=[\"pcmra\"])\n"
   ]
  },
  {
   "cell_type": "code",
   "execution_count": 83,
   "metadata": {},
   "outputs": [
    {
     "name": "stdout",
     "output_type": "stream",
     "text": [
      "\n",
      "11 folders contain 63 files each.\n",
      "\n",
      "16 folders contain 56 files each.\n",
      "\n",
      "4 folders contain 49 files each.\n",
      "\n",
      "1 folders contain 84 files each.\n"
     ]
    }
   ],
   "source": [
    "heart_v.number_of_files()"
   ]
  },
  {
   "cell_type": "code",
   "execution_count": null,
   "metadata": {},
   "outputs": [],
   "source": []
  }
 ],
 "metadata": {
  "kernelspec": {
   "display_name": "Python 3.6.8 64-bit",
   "language": "python",
   "name": "python36864bitc17f53f707db4b89be7c32a22adf91a3"
  },
  "language_info": {
   "codemirror_mode": {
    "name": "ipython",
    "version": 3
   },
   "file_extension": ".py",
   "mimetype": "text/x-python",
   "name": "python",
   "nbconvert_exporter": "python",
   "pygments_lexer": "ipython3",
   "version": "3.6.8"
  }
 },
 "nbformat": 4,
 "nbformat_minor": 2
}
