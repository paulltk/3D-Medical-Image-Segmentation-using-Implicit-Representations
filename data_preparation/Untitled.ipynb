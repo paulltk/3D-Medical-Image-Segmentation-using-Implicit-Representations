{
 "cells": [
  {
   "cell_type": "code",
   "execution_count": 93,
   "metadata": {},
   "outputs": [],
   "source": [
    "import numpy as np \n",
    "import os \n",
    "import matplotlib.pyplot as plt\n",
    "import time\n",
    "\n",
    "import scipy\n",
    "import scipy.ndimage\n",
    "from scipy.ndimage import zoom\n",
    "\n",
    "import itertools as it"
   ]
  },
  {
   "cell_type": "code",
   "execution_count": 3,
   "metadata": {},
   "outputs": [
    {
     "name": "stdout",
     "output_type": "stream",
     "text": [
      "['original_normalized', 'scaled_normalized', 'original_normalized_rotated', 'scaled_normalized_rotated']\n"
     ]
    }
   ],
   "source": [
    "root = \"/home/ptenkaate/scratch/Master-Thesis/Dataset\"\n",
    "folders = os.listdir(root)\n",
    "print(folders)"
   ]
  },
  {
   "cell_type": "code",
   "execution_count": 106,
   "metadata": {},
   "outputs": [],
   "source": [
    "for folder in folders: \n",
    "    load_path = os.path.join(root, folder)\n",
    "    \n",
    "    for file in os.listdir(load_path):\n",
    "        if \"mask\" in file:\n",
    "            image = np.load(os.path.join(load_path, file))\n",
    "            break\n",
    "    "
   ]
  },
  {
   "cell_type": "code",
   "execution_count": 107,
   "metadata": {},
   "outputs": [
    {
     "name": "stdout",
     "output_type": "stream",
     "text": [
      "(64, 64, 24)\n"
     ]
    }
   ],
   "source": [
    "print(image.shape)"
   ]
  },
  {
   "cell_type": "code",
   "execution_count": 9,
   "metadata": {},
   "outputs": [],
   "source": [
    "from scipy.spatial import distance"
   ]
  },
  {
   "cell_type": "code",
   "execution_count": 94,
   "metadata": {},
   "outputs": [
    {
     "name": "stdout",
     "output_type": "stream",
     "text": [
      "(393216, 3)\n",
      "(393216, 3)\n",
      "39.42471981048584\n"
     ]
    }
   ],
   "source": [
    "a = np.array([[0, 0, 0],\n",
    "\n",
    "              [0, 0, 1],\n",
    "\n",
    "              [0, 1, 0],\n",
    "\n",
    "              [0, 1, 1],\n",
    "\n",
    "              [1, 0, 0],\n",
    "\n",
    "              [1, 0, 1],\n",
    "\n",
    "              [1, 1, 0],\n",
    "\n",
    "              [1, 1, 1]])\n",
    "\n",
    "a = np.random.rand(128*128*24, 3)\n",
    "print(a.shape)\n",
    "\n",
    "b = np.random.rand(2000*4, 3)\n",
    "print(a.shape)\n",
    "\n",
    "# b = np.array([[ 0.1,  0.2,  0.4]])\n",
    "t = time.time()\n",
    "distance.cdist(a, b)\n",
    "print(time.time() - t)"
   ]
  },
  {
   "cell_type": "code",
   "execution_count": 99,
   "metadata": {},
   "outputs": [],
   "source": [
    "def get_coords(*sidelengths):\n",
    "    tensors = []\n",
    "\n",
    "    for sidelen in sidelengths:\n",
    "        tensors.append(torch.linspace(0, sidelen-1, steps=sidelen))\n",
    "\n",
    "    tensors = tuple(tensors)\n",
    "    coords = torch.stack(torch.meshgrid(*tensors), dim=-1)\n",
    "\n",
    "    return coords.reshape(-1, len(sidelengths))"
   ]
  },
  {
   "cell_type": "code",
   "execution_count": 109,
   "metadata": {},
   "outputs": [
    {
     "name": "stdout",
     "output_type": "stream",
     "text": [
      "(98304,)\n",
      "[[ 0.  0.  0.]\n",
      " [ 0.  0.  1.]\n",
      " [ 0.  0.  2.]\n",
      " ...\n",
      " [63. 63. 21.]\n",
      " [63. 63. 22.]\n",
      " [63. 63. 23.]]\n"
     ]
    }
   ],
   "source": [
    "import torch \n",
    "coords = get_coords(*image.shape).numpy()\n",
    "\n",
    "image_flat = image.flatten()\n",
    "print(image_flat.shape)\n",
    "print(coords)"
   ]
  },
  {
   "cell_type": "code",
   "execution_count": 102,
   "metadata": {},
   "outputs": [
    {
     "data": {
      "text/plain": [
       "array([[[ 0.,  0.,  0., ...,  0.,  0.,  0.],\n",
       "        [ 0.,  0.,  0., ...,  0.,  0.,  0.],\n",
       "        [ 0.,  0.,  0., ...,  0.,  0.,  0.],\n",
       "        ...,\n",
       "        [ 0.,  0.,  0., ...,  0.,  0.,  0.],\n",
       "        [ 0.,  0.,  0., ...,  0.,  0.,  0.],\n",
       "        [ 0.,  0.,  0., ...,  0.,  0.,  0.]],\n",
       "\n",
       "       [[ 0.,  0.,  0., ...,  0.,  0.,  0.],\n",
       "        [ 0.,  0.,  0., ...,  0.,  0.,  0.],\n",
       "        [ 0.,  0.,  0., ...,  0.,  0.,  0.],\n",
       "        ...,\n",
       "        [ 0.,  0.,  0., ...,  0.,  0.,  0.],\n",
       "        [ 0.,  0.,  0., ...,  0.,  0.,  0.],\n",
       "        [ 0.,  0.,  0., ...,  0.,  0.,  0.]],\n",
       "\n",
       "       [[ 0.,  0.,  0., ...,  0.,  0.,  0.],\n",
       "        [ 0.,  0.,  0., ...,  0.,  0.,  0.],\n",
       "        [-0., -0.,  0., ...,  0.,  0.,  0.],\n",
       "        ...,\n",
       "        [-0., -0., -0., ..., -0.,  0.,  0.],\n",
       "        [ 0.,  0.,  0., ...,  0.,  0.,  0.],\n",
       "        [ 0.,  0.,  0., ...,  0.,  0.,  0.]],\n",
       "\n",
       "       ...,\n",
       "\n",
       "       [[ 0.,  0.,  0., ...,  0.,  0.,  0.],\n",
       "        [ 0.,  0.,  0., ...,  0.,  0.,  0.],\n",
       "        [ 0.,  0., -0., ..., -0.,  0.,  0.],\n",
       "        ...,\n",
       "        [ 0.,  0.,  0., ...,  0.,  0.,  0.],\n",
       "        [ 0.,  0.,  0., ...,  0.,  0.,  0.],\n",
       "        [ 0.,  0.,  0., ...,  0.,  0.,  0.]],\n",
       "\n",
       "       [[ 0.,  0.,  0., ...,  0.,  0.,  0.],\n",
       "        [ 0.,  0.,  0., ...,  0.,  0.,  0.],\n",
       "        [ 0.,  0.,  0., ...,  0.,  0.,  0.],\n",
       "        ...,\n",
       "        [ 0.,  0.,  0., ...,  0.,  0.,  0.],\n",
       "        [ 0.,  0.,  0., ...,  0.,  0.,  0.],\n",
       "        [ 0.,  0.,  0., ...,  0.,  0.,  0.]],\n",
       "\n",
       "       [[ 0.,  0.,  0., ...,  0.,  0.,  0.],\n",
       "        [ 0.,  0.,  0., ...,  0.,  0.,  0.],\n",
       "        [ 0.,  0.,  0., ...,  0.,  0.,  0.],\n",
       "        ...,\n",
       "        [ 0.,  0.,  0., ...,  0.,  0.,  0.],\n",
       "        [ 0.,  0.,  0., ...,  0.,  0.,  0.],\n",
       "        [ 0.,  0.,  0., ...,  0.,  0.,  0.]]], dtype=float16)"
      ]
     },
     "execution_count": 102,
     "metadata": {},
     "output_type": "execute_result"
    }
   ],
   "source": [
    "printmask "
   ]
  },
  {
   "cell_type": "code",
   "execution_count": null,
   "metadata": {},
   "outputs": [],
   "source": []
  }
 ],
 "metadata": {
  "kernelspec": {
   "display_name": "Python 3.6.8 64-bit",
   "language": "python",
   "name": "python36864bit0627eb39d7a6497d88458471ef8e42e3"
  },
  "language_info": {
   "codemirror_mode": {
    "name": "ipython",
    "version": 3
   },
   "file_extension": ".py",
   "mimetype": "text/x-python",
   "name": "python",
   "nbconvert_exporter": "python",
   "pygments_lexer": "ipython3",
   "version": "3.6.8"
  }
 },
 "nbformat": 4,
 "nbformat_minor": 4
}
