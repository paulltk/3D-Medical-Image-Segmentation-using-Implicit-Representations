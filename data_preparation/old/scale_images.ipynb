{
 "cells": [
  {
   "cell_type": "code",
   "execution_count": 1,
   "metadata": {},
   "outputs": [],
   "source": [
    "import numpy as np \n",
    "import os \n",
    "\n",
    "from matplotlib import pyplot as plt\n",
    "\n",
    "from skimage.measure import block_reduce"
   ]
  },
  {
   "cell_type": "code",
   "execution_count": 9,
   "metadata": {},
   "outputs": [
    {
     "name": "stdout",
     "output_type": "stream",
     "text": [
      "Carotide mask\n",
      "Carotide pcmra\n",
      "Aorta Volunteers mask\n",
      "Aorta Volunteers pcmra\n",
      "Aorta BaV mask\n",
      "Aorta BaV pcmra\n",
      "Aorta CoA mask\n",
      "Aorta CoA pcmra\n",
      "Heart LUMC mask\n",
      "Heart LUMC pcmra\n",
      "Aorta Resvcue mask\n",
      "Aorta Resvcue pcmra\n"
     ]
    }
   ],
   "source": [
    "root = \"/scratch/ptenkaate/Data\" # constant\n",
    "\n",
    "scaled_root = \"/scratch/ptenkaate/Data/Scaled Data\"\n",
    "\n",
    "projects = os.listdir(root)\n",
    "\n",
    "subfolders = [\"mask\", \"pcmra\"]\n",
    "\n",
    "for proj in projects: \n",
    "    for sub in subfolders:\n",
    "        print(proj, sub)\n",
    "        path = os.path.join(root, proj, sub)\n",
    "        files = os.listdir(path)\n",
    "        for file in files: \n",
    "            with open(os.path.join(path, file), \"rb\") as f:\n",
    "                array = np.load(f)\n",
    "#                 print(array.shape)\n",
    "                array = (array - array.min()) / (array.max() - array.min())\n",
    "                array_reduced = block_reduce(array, block_size=(2,2,1), func=np.mean)\n",
    "                if sub == \"mask\":\n",
    "                    array_reduced = np.rint(array_reduced)\n",
    "                \n",
    "                save_loc = os.path.join(scaled_root, proj, sub)\n",
    "                if not os.path.exists(save_loc):\n",
    "                    os.makedirs(save_loc)\n",
    "                \n",
    "                with open(os.path.join(save_loc, file), 'wb') as f:\n",
    "                    np.save(f, array_reduced)    "
   ]
  },
  {
   "cell_type": "code",
   "execution_count": null,
   "metadata": {},
   "outputs": [],
   "source": []
  },
  {
   "cell_type": "code",
   "execution_count": null,
   "metadata": {},
   "outputs": [],
   "source": []
  }
 ],
 "metadata": {
  "kernelspec": {
   "display_name": "Python 3.6.8 64-bit",
   "language": "python",
   "name": "python36864bitc17f53f707db4b89be7c32a22adf91a3"
  },
  "language_info": {
   "codemirror_mode": {
    "name": "ipython",
    "version": 3
   },
   "file_extension": ".py",
   "mimetype": "text/x-python",
   "name": "python",
   "nbconvert_exporter": "python",
   "pygments_lexer": "ipython3",
   "version": "3.6.8"
  }
 },
 "nbformat": 4,
 "nbformat_minor": 4
}
