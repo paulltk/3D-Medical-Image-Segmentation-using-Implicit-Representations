{
 "cells": [
  {
   "cell_type": "code",
   "execution_count": 3,
   "id": "04d985d2",
   "metadata": {
    "colab": {
     "base_uri": "https://localhost:8080/",
     "height": 353
    },
    "executionInfo": {
     "elapsed": 716,
     "status": "error",
     "timestamp": 1626349026948,
     "user": {
      "displayName": "Paul ten Kaate",
      "photoUrl": "https://lh3.googleusercontent.com/a-/AOh14GihEcWnD7dnWVuLjWRFp5A0AGfS2b-MdUZ0Bmclse4=s64",
      "userId": "16522113836666229259"
     },
     "user_tz": -120
    },
    "id": "04d985d2",
    "outputId": "b3ebd344-b0d4-4679-d2d4-83d5a8ba8432"
   },
   "outputs": [],
   "source": [
    "import pickle\n",
    "import numpy as np \n",
    "import os\n",
    "\n",
    "from py_files.plot_utils import *\n",
    "\n",
    "%matplotlib qt"
   ]
  },
  {
   "cell_type": "code",
   "execution_count": 4,
   "id": "9ebc38bd",
   "metadata": {
    "executionInfo": {
     "elapsed": 12,
     "status": "aborted",
     "timestamp": 1626349026944,
     "user": {
      "displayName": "Paul ten Kaate",
      "photoUrl": "https://lh3.googleusercontent.com/a-/AOh14GihEcWnD7dnWVuLjWRFp5A0AGfS2b-MdUZ0Bmclse4=s64",
      "userId": "16522113836666229259"
     },
     "user_tz": -120
    },
    "id": "8a54da90"
   },
   "outputs": [
    {
     "name": "stdout",
     "output_type": "stream",
     "text": [
      "old\n",
      "reconstruction_big_x\n",
      "reconstruction_big_y\n",
      "reconstruction_big_z\n",
      "reconstruction_normal\n",
      "reconstruction_train_dl_augmented_trained_with_data_aug\n",
      "reconstruction_train_dl_trained_one_image\n",
      "reconstruction_train_dl_trained_with_data_aug\n",
      "reconstruction_train_dl_trained_without_data_aug\n",
      "segmentation_binary\n",
      "segmentation_binary_big_x\n",
      "segmentation_binary_big_y\n",
      "segmentation_binary_big_z\n",
      "segmentation_binary_deep\n",
      "segmentation_sdf_lambda_100\n",
      "segmentation_sdf_lambda_300\n"
     ]
    }
   ],
   "source": [
    "all_runs = np.array(sorted(os.listdir(path='saved_results')))\n",
    "\n",
    "for run in all_runs: \n",
    "    print(run)"
   ]
  },
  {
   "cell_type": "code",
   "execution_count": 28,
   "id": "8a54da90",
   "metadata": {
    "executionInfo": {
     "elapsed": 12,
     "status": "aborted",
     "timestamp": 1626349026944,
     "user": {
      "displayName": "Paul ten Kaate",
      "photoUrl": "https://lh3.googleusercontent.com/a-/AOh14GihEcWnD7dnWVuLjWRFp5A0AGfS2b-MdUZ0Bmclse4=s64",
      "userId": "16522113836666229259"
     },
     "user_tz": -120
    },
    "id": "8a54da90"
   },
   "outputs": [],
   "source": [
    "run = \"segmentation_binary\"\n",
    "\n",
    "with open(os.path.join(\"saved_results\", run, \"titles.pkl\"), 'rb') as f:\n",
    "    titles = pickle.load(f)\n",
    "\n",
    "with open(os.path.join(\"saved_results\", run, \"images.pkl\"), 'rb') as f:\n",
    "    images = pickle.load(f)\n",
    "    \n",
    "# shown_images = [\"pcmras\", \"masks\", \"mask output\"]\n",
    "# images = [image for image in images if image[1] in shown_images]\n",
    "\n",
    "# rename_images = {\"pcmras\": \"PCMRA\",\n",
    "#                  \"masks\": \"Mask Label\",\n",
    "#                  \"mask output\": \"Configuration 1\",\n",
    "#                 }\n",
    "\n",
    "# images = [(image[0], rename_images[image[1]]) for image in images if image[1] in shown_images]\n",
    "\n",
    "window = Show_images(titles, *images, colorbar=False, y_label=True)"
   ]
  },
  {
   "cell_type": "code",
   "execution_count": null,
   "id": "d0eacbc6",
   "metadata": {
    "id": "d0eacbc6"
   },
   "outputs": [],
   "source": []
  },
  {
   "cell_type": "code",
   "execution_count": 24,
   "id": "baaeb1e4",
   "metadata": {},
   "outputs": [],
   "source": [
    "run = \"segmentation_sdf_lambda_300\"\n",
    "\n",
    "with open(os.path.join(\"saved_results\", run, \"titles.pkl\"), 'rb') as f:\n",
    "    titles1 = pickle.load(f)\n",
    "\n",
    "with open(os.path.join(\"saved_results\", run, \"images.pkl\"), 'rb') as f:\n",
    "    images1 = pickle.load(f)\n",
    "    \n",
    "shown_images = [\"mask output\"]\n",
    "images1 = [image for image in images1 if image[1] in shown_images]\n",
    "\n",
    "rename_images = {\"mask output\": \"Configuration 2\",\n",
    "                }\n",
    "\n",
    "images1 = [(image[0], rename_images[image[1]]) for image in images1 if image[1] in shown_images]"
   ]
  },
  {
   "cell_type": "code",
   "execution_count": 25,
   "id": "3cfe4211",
   "metadata": {},
   "outputs": [],
   "source": [
    "images += images1"
   ]
  },
  {
   "cell_type": "code",
   "execution_count": 26,
   "id": "a42050bc",
   "metadata": {
    "id": "a42050bc"
   },
   "outputs": [],
   "source": []
  },
  {
   "cell_type": "code",
   "execution_count": null,
   "id": "83480d73",
   "metadata": {},
   "outputs": [],
   "source": []
  }
 ],
 "metadata": {
  "colab": {
   "name": "plot_interactive_results.ipynb",
   "provenance": []
  },
  "kernelspec": {
   "display_name": "Python 3",
   "language": "python",
   "name": "python3"
  },
  "language_info": {
   "codemirror_mode": {
    "name": "ipython",
    "version": 3
   },
   "file_extension": ".py",
   "mimetype": "text/x-python",
   "name": "python",
   "nbconvert_exporter": "python",
   "pygments_lexer": "ipython3",
   "version": "3.7.4"
  }
 },
 "nbformat": 4,
 "nbformat_minor": 5
}
