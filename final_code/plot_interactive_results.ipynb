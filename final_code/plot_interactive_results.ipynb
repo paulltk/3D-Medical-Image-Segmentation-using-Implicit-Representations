{
 "cells": [
  {
   "cell_type": "code",
   "execution_count": 1,
   "id": "04d985d2",
   "metadata": {
    "colab": {
     "base_uri": "https://localhost:8080/",
     "height": 353
    },
    "executionInfo": {
     "elapsed": 716,
     "status": "error",
     "timestamp": 1626349026948,
     "user": {
      "displayName": "Paul ten Kaate",
      "photoUrl": "https://lh3.googleusercontent.com/a-/AOh14GihEcWnD7dnWVuLjWRFp5A0AGfS2b-MdUZ0Bmclse4=s64",
      "userId": "16522113836666229259"
     },
     "user_tz": -120
    },
    "id": "04d985d2",
    "outputId": "b3ebd344-b0d4-4679-d2d4-83d5a8ba8432"
   },
   "outputs": [],
   "source": [
    "import pickle\n",
    "import numpy as np \n",
    "import os\n",
    "\n",
    "from py_files.plot_utils import *\n",
    "\n",
    "%matplotlib qt"
   ]
  },
  {
   "cell_type": "code",
   "execution_count": 2,
   "id": "8a54da90",
   "metadata": {
    "executionInfo": {
     "elapsed": 12,
     "status": "aborted",
     "timestamp": 1626349026944,
     "user": {
      "displayName": "Paul ten Kaate",
      "photoUrl": "https://lh3.googleusercontent.com/a-/AOh14GihEcWnD7dnWVuLjWRFp5A0AGfS2b-MdUZ0Bmclse4=s64",
      "userId": "16522113836666229259"
     },
     "user_tz": -120
    },
    "id": "8a54da90"
   },
   "outputs": [
    {
     "name": "stdout",
     "output_type": "stream",
     "text": [
      "['pi_gan_2021_08_24_06_56_23_reconstruction_golden_cnn_run_0']\n",
      "pi_gan_2021_08_24_06_56_23_reconstruction_golden_cnn_run_0\n"
     ]
    }
   ],
   "source": [
    "all_runs = sorted(os.listdir(path='saved_results'))\n",
    "print(all_runs)\n",
    "\n",
    "run = sorted(os.listdir(path='saved_results'))[-1]\n",
    "#run = \"pi_gan_2021_06_25_10_16_49\"\n",
    "print(run)"
   ]
  },
  {
   "cell_type": "code",
   "execution_count": null,
   "id": "d0eacbc6",
   "metadata": {
    "id": "d0eacbc6"
   },
   "outputs": [],
   "source": [
    "with open(os.path.join(\"saved_results\", run, \"titles.pkl\"), 'rb') as f:\n",
    "    titles = pickle.load(f)\n",
    "\n",
    "with open(os.path.join(\"saved_results\", run, \"images.pkl\"), 'rb') as f:\n",
    "    images = pickle.load(f)\n"
   ]
  },
  {
   "cell_type": "code",
   "execution_count": null,
   "id": "a42050bc",
   "metadata": {
    "id": "a42050bc"
   },
   "outputs": [],
   "source": [
    "window = Show_images(titles, *images)"
   ]
  },
  {
   "cell_type": "code",
   "execution_count": null,
   "id": "d26731d1",
   "metadata": {
    "id": "d26731d1",
    "outputId": "bcb4c910-cd82-41fc-dab3-30cb6541e23c"
   },
   "outputs": [
    {
     "name": "stdout",
     "output_type": "stream",
     "text": [
      "(128, 128, 2064)\n"
     ]
    }
   ],
   "source": [
    "mask = images[1][0]\n",
    "print(mask.shape)"
   ]
  },
  {
   "cell_type": "code",
   "execution_count": null,
   "id": "3f50dfda",
   "metadata": {
    "id": "3f50dfda",
    "outputId": "1e744844-0e57-451d-9134-e2e79250d4a3"
   },
   "outputs": [
    {
     "data": {
      "text/plain": [
       "(array([20], dtype=int64),\n",
       " array([53], dtype=int64),\n",
       " array([1658], dtype=int64))"
      ]
     },
     "execution_count": 67,
     "metadata": {
      "tags": []
     },
     "output_type": "execute_result"
    }
   ],
   "source": [
    " (mask > 1).nonzero()"
   ]
  },
  {
   "cell_type": "code",
   "execution_count": null,
   "id": "30e70387",
   "metadata": {
    "id": "30e70387",
    "outputId": "bffd66dd-e573-4e7d-c2a5-57732a671e51"
   },
   "outputs": [
    {
     "name": "stdout",
     "output_type": "stream",
     "text": [
      "2.0\n"
     ]
    }
   ],
   "source": [
    "print(mask[20, 53, 1658])"
   ]
  },
  {
   "cell_type": "code",
   "execution_count": null,
   "id": "a44106af",
   "metadata": {
    "id": "a44106af"
   },
   "outputs": [],
   "source": []
  }
 ],
 "metadata": {
  "colab": {
   "name": "plot_interactive_results.ipynb",
   "provenance": []
  },
  "kernelspec": {
   "display_name": "Python 3",
   "language": "python",
   "name": "python3"
  },
  "language_info": {
   "codemirror_mode": {
    "name": "ipython",
    "version": 3
   },
   "file_extension": ".py",
   "mimetype": "text/x-python",
   "name": "python",
   "nbconvert_exporter": "python",
   "pygments_lexer": "ipython3",
   "version": "3.7.4"
  }
 },
 "nbformat": 4,
 "nbformat_minor": 5
}
