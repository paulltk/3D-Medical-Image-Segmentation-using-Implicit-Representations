{
 "cells": [
  {
   "cell_type": "code",
   "execution_count": null,
   "metadata": {
    "id": "36vmaLBY5zub"
   },
   "outputs": [],
   "source": [
    "from google.colab import drive\n",
    "drive.mount('/content/drive/')"
   ]
  },
  {
   "cell_type": "code",
   "execution_count": null,
   "metadata": {
    "colab": {
     "base_uri": "https://localhost:8080/"
    },
    "executionInfo": {
     "elapsed": 317,
     "status": "ok",
     "timestamp": 1630483198075,
     "user": {
      "displayName": "Paul ten Kaate",
      "photoUrl": "https://lh3.googleusercontent.com/a-/AOh14GihEcWnD7dnWVuLjWRFp5A0AGfS2b-MdUZ0Bmclse4=s64",
      "userId": "16522113836666229259"
     },
     "user_tz": -120
    },
    "id": "bj0yP94D52eZ",
    "outputId": "72a09a4a-3fa6-4a13-e9c4-56f33ee368b4"
   },
   "outputs": [
    {
     "name": "stdout",
     "output_type": "stream",
     "text": [
      "/content/drive/.shortcut-targets-by-id/16udig9ZMaNcASs5Maj6kv7tg-TL3PnSE/Master Thesis/final_code\n"
     ]
    }
   ],
   "source": [
    "cd drive/MyDrive/master_thesis/final_code"
   ]
  },
  {
   "cell_type": "code",
   "execution_count": null,
   "metadata": {
    "colab": {
     "base_uri": "https://localhost:8080/"
    },
    "executionInfo": {
     "elapsed": 8796,
     "status": "ok",
     "timestamp": 1630483206867,
     "user": {
      "displayName": "Paul ten Kaate",
      "photoUrl": "https://lh3.googleusercontent.com/a-/AOh14GihEcWnD7dnWVuLjWRFp5A0AGfS2b-MdUZ0Bmclse4=s64",
      "userId": "16522113836666229259"
     },
     "user_tz": -120
    },
    "id": "diDHcjI2m3Vp",
    "outputId": "f0ad742c-6e1e-4d93-96d1-50ffbfc7c0f0"
   },
   "outputs": [
    {
     "name": "stdout",
     "output_type": "stream",
     "text": [
      "\u001b[K     |████████████████████████████████| 1.7 MB 8.4 MB/s \n",
      "\u001b[K     |████████████████████████████████| 170 kB 54.3 MB/s \n",
      "\u001b[K     |████████████████████████████████| 133 kB 59.9 MB/s \n",
      "\u001b[K     |████████████████████████████████| 97 kB 7.0 MB/s \n",
      "\u001b[K     |████████████████████████████████| 63 kB 1.6 MB/s \n",
      "\u001b[?25h  Building wheel for subprocess32 (setup.py) ... \u001b[?25l\u001b[?25hdone\n",
      "  Building wheel for pathtools (setup.py) ... \u001b[?25l\u001b[?25hdone\n"
     ]
    }
   ],
   "source": [
    "!pip install wandb -qqq"
   ]
  },
  {
   "cell_type": "code",
   "execution_count": 1,
   "metadata": {
    "id": "9zwyxSrJg5uK"
   },
   "outputs": [],
   "source": [
    "import os \n",
    "import numpy as np\n",
    "import matplotlib.pyplot as plt\n",
    "import shutil\n",
    "import wandb\n",
    "\n",
    "from py_files.args import *"
   ]
  },
  {
   "cell_type": "code",
   "execution_count": 8,
   "metadata": {
    "colab": {
     "base_uri": "https://localhost:8080/",
     "height": 888,
     "referenced_widgets": [
      "31686b85da6f41739f2e99d15c3149cc",
      "688894a8d3bc42bbaf0673e55126d882",
      "bc863a8cd765491bb6a07ce7d6787632",
      "0d6cda1a03ac4acc855d46acec7fa406",
      "8fb977a47a34419d93e92c15c54e63ac",
      "9b2174755db541008f59d95f3d6dc75c",
      "19475aab57eb4df1af018b7598d497df",
      "e5f26a903a9e4e7e9490c21443773b4d"
     ]
    },
    "executionInfo": {
     "elapsed": 25385,
     "status": "ok",
     "timestamp": 1630483234772,
     "user": {
      "displayName": "Paul ten Kaate",
      "photoUrl": "https://lh3.googleusercontent.com/a-/AOh14GihEcWnD7dnWVuLjWRFp5A0AGfS2b-MdUZ0Bmclse4=s64",
      "userId": "16522113836666229259"
     },
     "user_tz": -120
    },
    "id": "KY35n5Gfg5uV",
    "outputId": "c9ff1085-c3eb-4b19-c966-1f40271e58dd"
   },
   "outputs": [
    {
     "name": "stdout",
     "output_type": "stream",
     "text": [
      "upload_seg_bin_gold_2net_100\n",
      "segmentation\n"
     ]
    },
    {
     "data": {
      "text/html": [
       "\n",
       "                Tracking run with wandb version 0.12.1<br/>\n",
       "                Syncing run <strong style=\"color:#cdcd00\">golden_2net_100</strong> to <a href=\"https://wandb.ai\" target=\"_blank\">Weights & Biases</a> <a href=\"https://docs.wandb.com/integrations/jupyter.html\" target=\"_blank\">(Documentation)</a>.<br/>\n",
       "                Project page: <a href=\"https://wandb.ai/paulltk/segmentation_binary\" target=\"_blank\">https://wandb.ai/paulltk/segmentation_binary</a><br/>\n",
       "                Run page: <a href=\"https://wandb.ai/paulltk/segmentation_binary/runs/1hqrygek\" target=\"_blank\">https://wandb.ai/paulltk/segmentation_binary/runs/1hqrygek</a><br/>\n",
       "                Run data is saved locally in <code>C:\\Users\\pault\\Documents\\Master Thesis\\final_code\\wandb\\run-20210902_153428-1hqrygek</code><br/><br/>\n",
       "            "
      ],
      "text/plain": [
       "<IPython.core.display.HTML object>"
      ]
     },
     "metadata": {},
     "output_type": "display_data"
    },
    {
     "data": {
      "text/html": [
       "<br/>Waiting for W&B process to finish, PID 14252<br/>Program ended successfully."
      ],
      "text/plain": [
       "<IPython.core.display.HTML object>"
      ]
     },
     "metadata": {},
     "output_type": "display_data"
    },
    {
     "data": {
      "application/vnd.jupyter.widget-view+json": {
       "model_id": "",
       "version_major": 2,
       "version_minor": 0
      },
      "text/plain": [
       "VBox(children=(Label(value=' 0.00MB of 0.00MB uploaded (0.00MB deduped)\\r'), FloatProgress(value=0.0, max=1.0)…"
      ]
     },
     "metadata": {},
     "output_type": "display_data"
    },
    {
     "data": {
      "text/html": [
       "Find user logs for this run at: <code>C:\\Users\\pault\\Documents\\Master Thesis\\final_code\\wandb\\run-20210902_153428-1hqrygek\\logs\\debug.log</code>"
      ],
      "text/plain": [
       "<IPython.core.display.HTML object>"
      ]
     },
     "metadata": {},
     "output_type": "display_data"
    },
    {
     "data": {
      "text/html": [
       "Find internal logs for this run at: <code>C:\\Users\\pault\\Documents\\Master Thesis\\final_code\\wandb\\run-20210902_153428-1hqrygek\\logs\\debug-internal.log</code>"
      ],
      "text/plain": [
       "<IPython.core.display.HTML object>"
      ]
     },
     "metadata": {},
     "output_type": "display_data"
    },
    {
     "data": {
      "text/html": [
       "<h3>Run summary:</h3><br/><style>\n",
       "    table.wandb td:nth-child(1) { padding: 0 10px; text-align: right }\n",
       "    </style><table class=\"wandb\">\n",
       "<tr><td>test_mse_loss</td><td>0.02499</td></tr><tr><td>test_bce_loss</td><td>0.03897</td></tr><tr><td>test_dice_loss</td><td>0.22116</td></tr><tr><td>train_bce_loss</td><td>0.01988</td></tr><tr><td>eval_bce_loss</td><td>0.03122</td></tr><tr><td>train_dice_loss</td><td>0.13719</td></tr><tr><td>eval_dice_loss</td><td>0.20057</td></tr><tr><td>epochs</td><td>2650.0</td></tr><tr><td>_runtime</td><td>1</td></tr><tr><td>_timestamp</td><td>1630589669</td></tr><tr><td>_step</td><td>2650</td></tr></table>"
      ],
      "text/plain": [
       "<IPython.core.display.HTML object>"
      ]
     },
     "metadata": {},
     "output_type": "display_data"
    },
    {
     "data": {
      "text/html": [
       "<h3>Run history:</h3><br/><style>\n",
       "    table.wandb td:nth-child(1) { padding: 0 10px; text-align: right }\n",
       "    </style><table class=\"wandb\">\n",
       "<tr><td>test_mse_loss</td><td>▁</td></tr><tr><td>test_bce_loss</td><td>▁</td></tr><tr><td>test_dice_loss</td><td>▁</td></tr><tr><td>train_bce_loss</td><td>█▂▂▁▁▁▁▁▁▁▁▁▁▁▁▁▁▁▁▁▁▁▁▁▁▁▁▁▁▁▁▁▁▁▁▁▁▁▁▁</td></tr><tr><td>eval_bce_loss</td><td>█▂▂▁▁▁▁▁▁▁▁▁▁▁▁▁▁▁▁▁▁▁▁▁▁▁▁▁▁▁▁▁▁▁▁▁▁▁▁▁</td></tr><tr><td>train_dice_loss</td><td>██▅▃▂▂▂▂▂▂▁▁▁▁▁▁▁▁▁▁▁▁▁▁▁▁▁▁▁▁▁▁▁▁▁▁▁▁▁▁</td></tr><tr><td>eval_dice_loss</td><td>██▅▃▂▂▂▂▂▂▁▁▁▁▁▁▁▁▁▁▁▁▁▁▁▁▁▁▁▁▁▁▁▁▁▁▁▁▁▁</td></tr><tr><td>epochs</td><td>▁▁▁▂▂▂▂▂▂▃▃▃▃▃▄▄▄▄▄▄▅▅▅▅▅▅▆▆▆▆▆▇▇▇▇▇▇███</td></tr><tr><td>_runtime</td><td>▁▁▁▁▁▁▁▁▁▁▁▁▁▁▁▁▁▁▁▁▁▁▁▁▁▁▁▁▁▁▁▁▁▁▁▁▁▁▁▁</td></tr><tr><td>_timestamp</td><td>▁▁▁▁▁▁▁▁▁▁▁▁▁▁▁▁▁▁▁▁▁▁▁▁▁▁▁▁▁▁▁▁▁▁▁▁▁▁▁▁</td></tr><tr><td>_step</td><td>▁▁▁▂▂▂▂▂▂▃▃▃▃▃▄▄▄▄▄▄▅▅▅▅▅▅▆▆▆▆▆▇▇▇▇▇▇███</td></tr></table><br/>"
      ],
      "text/plain": [
       "<IPython.core.display.HTML object>"
      ]
     },
     "metadata": {},
     "output_type": "display_data"
    },
    {
     "data": {
      "text/html": [
       "Synced 4 W&B file(s), 0 media file(s), 0 artifact file(s) and 0 other file(s)"
      ],
      "text/plain": [
       "<IPython.core.display.HTML object>"
      ]
     },
     "metadata": {},
     "output_type": "display_data"
    },
    {
     "data": {
      "text/html": [
       "\n",
       "                    <br/>Synced <strong style=\"color:#cdcd00\">golden_2net_100</strong>: <a href=\"https://wandb.ai/paulltk/segmentation_binary/runs/1hqrygek\" target=\"_blank\">https://wandb.ai/paulltk/segmentation_binary/runs/1hqrygek</a><br/>\n",
       "                "
      ],
      "text/plain": [
       "<IPython.core.display.HTML object>"
      ]
     },
     "metadata": {},
     "output_type": "display_data"
    }
   ],
   "source": [
    "wandb.login()\n",
    "\n",
    "# runs = sorted(os.listdir(path='saved_runs'))   \n",
    "runs = [\"upload_seg_bin_gold_2net_100\"]\n",
    "\n",
    "for run in runs:\n",
    "    print(run)\n",
    "    \n",
    "    ARGS = load_args(run, print_changed=False, silent=True)\n",
    "\n",
    "    ARGS.train_encoder_seg = True\n",
    "\n",
    "    # if \"reconstruction\" in ARGS.name: \n",
    "    #     ARGS.training_setup = \"reconstruction\"\n",
    "    # else: \n",
    "    #     ARGS.training_setup = \"segmentation\"\n",
    "\n",
    "    print(ARGS.training_setup)\n",
    "\n",
    "    mask_losses = pcmra_losses = dice_losses = None\n",
    "    epochs = None\n",
    "\n",
    "    if os.path.exists(f'saved_runs/{run}/mask_loss.npy'):\n",
    "        mask_losses = np.load(f'saved_runs/{run}/mask_loss.npy')\n",
    "        epochs = mask_losses[-1, 0]\n",
    "\n",
    "    if os.path.exists(f'saved_runs/{run}/pcmra_loss.npy'):\n",
    "        pcmra_losses = np.load(f'saved_runs/{run}/pcmra_loss.npy')\n",
    "        epochs = pcmra_losses[-1, 0]\n",
    "\n",
    "    if os.path.exists(f'saved_runs/{run}/dice_loss.npy'):\n",
    "        dice_losses = np.load(f'saved_runs/{run}/dice_loss.npy')\n",
    "        epochs = dice_losses[-1, 0]\n",
    "\n",
    "    if os.path.exists(f'saved_runs/{run}/test_results.npy'):\n",
    "        test_results = np.load(f'saved_runs/{run}/test_results.npy')\n",
    "\n",
    "    wandb.init(project=f\"{ARGS.training_setup}_{ARGS.segmentation}\",\n",
    "               name=f\"{ARGS.cnn_setup}_{ARGS.mapping_setup}_{ARGS.first_omega_0}\", \n",
    "               config=vars(ARGS))\n",
    "    \n",
    "    wandb.log({\"test_mse_loss\": test_results[0], \n",
    "               \"test_bce_loss\": test_results[2], \n",
    "               \"test_dice_loss\": test_results[4]}, step=0)\n",
    "\n",
    "    if ARGS.training_setup == \"reconstruction\": \n",
    "        for ep, train_mean, _, eval_mean, _ in pcmra_losses: \n",
    "\n",
    "            wandb.log({\"train_mse_loss\": train_mean, \n",
    "                       \"eval_mse_loss\": eval_mean, \n",
    "                       \"epochs\": ep}, step=int(ep))\n",
    "\n",
    "    if ARGS.training_setup == \"segmentation\": \n",
    "        for (ep, train_bce, _, eval_bce, _), (_, train_dice, _, eval_dice, _) in zip(mask_losses, dice_losses): \n",
    "            \n",
    "            wandb.log({\"train_bce_loss\": train_bce, \n",
    "                       \"eval_bce_loss\": eval_bce, \n",
    "                       \"train_dice_loss\": train_dice, \n",
    "                       \"eval_dice_loss\": eval_dice, \n",
    "                       \"epochs\": ep}, step=int(ep))\n",
    "    \n",
    "    \n",
    "    wandb.finish()    "
   ]
  },
  {
   "cell_type": "code",
   "execution_count": null,
   "metadata": {
    "id": "e9pZxmoH18tK"
   },
   "outputs": [],
   "source": []
  }
 ],
 "metadata": {
  "colab": {
   "collapsed_sections": [],
   "name": "transfer_to_wandb.ipynb",
   "provenance": []
  },
  "kernelspec": {
   "display_name": "Python 3",
   "language": "python",
   "name": "python3"
  },
  "language_info": {
   "codemirror_mode": {
    "name": "ipython",
    "version": 3
   },
   "file_extension": ".py",
   "mimetype": "text/x-python",
   "name": "python",
   "nbconvert_exporter": "python",
   "pygments_lexer": "ipython3",
   "version": "3.7.4"
  },
  "widgets": {
   "application/vnd.jupyter.widget-state+json": {
    "0d6cda1a03ac4acc855d46acec7fa406": {
     "model_module": "@jupyter-widgets/controls",
     "model_module_version": "1.5.0",
     "model_name": "FloatProgressModel",
     "state": {
      "_dom_classes": [],
      "_model_module": "@jupyter-widgets/controls",
      "_model_module_version": "1.5.0",
      "_model_name": "FloatProgressModel",
      "_view_count": null,
      "_view_module": "@jupyter-widgets/controls",
      "_view_module_version": "1.5.0",
      "_view_name": "ProgressView",
      "bar_style": "",
      "description": "",
      "description_tooltip": null,
      "layout": "IPY_MODEL_e5f26a903a9e4e7e9490c21443773b4d",
      "max": 1,
      "min": 0,
      "orientation": "horizontal",
      "style": "IPY_MODEL_19475aab57eb4df1af018b7598d497df",
      "value": 1
     }
    },
    "19475aab57eb4df1af018b7598d497df": {
     "model_module": "@jupyter-widgets/controls",
     "model_module_version": "1.5.0",
     "model_name": "ProgressStyleModel",
     "state": {
      "_model_module": "@jupyter-widgets/controls",
      "_model_module_version": "1.5.0",
      "_model_name": "ProgressStyleModel",
      "_view_count": null,
      "_view_module": "@jupyter-widgets/base",
      "_view_module_version": "1.2.0",
      "_view_name": "StyleView",
      "bar_color": null,
      "description_width": ""
     }
    },
    "31686b85da6f41739f2e99d15c3149cc": {
     "model_module": "@jupyter-widgets/controls",
     "model_module_version": "1.5.0",
     "model_name": "VBoxModel",
     "state": {
      "_dom_classes": [],
      "_model_module": "@jupyter-widgets/controls",
      "_model_module_version": "1.5.0",
      "_model_name": "VBoxModel",
      "_view_count": null,
      "_view_module": "@jupyter-widgets/controls",
      "_view_module_version": "1.5.0",
      "_view_name": "VBoxView",
      "box_style": "",
      "children": [
       "IPY_MODEL_bc863a8cd765491bb6a07ce7d6787632",
       "IPY_MODEL_0d6cda1a03ac4acc855d46acec7fa406"
      ],
      "layout": "IPY_MODEL_688894a8d3bc42bbaf0673e55126d882"
     }
    },
    "688894a8d3bc42bbaf0673e55126d882": {
     "model_module": "@jupyter-widgets/base",
     "model_module_version": "1.2.0",
     "model_name": "LayoutModel",
     "state": {
      "_model_module": "@jupyter-widgets/base",
      "_model_module_version": "1.2.0",
      "_model_name": "LayoutModel",
      "_view_count": null,
      "_view_module": "@jupyter-widgets/base",
      "_view_module_version": "1.2.0",
      "_view_name": "LayoutView",
      "align_content": null,
      "align_items": null,
      "align_self": null,
      "border": null,
      "bottom": null,
      "display": null,
      "flex": null,
      "flex_flow": null,
      "grid_area": null,
      "grid_auto_columns": null,
      "grid_auto_flow": null,
      "grid_auto_rows": null,
      "grid_column": null,
      "grid_gap": null,
      "grid_row": null,
      "grid_template_areas": null,
      "grid_template_columns": null,
      "grid_template_rows": null,
      "height": null,
      "justify_content": null,
      "justify_items": null,
      "left": null,
      "margin": null,
      "max_height": null,
      "max_width": null,
      "min_height": null,
      "min_width": null,
      "object_fit": null,
      "object_position": null,
      "order": null,
      "overflow": null,
      "overflow_x": null,
      "overflow_y": null,
      "padding": null,
      "right": null,
      "top": null,
      "visibility": null,
      "width": null
     }
    },
    "8fb977a47a34419d93e92c15c54e63ac": {
     "model_module": "@jupyter-widgets/controls",
     "model_module_version": "1.5.0",
     "model_name": "DescriptionStyleModel",
     "state": {
      "_model_module": "@jupyter-widgets/controls",
      "_model_module_version": "1.5.0",
      "_model_name": "DescriptionStyleModel",
      "_view_count": null,
      "_view_module": "@jupyter-widgets/base",
      "_view_module_version": "1.2.0",
      "_view_name": "StyleView",
      "description_width": ""
     }
    },
    "9b2174755db541008f59d95f3d6dc75c": {
     "model_module": "@jupyter-widgets/base",
     "model_module_version": "1.2.0",
     "model_name": "LayoutModel",
     "state": {
      "_model_module": "@jupyter-widgets/base",
      "_model_module_version": "1.2.0",
      "_model_name": "LayoutModel",
      "_view_count": null,
      "_view_module": "@jupyter-widgets/base",
      "_view_module_version": "1.2.0",
      "_view_name": "LayoutView",
      "align_content": null,
      "align_items": null,
      "align_self": null,
      "border": null,
      "bottom": null,
      "display": null,
      "flex": null,
      "flex_flow": null,
      "grid_area": null,
      "grid_auto_columns": null,
      "grid_auto_flow": null,
      "grid_auto_rows": null,
      "grid_column": null,
      "grid_gap": null,
      "grid_row": null,
      "grid_template_areas": null,
      "grid_template_columns": null,
      "grid_template_rows": null,
      "height": null,
      "justify_content": null,
      "justify_items": null,
      "left": null,
      "margin": null,
      "max_height": null,
      "max_width": null,
      "min_height": null,
      "min_width": null,
      "object_fit": null,
      "object_position": null,
      "order": null,
      "overflow": null,
      "overflow_x": null,
      "overflow_y": null,
      "padding": null,
      "right": null,
      "top": null,
      "visibility": null,
      "width": null
     }
    },
    "bc863a8cd765491bb6a07ce7d6787632": {
     "model_module": "@jupyter-widgets/controls",
     "model_module_version": "1.5.0",
     "model_name": "LabelModel",
     "state": {
      "_dom_classes": [],
      "_model_module": "@jupyter-widgets/controls",
      "_model_module_version": "1.5.0",
      "_model_name": "LabelModel",
      "_view_count": null,
      "_view_module": "@jupyter-widgets/controls",
      "_view_module_version": "1.5.0",
      "_view_name": "LabelView",
      "description": "",
      "description_tooltip": null,
      "layout": "IPY_MODEL_9b2174755db541008f59d95f3d6dc75c",
      "placeholder": "​",
      "style": "IPY_MODEL_8fb977a47a34419d93e92c15c54e63ac",
      "value": " 0.01MB of 0.01MB uploaded (0.00MB deduped)\r"
     }
    },
    "e5f26a903a9e4e7e9490c21443773b4d": {
     "model_module": "@jupyter-widgets/base",
     "model_module_version": "1.2.0",
     "model_name": "LayoutModel",
     "state": {
      "_model_module": "@jupyter-widgets/base",
      "_model_module_version": "1.2.0",
      "_model_name": "LayoutModel",
      "_view_count": null,
      "_view_module": "@jupyter-widgets/base",
      "_view_module_version": "1.2.0",
      "_view_name": "LayoutView",
      "align_content": null,
      "align_items": null,
      "align_self": null,
      "border": null,
      "bottom": null,
      "display": null,
      "flex": null,
      "flex_flow": null,
      "grid_area": null,
      "grid_auto_columns": null,
      "grid_auto_flow": null,
      "grid_auto_rows": null,
      "grid_column": null,
      "grid_gap": null,
      "grid_row": null,
      "grid_template_areas": null,
      "grid_template_columns": null,
      "grid_template_rows": null,
      "height": null,
      "justify_content": null,
      "justify_items": null,
      "left": null,
      "margin": null,
      "max_height": null,
      "max_width": null,
      "min_height": null,
      "min_width": null,
      "object_fit": null,
      "object_position": null,
      "order": null,
      "overflow": null,
      "overflow_x": null,
      "overflow_y": null,
      "padding": null,
      "right": null,
      "top": null,
      "visibility": null,
      "width": null
     }
    }
   }
  }
 },
 "nbformat": 4,
 "nbformat_minor": 1
}
