{
 "cells": [
  {
   "cell_type": "code",
   "execution_count": 1,
   "metadata": {
    "tags": []
   },
   "outputs": [],
   "source": [
    "import torch\n",
    "from torch import nn\n",
    "import torch.nn.functional as F\n",
    "from torch.utils.data import DataLoader, Dataset\n",
    "import os\n",
    "\n",
    "from PIL import Image\n",
    "from torchvision.transforms import Resize, Compose, ToTensor, Normalize\n",
    "import numpy as np\n",
    "import skimage\n",
    "import matplotlib.pyplot as plt\n",
    "\n",
    "import time\n",
    "import pickle\n",
    "\n",
    "from datetime import datetime\n",
    "from pathlib import Path\n",
    "\n",
    "import math \n"
   ]
  },
  {
   "cell_type": "markdown",
   "metadata": {},
   "source": [
    "#### Import classes"
   ]
  },
  {
   "cell_type": "code",
   "execution_count": 2,
   "metadata": {
    "tags": []
   },
   "outputs": [
    {
     "name": "stdout",
     "output_type": "stream",
     "text": [
      "Imported classes.\n",
      "Imported CNN model.\n",
      "Imported SIREN model.\n"
     ]
    }
   ],
   "source": [
    "%run \"custom_datasets.ipynb\"\n",
    "%run \"Model Classes/cnn_model.ipynb\"\n",
    "%run \"Model Classes/siren_model.ipynb\""
   ]
  },
  {
   "cell_type": "code",
   "execution_count": 3,
   "metadata": {},
   "outputs": [
    {
     "name": "stdout",
     "output_type": "stream",
     "text": [
      "----------------------------------\n",
      "Using device for training: cuda\n",
      "----------------------------------\n"
     ]
    }
   ],
   "source": [
    "def set_device():\n",
    "    DEVICE = torch.device('cuda' if torch.cuda.is_available() else 'cpu')\n",
    "    print('----------------------------------')\n",
    "    print('Using device for training:', DEVICE)\n",
    "    print('----------------------------------')\n",
    "    \n",
    "    return DEVICE \n",
    "\n",
    "DEVICE = set_device()\n",
    "# DEVICE = torch.device('cpu')"
   ]
  },
  {
   "cell_type": "markdown",
   "metadata": {},
   "source": [
    "#### Dataloader"
   ]
  },
  {
   "cell_type": "code",
   "execution_count": 4,
   "metadata": {},
   "outputs": [
    {
     "name": "stdout",
     "output_type": "stream",
     "text": [
      "1\n",
      "1\n"
     ]
    }
   ],
   "source": [
    "data = PrepareData3D([\"Aorta Volunteers\", \"Aorta BaV\", \"Aorta Resvcue\", \"Aorta CoA\"], norm_min_max=[0,1])\n",
    "\n",
    "train_ds = SirenDataset(data.train, DEVICE) \n",
    "train_dataloader = DataLoader(train_ds, batch_size=1, num_workers=0)\n",
    "print(train_ds.__len__())\n",
    "\n",
    "\n",
    "val_ds = SirenDataset(data.val, DEVICE) \n",
    "val_dataloader = DataLoader(val_ds, batch_size=1, num_workers=0)\n",
    "print(val_ds.__len__())\n"
   ]
  },
  {
   "cell_type": "markdown",
   "metadata": {},
   "source": [
    "#### Load models"
   ]
  },
  {
   "cell_type": "code",
   "execution_count": 5,
   "metadata": {
    "scrolled": true
   },
   "outputs": [],
   "source": [
    "cnn = CNN().cuda()"
   ]
  },
  {
   "cell_type": "code",
   "execution_count": 6,
   "metadata": {},
   "outputs": [],
   "source": [
    "siren = Siren(in_features=131, out_features=1, hidden_features=256, \n",
    "              hidden_layers=4, first_different_init=True, \n",
    "              outermost_layer=\"sigmoid\").cuda()"
   ]
  },
  {
   "cell_type": "markdown",
   "metadata": {},
   "source": [
    "#### Optimizers & Loss"
   ]
  },
  {
   "cell_type": "code",
   "execution_count": 7,
   "metadata": {
    "scrolled": true
   },
   "outputs": [],
   "source": [
    "lr = 2e-4\n",
    "\n",
    "siren_optim = torch.optim.Adam(lr=lr, params=siren.parameters())\n",
    "cnn_optim = torch.optim.Adam(lr=lr, params=cnn.parameters())\n",
    "\n",
    "# def l2_loss(out, ground_truth): \n",
    "#     return ((out - ground_truth)**2).mean()\n",
    "\n",
    "# criterion = l2_loss\n",
    "\n",
    "criterion = nn.BCELoss()"
   ]
  },
  {
   "cell_type": "markdown",
   "metadata": {},
   "source": [
    "#####  Random coords subsample"
   ]
  },
  {
   "cell_type": "code",
   "execution_count": 8,
   "metadata": {},
   "outputs": [],
   "source": [
    "def choose_random_coords(coords, pcmra_array, mask_array, n=1000): \n",
    "    mx = coords.shape[1]\n",
    "    rand_idx = random.sample(range(mx), n)\n",
    "\n",
    "    coords = coords[:, rand_idx, :]\n",
    "    pcmra_array = pcmra_array[:, rand_idx, :]\n",
    "    mask_array = mask_array[:, rand_idx, :]\n",
    "\n",
    "    return coords, pcmra_array, mask_array"
   ]
  },
  {
   "cell_type": "markdown",
   "metadata": {},
   "source": [
    "#### Image generation and model saving functions "
   ]
  },
  {
   "cell_type": "code",
   "execution_count": 9,
   "metadata": {},
   "outputs": [],
   "source": [
    "def get_complete_image(pcmra, coords, val_n = 10000): \n",
    "    \n",
    "    cnn.eval()\n",
    "    siren.eval()\n",
    "    \n",
    "    image = torch.Tensor([]).cuda()\n",
    "    \n",
    "    cnn_out = cnn(pcmra)\n",
    "    \n",
    "    n_slices = math.ceil(coords.shape[1] / val_n)    \n",
    "    for i in range(n_slices):\n",
    "        s_e = (i * val_n, (i+1) * val_n)\n",
    "        \n",
    "        coords_in = coords[:, s_e[0] : s_e[1], :]\n",
    "        z = cnn_out.unsqueeze(0).repeat(1, coords_in.shape[1], 1)\n",
    "        siren_in = torch.cat((coords_in, z), 2)\n",
    "\n",
    "        siren_out = siren(siren_in)\n",
    "    \n",
    "        image = torch.cat((image, siren_out.detach()), 1)\n",
    "    \n",
    "    cnn.train()\n",
    "    cnn.train()\n",
    "    \n",
    "    return image \n",
    "\n",
    "\n",
    "def save_model(best_loss, losses, dataset=\"train\"):\n",
    "    mean, std = round(np.mean(losses), 6), round(np.std(losses), 6)\n",
    "\n",
    "    print(f\"{dataset} \\t mean loss: {mean} \\t std: {std}\")\n",
    "\n",
    "    if mean < best_loss: \n",
    "        best_loss = mean\n",
    "        print(f\"New best {dataset} loss, saving model.\")\n",
    "\n",
    "        torch.save(cnn.state_dict(), f\"Models/{folder}/cnn_{dataset}.pt\")\n",
    "        torch.save(siren.state_dict(), f\"Models/{folder}/siren_{dataset}.pt\")\n",
    "\n",
    "    return best_loss     "
   ]
  },
  {
   "cell_type": "markdown",
   "metadata": {},
   "source": [
    "#### Alter optimizers"
   ]
  },
  {
   "cell_type": "code",
   "execution_count": 10,
   "metadata": {},
   "outputs": [],
   "source": [
    "# lr = 1e-3\n",
    "# cnn_optim.param_groups[0]['lr'] = lr\n",
    "# siren_optim.param_groups[0]['lr'] = lr\n"
   ]
  },
  {
   "cell_type": "markdown",
   "metadata": {
    "scrolled": true
   },
   "source": [
    "#### Train model\n",
    "for pcmra array with linear output, 0.000500 is good\n",
    "for mask with sigmoid output and BCE, 0.02 is good. "
   ]
  },
  {
   "cell_type": "code",
   "execution_count": 13,
   "metadata": {
    "scrolled": true
   },
   "outputs": [
    {
     "name": "stdout",
     "output_type": "stream",
     "text": [
      "Creating path \\Models\\27-03-2021 10:59:59 \n",
      "Epoch 0 took 0 seconds.\n",
      "train \t mean loss: 0.269065 \t std: 0.0\n",
      "New best train loss, saving model.\n",
      "val \t mean loss: 0.338361 \t std: 0.0\n",
      "New best val loss, saving model.\n",
      "\n",
      "Epoch 10 took 0 seconds.\n",
      "train \t mean loss: 0.217049 \t std: 0.0\n",
      "New best train loss, saving model.\n",
      "val \t mean loss: 0.319573 \t std: 0.0\n",
      "New best val loss, saving model.\n",
      "\n",
      "Epoch 20 took 0 seconds.\n",
      "train \t mean loss: 0.191845 \t std: 0.0\n",
      "New best train loss, saving model.\n",
      "val \t mean loss: 0.284191 \t std: 0.0\n",
      "New best val loss, saving model.\n",
      "\n",
      "Epoch 30 took 0 seconds.\n",
      "train \t mean loss: 0.171796 \t std: 0.0\n",
      "New best train loss, saving model.\n",
      "val \t mean loss: 0.275185 \t std: 0.0\n",
      "New best val loss, saving model.\n",
      "\n",
      "Epoch 40 took 0 seconds.\n",
      "train \t mean loss: 0.158582 \t std: 0.0\n",
      "New best train loss, saving model.\n",
      "val \t mean loss: 0.273995 \t std: 0.0\n",
      "New best val loss, saving model.\n",
      "\n",
      "Epoch 50 took 0 seconds.\n",
      "train \t mean loss: 0.156853 \t std: 0.0\n",
      "New best train loss, saving model.\n",
      "val \t mean loss: 0.274072 \t std: 0.0\n",
      "\n",
      "Epoch 60 took 0 seconds.\n",
      "train \t mean loss: 0.160808 \t std: 0.0\n",
      "val \t mean loss: 0.275121 \t std: 0.0\n",
      "\n",
      "Epoch 70 took 0 seconds.\n",
      "train \t mean loss: 0.153502 \t std: 0.0\n",
      "New best train loss, saving model.\n",
      "val \t mean loss: 0.27612 \t std: 0.0\n",
      "\n",
      "Epoch 80 took 0 seconds.\n",
      "train \t mean loss: 0.155417 \t std: 0.0\n",
      "val \t mean loss: 0.277154 \t std: 0.0\n",
      "\n",
      "Epoch 90 took 0 seconds.\n",
      "train \t mean loss: 0.157756 \t std: 0.0\n",
      "val \t mean loss: 0.274947 \t std: 0.0\n",
      "\n",
      "Epoch 100 took 0 seconds.\n",
      "train \t mean loss: 0.153213 \t std: 0.0\n",
      "New best train loss, saving model.\n",
      "val \t mean loss: 0.278939 \t std: 0.0\n",
      "\n",
      "Epoch 110 took 0 seconds.\n",
      "train \t mean loss: 0.152374 \t std: 0.0\n",
      "New best train loss, saving model.\n",
      "val \t mean loss: 0.27805 \t std: 0.0\n",
      "\n",
      "Epoch 120 took 0 seconds.\n",
      "train \t mean loss: 0.157693 \t std: 0.0\n",
      "val \t mean loss: 0.272228 \t std: 0.0\n",
      "New best val loss, saving model.\n",
      "\n",
      "Epoch 130 took 0 seconds.\n",
      "train \t mean loss: 0.162238 \t std: 0.0\n",
      "val \t mean loss: 0.273241 \t std: 0.0\n",
      "\n",
      "Epoch 140 took 0 seconds.\n",
      "train \t mean loss: 0.14922 \t std: 0.0\n",
      "New best train loss, saving model.\n",
      "val \t mean loss: 0.274946 \t std: 0.0\n",
      "\n",
      "Epoch 150 took 0 seconds.\n",
      "train \t mean loss: 0.153885 \t std: 0.0\n",
      "val \t mean loss: 0.283701 \t std: 0.0\n",
      "\n",
      "Epoch 160 took 0 seconds.\n",
      "train \t mean loss: 0.15612 \t std: 0.0\n",
      "val \t mean loss: 0.279473 \t std: 0.0\n",
      "\n",
      "Epoch 170 took 0 seconds.\n",
      "train \t mean loss: 0.151506 \t std: 0.0\n",
      "val \t mean loss: 0.280401 \t std: 0.0\n",
      "\n",
      "Epoch 180 took 0 seconds.\n",
      "train \t mean loss: 0.171624 \t std: 0.0\n",
      "val \t mean loss: 0.280364 \t std: 0.0\n",
      "\n",
      "Epoch 190 took 0 seconds.\n",
      "train \t mean loss: 0.152911 \t std: 0.0\n",
      "val \t mean loss: 0.283124 \t std: 0.0\n",
      "\n",
      "Epoch 200 took 0 seconds.\n",
      "train \t mean loss: 0.150138 \t std: 0.0\n",
      "val \t mean loss: 0.28433 \t std: 0.0\n",
      "\n",
      "Epoch 210 took 0 seconds.\n",
      "train \t mean loss: 0.122049 \t std: 0.0\n",
      "New best train loss, saving model.\n",
      "val \t mean loss: 0.261827 \t std: 0.0\n",
      "New best val loss, saving model.\n",
      "\n",
      "Epoch 220 took 0 seconds.\n",
      "train \t mean loss: 0.114895 \t std: 0.0\n",
      "New best train loss, saving model.\n",
      "val \t mean loss: 0.258063 \t std: 0.0\n",
      "New best val loss, saving model.\n",
      "\n",
      "Epoch 230 took 0 seconds.\n",
      "train \t mean loss: 0.111341 \t std: 0.0\n",
      "New best train loss, saving model.\n",
      "val \t mean loss: 0.278515 \t std: 0.0\n",
      "\n",
      "Epoch 240 took 0 seconds.\n",
      "train \t mean loss: 0.112895 \t std: 0.0\n",
      "val \t mean loss: 0.270876 \t std: 0.0\n",
      "\n",
      "Epoch 250 took 0 seconds.\n",
      "train \t mean loss: 0.097715 \t std: 0.0\n",
      "New best train loss, saving model.\n",
      "val \t mean loss: 0.275136 \t std: 0.0\n",
      "\n",
      "Epoch 260 took 0 seconds.\n",
      "train \t mean loss: 0.087038 \t std: 0.0\n",
      "New best train loss, saving model.\n",
      "val \t mean loss: 0.27232 \t std: 0.0\n",
      "\n",
      "Epoch 270 took 0 seconds.\n",
      "train \t mean loss: 0.066153 \t std: 0.0\n",
      "New best train loss, saving model.\n",
      "val \t mean loss: 0.286228 \t std: 0.0\n",
      "\n",
      "Epoch 280 took 0 seconds.\n",
      "train \t mean loss: 0.083259 \t std: 0.0\n",
      "val \t mean loss: 0.274279 \t std: 0.0\n",
      "\n",
      "Epoch 290 took 0 seconds.\n",
      "train \t mean loss: 0.073561 \t std: 0.0\n",
      "val \t mean loss: 0.298637 \t std: 0.0\n",
      "\n",
      "Epoch 300 took 0 seconds.\n",
      "train \t mean loss: 0.041318 \t std: 0.0\n",
      "New best train loss, saving model.\n",
      "val \t mean loss: 0.317514 \t std: 0.0\n",
      "\n",
      "Epoch 310 took 0 seconds.\n",
      "train \t mean loss: 0.043647 \t std: 0.0\n",
      "val \t mean loss: 0.334857 \t std: 0.0\n",
      "\n",
      "Epoch 320 took 0 seconds.\n",
      "train \t mean loss: 0.032037 \t std: 0.0\n",
      "New best train loss, saving model.\n",
      "val \t mean loss: 0.3302 \t std: 0.0\n",
      "\n",
      "Epoch 330 took 0 seconds.\n",
      "train \t mean loss: 0.041691 \t std: 0.0\n",
      "val \t mean loss: 0.345515 \t std: 0.0\n",
      "\n",
      "Epoch 340 took 0 seconds.\n",
      "train \t mean loss: 0.035097 \t std: 0.0\n",
      "val \t mean loss: 0.341009 \t std: 0.0\n",
      "\n",
      "Epoch 350 took 0 seconds.\n",
      "train \t mean loss: 0.029374 \t std: 0.0\n",
      "New best train loss, saving model.\n",
      "val \t mean loss: 0.354574 \t std: 0.0\n",
      "\n",
      "Epoch 360 took 0 seconds.\n",
      "train \t mean loss: 0.029116 \t std: 0.0\n",
      "New best train loss, saving model.\n",
      "val \t mean loss: 0.370862 \t std: 0.0\n",
      "\n",
      "Epoch 370 took 0 seconds.\n",
      "train \t mean loss: 0.027616 \t std: 0.0\n",
      "New best train loss, saving model.\n",
      "val \t mean loss: 0.370049 \t std: 0.0\n",
      "\n",
      "Epoch 380 took 0 seconds.\n",
      "train \t mean loss: 0.02971 \t std: 0.0\n",
      "val \t mean loss: 0.375898 \t std: 0.0\n",
      "\n",
      "Epoch 390 took 0 seconds.\n",
      "train \t mean loss: 0.042941 \t std: 0.0\n",
      "val \t mean loss: 0.385888 \t std: 0.0\n",
      "\n",
      "Epoch 400 took 0 seconds.\n",
      "train \t mean loss: 0.024446 \t std: 0.0\n",
      "New best train loss, saving model.\n",
      "val \t mean loss: 0.376948 \t std: 0.0\n",
      "\n",
      "Epoch 410 took 0 seconds.\n",
      "train \t mean loss: 0.021272 \t std: 0.0\n",
      "New best train loss, saving model.\n",
      "val \t mean loss: 0.393143 \t std: 0.0\n",
      "\n",
      "Epoch 420 took 0 seconds.\n",
      "train \t mean loss: 0.024342 \t std: 0.0\n",
      "val \t mean loss: 0.396063 \t std: 0.0\n",
      "\n",
      "Epoch 430 took 0 seconds.\n",
      "train \t mean loss: 0.02097 \t std: 0.0\n",
      "New best train loss, saving model.\n",
      "val \t mean loss: 0.392407 \t std: 0.0\n",
      "\n",
      "Epoch 440 took 0 seconds.\n",
      "train \t mean loss: 0.020549 \t std: 0.0\n",
      "New best train loss, saving model.\n",
      "val \t mean loss: 0.401805 \t std: 0.0\n",
      "\n",
      "Epoch 450 took 0 seconds.\n",
      "train \t mean loss: 0.029198 \t std: 0.0\n",
      "val \t mean loss: 0.417668 \t std: 0.0\n",
      "\n",
      "Epoch 460 took 0 seconds.\n",
      "train \t mean loss: 0.019631 \t std: 0.0\n",
      "New best train loss, saving model.\n",
      "val \t mean loss: 0.395886 \t std: 0.0\n",
      "\n",
      "Epoch 470 took 0 seconds.\n",
      "train \t mean loss: 0.01723 \t std: 0.0\n",
      "New best train loss, saving model.\n",
      "val \t mean loss: 0.41533 \t std: 0.0\n",
      "\n",
      "Epoch 480 took 0 seconds.\n",
      "train \t mean loss: 0.017799 \t std: 0.0\n",
      "val \t mean loss: 0.420267 \t std: 0.0\n",
      "\n",
      "Epoch 490 took 0 seconds.\n",
      "train \t mean loss: 0.021738 \t std: 0.0\n",
      "val \t mean loss: 0.408718 \t std: 0.0\n",
      "\n"
     ]
    }
   ],
   "source": [
    "epochs = 500\n",
    "print_every = 10\n",
    "\n",
    "# n = 393216\n",
    "n = 30000\n",
    "\n",
    "output_type = \"mask\"\n",
    "dataset = \"complete\"\n",
    "\n",
    "now = datetime.now()\n",
    "dt = now.strftime(\"%d-%m-%Y %H:%M:%S\")\n",
    "\n",
    "folder = f\"{dt} {output_type}_{dataset} dataset_lr {lr}_n {n}\"\n",
    "\n",
    "Path(f\"Models/{folder}\").mkdir(parents=True, exist_ok=True)   \n",
    "print(f\"Creating path \\\\Models\\\\{folder}\")\n",
    "    \n",
    "\n",
    "best_train_loss, best_val_loss = 100000, 100000\n",
    "\n",
    "for ep in range(epochs):\n",
    "    \n",
    "    t = time.time() \n",
    "    \n",
    "    cnn.train()\n",
    "    siren.train()\n",
    "\n",
    "    losses = []\n",
    "    \n",
    "    siren_optim.zero_grad()\n",
    "    cnn_optim.zero_grad()\n",
    "        \n",
    "    for idx, subj, proj, pcmra, coords, pcmra_array, mask_array in train_dataloader:\n",
    "        siren_in, _, siren_labels = choose_random_coords(coords, pcmra_array, mask_array, n=n)\n",
    "\n",
    "        cnn_out = cnn(pcmra)\n",
    "\n",
    "        cnn_out = cnn_out.unsqueeze(0).repeat(1, n, 1)\n",
    "        siren_in = torch.cat((siren_in, cnn_out), 2)\n",
    "\n",
    "        siren_out = siren(siren_in)\n",
    "\n",
    "        loss = criterion(siren_out, siren_labels) \n",
    "        losses.append(loss.item())\n",
    "        \n",
    "        loss = loss / train_ds.__len__()\n",
    "        loss.backward()\n",
    "    \n",
    "    siren_optim.step()\n",
    "    cnn_optim.step()        \n",
    "\n",
    "    if ep % print_every == 0: \n",
    "        \n",
    "        print(f\"Epoch {ep} took {round(time.time() - t)} seconds.\")\n",
    "        \n",
    "        best_train_loss = save_model(best_train_loss, losses, dataset=\"train\")\n",
    "        \n",
    "        val_losses = []\n",
    "        \n",
    "        for idx, subj, proj, pcmra, coords, pcmra_array, mask_array in val_dataloader:    \n",
    "            siren_out = get_complete_image(pcmra, coords)\n",
    "            loss = criterion(siren_out, pcmra_array)            \n",
    "        \n",
    "            val_losses.append(loss.item())\n",
    "            \n",
    "        best_val_loss = save_model(best_val_loss, val_losses, dataset=\"val\")\n",
    "                \n",
    "        print()\n",
    "        "
   ]
  },
  {
   "cell_type": "markdown",
   "metadata": {},
   "source": [
    "#### Show results"
   ]
  },
  {
   "cell_type": "code",
   "execution_count": 38,
   "metadata": {},
   "outputs": [
    {
     "name": "stdout",
     "output_type": "stream",
     "text": [
      "RESV_109.npy, loss: 0.01874643936753273\n"
     ]
    },
    {
     "data": {
      "image/png": "[encoded data removed]",
      "text/plain": [
       "<Figure size 864x864 with 3 Axes>"
      ]
     },
     "metadata": {
      "needs_background": "light"
     },
     "output_type": "display_data"
    }
   ],
   "source": [
    "idx, subj, proj, pcmra, coords, pcmra_array, mask_array = train_ds[0]\n",
    "pcmra, coords = pcmra.unsqueeze(0), coords.unsqueeze(0)\n",
    "pcmra_array, mask_array =  pcmra_array.unsqueeze(0), mask_array.unsqueeze(0)\n",
    "\n",
    "siren_out = get_complete_image(pcmra, coords)\n",
    "loss = criterion(siren_out, mask_array)            \n",
    "\n",
    "print(f\"{subj}, loss: {loss}\")\n",
    "\n",
    "slic = 16\n",
    "\n",
    "fig, axes = plt.subplots(1, 3, figsize=(12,12))\n",
    "axes[0].imshow(pcmra_array.cpu().view(128, 128, 24).detach().numpy()[:, :, slic])\n",
    "axes[1].imshow(mask_array.cpu().view(128, 128, 24).detach().numpy()[:, :, slic])\n",
    "axes[2].imshow(siren_out.cpu().view(128, 128, 24).detach().numpy().round()[:, :, slic])\n",
    "\n",
    "plt.show()"
   ]
  },
  {
   "cell_type": "code",
   "execution_count": null,
   "metadata": {
    "scrolled": false
   },
   "outputs": [],
   "source": [
    "for idx, subj, proj, pcmra, coords, pcmra_array, mask_array in val_dataloader: \n",
    "    \n",
    "    print(subj) \n",
    "    \n",
    "    siren_out = get_complete_image(pcmra, coords)\n",
    "    loss = criterion(siren_out, pcmra_array)            \n",
    "\n",
    "    slic = 12\n",
    "\n",
    "    fig, axes = plt.subplots(1, 2, figsize=(12,12))\n",
    "    axes[1].imshow(siren_out.cpu().view(128, 128, 24).detach().numpy()[:, :, slic])\n",
    "    axes[0].imshow(pcmra_array.cpu().view(128, 128, 24).detach().numpy()[:, :, slic])\n",
    "\n",
    "    plt.show()"
   ]
  },
  {
   "cell_type": "code",
   "execution_count": null,
   "metadata": {},
   "outputs": [],
   "source": []
  },
  {
   "cell_type": "code",
   "execution_count": null,
   "metadata": {},
   "outputs": [],
   "source": []
  }
 ],
 "metadata": {
  "kernelspec": {
   "display_name": "Python 3.6.8 64-bit",
   "language": "python",
   "name": "python36864bitc17f53f707db4b89be7c32a22adf91a3"
  },
  "language_info": {
   "codemirror_mode": {
    "name": "ipython",
    "version": 3
   },
   "file_extension": ".py",
   "mimetype": "text/x-python",
   "name": "python",
   "nbconvert_exporter": "python",
   "pygments_lexer": "ipython3",
   "version": "3.6.8"
  }
 },
 "nbformat": 4,
 "nbformat_minor": 4
}
