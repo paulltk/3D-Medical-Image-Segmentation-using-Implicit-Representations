{
 "cells": [
  {
   "cell_type": "code",
   "execution_count": 7,
   "metadata": {},
   "outputs": [],
   "source": [
    "import torch\n",
    "from torch import nn\n",
    "import torch.nn.functional as F\n",
    "from torch.utils.data import DataLoader, Dataset\n",
    "import os\n",
    "\n",
    "from PIL import Image\n",
    "from torchvision.transforms import Resize, Compose, ToTensor, Normalize\n",
    "import numpy as np\n",
    "import skimage\n",
    "import matplotlib.pyplot as plt\n",
    "\n",
    "import time\n",
    "import pickle\n",
    "\n",
    "from datetime import datetime\n",
    "from pathlib import Path"
   ]
  },
  {
   "cell_type": "code",
   "execution_count": 170,
   "metadata": {},
   "outputs": [],
   "source": [
    "class ConvLayer(nn.Module):\n",
    "    def __init__(self, in_channels, out_channels, \n",
    "                 kernel_size, stride, padding, \n",
    "                 activation=\"relu\", max_pool=None, layer_norm=None):\n",
    "        \n",
    "        super(ConvLayer, self).__init__()\n",
    "        \n",
    "        net = [nn.Conv3d(in_channels, out_channels, kernel_size=kernel_size, \n",
    "                         stride=stride, padding=padding)]\n",
    "        \n",
    "        if activation == \"relu\":\n",
    "            net.append(nn.ReLU())\n",
    "        \n",
    "        elif activation == \"leakyrelu\": \n",
    "            net.append(nn.LeakyReLU())\n",
    "        \n",
    "        if max_pool: \n",
    "            net.append(nn.MaxPool3d(max_pool)) # add max_pooling\n",
    "            \n",
    "        if layer_norm: \n",
    "            net.append(nn.LayerNorm(layer_norm)) # add layer normalization\n",
    "        \n",
    "        self.model = nn.Sequential(*net)\n",
    "        \n",
    "    def forward(self, input):\n",
    "        out = self.model(input)\n",
    "        return out\n",
    "    \n",
    "\n",
    "class Flatten(nn.Module):\n",
    "    \"\"\" Reshapes a 4d matrix to a 2d matrix. \"\"\"\n",
    "    def forward(self, input):\n",
    "        return input.view(input.size(0), -1)\n",
    "        \n",
    "\n",
    "class ReshapeTensor(nn.Module):\n",
    "    def __init__(self, size): \n",
    "        super(ReshapeTensor, self).__init__()\n",
    "        self.size = size\n",
    "                \n",
    "    def forward(self, input):\n",
    "        return input.reshape([input.shape[0]] + self.size)"
   ]
  },
  {
   "cell_type": "markdown",
   "metadata": {},
   "source": [
    "## Combi 1"
   ]
  },
  {
   "cell_type": "code",
   "execution_count": null,
   "metadata": {},
   "outputs": [],
   "source": [
    "class CNN1(nn.Module):\n",
    "\n",
    "    def __init__(self):\n",
    "        \n",
    "        super(CNN1, self).__init__()\n",
    "        \n",
    "        self.model = nn.Sequential(\n",
    "            ConvLayer(1,   16,  kernel_size=5, stride=1, padding=2, activation=\"relu\", layer_norm=(24, 64, 64)),\n",
    "            ConvLayer(16,  16,  kernel_size=5, stride=2, padding=2, activation=\"relu\", layer_norm=(12, 32, 32)),\n",
    "            ConvLayer(16,  32,  kernel_size=5, stride=1, padding=2, activation=\"relu\", layer_norm=(12, 32, 32)),\n",
    "            ConvLayer(32,  32,  kernel_size=5, stride=2, padding=2, activation=\"relu\", layer_norm=(6, 16, 16)),\n",
    "            ConvLayer(32,  64,  kernel_size=5, stride=1, padding=2, activation=\"relu\", layer_norm=(6, 16, 16)),\n",
    "            ConvLayer(64,  64,  kernel_size=5, stride=2, padding=2, activation=\"relu\", layer_norm=(3, 8, 8)),\n",
    "            ConvLayer(64,  128, kernel_size=5, stride=1, padding=2, activation=\"relu\", layer_norm=(3, 8, 8)),\n",
    "            ConvLayer(128, 128, kernel_size=5, stride=2, padding=2, activation=\"relu\", layer_norm=(2, 4, 4)),\n",
    "            \n",
    "            Flatten(),\n",
    "        )\n",
    "\n",
    "    def forward(self, x):\n",
    "        out = self.model(x)\n",
    "            \n",
    "        return out"
   ]
  },
  {
   "cell_type": "code",
   "execution_count": 176,
   "metadata": {},
   "outputs": [],
   "source": [
    "class Mapping1(nn.Module):\n",
    "\n",
    "    def __init__(self):\n",
    "        super(Mapping1, self).__init__()\n",
    "        \n",
    "        self.model = nn.Sequential(nn.Linear(in_features=4096, out_features=2048, bias=True),\n",
    "                                   nn.LeakyReLU(.2),\n",
    "                                   \n",
    "                                   nn.Linear(in_features=2048, out_features=1024, bias=True),\n",
    "                                   nn.LeakyReLU(.2),\n",
    "                                   \n",
    "                                   nn.Linear(1024, 512), \n",
    "                                   ReshapeTensor([2, 256]))\n",
    "        \n",
    "    def forward(self, x):\n",
    "        out = self.model(x)  \n",
    "        \n",
    "        return out[:, 0, :], out[:, 1, :]"
   ]
  },
  {
   "cell_type": "code",
   "execution_count": 177,
   "metadata": {},
   "outputs": [],
   "source": [
    "class Mapping2(nn.Module):\n",
    "\n",
    "    def __init__(self):\n",
    "        super(Mapping2, self).__init__()\n",
    "        \n",
    "        self.model = nn.Sequential(nn.Linear(in_features=4096, out_features=2048, bias=True),\n",
    "                                   nn.LeakyReLU(.2),\n",
    "                                   \n",
    "                                   nn.Linear(in_features=2048, out_features=1024, bias=True),\n",
    "                                   nn.LeakyReLU(.2),\n",
    "                                   \n",
    "                                   nn.Linear(1024, 2048), \n",
    "                                   ReshapeTensor([8, 256]))\n",
    "        \n",
    "    def forward(self, x):\n",
    "        out = self.model(x)  \n",
    "                \n",
    "        return out[:, :4, :], out[:, 4:, :]"
   ]
  },
  {
   "cell_type": "markdown",
   "metadata": {},
   "source": [
    "## Combi 2 "
   ]
  },
  {
   "cell_type": "code",
   "execution_count": 175,
   "metadata": {},
   "outputs": [],
   "source": [
    "class CNN2(nn.Module):\n",
    "\n",
    "    def __init__(self):\n",
    "        \n",
    "        super(CNN2, self).__init__()\n",
    "        \n",
    "        self.model = nn.Sequential(\n",
    "            ConvLayer(1,   16,  kernel_size=5, stride=1, padding=2, activation=\"relu\", layer_norm=(24, 64, 64)),\n",
    "            ConvLayer(16,  16,  kernel_size=5, stride=2, padding=2, activation=\"relu\", layer_norm=(12, 32, 32)),\n",
    "            ConvLayer(16,  32,  kernel_size=5, stride=1, padding=2, activation=\"relu\", layer_norm=(12, 32, 32)),\n",
    "            ConvLayer(32,  32,  kernel_size=5, stride=2, padding=2, activation=\"relu\", layer_norm=(6, 16, 16)),\n",
    "            ConvLayer(32,  64,  kernel_size=5, stride=1, padding=2, activation=\"relu\", layer_norm=(6, 16, 16)),\n",
    "            ConvLayer(64,  64,  kernel_size=5, stride=2, padding=2, activation=\"relu\", layer_norm=(3, 8, 8)),\n",
    "            ConvLayer(64,  128, kernel_size=5, stride=1, padding=2, activation=\"relu\", layer_norm=(3, 8, 8)),\n",
    "            ConvLayer(128, 128, kernel_size=5, stride=2, padding=2, activation=\"relu\", layer_norm=(2, 4, 4)),\n",
    "            \n",
    "            Flatten(),\n",
    "            \n",
    "            nn.Linear(in_features=4096, out_features=2048, bias=True),\n",
    "            nn.LeakyReLU(.2),\n",
    "\n",
    "            nn.Linear(in_features=2048, out_features=1024, bias=True),\n",
    "            nn.LeakyReLU(.2),\n",
    "         )\n",
    "\n",
    "    def forward(self, x):\n",
    "        out = self.model(x)\n",
    "            \n",
    "        return out"
   ]
  },
  {
   "cell_type": "code",
   "execution_count": 172,
   "metadata": {},
   "outputs": [],
   "source": [
    "class Mapping3(nn.Module):\n",
    "\n",
    "    def __init__(self):\n",
    "        super(Mapping3, self).__init__()\n",
    "        \n",
    "        self.model = nn.Sequential(nn.Linear(1024, 512), \n",
    "                                   ReshapeTensor([2, 256]))\n",
    "        \n",
    "    def forward(self, x):\n",
    "        out = self.model(x)  \n",
    "        \n",
    "        return out[:, 0, :], out[:, 1, :]"
   ]
  },
  {
   "cell_type": "code",
   "execution_count": null,
   "metadata": {
    "scrolled": true
   },
   "outputs": [],
   "source": [
    "class Mapping4(nn.Module):\n",
    "\n",
    "    def __init__(self):\n",
    "        super(Mapping4, self).__init__()\n",
    "        \n",
    "        self.model = nn.Sequential(nn.Linear(1024, 2048), \n",
    "                                   ReshapeTensor([8, 256]))\n",
    "        \n",
    "    def forward(self, x):\n",
    "        out = self.model(x)  \n",
    "        \n",
    "        return out[:, :4, :], out[:, 4:, :]"
   ]
  },
  {
   "cell_type": "code",
   "execution_count": null,
   "metadata": {},
   "outputs": [],
   "source": []
  },
  {
   "cell_type": "code",
   "execution_count": 1,
   "metadata": {
    "scrolled": true
   },
   "outputs": [
    {
     "name": "stdout",
     "output_type": "stream",
     "text": [
      "Imported Model function.\n"
     ]
    }
   ],
   "source": [
    "print(\"Imported CNN and Mapping functions.\")"
   ]
  },
  {
   "cell_type": "code",
   "execution_count": null,
   "metadata": {},
   "outputs": [],
   "source": []
  }
 ],
 "metadata": {
  "kernelspec": {
   "display_name": "Python 3.6.8 64-bit",
   "language": "python",
   "name": "python36864bitc17f53f707db4b89be7c32a22adf91a3"
  },
  "language_info": {
   "codemirror_mode": {
    "name": "ipython",
    "version": 3
   },
   "file_extension": ".py",
   "mimetype": "text/x-python",
   "name": "python",
   "nbconvert_exporter": "python",
   "pygments_lexer": "ipython3",
   "version": "3.6.8"
  }
 },
 "nbformat": 4,
 "nbformat_minor": 4
}
