{
 "cells": [
  {
   "cell_type": "code",
   "execution_count": 1,
   "metadata": {},
   "outputs": [],
   "source": [
    "import torch\n",
    "from torch import nn\n",
    "import torch.nn.functional as F\n",
    "from torch.utils.data import DataLoader, Dataset\n",
    "import os\n",
    "\n",
    "from PIL import Image\n",
    "from torchvision.transforms import Resize, Compose, ToTensor, Normalize\n",
    "import numpy as np\n",
    "import skimage\n",
    "import matplotlib.pyplot as plt\n",
    "\n",
    "import time\n",
    "import pickle\n",
    "\n",
    "from datetime import datetime\n",
    "from pathlib import Path"
   ]
  },
  {
   "cell_type": "code",
   "execution_count": 32,
   "metadata": {},
   "outputs": [],
   "source": [
    "class Flatten(nn.Module):\n",
    "    \"\"\" Reshapes a 4d matrix to a 2d matrix. \"\"\"\n",
    "    def forward(self, input):\n",
    "        return input.view(input.size(0), -1)\n",
    "    \n",
    "    \n",
    "class SplitTensor(nn.Module):\n",
    "    def __init__(self, n_tensors, tensor_size): \n",
    "        self.n_tensors = n_tensors\n",
    "        self.tensor_size = tensor_size\n",
    "        \n",
    "        \n",
    "    def forward(self, input):\n",
    "        tensors = []\n",
    "        for i in self.n_tensors: \n",
    "            tensors.append(input[:, i*self.array_size : (i+1)*self.array_size])\n",
    "        return tensors\n",
    "    \n",
    "class CNN(nn.Module):\n",
    "\n",
    "    def __init__(self, conv_layers):\n",
    "        \n",
    "        super(CNN, self).__init__()\n",
    "        \n",
    "        self.model = []\n",
    "        self.split = False\n",
    "        \n",
    "        for layer in conv_layers:\n",
    "            if layer[\"type\"] == \"conv\": \n",
    "                self.model.append(nn.Conv3d(in_channels=layer[\"in\"], out_channels=layer[\"out\"], \n",
    "                                            kernel_size=layer[\"ker\"], stride=layer[\"str\"],\n",
    "                                            padding=layer[\"pad\"]))\n",
    "                if \"act\" in layer.keys() and layer[\"act\"] == \"leakyrelu\": \n",
    "                    self.model.append(nn.LeakyReLU(0.2))\n",
    "                if \"act\" in layer.keys() and layer[\"act\"] == \"relu\":\n",
    "                    self.model.append(nn.ReLU())\n",
    "                    \n",
    "                \n",
    "            elif layer[\"type\"] == \"lin\": \n",
    "                self.model.append(nn.Linear(layer[\"in\"], layer[\"out\"]))\n",
    "                if \"act\" in layer.keys() and layer[\"act\"] == \"leakyrelu\": \n",
    "                    self.model.append(nn.LeakyReLU(0.2))\n",
    "                if \"act\" in layer.keys() and layer[\"act\"] == \"relu\":\n",
    "                    self.model.append(nn.ReLU())\n",
    "            \n",
    "            elif layer[\"type\"] == \"flatten\": \n",
    "                self.model.append(Flatten())  \n",
    "            \n",
    "            elif layer[\"type\"] == \"split\": \n",
    "                self.split = True\n",
    "                self.n_tensors = layer[\"n_tensors\"]\n",
    "                self.tensor_size = layer[\"tensor_size\"]\n",
    "            \n",
    "            else: \n",
    "                raise(Exception(\"CNN layer type must be one of [conv, lin, flatten, split].\"))\n",
    "            \n",
    "            if \"max\" in layer.keys(): \n",
    "                self.model.append(nn.MaxPool3d(layer[\"max\"], stride=layer[\"max\"], ceil_mode=True))\n",
    "            \n",
    "            if \"norm\" in layer.keys() and layer[\"norm\"] != None: \n",
    "                if layer[\"norm\"] == \"layer\": \n",
    "                    self.model.append(nn.LayerNorm(layer[\"ln\"]))\n",
    "            \n",
    "            if \"drop\" in layer.keys() and layer[\"drop\"] != None: \n",
    "                self.model.append(nn.Dropout(layer[\"drop\"]))\n",
    "            \n",
    "        self.model = nn.Sequential(*self.model)\n",
    "\n",
    "\n",
    "    def forward(self, x):\n",
    "        out = self.model(x)\n",
    "        \n",
    "        if self.split: \n",
    "            out = [out[:, i*self.tensor_size : (i+1)*self.tensor_size] for i in range(self.n_tensors)]\n",
    "            \n",
    "        return out"
   ]
  },
  {
   "cell_type": "code",
   "execution_count": 33,
   "metadata": {
    "scrolled": true
   },
   "outputs": [
    {
     "name": "stdout",
     "output_type": "stream",
     "text": [
      "Imported CNN model.\n"
     ]
    }
   ],
   "source": [
    "print(\"Imported CNN model.\")"
   ]
  },
  {
   "cell_type": "code",
   "execution_count": 38,
   "metadata": {},
   "outputs": [
    {
     "name": "stdout",
     "output_type": "stream",
     "text": [
      "CNN(\n",
      "  (model): Sequential(\n",
      "    (0): Conv3d(1, 16, kernel_size=(3, 3, 3), stride=(2, 2, 2), padding=(1, 1, 1))\n",
      "    (1): ReLU()\n",
      "    (2): Conv3d(16, 32, kernel_size=(3, 3, 3), stride=(2, 2, 2), padding=(1, 1, 1))\n",
      "    (3): ReLU()\n",
      "    (4): Conv3d(32, 64, kernel_size=(3, 3, 3), stride=(2, 2, 2), padding=(1, 1, 1))\n",
      "    (5): ReLU()\n",
      "    (6): Conv3d(64, 128, kernel_size=(3, 3, 3), stride=(2, 2, 2), padding=(1, 1, 1))\n",
      "    (7): ReLU()\n",
      "  )\n",
      ")\n",
      "torch.Size([1, 128, 2, 4, 4])\n"
     ]
    }
   ],
   "source": [
    "# tensor = torch.randn((1, 1, 24, 64, 64))\n",
    "# # print(tensor.shape)\n",
    "\n",
    "\n",
    "# # output cnn torch.Size([1, 128, 2, 4, 4])\n",
    "# # maxpool, small kernel, small linear\n",
    "# cnn = CNN([{\"type\": \"conv\", \"in\": 1, \"out\": 16, \"ker\": 3, \"str\": 2, \"pad\": 1, \"act\": \"relu\"}\n",
    "#            , {\"type\": \"conv\", \"in\": 16, \"out\": 32, \"ker\": 3, \"str\": 2, \"pad\": 1, \"act\": \"relu\"} \n",
    "#            , {\"type\": \"conv\", \"in\": 32, \"out\": 64, \"ker\": 3, \"str\": 2, \"pad\": 1, \"act\": \"relu\"}\n",
    "#            , {\"type\": \"conv\", \"in\": 64, \"out\": 128, \"ker\": 3, \"str\": 2, \"pad\": 1, \"act\": \"relu\"}\n",
    "#            , {\"type\": \"flatten\"}\n",
    "#            , {\"type\": \"lin\", \"in\": 4096, \"out\": 128, \"act\": \"leakyrelu\"}\n",
    "#            , {\"type\": \"lin\", \"in\": 128, \"out\": 128, \"act\": \"leakyrelu\"}\n",
    "#            , {\"type\": \"lin\", \"in\": 128, \"out\": 128, \"act\": \"leakyrelu\"}\n",
    "#            , {\"type\": \"lin\", \"in\": 128, \"out\": 128, \"act\": \"leakyrelu\"}\n",
    "#            , {\"type\": \"lin\", \"in\": 128, \"out\": 512}\n",
    "#            , {\"type\": \"split\", \"n_tensors\": 2, \"tensor_size\": 256}\n",
    "#           ])\n",
    "\n",
    "# print(cnn)\n",
    "\n",
    "# out = cnn(tensor)\n",
    "\n",
    "# # print(out[0].shape)\n",
    "# print(out.shape)"
   ]
  },
  {
   "cell_type": "code",
   "execution_count": null,
   "metadata": {},
   "outputs": [],
   "source": []
  }
 ],
 "metadata": {
  "kernelspec": {
   "display_name": "Python 3.6.8 64-bit",
   "language": "python",
   "name": "python36864bitc17f53f707db4b89be7c32a22adf91a3"
  },
  "language_info": {
   "codemirror_mode": {
    "name": "ipython",
    "version": 3
   },
   "file_extension": ".py",
   "mimetype": "text/x-python",
   "name": "python",
   "nbconvert_exporter": "python",
   "pygments_lexer": "ipython3",
   "version": "3.6.8"
  }
 },
 "nbformat": 4,
 "nbformat_minor": 4
}
