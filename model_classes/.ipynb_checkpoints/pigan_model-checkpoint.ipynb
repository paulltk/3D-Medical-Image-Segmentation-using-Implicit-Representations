{
 "cells": [
  {
   "cell_type": "code",
   "execution_count": null,
   "metadata": {},
   "outputs": [],
   "source": [
    "import torch\n",
    "from torch import nn\n",
    "import torch.nn.functional as F\n",
    "from torch.utils.data import DataLoader, Dataset\n",
    "import os\n",
    "\n",
    "from PIL import Image\n",
    "from torchvision.transforms import Resize, Compose, ToTensor, Normalize\n",
    "import numpy as np\n",
    "import skimage\n",
    "import matplotlib.pyplot as plt\n",
    "\n",
    "import time\n",
    "import pickle\n",
    "\n",
    "from datetime import datetime\n",
    "from pathlib import Path\n",
    "\n",
    "import math\n",
    "from einops import repeat, rearrange\n"
   ]
  },
  {
   "cell_type": "code",
   "execution_count": null,
   "metadata": {},
   "outputs": [],
   "source": [
    "def exists(val):\n",
    "    return val is not None\n",
    "\n",
    "def leaky_relu(p = 0.2):\n",
    "    return nn.LeakyReLU(p)\n",
    "\n",
    "def to_value(t):\n",
    "    return t.clone().detach().item()\n",
    "\n",
    "def get_module_device(module):\n",
    "    return next(module.parameters()).device"
   ]
  },
  {
   "cell_type": "markdown",
   "metadata": {},
   "source": [
    "#### Mapping Network"
   ]
  },
  {
   "cell_type": "code",
   "execution_count": null,
   "metadata": {},
   "outputs": [],
   "source": [
    "# class EqualLinear(nn.Module):\n",
    "#     def __init__(self, in_dim, out_dim, lr_mul = 0.1, bias = True):\n",
    "#         super().__init__()\n",
    "#         self.weight = nn.Parameter(torch.randn(out_dim, in_dim))\n",
    "#         if bias:\n",
    "#             self.bias = nn.Parameter(torch.zeros(out_dim))\n",
    "\n",
    "#         self.lr_mul = lr_mul\n",
    "\n",
    "#     def forward(self, input):\n",
    "#         return F.linear(input, self.weight * self.lr_mul, bias=self.bias * self.lr_mul)\n",
    "\n",
    "# class MappingNetwork(nn.Module):\n",
    "#     def __init__(self, ARGS, depth = 3, lr_mul = 0.1):\n",
    "#         super().__init__()\n",
    "\n",
    "#         layers = []\n",
    "#         for i in range(depth):\n",
    "#             layers.extend([EqualLinear(ARGS.z_dim, ARGS.z_dim, lr_mul), leaky_relu()])\n",
    "\n",
    "#         self.net = nn.Sequential(*layers)\n",
    "\n",
    "#         self.to_gamma = nn.Linear(ARGS.z_dim, ARGS.dim_hidden)\n",
    "#         self.to_beta = nn.Linear(ARGS.z_dim, ARGS.dim_hidden)\n",
    "\n",
    "#     def forward(self, x):\n",
    "#         x = self.net(x)\n",
    "#         return self.to_gamma(x), self.to_beta(x)"
   ]
  },
  {
   "cell_type": "markdown",
   "metadata": {},
   "source": [
    "##### Siren from Sitzmann paper"
   ]
  },
  {
   "cell_type": "code",
   "execution_count": null,
   "metadata": {},
   "outputs": [],
   "source": [
    "class SineLayer(nn.Module):\n",
    "    def __init__(self, in_features, out_features, bias=True,\n",
    "                 is_first=False, omega_0=30):\n",
    "        super().__init__()\n",
    "        self.omega_0 = omega_0\n",
    "        self.is_first = is_first\n",
    "        \n",
    "        self.in_features = in_features\n",
    "        self.linear = nn.Linear(in_features, out_features, bias=bias)\n",
    "        \n",
    "        self.init_weights()\n",
    "    \n",
    "    def init_weights(self):\n",
    "        with torch.no_grad():\n",
    "            if self.is_first:\n",
    "                self.linear.weight.uniform_(-1 / self.in_features, \n",
    "                                             1 / self.in_features)      \n",
    "            else:\n",
    "                self.linear.weight.uniform_(-np.sqrt(6 / self.in_features) / self.omega_0, \n",
    "                                             np.sqrt(6 / self.in_features) / self.omega_0)\n",
    "        \n",
    "    def forward(self, input, gamma, beta):\n",
    "        out = self.linear(input)\n",
    "        out = self.omega_0 * out\n",
    "        out = gamma * out + beta\n",
    "        return torch.sin(out)\n",
    "    \n",
    "    \n",
    "class Siren(nn.Module):\n",
    "    def __init__(self, ARGS, in_features=3, out_features=1):\n",
    "        super().__init__()\n",
    "        \n",
    "        self.net = nn.ModuleList([])\n",
    "\n",
    "        self.net.append(SineLayer(in_features, ARGS.dim_hidden, \n",
    "                                  is_first=True, omega_0=ARGS.first_omega_0))\n",
    "\n",
    "        for i in range(ARGS.siren_hidden_layers):\n",
    "            self.net.append(SineLayer(ARGS.dim_hidden, ARGS.dim_hidden, \n",
    "                                      is_first=False, omega_0=ARGS.hidden_omega_0))\n",
    "\n",
    "        self.final_linear = nn.Linear(ARGS.dim_hidden, out_features)\n",
    "        \n",
    "        with torch.no_grad():\n",
    "            self.final_linear.weight.uniform_(-np.sqrt(6 / ARGS.dim_hidden) / ARGS.hidden_omega_0, \n",
    "                                          np.sqrt(6 / ARGS.dim_hidden) / ARGS.hidden_omega_0)\n",
    "\n",
    "        self.sigmoid = nn.Sigmoid()\n",
    "            \n",
    "    def forward(self, x, gamma, beta):\n",
    "        for sine_layer in self.net: \n",
    "            x = sine_layer(x, gamma, beta)\n",
    "        \n",
    "        return self.sigmoid(self.final_linear(x))\n",
    "    "
   ]
  },
  {
   "cell_type": "markdown",
   "metadata": {},
   "source": [
    "#### Complete SIREN"
   ]
  },
  {
   "cell_type": "code",
   "execution_count": null,
   "metadata": {},
   "outputs": [],
   "source": [
    "# class SirenGenerator(nn.Module):\n",
    "#     def __init__(self, ARGS):\n",
    "#         super().__init__()\n",
    "\n",
    "#         self.mapping = MappingNetwork(ARGS)\n",
    "\n",
    "#         self.siren = Siren(ARGS, in_features=3, out_features=1)\n",
    "    \n",
    "#     def forward(self, latent, coords):\n",
    "#         gamma, beta = self.mapping(latent)\n",
    "        \n",
    "#         out = self.siren(coords, gamma, beta)\n",
    "        \n",
    "#         return out"
   ]
  },
  {
   "cell_type": "code",
   "execution_count": null,
   "metadata": {},
   "outputs": [],
   "source": [
    "print(\"Imported PI-Gan model.\")"
   ]
  }
 ],
 "metadata": {
  "kernelspec": {
   "display_name": "Python 3.6.8 64-bit",
   "language": "python",
   "name": "python36864bitc17f53f707db4b89be7c32a22adf91a3"
  },
  "language_info": {
   "codemirror_mode": {
    "name": "ipython",
    "version": 3
   },
   "file_extension": ".py",
   "mimetype": "text/x-python",
   "name": "python",
   "nbconvert_exporter": "python",
   "pygments_lexer": "ipython3",
   "version": "3.6.8"
  }
 },
 "nbformat": 4,
 "nbformat_minor": 4
}
