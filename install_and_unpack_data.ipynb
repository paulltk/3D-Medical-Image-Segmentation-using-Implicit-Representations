{
 "cells": [
  {
   "cell_type": "code",
   "execution_count": 1,
   "id": "5d9ad023",
   "metadata": {},
   "outputs": [],
   "source": [
    "!pip install torch==1.7.0+cu110 torchvision==0.8.1+cu110 torchaudio===0.7.0 -f https://download.pytorch.org/whl/torch_stable.html -qqq\n",
    "!pip install kornia -qqq\n",
    "!pip install matplotlib -qqq\n",
    "!pip install wandb -qqq"
   ]
  },
  {
   "cell_type": "code",
   "execution_count": null,
   "id": "20c21c00",
   "metadata": {},
   "outputs": [],
   "source": [
    "import zipfile\n",
    "import os \n",
    "\n",
    "cwd = os.getcwd()\n",
    "\n",
    "with zipfile.ZipFile(os.path.join(cwd, \"Dataset.zip\"), 'r') as zip_ref:\n",
    "    zip_ref.extractall(\"\")"
   ]
  }
 ],
 "metadata": {
  "kernelspec": {
   "display_name": "Python 3",
   "language": "python",
   "name": "python3"
  },
  "language_info": {
   "codemirror_mode": {
    "name": "ipython",
    "version": 3
   },
   "file_extension": ".py",
   "mimetype": "text/x-python",
   "name": "python",
   "nbconvert_exporter": "python",
   "pygments_lexer": "ipython3",
   "version": "3.7.4"
  }
 },
 "nbformat": 4,
 "nbformat_minor": 5
}
