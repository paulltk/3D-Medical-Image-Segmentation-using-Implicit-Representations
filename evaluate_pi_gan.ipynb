{
 "cells": [
  {
   "cell_type": "code",
   "execution_count": 1,
   "metadata": {},
   "outputs": [],
   "source": [
    "# %run convert_ipynb_to_py_files.ipynb"
   ]
  },
  {
   "cell_type": "code",
   "execution_count": 2,
   "metadata": {
    "scrolled": true,
    "tags": []
   },
   "outputs": [
    {
     "name": "stdout",
     "output_type": "stream",
     "text": [
      "Imported CNN and Mapping functions.\n",
      "Imported PI-Gan model.\n",
      "Loaded all helper functions.\n"
     ]
    },
    {
     "name": "stderr",
     "output_type": "stream",
     "text": [
      "/home/ptenkaate/.local/lib/python3.6/site-packages/matplotlib/backends/qt_editor/figureoptions.py:11: MatplotlibDeprecationWarning: \n",
      "The support for Qt4  was deprecated in Matplotlib 3.3 and will be removed two minor releases later.\n",
      "  from matplotlib.backends.qt_compat import QtGui\n"
     ]
    }
   ],
   "source": [
    "import torch\n",
    "import torch.nn.functional as F\n",
    "\n",
    "from torch import nn\n",
    "from torch.utils.data import DataLoader, Dataset\n",
    "from torchvision.transforms import Resize, Compose, ToTensor, Normalize\n",
    "\n",
    "import argparse\n",
    "import os\n",
    "import math \n",
    "import skimage\n",
    "import numpy as np\n",
    "import matplotlib.pyplot as plt\n",
    "from PIL import Image\n",
    "\n",
    "import time\n",
    "import pickle\n",
    "\n",
    "from datetime import datetime\n",
    "from pathlib import Path\n",
    "\n",
    "# from data_classes.py_files.custom_datasets import *\n",
    "# from data_classes.py_files.data_classes import *\n",
    "from data_classes.py_files.new_dataset import *\n",
    "# \n",
    "from model_classes.py_files.cnn_model import *\n",
    "from model_classes.py_files.pigan_model import *\n",
    "\n",
    "from functions import *\n",
    "\n",
    "%matplotlib qt"
   ]
  },
  {
   "cell_type": "markdown",
   "metadata": {},
   "source": [
    "#### Import classes"
   ]
  },
  {
   "cell_type": "code",
   "execution_count": 3,
   "metadata": {},
   "outputs": [
    {
     "name": "stdout",
     "output_type": "stream",
     "text": [
      "----------------------------------\n",
      "Using device for training: cuda\n",
      "----------------------------------\n",
      "----------------------------------\n",
      "Using device for training: cuda\n",
      "----------------------------------\n"
     ]
    }
   ],
   "source": [
    "DEVICE = set_device()\n",
    "\n",
    "print('----------------------------------')\n",
    "print('Using device for training:', DEVICE)\n",
    "print('----------------------------------')"
   ]
  },
  {
   "cell_type": "markdown",
   "metadata": {},
   "source": [
    "# Set the run you want to evaluate "
   ]
  },
  {
   "cell_type": "code",
   "execution_count": 4,
   "metadata": {
    "scrolled": true
   },
   "outputs": [
    {
     "data": {
      "text/plain": [
       "['old',\n",
       " 'pi-gan 03-05-2021 12:25:53 ',\n",
       " 'pi-gan 03-05-2021 13:13:07 ',\n",
       " 'pi-gan 03-05-2021 14:00:17 ',\n",
       " 'pi-gan 03-05-2021 14:47:32 ',\n",
       " 'pi-gan 03-05-2021 15:34:40 ',\n",
       " 'pi-gan 03-05-2021 16:12:17 ',\n",
       " 'pi-gan 03-05-2021 16:50:03 ',\n",
       " 'pi-gan 03-05-2021 17:37:11 ',\n",
       " 'pi-gan 03-05-2021 18:23:52 ',\n",
       " 'pi-gan 03-05-2021 19:10:42 ',\n",
       " 'pi-gan 03-05-2021 19:57:58 ',\n",
       " 'pi-gan 03-05-2021 20:36:38 ',\n",
       " 'pi-gan 03-05-2021 21:23:56 ',\n",
       " 'pi-gan 03-05-2021 22:11:17 ',\n",
       " 'pi-gan 03-05-2021 22:58:42 ',\n",
       " 'pi-gan 03-05-2021 23:46:00 ',\n",
       " 'pi-gan 04-05-2021 00:23:45 ',\n",
       " 'pi-gan 04-05-2021 01:01:32 ',\n",
       " 'pi-gan 04-05-2021 01:48:08 ',\n",
       " 'pi-gan 04-05-2021 02:34:43 ',\n",
       " 'pi-gan 04-05-2021 03:21:39 ',\n",
       " 'pi-gan 04-05-2021 04:08:37 ',\n",
       " 'pi-gan 04-05-2021 04:46:19 ',\n",
       " 'pi-gan 04-05-2021 05:24:02 ',\n",
       " 'pi-gan 04-05-2021 06:10:53 ',\n",
       " 'pi-gan 04-05-2021 06:57:42 ',\n",
       " 'pi-gan 04-05-2021 07:44:33 ',\n",
       " 'pi-gan 04-05-2021 08:31:23 ',\n",
       " 'pi-gan 04-05-2021 09:09:03 ',\n",
       " 'pi-gan 04-05-2021 09:46:50 ',\n",
       " 'pi-gan 04-05-2021 10:34:13 ',\n",
       " 'pi-gan 04-05-2021 11:21:23 ',\n",
       " 'pi-gan 04-05-2021 12:09:57 ',\n",
       " 'pi-gan 04-05-2021 12:57:53 ',\n",
       " 'pi-gan 04-05-2021 13:38:17 ',\n",
       " 'pi-gan 04-05-2021 14:15:54 ',\n",
       " 'pi-gan 04-05-2021 15:02:57 ',\n",
       " 'pi-gan 04-05-2021 15:50:15 ',\n",
       " 'pi-gan 04-05-2021 16:38:07 ',\n",
       " 'pi-gan 04-05-2021 17:25:59 ',\n",
       " 'pi-gan 04-05-2021 18:04:25 ',\n",
       " 'pi-gan 04-05-2021 18:43:05 ',\n",
       " 'pi-gan 04-05-2021 19:30:41 ',\n",
       " 'pi-gan 04-05-2021 20:17:53 ',\n",
       " 'pi-gan 04-05-2021 21:05:08 ',\n",
       " 'pi-gan 04-05-2021 21:53:11 ',\n",
       " 'pi-gan 06-05-2021 11:23:14 very trained pcmra',\n",
       " 'pi-gan 06-05-2021 14:06:26 trained mask_val seg 0.245',\n",
       " 'pi-gan 06-05-2021 15:37:44 very trained pcmra_allright train seg',\n",
       " 'pi-gan 06-05-2021 15:58:24 ',\n",
       " 'pi-gan 06-05-2021 16:56:52  l1loss',\n",
       " 'pi-gan 06-05-2021 18:17:55 pcmra _ val mask 0.36_ translate true',\n",
       " 'pi-gan 06-05-2021 18:47:19 ',\n",
       " 'pi-gan 06-05-2021 19:24:41 ',\n",
       " 'pi-gan 06-05-2021 20:38:47 ',\n",
       " 'pi-gan 06-05-2021 21:51:33 ',\n",
       " 'pi-gan 06-05-2021 23:04:28 ',\n",
       " 'pi-gan 06-05-2021 23:55:21 ',\n",
       " 'pi-gan 07-05-2021 00:46:15 ',\n",
       " 'pi-gan 07-05-2021 01:38:21 ',\n",
       " 'pi-gan 07-05-2021 02:30:27 ',\n",
       " 'pi-gan 07-05-2021 03:15:12 ']"
      ]
     },
     "execution_count": 4,
     "metadata": {},
     "output_type": "execute_result"
    }
   ],
   "source": [
    "sorted(os.listdir(path='saved_runs'))"
   ]
  },
  {
   "cell_type": "code",
   "execution_count": 12,
   "metadata": {
    "scrolled": false
   },
   "outputs": [
    {
     "name": "stdout",
     "output_type": "stream",
     "text": [
      "WARNING: ARGS class initialized.\n",
      "pi-gan 06-05-2021 11:23:14 very trained pcmra\n",
      "device          \t GPU\n",
      "print_models    \t False\n",
      "name            \t \n",
      "pretrained      \t None\n",
      "pretrained_best \t train\n",
      "reconstruction  \t pcmra\n",
      "share_mapping   \t False\n",
      "pcmra_lambda    \t 1\n",
      "mask_lambda     \t 1\n",
      "dataset         \t small\n",
      "rotate          \t False\n",
      "translate       \t False\n",
      "flip            \t False\n",
      "norm_min_max    \t [0, 1]\n",
      "seed            \t 34\n",
      "epochs          \t 500\n",
      "batch_size      \t 2\n",
      "eval_every      \t 5\n",
      "shuffle         \t True\n",
      "n_coords_sample \t -1\n",
      "cnn_setup       \t 1\n",
      "mapping_setup   \t 2\n",
      "dim_hidden      \t 256\n",
      "siren_hidden_layers \t 3\n",
      "first_omega_0   \t 30.0\n",
      "hidden_omega_0  \t 30.0\n",
      "pcmra_first_omega_0 \t 30\n",
      "pcmra_hidden_omega_0 \t 30.0\n",
      "cnn_lr          \t 0.0002\n",
      "cnn_wd          \t 0\n",
      "mapping_lr      \t 0.0002\n",
      "pcmra_mapping_lr \t 0.0002\n",
      "siren_lr        \t 0.0001\n",
      "siren_wd        \t 0\n",
      "pcmra_siren_lr  \t 0.0002\n",
      "pcmra_siren_wd  \t 0\n",
      "scheduler_on    \t pcmra\n"
     ]
    }
   ],
   "source": [
    "# run = sorted(os.listdir(path='saved_runs'))[-1]\n",
    "run = \"pi-gan 06-05-2021 11:23:14 very trained pcmra\"\n",
    "\n",
    "ARGS = load_args(run, print_changed=False)\n",
    "\n",
    "print(run)\n",
    "\n",
    "for var, val in vars(ARGS).items():\n",
    "    print(f\"{var.ljust(15)} \\t {val}\")"
   ]
  },
  {
   "cell_type": "markdown",
   "metadata": {},
   "source": [
    "# Evaluation"
   ]
  },
  {
   "cell_type": "code",
   "execution_count": 13,
   "metadata": {},
   "outputs": [
    {
     "name": "stdout",
     "output_type": "stream",
     "text": [
      "----------------------------------\n",
      "Using device for training: cuda\n",
      "----------------------------------\n",
      "Train subjects: 84\n",
      "[['16-01-22_Jarik_kt-pca_done2', 'Aorta Volunteers', 'scaled'], ['16-01-27 Valentine kt-pca_done2', 'Aorta Volunteers', 'scaled'], ['16-01-27_Claudia_kt-pca_done2', 'Aorta Volunteers', 'scaled'], ['16-02-03_Feiko_kt-pca_done2', 'Aorta Volunteers', 'scaled'], ['16-02-10_Luuk_kt-pca_done2', 'Aorta Volunteers', 'scaled'], ['16-02-10_Michelle_kt-pca_done', 'Aorta Volunteers', 'scaled'], ['16-02-12_Marjolein_kt-pca_done', 'Aorta Volunteers', 'scaled'], ['16-03-18_Ruud_kt-pca_done2', 'Aorta Volunteers', 'scaled'], ['16-04-13_Pim_kt-pca_done2', 'Aorta Volunteers', 'scaled'], ['16-05-25_Emile_kt-pca_done', 'Aorta Volunteers', 'scaled']]\n",
      "Val subjects: 28\n",
      "Test subjects: 28\n"
     ]
    }
   ],
   "source": [
    "##### data preparation #####\n",
    "ARGS.rotate, ARGS.translate, ARGS.flip = False, False, False\n",
    "ARGS.batch_size = 1\n",
    "train_dl, val_dl, test_dl = initialize_dataloaders(ARGS)"
   ]
  },
  {
   "cell_type": "markdown",
   "metadata": {},
   "source": [
    "#### Load models"
   ]
  },
  {
   "cell_type": "code",
   "execution_count": 14,
   "metadata": {
    "scrolled": true
   },
   "outputs": [
    {
     "name": "stdout",
     "output_type": "stream",
     "text": [
      "----------------------------------\n",
      "Using device for training: cuda\n",
      "----------------------------------\n",
      "CNN\n",
      "MAPPING\n",
      "SIREN\n",
      "PCMRA_MAPPING\n",
      "PCMRA_SIREN\n"
     ]
    }
   ],
   "source": [
    "models, optims, schedulers = load_models_and_optims(ARGS)"
   ]
  },
  {
   "cell_type": "code",
   "execution_count": 15,
   "metadata": {},
   "outputs": [],
   "source": [
    "best_loss = \"train\"\n",
    "\n",
    "for model in models.keys():\n",
    "    models[model].load_state_dict(torch.load(f\"saved_runs/{run}/{model}_{best_loss}.pt\"))"
   ]
  },
  {
   "cell_type": "code",
   "execution_count": 16,
   "metadata": {},
   "outputs": [],
   "source": [
    "##### loss function #####\n",
    "criterion = nn.BCELoss()    "
   ]
  },
  {
   "cell_type": "code",
   "execution_count": 17,
   "metadata": {},
   "outputs": [],
   "source": [
    "def scroll_through_output(dataloader, shape=(64, 64, 24), first=100):\n",
    "    pcmras = masks = mask_outs = torch.Tensor([])\n",
    "    \n",
    "    if ARGS.reconstruction != \"mask\": \n",
    "        pcmra_outs = torch.Tensor([])\n",
    "\n",
    "    titles = []\n",
    "\n",
    "    for idx, subj, proj, pcmra, coords, pcmra_array, mask_array in dataloader: \n",
    "#         print(idx, subj)\n",
    "#         print(pcmra.shape)\n",
    "\n",
    "        mask_out = get_complete_image(models, pcmra, coords, ARGS)\n",
    "        if ARGS.reconstruction != \"mask\": \n",
    "            pcmra_out = get_complete_image(models, pcmra, coords, ARGS, output=\"pcmra\")\n",
    "\n",
    "        loss = criterion(mask_out, mask_array) \n",
    "\n",
    "        pcmras = torch.cat((pcmras, pcmra_array.cpu().view(shape).detach()), 2)\n",
    "        masks = torch.cat((masks, mask_array.cpu().view(shape).detach()), 2)\n",
    "        mask_outs = torch.cat((mask_outs, mask_out.cpu().view(shape).detach()), 2)\n",
    "        if ARGS.reconstruction != \"mask\": \n",
    "            pcmra_outs = torch.cat((pcmra_outs, pcmra_out.cpu().view(shape).detach()), 2)\n",
    "\n",
    "        titles += [f\"{idx.item()} {subj[0]} {proj[0]}, loss:, {round(loss.item(), 4)}\" for i in range(shape[2])]\n",
    "        \n",
    "        if idx >= first: \n",
    "            break\n",
    "    \n",
    "    if ARGS.reconstruction != \"mask\": \n",
    "        window = Show_images(titles, (pcmras.numpy(), \"pcmras\"), \n",
    "                             (masks.numpy(), \"masks\"), \n",
    "                             (mask_outs.numpy(), \"mask output\"), \n",
    "                             (pcmra_outs.numpy(), \"pcmra output\"))\n",
    "    else:\n",
    "        window = Show_images(titles, (pcmras.numpy(), \"pcmras\"), \n",
    "                             (masks.numpy(), \"masks\"), \n",
    "                             (mask_outs.numpy(), \"mask output\"))\n",
    "\n",
    "    return window"
   ]
  },
  {
   "cell_type": "code",
   "execution_count": 19,
   "metadata": {
    "scrolled": false
   },
   "outputs": [],
   "source": [
    "# window = scroll_through_output(train_dl)\n",
    "# window = scroll_through_output(val_dl)\n",
    "window = scroll_through_output(test_dl)"
   ]
  },
  {
   "cell_type": "code",
   "execution_count": null,
   "metadata": {},
   "outputs": [],
   "source": []
  }
 ],
 "metadata": {
  "kernelspec": {
   "display_name": "Python 3.6.8 64-bit",
   "language": "python",
   "name": "python36864bitc17f53f707db4b89be7c32a22adf91a3"
  },
  "language_info": {
   "codemirror_mode": {
    "name": "ipython",
    "version": 3
   },
   "file_extension": ".py",
   "mimetype": "text/x-python",
   "name": "python",
   "nbconvert_exporter": "python",
   "pygments_lexer": "ipython3",
   "version": "3.6.8"
  }
 },
 "nbformat": 4,
 "nbformat_minor": 4
}
