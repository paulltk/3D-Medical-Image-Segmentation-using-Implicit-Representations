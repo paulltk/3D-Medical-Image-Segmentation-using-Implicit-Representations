{
 "cells": [
  {
   "cell_type": "code",
   "execution_count": 2,
   "metadata": {},
   "outputs": [
    {
     "name": "stdout",
     "output_type": "stream",
     "text": [
      "Imported CNN and Mapping functions.\n",
      "Imported PI-Gan model.\n",
      "Loaded all helper functions.\n"
     ]
    }
   ],
   "source": [
    "import warnings\n",
    "\n",
    "import torch\n",
    "import torch.nn.functional as F\n",
    "\n",
    "from torch import nn\n",
    "from torch.utils.data import DataLoader, Dataset\n",
    "from torchvision.transforms import Resize, Compose, ToTensor, Normalize\n",
    "\n",
    "import argparse\n",
    "import os\n",
    "import math \n",
    "import skimage\n",
    "import numpy as np\n",
    "import matplotlib.pyplot as plt\n",
    "from PIL import Image\n",
    "\n",
    "import time\n",
    "import pickle\n",
    "\n",
    "from datetime import datetime\n",
    "from pathlib import Path\n",
    "\n",
    "from py_files.new_dataset import *\n",
    "\n",
    "from py_files.cnn_model import *\n",
    "from py_files.pigan_model import *\n",
    "\n",
    "from py_files.seq_pi_gan_functions import *"
   ]
  },
  {
   "cell_type": "code",
   "execution_count": 4,
   "metadata": {},
   "outputs": [],
   "source": [
    "root = os.path.abspath('..')\n",
    "root = os.path.join(root, \"Dataset\", \"new_original\")\n",
    "\n",
    "\n",
    "subjects = [file.split(\"__\")[:2] for file in  sorted(os.listdir(root))]\n",
    "subjects = np.array(sorted([list(subj) for subj in list(set(map(tuple, subjects)))]))\n",
    "\n",
    "idx = list(range(subjects.shape[0]))\n",
    "split1, split2 = int(len(idx) * 0.6), int(len(idx) * 0.8)\n",
    "\n",
    "random.seed(34)\n",
    "\n",
    "random.shuffle(idx) # shuffles indices\n",
    "train_idx, val_idx, test_idx = idx[:split1], idx[split1:split2], idx[split2:] # incides per data subset\n",
    "\n",
    "train_subjects, val_subjects, test_subjects =  subjects[train_idx], subjects[val_idx], subjects[test_idx]\n"
   ]
  },
  {
   "cell_type": "code",
   "execution_count": 5,
   "metadata": {
    "scrolled": true
   },
   "outputs": [
    {
     "name": "stdout",
     "output_type": "stream",
     "text": [
      "[['19' 'data_c2']\n",
      " ['45' 'data_p1']\n",
      " ['124' 'data_p3']\n",
      " ['72' 'data_p2']\n",
      " ['11' 'data_c1']\n",
      " ['8' 'data_c1']\n",
      " ['74' 'data_p2']\n",
      " ['27' 'data_c2']\n",
      " ['52' 'data_p1']\n",
      " ['136' 'data_p3']\n",
      " ['112' 'data_p3']\n",
      " ['7' 'data_c1']\n",
      " ['60' 'data_p1']\n",
      " ['24' 'data_c2']\n",
      " ['110' 'data_p3']\n",
      " ['100' 'data_p3']\n",
      " ['75' 'data_p2']\n",
      " ['84' 'data_p2']\n",
      " ['69' 'data_p2']\n",
      " ['86' 'data_p2']\n",
      " ['103' 'data_p3']\n",
      " ['10' 'data_c1']\n",
      " ['26' 'data_c2']\n",
      " ['33' 'data_c2']\n",
      " ['40' 'data_c2']\n",
      " ['71' 'data_p2']\n",
      " ['62' 'data_p1']\n",
      " ['14' 'data_c1']\n",
      " ['82' 'data_p2']\n",
      " ['106' 'data_p3']\n",
      " ['93' 'data_p3']\n",
      " ['12' 'data_c1']\n",
      " ['5' 'data_c1']\n",
      " ['139' 'data_p3']\n",
      " ['133' 'data_p3']\n",
      " ['83' 'data_p2']\n",
      " ['34' 'data_c2']\n",
      " ['117' 'data_p3']\n",
      " ['68' 'data_p2']\n",
      " ['99' 'data_p3']\n",
      " ['101' 'data_p3']\n",
      " ['137' 'data_p3']\n",
      " ['96' 'data_p3']\n",
      " ['125' 'data_p3']\n",
      " ['64' 'data_p2']\n",
      " ['38' 'data_c2']\n",
      " ['79' 'data_p2']\n",
      " ['13' 'data_c1']\n",
      " ['16' 'data_c2']\n",
      " ['70' 'data_p2']\n",
      " ['25' 'data_c2']\n",
      " ['6' 'data_c1']\n",
      " ['73' 'data_p2']\n",
      " ['28' 'data_c2']\n",
      " ['63' 'data_p1']\n",
      " ['104' 'data_p3']\n",
      " ['129' 'data_p3']\n",
      " ['58' 'data_p1']\n",
      " ['102' 'data_p3']\n",
      " ['80' 'data_p2']\n",
      " ['115' 'data_p3']\n",
      " ['108' 'data_p3']\n",
      " ['41' 'data_p1']\n",
      " ['114' 'data_p3']\n",
      " ['43' 'data_p1']\n",
      " ['44' 'data_p1']\n",
      " ['55' 'data_p1']\n",
      " ['140' 'data_p3']\n",
      " ['22' 'data_c2']\n",
      " ['65' 'data_p2']\n",
      " ['23' 'data_c2']\n",
      " ['29' 'data_c2']\n",
      " ['78' 'data_p2']\n",
      " ['81' 'data_p2']\n",
      " ['138' 'data_p3']\n",
      " ['15' 'data_c1']\n",
      " ['57' 'data_p1']\n",
      " ['121' 'data_p3']\n",
      " ['131' 'data_p3']\n",
      " ['46' 'data_p1']\n",
      " ['47' 'data_p1']\n",
      " ['17' 'data_c2']\n",
      " ['130' 'data_p3']\n",
      " ['2' 'data_c1']\n",
      " ['107' 'data_p3']\n",
      " ['36' 'data_c2']]\n"
     ]
    }
   ],
   "source": [
    "print(train_subjects)"
   ]
  },
  {
   "cell_type": "code",
   "execution_count": 10,
   "metadata": {},
   "outputs": [],
   "source": [
    "surface = np.load(\"/home/ptenkaate/scratch/Master-Thesis/Dataset/new_original/14__data_c1__original__surface.npy\")\n",
    "surface = torch.tensor(surface).permute(2, 0, 1).unsqueeze(0).cuda()"
   ]
  },
  {
   "cell_type": "code",
   "execution_count": 75,
   "metadata": {},
   "outputs": [
    {
     "name": "stdout",
     "output_type": "stream",
     "text": [
      "tensor([[ 0,  0, 13, 43],\n",
      "        [ 0,  0, 14, 42],\n",
      "        [ 0,  0, 14, 43],\n",
      "        ...,\n",
      "        [ 0, 19, 36, 68],\n",
      "        [ 0, 19, 37, 66],\n",
      "        [ 0, 19, 37, 67]], device='cuda:0')\n",
      "0.0039212703704833984\n"
     ]
    }
   ],
   "source": [
    "t = time.time()\n",
    "\n",
    "print(surface.nonzero())\n",
    "\n",
    "print(time.time() - t)\n"
   ]
  },
  {
   "cell_type": "code",
   "execution_count": null,
   "metadata": {},
   "outputs": [],
   "source": []
  }
 ],
 "metadata": {
  "kernelspec": {
   "display_name": "Python 3.6.8 64-bit",
   "language": "python",
   "name": "python36864bitc17f53f707db4b89be7c32a22adf91a3"
  },
  "language_info": {
   "codemirror_mode": {
    "name": "ipython",
    "version": 3
   },
   "file_extension": ".py",
   "mimetype": "text/x-python",
   "name": "python",
   "nbconvert_exporter": "python",
   "pygments_lexer": "ipython3",
   "version": "3.6.8"
  }
 },
 "nbformat": 4,
 "nbformat_minor": 4
}
