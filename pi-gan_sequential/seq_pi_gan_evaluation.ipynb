{
 "cells": [
  {
   "cell_type": "code",
   "execution_count": null,
   "metadata": {
    "id": "Rlj2sxBk4V4I"
   },
   "outputs": [],
   "source": [
    "# %run /home/ptenkaate/scratch/Master-Thesis/convert_ipynb_to_py_files.ipynb"
   ]
  },
  {
   "cell_type": "code",
   "execution_count": 1,
   "metadata": {
    "id": "mrk9x9z84V4Q",
    "scrolled": true,
    "tags": []
   },
   "outputs": [
    {
     "name": "stderr",
     "output_type": "stream",
     "text": [
      "C:\\Users\\pault\\anaconda3\\lib\\site-packages\\kornia\\augmentation\\augmentation.py:1830: DeprecationWarning: GaussianBlur is no longer maintained and will be removed from the future versions. Please use RandomGaussianBlur instead.\n",
      "  warnings.warn(\n"
     ]
    },
    {
     "name": "stdout",
     "output_type": "stream",
     "text": [
      "Imported CNN and Mapping functions.\n",
      "Imported PI-Gan model.\n",
      "Loaded all helper functions.\n"
     ]
    }
   ],
   "source": [
    "import torch\n",
    "import torch.nn.functional as F\n",
    "\n",
    "from torch import nn\n",
    "from torch.utils.data import DataLoader, Dataset\n",
    "from torchvision.transforms import Resize, Compose, ToTensor, Normalize\n",
    "\n",
    "import argparse\n",
    "import os\n",
    "import math \n",
    "import skimage\n",
    "import numpy as np\n",
    "import matplotlib\n",
    "import matplotlib.pyplot as plt\n",
    "from PIL import Image\n",
    "\n",
    "import time\n",
    "import pickle\n",
    "\n",
    "from datetime import datetime\n",
    "from pathlib import Path\n",
    "\n",
    "from py_files.new_dataset import *\n",
    "\n",
    "from py_files.cnn_model import *\n",
    "from py_files.pigan_model import *\n",
    "\n",
    "from py_files.seq_pi_gan_functions import *\n",
    "\n",
    "# %matplotlib qt"
   ]
  },
  {
   "cell_type": "code",
   "execution_count": null,
   "metadata": {},
   "outputs": [
    {
     "name": "stderr",
     "output_type": "stream",
     "text": [
      "C:\\Users\\pault\\anaconda3\\lib\\site-packages\\ipykernel\\ipkernel.py:287: DeprecationWarning: `should_run_async` will not call `transform_cell` automatically in the future. Please pass the result to `transformed_cell` argument and any exception that happen during thetransform in `preprocessing_exc_tuple` in IPython 7.17 and above.\n",
      "  and should_run_async(code)\n"
     ]
    }
   ],
   "source": [
    "plt.plot([0, 1])"
   ]
  },
  {
   "cell_type": "markdown",
   "metadata": {
    "id": "FXo1UqLW4V4T"
   },
   "source": [
    "#### Import classes"
   ]
  },
  {
   "cell_type": "code",
   "execution_count": 2,
   "metadata": {
    "id": "Tu_1_hx24V4U"
   },
   "outputs": [
    {
     "name": "stdout",
     "output_type": "stream",
     "text": [
      "----------------------------------\n",
      "Using device for training: cpu\n",
      "----------------------------------\n"
     ]
    },
    {
     "name": "stderr",
     "output_type": "stream",
     "text": [
      "C:\\Users\\pault\\anaconda3\\lib\\site-packages\\ipykernel\\ipkernel.py:287: DeprecationWarning: `should_run_async` will not call `transform_cell` automatically in the future. Please pass the result to `transformed_cell` argument and any exception that happen during thetransform in `preprocessing_exc_tuple` in IPython 7.17 and above.\n",
      "  and should_run_async(code)\n"
     ]
    }
   ],
   "source": [
    "# DEVICE = set_device()\n",
    "DEVICE = torch.device(\"cpu\")\n",
    "\n",
    "print('----------------------------------')\n",
    "print('Using device for training:', DEVICE)\n",
    "print('----------------------------------')"
   ]
  },
  {
   "cell_type": "markdown",
   "metadata": {
    "id": "TBFVD-Rc4V4V"
   },
   "source": [
    "# Set the run you want to evaluate "
   ]
  },
  {
   "cell_type": "code",
   "execution_count": 3,
   "metadata": {
    "id": "l1r6h13B4V4W",
    "scrolled": true
   },
   "outputs": [
    {
     "name": "stderr",
     "output_type": "stream",
     "text": [
      "C:\\Users\\pault\\anaconda3\\lib\\site-packages\\ipykernel\\ipkernel.py:287: DeprecationWarning: `should_run_async` will not call `transform_cell` automatically in the future. Please pass the result to `transformed_cell` argument and any exception that happen during thetransform in `preprocessing_exc_tuple` in IPython 7.17 and above.\n",
      "  and should_run_async(code)\n"
     ]
    },
    {
     "data": {
      "text/plain": [
       "['pi-gan 2021-06-11 17_41_08_',\n",
       " 'pi-gan 2021-06-12 07_53_55_',\n",
       " 'pi-gan 2021-06-13 08_16_37_',\n",
       " 'pi-gan 2021-06-13 08_17_54_',\n",
       " 'pi-gan 2021-06-13 08_24_54_',\n",
       " 'pi-gan 2021-06-13 14_26_23_',\n",
       " 'pi-gan 2021-06-13 14_26_56_',\n",
       " 'pi-gan 2021-06-13 14_27_20_',\n",
       " 'pi-gan 2021-06-14 07_56_37_',\n",
       " 'pi-gan 2021-06-14 08_00_11_',\n",
       " 'pi-gan 2021-06-14 08_00_58_',\n",
       " 'pi-gan 2021-06-14 08_01_58_',\n",
       " 'pi-gan 2021-06-14 08_02_18_',\n",
       " 'pi-gan 2021-06-14 08_02_57_',\n",
       " 'pi-gan 2021-06-14 08_06_22_',\n",
       " 'pi-gan 2021-06-14 08_18_35_',\n",
       " 'pi-gan 2021-06-14 09_56_28_',\n",
       " 'pi-gan 2021-06-14 10_12_35_',\n",
       " 'pi-gan 2021-06-14 11_46_35_',\n",
       " 'pi-gan 2021-06-23 12_29_32_',\n",
       " 'pi-gan 2021-06-23 12_30_50_',\n",
       " 'pi-gan 2021-06-23 12_40_11_',\n",
       " 'pi-gan 2021-06-23 12_42_57_']"
      ]
     },
     "execution_count": 3,
     "metadata": {},
     "output_type": "execute_result"
    }
   ],
   "source": [
    "sorted(os.listdir(path='saved_runs'))"
   ]
  },
  {
   "cell_type": "code",
   "execution_count": 4,
   "metadata": {
    "id": "rPhLjW624V4W",
    "scrolled": true
   },
   "outputs": [
    {
     "name": "stdout",
     "output_type": "stream",
     "text": [
      "WARNING: ARGS class initialized.\n",
      "pi-gan 2021-06-23 12_42_57_\n",
      "device          \t GPU\n",
      "print_models    \t False\n",
      "name            \t \n",
      "pretrained      \t None\n",
      "pretrained_best_dataset \t train\n",
      "pretrained_best_loss \t mask\n",
      "pretrained_models \t None\n",
      "pretrained_lr_reset \t None\n",
      "dataset         \t new\n",
      "seed            \t 34\n",
      "rotate          \t False\n",
      "translate       \t True\n",
      "translate_max_pixels \t 20\n",
      "flip            \t False\n",
      "crop            \t False\n",
      "stretch         \t True\n",
      "stretch_factor  \t 1.2\n",
      "norm_min_max    \t [0, 1]\n",
      "pcmra_epochs    \t 0\n",
      "mask_epochs     \t 5000\n",
      "batch_size      \t 24\n",
      "eval_every      \t 50\n",
      "shuffle         \t True\n",
      "n_coords_sample \t 5000\n",
      "min_lr          \t 1e-05\n",
      "cnn_setup       \t -1\n",
      "pcmra_train_cnn \t True\n",
      "mask_train_cnn  \t True\n",
      "mapping_setup   \t -1\n",
      "dim_hidden      \t 256\n",
      "siren_hidden_layers \t 3\n",
      "first_omega_0   \t 30.0\n",
      "hidden_omega_0  \t 30.0\n",
      "pcmra_first_omega_0 \t 30.0\n",
      "pcmra_hidden_omega_0 \t 30.0\n",
      "cnn_lr          \t 0.0001\n",
      "cnn_wd          \t 0\n",
      "mapping_lr      \t 0.0001\n",
      "pcmra_mapping_lr \t 0.0001\n",
      "siren_lr        \t 0.0001\n",
      "siren_wd        \t 0\n",
      "pcmra_siren_lr  \t 0.0001\n",
      "pcmra_siren_wd  \t 0\n",
      "patience        \t 100\n",
      "sdf             \t False\n",
      "sdf_split       \t None\n"
     ]
    },
    {
     "name": "stderr",
     "output_type": "stream",
     "text": [
      "C:\\Users\\pault\\anaconda3\\lib\\site-packages\\ipykernel\\ipkernel.py:287: DeprecationWarning: `should_run_async` will not call `transform_cell` automatically in the future. Please pass the result to `transformed_cell` argument and any exception that happen during thetransform in `preprocessing_exc_tuple` in IPython 7.17 and above.\n",
      "  and should_run_async(code)\n"
     ]
    }
   ],
   "source": [
    "run = sorted(os.listdir(path='saved_runs'))[-1]\n",
    "# run = \"pi-gan 2021-06-05 00:58:36 \"\n",
    "\n",
    "ARGS = load_args(run, print_changed=False)\n",
    "\n",
    "print(run)\n",
    "\n",
    "for var, val in vars(ARGS).items():\n",
    "    print(f\"{var.ljust(15)} \\t {val}\")"
   ]
  },
  {
   "cell_type": "markdown",
   "metadata": {
    "id": "GogJTz3S4V4X"
   },
   "source": [
    "# Evaluation"
   ]
  },
  {
   "cell_type": "code",
   "execution_count": 5,
   "metadata": {
    "id": "B3gLgTrD4V4Y"
   },
   "outputs": [
    {
     "name": "stderr",
     "output_type": "stream",
     "text": [
      "C:\\Users\\pault\\anaconda3\\lib\\site-packages\\ipykernel\\ipkernel.py:287: DeprecationWarning: `should_run_async` will not call `transform_cell` automatically in the future. Please pass the result to `transformed_cell` argument and any exception that happen during thetransform in `preprocessing_exc_tuple` in IPython 7.17 and above.\n",
      "  and should_run_async(code)\n"
     ]
    },
    {
     "name": "stdout",
     "output_type": "stream",
     "text": [
      "----------------------------------\n",
      "Using device for training: cpu\n",
      "----------------------------------\n",
      "Train subjects: 86\n",
      "Val subjects: 29\n",
      "Test subjects: 29\n"
     ]
    }
   ],
   "source": [
    "ARGS.batch_size = 2\n",
    "\n",
    "train_dl, val_dl, test_dl = initialize_dataloaders(ARGS)"
   ]
  },
  {
   "cell_type": "markdown",
   "metadata": {
    "id": "WYINOVvj4V4Z"
   },
   "source": [
    "#### Load models"
   ]
  },
  {
   "cell_type": "code",
   "execution_count": 6,
   "metadata": {
    "id": "4OMBy_Sz4V4a",
    "scrolled": true
   },
   "outputs": [
    {
     "name": "stdout",
     "output_type": "stream",
     "text": [
      "----------------------------------\n",
      "Using device for training: cpu\n",
      "----------------------------------\n"
     ]
    },
    {
     "name": "stderr",
     "output_type": "stream",
     "text": [
      "C:\\Users\\pault\\anaconda3\\lib\\site-packages\\ipykernel\\ipkernel.py:287: DeprecationWarning: `should_run_async` will not call `transform_cell` automatically in the future. Please pass the result to `transformed_cell` argument and any exception that happen during thetransform in `preprocessing_exc_tuple` in IPython 7.17 and above.\n",
      "  and should_run_async(code)\n"
     ]
    },
    {
     "name": "stdout",
     "output_type": "stream",
     "text": [
      "CNN\n",
      "MAPPING\n",
      "SIREN\n",
      "PCMRA_MAPPING\n",
      "PCMRA_SIREN\n"
     ]
    }
   ],
   "source": [
    "ARGS.print_models=False\n",
    "models, optims, schedulers = load_models_and_optims(ARGS)"
   ]
  },
  {
   "cell_type": "code",
   "execution_count": 7,
   "metadata": {
    "id": "KuDlkG5X4V4b"
   },
   "outputs": [
    {
     "name": "stderr",
     "output_type": "stream",
     "text": [
      "C:\\Users\\pault\\anaconda3\\lib\\site-packages\\ipykernel\\ipkernel.py:287: DeprecationWarning: `should_run_async` will not call `transform_cell` automatically in the future. Please pass the result to `transformed_cell` argument and any exception that happen during thetransform in `preprocessing_exc_tuple` in IPython 7.17 and above.\n",
      "  and should_run_async(code)\n"
     ]
    }
   ],
   "source": [
    "# models[\"pcmra_siren\"]"
   ]
  },
  {
   "cell_type": "code",
   "execution_count": 8,
   "metadata": {
    "id": "5dMSsI1O4V4b"
   },
   "outputs": [
    {
     "name": "stdout",
     "output_type": "stream",
     "text": [
      "Loading params from cnn\n"
     ]
    },
    {
     "name": "stderr",
     "output_type": "stream",
     "text": [
      "C:\\Users\\pault\\anaconda3\\lib\\site-packages\\ipykernel\\ipkernel.py:287: DeprecationWarning: `should_run_async` will not call `transform_cell` automatically in the future. Please pass the result to `transformed_cell` argument and any exception that happen during thetransform in `preprocessing_exc_tuple` in IPython 7.17 and above.\n",
      "  and should_run_async(code)\n"
     ]
    },
    {
     "name": "stdout",
     "output_type": "stream",
     "text": [
      "Loading params from mapping\n",
      "Loading params from siren\n",
      "Loading params from pcmra_mapping\n",
      "Loading params from pcmra_siren\n"
     ]
    }
   ],
   "source": [
    "ARGS.pretrained_best_dataset = \"train\"\n",
    "ARGS.pretrained_best_loss = \"mask\"\n",
    "\n",
    "load_pretrained_models(run, ARGS.pretrained_best_dataset, ARGS.pretrained_best_loss,\n",
    "                       models, optims, DEVICE, pretrained_models=None)"
   ]
  },
  {
   "cell_type": "code",
   "execution_count": 9,
   "metadata": {
    "id": "jSCFQBuH4V4c"
   },
   "outputs": [
    {
     "name": "stderr",
     "output_type": "stream",
     "text": [
      "C:\\Users\\pault\\anaconda3\\lib\\site-packages\\ipykernel\\ipkernel.py:287: DeprecationWarning: `should_run_async` will not call `transform_cell` automatically in the future. Please pass the result to `transformed_cell` argument and any exception that happen during thetransform in `preprocessing_exc_tuple` in IPython 7.17 and above.\n",
      "  and should_run_async(code)\n"
     ]
    }
   ],
   "source": [
    "##### loss function #####\n",
    "mask_criterion = nn.BCELoss()    \n",
    "pcmra_criterion = nn.MSELoss()  \n",
    "dice_criterion = calc_dice_loss"
   ]
  },
  {
   "cell_type": "code",
   "execution_count": 11,
   "metadata": {
    "id": "wY76zNbf4V4d"
   },
   "outputs": [
    {
     "name": "stderr",
     "output_type": "stream",
     "text": [
      "C:\\Users\\pault\\anaconda3\\lib\\site-packages\\ipykernel\\ipkernel.py:287: DeprecationWarning: `should_run_async` will not call `transform_cell` automatically in the future. Please pass the result to `transformed_cell` argument and any exception that happen during thetransform in `preprocessing_exc_tuple` in IPython 7.17 and above.\n",
      "  and should_run_async(code)\n"
     ]
    }
   ],
   "source": [
    "def scroll_through_output(dataloader, shape=[24, 64, 64], transform=False):\n",
    "    with torch.no_grad():\n",
    "        pcmras = masks = loss_covers = mask_outs = pcmra_outs = torch.Tensor([])\n",
    "\n",
    "        titles = []\n",
    "\n",
    "        mask_losses, pcmra_losses, dice_losses = [], [], []\n",
    "\n",
    "        blur_layer = initialize_blurring_layer(1.0, DEVICE)\n",
    "    \n",
    "        for batch in dataloader: \n",
    "\n",
    "            if transform:\n",
    "                batch = transform_batch(batch, ARGS)\n",
    "\n",
    "\n",
    "            _, _, _, pcmra, coords_array, pcmra_array, mask_array, surface_array, norm_array = \\\n",
    "                get_siren_batch(batch, blur_layer, ARGS)\n",
    "\n",
    "\n",
    "            mask_out = get_complete_image(models, pcmra, coords_array, ARGS)\n",
    "            pcmra_out = get_complete_image(models, pcmra, coords_array, ARGS, output=\"pcmra\")\n",
    "\n",
    "            mask_loss = mask_criterion(mask_out, mask_array) \n",
    "            dice_loss = dice_criterion(mask_out, mask_array) \n",
    "            pcmra_loss = pcmra_criterion(pcmra_out, pcmra_array) \n",
    "\n",
    "            mask_losses.append(mask_loss.item())\n",
    "            dice_losses.append(dice_loss.item())\n",
    "            pcmra_losses.append(pcmra_loss.item())\n",
    "\n",
    "            for p, m, po, mo in zip(pcmra_array, mask_array, pcmra_out, mask_out):\n",
    "                pcmras = torch.cat((pcmras, p.cpu().view(shape).detach().permute(1, 2, 0)), 2)\n",
    "                masks = torch.cat((masks, m.cpu().view(shape).detach().permute(1, 2, 0)), 2)\n",
    "                mask_outs = torch.cat((mask_outs, mo.cpu().view(shape).detach().permute(1, 2, 0)), 2)\n",
    "                pcmra_outs = torch.cat((pcmra_outs, po.cpu().view(shape).detach().permute(1, 2, 0)), 2)\n",
    "            \n",
    "            break\n",
    "        \n",
    "        print(\"Mask loss: \", np.array(mask_losses).mean())\n",
    "        print(\"Dice loss: \", np.array(dice_losses).mean())\n",
    "        \n",
    "        print(\"PCMRA loss:\", np.array(pcmra_losses).mean())\n",
    "\n",
    "        titles = \"Results\"\n",
    "\n",
    "        window = Show_images(titles, (pcmras.numpy(), \"pcmras\"), \n",
    "                                     (pcmra_outs.numpy(), \"pcmra output\"),\n",
    "                                     (masks.numpy(), \"masks\"),\n",
    "                                     (mask_outs.numpy(), \"mask output\"), \n",
    "                            )\n",
    "\n",
    "        return window"
   ]
  },
  {
   "cell_type": "code",
   "execution_count": null,
   "metadata": {
    "id": "Ghpgzmm54V4e",
    "scrolled": false
   },
   "outputs": [
    {
     "name": "stderr",
     "output_type": "stream",
     "text": [
      "C:\\Users\\pault\\anaconda3\\lib\\site-packages\\ipykernel\\ipkernel.py:287: DeprecationWarning: `should_run_async` will not call `transform_cell` automatically in the future. Please pass the result to `transformed_cell` argument and any exception that happen during thetransform in `preprocessing_exc_tuple` in IPython 7.17 and above.\n",
      "  and should_run_async(code)\n"
     ]
    },
    {
     "name": "stdout",
     "output_type": "stream",
     "text": [
      "Mask loss:  0.01560133695602417\n",
      "Dice loss:  0.12774401903152466\n",
      "PCMRA loss: 0.028880443423986435\n"
     ]
    }
   ],
   "source": [
    "ARGS.rotate = True\n",
    "ARGS.translate = True\n",
    "ARGS.flip = True\n",
    "ARGS.crop = True\n",
    "ARGS.stretch = True\n",
    "ARGS.n_coords_sample = -1\n",
    "\n",
    "shape = [24, 128, 128]\n",
    "window = scroll_through_output(train_dl, shape=shape, transform=False)\n",
    "# window = scroll_through_output(val_dl, shape=shape)\n",
    "# window = scroll_through_output(test_dl, shape=shape)"
   ]
  },
  {
   "cell_type": "code",
   "execution_count": null,
   "metadata": {
    "id": "rTViQtNLBa_V"
   },
   "outputs": [],
   "source": [
    "def gradient(y, x, grad_outputs=None):\n",
    "    if grad_outputs is None:\n",
    "        grad_outputs = torch.ones_like(y)\n",
    "    grad = torch.autograd.grad(y, [x], grad_outputs=grad_outputs, create_graph=True)[0]\n",
    "    return grad"
   ]
  },
  {
   "cell_type": "code",
   "execution_count": null,
   "metadata": {
    "id": "oqy-DPN-4V4e"
   },
   "outputs": [],
   "source": [
    "# criterion = nn.MSELoss()\n",
    "\n",
    "# for idx, subj, proj, pcmra, coords, pcmra_array, mask_array in val_dl:\n",
    "#     if idx == 1:\n",
    "#         break\n",
    "\n",
    "# print(pcmra.shape)\n",
    "# out = get_complete_image(models, pcmra, coords, ARGS, output=\"pcmra\")\n",
    "# out = out.view(1, 1, 64, 64, 24).permute(0, 1, 4, 2, 3)\n",
    "\n",
    "# plt.imshow(pcmra[0, 0, 8, :, :].cpu())\n",
    "# plt.show()\n",
    "\n",
    "# plt.imshow(out[0, 0, 8, :, :].cpu().detach())\n",
    "# plt.show()\n",
    "\n",
    "# print(criterion(pcmra, out).item())"
   ]
  },
  {
   "cell_type": "code",
   "execution_count": null,
   "metadata": {
    "id": "WeFrfnQK4V4g"
   },
   "outputs": [],
   "source": [
    "a = torch.randn(24, 1, 24, 128, 128).cuda()\n",
    "print(a)\n"
   ]
  },
  {
   "cell_type": "code",
   "execution_count": null,
   "metadata": {
    "id": "sdWSBW994V4g"
   },
   "outputs": [],
   "source": [
    "t = time.time()\n",
    "\n",
    "a = torch.floor(torch.round(a*10 ) / 10)\n",
    "\n",
    "print(time.time() - t)\n"
   ]
  },
  {
   "cell_type": "code",
   "execution_count": null,
   "metadata": {
    "id": "W25ozK1l4V4h"
   },
   "outputs": [],
   "source": [
    "print(a)"
   ]
  },
  {
   "cell_type": "code",
   "execution_count": null,
   "metadata": {
    "id": "GMyIk3ma4V4h"
   },
   "outputs": [],
   "source": []
  }
 ],
 "metadata": {
  "accelerator": "GPU",
  "colab": {
   "name": "seq_pi_gan_evaluation.ipynb",
   "provenance": []
  },
  "kernelspec": {
   "display_name": "Python 3",
   "language": "python",
   "name": "python3"
  },
  "language_info": {
   "codemirror_mode": {
    "name": "ipython",
    "version": 3
   },
   "file_extension": ".py",
   "mimetype": "text/x-python",
   "name": "python",
   "nbconvert_exporter": "python",
   "pygments_lexer": "ipython3",
   "version": "3.8.8"
  }
 },
 "nbformat": 4,
 "nbformat_minor": 1
}
