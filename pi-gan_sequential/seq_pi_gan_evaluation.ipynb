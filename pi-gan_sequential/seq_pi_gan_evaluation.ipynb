{
 "cells": [
  {
   "cell_type": "code",
   "execution_count": null,
   "metadata": {},
   "outputs": [],
   "source": [
    "%run /home/ptenkaate/scratch/Master-Thesis/convert_ipynb_to_py_files.ipynb"
   ]
  },
  {
   "cell_type": "code",
   "execution_count": null,
   "metadata": {
    "scrolled": true,
    "tags": []
   },
   "outputs": [],
   "source": [
    "import torch\n",
    "import torch.nn.functional as F\n",
    "\n",
    "from torch import nn\n",
    "from torch.utils.data import DataLoader, Dataset\n",
    "from torchvision.transforms import Resize, Compose, ToTensor, Normalize\n",
    "\n",
    "import argparse\n",
    "import os\n",
    "import math \n",
    "import skimage\n",
    "import numpy as np\n",
    "import matplotlib.pyplot as plt\n",
    "from PIL import Image\n",
    "\n",
    "import time\n",
    "import pickle\n",
    "\n",
    "from datetime import datetime\n",
    "from pathlib import Path\n",
    "\n",
    "from py_files.new_dataset import *\n",
    "\n",
    "from py_files.cnn_model import *\n",
    "from py_files.pigan_model import *\n",
    "\n",
    "from py_files.seq_pi_gan_functions import *\n",
    "\n",
    "%matplotlib qt"
   ]
  },
  {
   "cell_type": "markdown",
   "metadata": {},
   "source": [
    "#### Import classes"
   ]
  },
  {
   "cell_type": "code",
   "execution_count": null,
   "metadata": {},
   "outputs": [],
   "source": [
    "DEVICE = set_device()\n",
    "\n",
    "print('----------------------------------')\n",
    "print('Using device for training:', DEVICE)\n",
    "print('----------------------------------')"
   ]
  },
  {
   "cell_type": "markdown",
   "metadata": {},
   "source": [
    "# Set the run you want to evaluate "
   ]
  },
  {
   "cell_type": "code",
   "execution_count": null,
   "metadata": {
    "scrolled": true
   },
   "outputs": [],
   "source": [
    "sorted(os.listdir(path='saved_runs'))"
   ]
  },
  {
   "cell_type": "code",
   "execution_count": null,
   "metadata": {
    "scrolled": false
   },
   "outputs": [],
   "source": [
    "# run = sorted(os.listdir(path='saved_runs'))[-1]\n",
    "run = \"pi-gan 2021-06-05 00:58:36 \"\n",
    "\n",
    "ARGS = load_args(run, print_changed=False)\n",
    "\n",
    "print(run)\n",
    "\n",
    "for var, val in vars(ARGS).items():\n",
    "    print(f\"{var.ljust(15)} \\t {val}\")"
   ]
  },
  {
   "cell_type": "markdown",
   "metadata": {},
   "source": [
    "# Evaluation"
   ]
  },
  {
   "cell_type": "code",
   "execution_count": null,
   "metadata": {},
   "outputs": [],
   "source": [
    "ARGS.batch_size = 3\n",
    "\n",
    "train_dl, val_dl, test_dl = initialize_dataloaders(ARGS)"
   ]
  },
  {
   "cell_type": "markdown",
   "metadata": {},
   "source": [
    "#### Load models"
   ]
  },
  {
   "cell_type": "code",
   "execution_count": null,
   "metadata": {
    "scrolled": true
   },
   "outputs": [],
   "source": [
    "ARGS.print_models=False\n",
    "models, optims, schedulers = load_models_and_optims(ARGS)"
   ]
  },
  {
   "cell_type": "code",
   "execution_count": null,
   "metadata": {},
   "outputs": [],
   "source": [
    "# models[\"pcmra_siren\"]"
   ]
  },
  {
   "cell_type": "code",
   "execution_count": null,
   "metadata": {},
   "outputs": [],
   "source": [
    "ARGS.pretrained_best_dataset = \"train\"\n",
    "ARGS.pretrained_best_loss = \"mask\"\n",
    "\n",
    "load_pretrained_models(run, ARGS.pretrained_best_dataset, ARGS.pretrained_best_loss,\n",
    "                       models, optims, pretrained_models=None)"
   ]
  },
  {
   "cell_type": "code",
   "execution_count": null,
   "metadata": {},
   "outputs": [],
   "source": [
    "##### loss function #####\n",
    "mask_criterion = nn.BCELoss()    \n",
    "pcmra_criterion = nn.MSELoss()  \n",
    "dice_criterion = calc_dice_loss"
   ]
  },
  {
   "cell_type": "code",
   "execution_count": null,
   "metadata": {},
   "outputs": [],
   "source": [
    "def scroll_through_output(dataloader, shape=[24, 64, 64], transform=False):\n",
    "    with torch.no_grad():\n",
    "        pcmras = masks = loss_covers = mask_outs = pcmra_outs = torch.Tensor([])\n",
    "\n",
    "        titles = []\n",
    "\n",
    "        mask_losses, pcmra_losses, dice_losses = [], [], []\n",
    "\n",
    "        for batch in dataloader: \n",
    "\n",
    "            if transform:\n",
    "                batch = transform_batch(batch, ARGS)\n",
    "\n",
    "\n",
    "            _, _, _, pcmra, coords, pcmra_array, mask_array, loss_cover_array = get_siren_batch(batch)\n",
    "\n",
    "\n",
    "            mask_out = get_complete_image(models, pcmra, coords, ARGS)\n",
    "            pcmra_out = get_complete_image(models, pcmra, coords, ARGS, output=\"pcmra\")\n",
    "\n",
    "            mask_loss = mask_criterion(mask_out, mask_array) \n",
    "            dice_loss = dice_criterion(mask_out, mask_array) \n",
    "            pcmra_loss = pcmra_criterion(pcmra_out, pcmra_array) \n",
    "\n",
    "            mask_losses.append(mask_loss.item())\n",
    "            dice_losses.append(dice_loss.item())\n",
    "            pcmra_losses.append(pcmra_loss.item())\n",
    "\n",
    "            for p, m, po, mo, lc in zip(pcmra_array, mask_array, pcmra_out, mask_out, loss_cover_array):\n",
    "                pcmras = torch.cat((pcmras, p.cpu().view(shape).detach().permute(1, 2, 0)), 2)\n",
    "                masks = torch.cat((masks, m.cpu().view(shape).detach().permute(1, 2, 0)), 2)\n",
    "                mask_outs = torch.cat((mask_outs, mo.cpu().view(shape).detach().permute(1, 2, 0)), 2)\n",
    "                pcmra_outs = torch.cat((pcmra_outs, po.cpu().view(shape).detach().permute(1, 2, 0)), 2)\n",
    "                loss_covers = torch.cat((loss_covers, lc.cpu().view(shape).detach().permute(1, 2, 0)), 2)\n",
    "\n",
    "\n",
    "        \n",
    "        print(\"Mask loss: \", np.array(mask_losses).mean())\n",
    "        print(\"Dice loss: \", np.array(dice_losses).mean())\n",
    "        \n",
    "        print(\"PCMRA loss:\", np.array(pcmra_losses).mean())\n",
    "\n",
    "        titles = \"Results\"\n",
    "\n",
    "        window = Show_images(titles, (pcmras.numpy(), \"pcmras\"), \n",
    "                                     (pcmra_outs.numpy(), \"pcmra output\"),\n",
    "                                     (masks.numpy(), \"masks\"),\n",
    "                                     (mask_outs.numpy(), \"mask output\"), \n",
    "#                                      (loss_covers.numpy(), \"loss_covers\"),\n",
    "                            )\n",
    "\n",
    "        return window"
   ]
  },
  {
   "cell_type": "code",
   "execution_count": null,
   "metadata": {
    "scrolled": false
   },
   "outputs": [],
   "source": [
    "ARGS.rotate = True\n",
    "ARGS.translate = True\n",
    "ARGS.flip = True\n",
    "ARGS.crop = True\n",
    "ARGS.stretch = True\n",
    "\n",
    "shape = [24, 128, 128]\n",
    "# shape = [24, 64, 64]\n",
    "# window = scroll_through_output(train_dl, shape=shape, transform=True)\n",
    "# window = scroll_through_output(val_dl, shape=shape)\n",
    "window = scroll_through_output(test_dl, shape=shape)"
   ]
  },
  {
   "cell_type": "code",
   "execution_count": null,
   "metadata": {},
   "outputs": [],
   "source": [
    "# criterion = nn.MSELoss()\n",
    "\n",
    "# for idx, subj, proj, pcmra, coords, pcmra_array, mask_array in val_dl:\n",
    "#     if idx == 1:\n",
    "#         break\n",
    "\n",
    "# print(pcmra.shape)\n",
    "# out = get_complete_image(models, pcmra, coords, ARGS, output=\"pcmra\")\n",
    "# out = out.view(1, 1, 64, 64, 24).permute(0, 1, 4, 2, 3)\n",
    "\n",
    "# plt.imshow(pcmra[0, 0, 8, :, :].cpu())\n",
    "# plt.show()\n",
    "\n",
    "# plt.imshow(out[0, 0, 8, :, :].cpu().detach())\n",
    "# plt.show()\n",
    "\n",
    "# print(criterion(pcmra, out).item())"
   ]
  },
  {
   "cell_type": "code",
   "execution_count": null,
   "metadata": {},
   "outputs": [],
   "source": [
    "a = torch.randn(24, 1, 24, 128, 128).cuda()\n",
    "print(a)\n"
   ]
  },
  {
   "cell_type": "code",
   "execution_count": null,
   "metadata": {},
   "outputs": [],
   "source": [
    "t = time.time()\n",
    "\n",
    "a = torch.floor(torch.round(a*10 ) / 10)\n",
    "\n",
    "print(time.time() - t)\n"
   ]
  },
  {
   "cell_type": "code",
   "execution_count": null,
   "metadata": {},
   "outputs": [],
   "source": [
    "print(a)"
   ]
  },
  {
   "cell_type": "code",
   "execution_count": null,
   "metadata": {},
   "outputs": [],
   "source": []
  }
 ],
 "metadata": {
  "kernelspec": {
   "display_name": "Python 3.6.8 64-bit",
   "language": "python",
   "name": "python36864bitc17f53f707db4b89be7c32a22adf91a3"
  },
  "language_info": {
   "codemirror_mode": {
    "name": "ipython",
    "version": 3
   },
   "file_extension": ".py",
   "mimetype": "text/x-python",
   "name": "python",
   "nbconvert_exporter": "python",
   "pygments_lexer": "ipython3",
   "version": "3.6.8"
  }
 },
 "nbformat": 4,
 "nbformat_minor": 4
}
