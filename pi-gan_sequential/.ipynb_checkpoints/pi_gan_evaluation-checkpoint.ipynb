{
 "cells": [
  {
   "cell_type": "code",
   "execution_count": 1,
   "metadata": {},
   "outputs": [],
   "source": [
    "# %run convert_ipynb_to_py_files.ipynb"
   ]
  },
  {
   "cell_type": "code",
   "execution_count": 1,
   "metadata": {
    "scrolled": true,
    "tags": []
   },
   "outputs": [
    {
     "name": "stdout",
     "output_type": "stream",
     "text": [
      "Imported CNN and Mapping functions.\n",
      "Imported PI-Gan model.\n",
      "Loaded all helper functions.\n"
     ]
    }
   ],
   "source": [
    "import torch\n",
    "import torch.nn.functional as F\n",
    "\n",
    "from torch import nn\n",
    "from torch.utils.data import DataLoader, Dataset\n",
    "from torchvision.transforms import Resize, Compose, ToTensor, Normalize\n",
    "\n",
    "import argparse\n",
    "import os\n",
    "import math \n",
    "import skimage\n",
    "import numpy as np\n",
    "import matplotlib.pyplot as plt\n",
    "from PIL import Image\n",
    "\n",
    "import time\n",
    "import pickle\n",
    "\n",
    "from datetime import datetime\n",
    "from pathlib import Path\n",
    "\n",
    "from py_files.new_dataset import *\n",
    "\n",
    "from py_files.cnn_model import *\n",
    "from py_files.pigan_model import *\n",
    "\n",
    "from py_files.seq_pi_gan_functions import *"
   ]
  },
  {
   "cell_type": "markdown",
   "metadata": {},
   "source": [
    "#### Import classes"
   ]
  },
  {
   "cell_type": "code",
   "execution_count": 2,
   "metadata": {},
   "outputs": [
    {
     "name": "stdout",
     "output_type": "stream",
     "text": [
      "----------------------------------\n",
      "Using device for training: cuda\n",
      "----------------------------------\n",
      "----------------------------------\n",
      "Using device for training: cuda\n",
      "----------------------------------\n"
     ]
    }
   ],
   "source": [
    "DEVICE = set_device()\n",
    "\n",
    "print('----------------------------------')\n",
    "print('Using device for training:', DEVICE)\n",
    "print('----------------------------------')"
   ]
  },
  {
   "cell_type": "markdown",
   "metadata": {},
   "source": [
    "# Set the run you want to evaluate "
   ]
  },
  {
   "cell_type": "code",
   "execution_count": 3,
   "metadata": {
    "scrolled": true
   },
   "outputs": [
    {
     "data": {
      "text/plain": [
       "['pi-gan 11-05-2021 10:36:55 ']"
      ]
     },
     "execution_count": 3,
     "metadata": {},
     "output_type": "execute_result"
    }
   ],
   "source": [
    "sorted(os.listdir(path='saved_runs'))"
   ]
  },
  {
   "cell_type": "code",
   "execution_count": 4,
   "metadata": {
    "scrolled": false
   },
   "outputs": [
    {
     "name": "stdout",
     "output_type": "stream",
     "text": [
      "WARNING: ARGS class initialized.\n",
      "pi-gan 11-05-2021 10:36:55 \n",
      "device          \t GPU\n",
      "print_models    \t True\n",
      "name            \t \n",
      "pretrained      \t None\n",
      "pretrained_best \t train\n",
      "dataset         \t small\n",
      "rotate          \t False\n",
      "translate       \t False\n",
      "flip            \t False\n",
      "norm_min_max    \t [0, 1]\n",
      "seed            \t 34\n",
      "epochs          \t 100\n",
      "batch_size      \t 24\n",
      "eval_every      \t 5\n",
      "shuffle         \t True\n",
      "n_coords_sample \t 500\n",
      "cnn_setup       \t 1\n",
      "mapping_setup   \t 2\n",
      "dim_hidden      \t 256\n",
      "siren_hidden_layers \t 3\n",
      "first_omega_0   \t 30.0\n",
      "hidden_omega_0  \t 30.0\n",
      "pcmra_first_omega_0 \t 30.0\n",
      "pcmra_hidden_omega_0 \t 30.0\n",
      "cnn_lr          \t 0.0001\n",
      "cnn_wd          \t 0\n",
      "mapping_lr      \t 0.0001\n",
      "pcmra_mapping_lr \t 0.0001\n",
      "siren_lr        \t 0.0001\n",
      "siren_wd        \t 0\n",
      "pcmra_siren_lr  \t 0.0001\n",
      "pcmra_siren_wd  \t 0\n"
     ]
    }
   ],
   "source": [
    "run = sorted(os.listdir(path='saved_runs'))[-1]\n",
    "# run = \"pi-gan 06-05-2021 11:23:14 very trained pcmra\"\n",
    "\n",
    "ARGS = load_args(run, print_changed=False)\n",
    "\n",
    "print(run)\n",
    "\n",
    "for var, val in vars(ARGS).items():\n",
    "    print(f\"{var.ljust(15)} \\t {val}\")"
   ]
  },
  {
   "cell_type": "markdown",
   "metadata": {},
   "source": [
    "# Evaluation"
   ]
  },
  {
   "cell_type": "code",
   "execution_count": 5,
   "metadata": {},
   "outputs": [
    {
     "name": "stdout",
     "output_type": "stream",
     "text": [
      "----------------------------------\n",
      "Using device for training: cuda\n",
      "----------------------------------\n",
      "Train subjects: 84\n",
      "Val subjects: 28\n",
      "Test subjects: 28\n"
     ]
    }
   ],
   "source": [
    "##### data preparation #####\n",
    "ARGS.rotate, ARGS.translate, ARGS.flip = False, False, False\n",
    "ARGS.batch_size = 1\n",
    "train_dl, val_dl, test_dl = initialize_dataloaders(ARGS)"
   ]
  },
  {
   "cell_type": "markdown",
   "metadata": {},
   "source": [
    "#### Load models"
   ]
  },
  {
   "cell_type": "code",
   "execution_count": 6,
   "metadata": {
    "scrolled": true
   },
   "outputs": [
    {
     "name": "stdout",
     "output_type": "stream",
     "text": [
      "----------------------------------\n",
      "Using device for training: cuda\n",
      "----------------------------------\n",
      "CNN\n",
      "CNN1(\n",
      "  (model): Sequential(\n",
      "    (0): ConvLayer(\n",
      "      (model): Sequential(\n",
      "        (0): Conv3d(1, 16, kernel_size=(5, 5, 5), stride=(1, 1, 1), padding=(2, 2, 2))\n",
      "        (1): ReLU()\n",
      "        (2): LayerNorm((24, 64, 64), eps=1e-05, elementwise_affine=True)\n",
      "      )\n",
      "    )\n",
      "    (1): ConvLayer(\n",
      "      (model): Sequential(\n",
      "        (0): Conv3d(16, 16, kernel_size=(5, 5, 5), stride=(2, 2, 2), padding=(2, 2, 2))\n",
      "        (1): ReLU()\n",
      "        (2): LayerNorm((12, 32, 32), eps=1e-05, elementwise_affine=True)\n",
      "      )\n",
      "    )\n",
      "    (2): ConvLayer(\n",
      "      (model): Sequential(\n",
      "        (0): Conv3d(16, 32, kernel_size=(5, 5, 5), stride=(1, 1, 1), padding=(2, 2, 2))\n",
      "        (1): ReLU()\n",
      "        (2): LayerNorm((12, 32, 32), eps=1e-05, elementwise_affine=True)\n",
      "      )\n",
      "    )\n",
      "    (3): ConvLayer(\n",
      "      (model): Sequential(\n",
      "        (0): Conv3d(32, 32, kernel_size=(5, 5, 5), stride=(2, 2, 2), padding=(2, 2, 2))\n",
      "        (1): ReLU()\n",
      "        (2): LayerNorm((6, 16, 16), eps=1e-05, elementwise_affine=True)\n",
      "      )\n",
      "    )\n",
      "    (4): ConvLayer(\n",
      "      (model): Sequential(\n",
      "        (0): Conv3d(32, 64, kernel_size=(5, 5, 5), stride=(1, 1, 1), padding=(2, 2, 2))\n",
      "        (1): ReLU()\n",
      "        (2): LayerNorm((6, 16, 16), eps=1e-05, elementwise_affine=True)\n",
      "      )\n",
      "    )\n",
      "    (5): ConvLayer(\n",
      "      (model): Sequential(\n",
      "        (0): Conv3d(64, 64, kernel_size=(5, 5, 5), stride=(2, 2, 2), padding=(2, 2, 2))\n",
      "        (1): ReLU()\n",
      "        (2): LayerNorm((3, 8, 8), eps=1e-05, elementwise_affine=True)\n",
      "      )\n",
      "    )\n",
      "    (6): ConvLayer(\n",
      "      (model): Sequential(\n",
      "        (0): Conv3d(64, 128, kernel_size=(5, 5, 5), stride=(1, 1, 1), padding=(2, 2, 2))\n",
      "        (1): ReLU()\n",
      "        (2): LayerNorm((3, 8, 8), eps=1e-05, elementwise_affine=True)\n",
      "      )\n",
      "    )\n",
      "    (7): ConvLayer(\n",
      "      (model): Sequential(\n",
      "        (0): Conv3d(128, 128, kernel_size=(5, 5, 5), stride=(2, 2, 2), padding=(2, 2, 2))\n",
      "        (1): ReLU()\n",
      "        (2): LayerNorm((2, 4, 4), eps=1e-05, elementwise_affine=True)\n",
      "      )\n",
      "    )\n",
      "    (8): Flatten()\n",
      "  )\n",
      ")\n",
      "MAPPING\n",
      "Mapping2(\n",
      "  (model): Sequential(\n",
      "    (0): Linear(in_features=4096, out_features=2048, bias=True)\n",
      "    (1): LeakyReLU(negative_slope=0.2)\n",
      "    (2): Linear(in_features=2048, out_features=1024, bias=True)\n",
      "    (3): LeakyReLU(negative_slope=0.2)\n",
      "    (4): Linear(in_features=1024, out_features=2048, bias=True)\n",
      "    (5): ReshapeTensor()\n",
      "  )\n",
      ")\n",
      "SIREN\n",
      "Siren(\n",
      "  (net): ModuleList(\n",
      "    (0): SineLayer(\n",
      "      (linear): Linear(in_features=3, out_features=256, bias=True)\n",
      "    )\n",
      "    (1): SineLayer(\n",
      "      (linear): Linear(in_features=256, out_features=256, bias=True)\n",
      "    )\n",
      "    (2): SineLayer(\n",
      "      (linear): Linear(in_features=256, out_features=256, bias=True)\n",
      "    )\n",
      "    (3): SineLayer(\n",
      "      (linear): Linear(in_features=256, out_features=256, bias=True)\n",
      "    )\n",
      "  )\n",
      "  (final_linear): Linear(in_features=256, out_features=1, bias=True)\n",
      "  (final_activation): Sigmoid()\n",
      ")\n",
      "PCMRA_MAPPING\n",
      "Mapping2(\n",
      "  (model): Sequential(\n",
      "    (0): Linear(in_features=4096, out_features=2048, bias=True)\n",
      "    (1): LeakyReLU(negative_slope=0.2)\n",
      "    (2): Linear(in_features=2048, out_features=1024, bias=True)\n",
      "    (3): LeakyReLU(negative_slope=0.2)\n",
      "    (4): Linear(in_features=1024, out_features=2048, bias=True)\n",
      "    (5): ReshapeTensor()\n",
      "  )\n",
      ")\n",
      "PCMRA_SIREN\n",
      "Siren(\n",
      "  (net): ModuleList(\n",
      "    (0): SineLayer(\n",
      "      (linear): Linear(in_features=3, out_features=256, bias=True)\n",
      "    )\n",
      "    (1): SineLayer(\n",
      "      (linear): Linear(in_features=256, out_features=256, bias=True)\n",
      "    )\n",
      "    (2): SineLayer(\n",
      "      (linear): Linear(in_features=256, out_features=256, bias=True)\n",
      "    )\n",
      "    (3): SineLayer(\n",
      "      (linear): Linear(in_features=256, out_features=256, bias=True)\n",
      "    )\n",
      "  )\n",
      "  (final_linear): Linear(in_features=256, out_features=1, bias=True)\n",
      ")\n"
     ]
    }
   ],
   "source": [
    "models, optims, schedulers = load_models_and_optims(ARGS)"
   ]
  },
  {
   "cell_type": "code",
   "execution_count": 15,
   "metadata": {},
   "outputs": [],
   "source": [
    "best_loss = \"train\"\n",
    "\n",
    "for model in models.keys():\n",
    "    models[model].load_state_dict(torch.load(f\"saved_runs/{run}/{model}_{best_loss}.pt\"))"
   ]
  },
  {
   "cell_type": "code",
   "execution_count": 16,
   "metadata": {},
   "outputs": [],
   "source": [
    "##### loss function #####\n",
    "criterion = nn.BCELoss()    "
   ]
  },
  {
   "cell_type": "code",
   "execution_count": 17,
   "metadata": {},
   "outputs": [],
   "source": [
    "def scroll_through_output(dataloader, shape=(64, 64, 24), first=100):\n",
    "    pcmras = masks = mask_outs = torch.Tensor([])\n",
    "    \n",
    "    if ARGS.reconstruction != \"mask\": \n",
    "        pcmra_outs = torch.Tensor([])\n",
    "\n",
    "    titles = []\n",
    "\n",
    "    for idx, subj, proj, pcmra, coords, pcmra_array, mask_array in dataloader: \n",
    "#         print(idx, subj)\n",
    "#         print(pcmra.shape)\n",
    "\n",
    "        mask_out = get_complete_image(models, pcmra, coords, ARGS)\n",
    "        if ARGS.reconstruction != \"mask\": \n",
    "            pcmra_out = get_complete_image(models, pcmra, coords, ARGS, output=\"pcmra\")\n",
    "\n",
    "        loss = criterion(mask_out, mask_array) \n",
    "\n",
    "        pcmras = torch.cat((pcmras, pcmra_array.cpu().view(shape).detach()), 2)\n",
    "        masks = torch.cat((masks, mask_array.cpu().view(shape).detach()), 2)\n",
    "        mask_outs = torch.cat((mask_outs, mask_out.cpu().view(shape).detach()), 2)\n",
    "        if ARGS.reconstruction != \"mask\": \n",
    "            pcmra_outs = torch.cat((pcmra_outs, pcmra_out.cpu().view(shape).detach()), 2)\n",
    "\n",
    "        titles += [f\"{idx.item()} {subj[0]} {proj[0]}, loss:, {round(loss.item(), 4)}\" for i in range(shape[2])]\n",
    "        \n",
    "        if idx >= first: \n",
    "            break\n",
    "    \n",
    "    if ARGS.reconstruction != \"mask\": \n",
    "        window = Show_images(titles, (pcmras.numpy(), \"pcmras\"), \n",
    "                             (masks.numpy(), \"masks\"), \n",
    "                             (mask_outs.numpy(), \"mask output\"), \n",
    "                             (pcmra_outs.numpy(), \"pcmra output\"))\n",
    "    else:\n",
    "        window = Show_images(titles, (pcmras.numpy(), \"pcmras\"), \n",
    "                             (masks.numpy(), \"masks\"), \n",
    "                             (mask_outs.numpy(), \"mask output\"))\n",
    "\n",
    "    return window"
   ]
  },
  {
   "cell_type": "code",
   "execution_count": 19,
   "metadata": {
    "scrolled": false
   },
   "outputs": [],
   "source": [
    "# window = scroll_through_output(train_dl)\n",
    "# window = scroll_through_output(val_dl)\n",
    "window = scroll_through_output(test_dl)"
   ]
  },
  {
   "cell_type": "code",
   "execution_count": null,
   "metadata": {},
   "outputs": [],
   "source": []
  }
 ],
 "metadata": {
  "kernelspec": {
   "display_name": "Python 3.6.8 64-bit",
   "language": "python",
   "name": "python36864bitc17f53f707db4b89be7c32a22adf91a3"
  },
  "language_info": {
   "codemirror_mode": {
    "name": "ipython",
    "version": 3
   },
   "file_extension": ".py",
   "mimetype": "text/x-python",
   "name": "python",
   "nbconvert_exporter": "python",
   "pygments_lexer": "ipython3",
   "version": "3.6.8"
  }
 },
 "nbformat": 4,
 "nbformat_minor": 4
}
