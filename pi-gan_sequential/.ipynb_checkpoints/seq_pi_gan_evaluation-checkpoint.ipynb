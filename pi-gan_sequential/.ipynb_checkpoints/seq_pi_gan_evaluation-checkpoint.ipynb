{
 "cells": [
  {
   "cell_type": "code",
   "execution_count": null,
   "metadata": {},
   "outputs": [],
   "source": [
    "# %run convert_ipynb_to_py_files.ipynb"
   ]
  },
  {
   "cell_type": "code",
   "execution_count": 1,
   "metadata": {
    "scrolled": true,
    "tags": []
   },
   "outputs": [
    {
     "name": "stdout",
     "output_type": "stream",
     "text": [
      "Imported CNN and Mapping functions.\n",
      "Imported PI-Gan model.\n",
      "Loaded all helper functions.\n"
     ]
    }
   ],
   "source": [
    "import torch\n",
    "import torch.nn.functional as F\n",
    "\n",
    "from torch import nn\n",
    "from torch.utils.data import DataLoader, Dataset\n",
    "from torchvision.transforms import Resize, Compose, ToTensor, Normalize\n",
    "\n",
    "import argparse\n",
    "import os\n",
    "import math \n",
    "import skimage\n",
    "import numpy as np\n",
    "import matplotlib.pyplot as plt\n",
    "from PIL import Image\n",
    "\n",
    "import time\n",
    "import pickle\n",
    "\n",
    "from datetime import datetime\n",
    "from pathlib import Path\n",
    "\n",
    "from py_files.new_dataset import *\n",
    "\n",
    "from py_files.cnn_model import *\n",
    "from py_files.pigan_model import *\n",
    "\n",
    "from py_files.seq_pi_gan_functions import *\n",
    "\n",
    "# %matplotlib qt"
   ]
  },
  {
   "cell_type": "markdown",
   "metadata": {},
   "source": [
    "#### Import classes"
   ]
  },
  {
   "cell_type": "code",
   "execution_count": 2,
   "metadata": {},
   "outputs": [
    {
     "name": "stdout",
     "output_type": "stream",
     "text": [
      "----------------------------------\n",
      "Using device for training: cuda\n",
      "----------------------------------\n",
      "----------------------------------\n",
      "Using device for training: cuda\n",
      "----------------------------------\n"
     ]
    }
   ],
   "source": [
    "DEVICE = set_device()\n",
    "\n",
    "print('----------------------------------')\n",
    "print('Using device for training:', DEVICE)\n",
    "print('----------------------------------')"
   ]
  },
  {
   "cell_type": "markdown",
   "metadata": {},
   "source": [
    "# Set the run you want to evaluate "
   ]
  },
  {
   "cell_type": "code",
   "execution_count": 3,
   "metadata": {
    "scrolled": true
   },
   "outputs": [
    {
     "data": {
      "text/plain": [
       "['pi-gan 11-05-2021 11:11:57 ',\n",
       " 'pi-gan 11-05-2021 12:13:11 ',\n",
       " 'pi-gan 11-05-2021 21:28:56 ',\n",
       " 'pi-gan 11-05-2021 22:28:05 ',\n",
       " 'pi-gan 11-05-2021 23:26:13 ',\n",
       " 'pi-gan 12-05-2021 01:14:28 ',\n",
       " 'pi-gan 12-05-2021 03:00:24 ',\n",
       " 'pi-gan 12-05-2021 06:46:08 ',\n",
       " 'pi-gan 12-05-2021 09:45:10 ',\n",
       " 'pi-gan 12-05-2021 11:46:01 ',\n",
       " 'pi-gan 12-05-2021 14:22:36 ']"
      ]
     },
     "execution_count": 3,
     "metadata": {},
     "output_type": "execute_result"
    }
   ],
   "source": [
    "sorted(os.listdir(path='saved_runs'))"
   ]
  },
  {
   "cell_type": "code",
   "execution_count": 4,
   "metadata": {
    "scrolled": false
   },
   "outputs": [
    {
     "name": "stdout",
     "output_type": "stream",
     "text": [
      "WARNING: ARGS class initialized.\n",
      "pi-gan 11-05-2021 23:26:13 \n",
      "device          \t GPU\n",
      "print_models    \t False\n",
      "name            \t \n",
      "pretrained      \t None\n",
      "pretrained_best \t train\n",
      "dataset         \t small\n",
      "rotate          \t True\n",
      "translate       \t True\n",
      "flip            \t True\n",
      "norm_min_max    \t [0, 1]\n",
      "seed            \t 34\n",
      "epochs          \t 60\n",
      "batch_size      \t 12\n",
      "eval_every      \t 5\n",
      "shuffle         \t True\n",
      "n_coords_sample \t 30000\n",
      "cnn_setup       \t 1\n",
      "mapping_setup   \t 2\n",
      "dim_hidden      \t 256\n",
      "siren_hidden_layers \t 3\n",
      "first_omega_0   \t 30.0\n",
      "hidden_omega_0  \t 30.0\n",
      "pcmra_first_omega_0 \t 30\n",
      "pcmra_hidden_omega_0 \t 30.0\n",
      "cnn_lr          \t 0.0001\n",
      "cnn_wd          \t 0\n",
      "mapping_lr      \t 0.0001\n",
      "pcmra_mapping_lr \t 0.0001\n",
      "siren_lr        \t 0.0001\n",
      "siren_wd        \t 0\n",
      "pcmra_siren_lr  \t 0.0001\n",
      "pcmra_siren_wd  \t 0\n",
      "patience        \t 5\n"
     ]
    }
   ],
   "source": [
    "# run = sorted(os.listdir(path='saved_runs'))[-1]\n",
    "run = \"pi-gan 11-05-2021 23:26:13 \"\n",
    "\n",
    "ARGS = load_args(run, print_changed=False)\n",
    "\n",
    "print(run)\n",
    "\n",
    "for var, val in vars(ARGS).items():\n",
    "    print(f\"{var.ljust(15)} \\t {val}\")"
   ]
  },
  {
   "cell_type": "markdown",
   "metadata": {},
   "source": [
    "# Evaluation"
   ]
  },
  {
   "cell_type": "code",
   "execution_count": 5,
   "metadata": {},
   "outputs": [
    {
     "name": "stdout",
     "output_type": "stream",
     "text": [
      "----------------------------------\n",
      "Using device for training: cuda\n",
      "----------------------------------\n",
      "Train subjects: 84\n",
      "Val subjects: 28\n",
      "Test subjects: 28\n"
     ]
    }
   ],
   "source": [
    "##### data preparation #####\n",
    "ARGS.rotate, ARGS.translate, ARGS.flip = False, False, False\n",
    "ARGS.batch_size = 1\n",
    "train_dl, val_dl, test_dl = initialize_dataloaders(ARGS)"
   ]
  },
  {
   "cell_type": "markdown",
   "metadata": {},
   "source": [
    "#### Load models"
   ]
  },
  {
   "cell_type": "code",
   "execution_count": 6,
   "metadata": {
    "scrolled": true
   },
   "outputs": [
    {
     "name": "stdout",
     "output_type": "stream",
     "text": [
      "----------------------------------\n",
      "Using device for training: cuda\n",
      "----------------------------------\n",
      "CNN\n",
      "MAPPING\n",
      "SIREN\n",
      "PCMRA_MAPPING\n",
      "PCMRA_SIREN\n"
     ]
    }
   ],
   "source": [
    "ARGS.print_models=False\n",
    "models, optims, schedulers = load_models_and_optims(ARGS)"
   ]
  },
  {
   "cell_type": "code",
   "execution_count": 7,
   "metadata": {},
   "outputs": [],
   "source": [
    "best_loss = \"train\"\n",
    "\n",
    "for model in models.keys():\n",
    "    if os.path.exists(f\"saved_runs/{run}/{model}_{best_loss}.pt\"):\n",
    "        models[model].load_state_dict(torch.load(f\"saved_runs/{run}/{model}_{best_loss}.pt\"))"
   ]
  },
  {
   "cell_type": "code",
   "execution_count": 8,
   "metadata": {},
   "outputs": [],
   "source": [
    "##### loss function #####\n",
    "criterion = nn.BCELoss()    "
   ]
  },
  {
   "cell_type": "code",
   "execution_count": 9,
   "metadata": {},
   "outputs": [],
   "source": [
    "def scroll_through_output(dataloader, shape=(64, 64, 24), first=100):\n",
    "    pcmras = masks = mask_outs = pcmra_outs = torch.Tensor([])\n",
    "    \n",
    "    titles = []\n",
    "\n",
    "    for idx, subj, proj, pcmra, coords, pcmra_array, mask_array in dataloader: \n",
    "#         print(idx, subj)\n",
    "#         print(pcmra.shape)\n",
    "\n",
    "        mask_out = get_complete_image(models, pcmra, coords, ARGS)\n",
    "        pcmra_out = get_complete_image(models, pcmra, coords, ARGS, output=\"pcmra\")\n",
    "\n",
    "        loss = criterion(mask_out, mask_array) \n",
    "\n",
    "        pcmras = torch.cat((pcmras, pcmra_array.cpu().view(shape).detach()), 2)\n",
    "        masks = torch.cat((masks, mask_array.cpu().view(shape).detach()), 2)\n",
    "        mask_outs = torch.cat((mask_outs, mask_out.cpu().view(shape).detach()), 2)\n",
    "        pcmra_outs = torch.cat((pcmra_outs, pcmra_out.cpu().view(shape).detach()), 2)\n",
    "\n",
    "        titles += [f\"{idx.item()} {subj[0]} {proj[0]}, loss:, {round(loss.item(), 4)}\" for i in range(shape[2])]\n",
    "        \n",
    "        if idx >= first: \n",
    "            break\n",
    "    \n",
    "    window = Show_images(titles, (pcmras.numpy(), \"pcmras\"), \n",
    "                                 (masks.numpy(), \"masks\"), \n",
    "                                 (mask_outs.numpy(), \"mask output\"), \n",
    "                                 (pcmra_outs.numpy(), \"pcmra output\"))\n",
    "\n",
    "    return window"
   ]
  },
  {
   "cell_type": "code",
   "execution_count": null,
   "metadata": {
    "scrolled": false
   },
   "outputs": [],
   "source": [
    "window = scroll_through_output(train_dl)\n",
    "# window = scroll_through_output(val_dl)\n",
    "# window = scroll_through_output(test_dl)"
   ]
  },
  {
   "cell_type": "code",
   "execution_count": 24,
   "metadata": {},
   "outputs": [
    {
     "name": "stdout",
     "output_type": "stream",
     "text": [
      "torch.Size([1, 1, 24, 64, 64])\n"
     ]
    },
    {
     "data": {
      "image/png": "[encoded data removed]",
      "text/plain": [
       "<Figure size 432x288 with 1 Axes>"
      ]
     },
     "metadata": {
      "needs_background": "light"
     },
     "output_type": "display_data"
    },
    {
     "data": {
      "image/png": "[encoded data removed]",
      "text/plain": [
       "<Figure size 432x288 with 1 Axes>"
      ]
     },
     "metadata": {
      "needs_background": "light"
     },
     "output_type": "display_data"
    },
    {
     "name": "stdout",
     "output_type": "stream",
     "text": [
      "0.001566800638101995\n"
     ]
    }
   ],
   "source": [
    "criterion = nn.MSELoss()\n",
    "\n",
    "for idx, subj, proj, pcmra, coords, pcmra_array, mask_array in val_dl:\n",
    "    if idx == 1:\n",
    "        break\n",
    "\n",
    "print(pcmra.shape)\n",
    "out = get_complete_image(models, pcmra, coords, ARGS, output=\"pcmra\")\n",
    "out = out.view(1, 1, 64, 64, 24).permute(0, 1, 4, 2, 3)\n",
    "\n",
    "plt.imshow(pcmra[0, 0, 8, :, :].cpu())\n",
    "plt.show()\n",
    "\n",
    "plt.imshow(out[0, 0, 8, :, :].cpu().detach())\n",
    "plt.show()\n",
    "\n",
    "print(criterion(pcmra, out).item())"
   ]
  },
  {
   "cell_type": "code",
   "execution_count": null,
   "metadata": {},
   "outputs": [],
   "source": []
  }
 ],
 "metadata": {
  "kernelspec": {
   "display_name": "Python 3.6.8 64-bit",
   "language": "python",
   "name": "python36864bitc17f53f707db4b89be7c32a22adf91a3"
  },
  "language_info": {
   "codemirror_mode": {
    "name": "ipython",
    "version": 3
   },
   "file_extension": ".py",
   "mimetype": "text/x-python",
   "name": "python",
   "nbconvert_exporter": "python",
   "pygments_lexer": "ipython3",
   "version": "3.6.8"
  }
 },
 "nbformat": 4,
 "nbformat_minor": 4
}
