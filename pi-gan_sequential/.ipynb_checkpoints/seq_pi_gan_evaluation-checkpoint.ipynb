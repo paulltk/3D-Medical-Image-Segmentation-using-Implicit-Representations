{
 "cells": [
  {
   "cell_type": "code",
   "execution_count": null,
   "metadata": {},
   "outputs": [],
   "source": [
    "%run /home/ptenkaate/scratch/Master-Thesis/convert_ipynb_to_py_files.ipynb"
   ]
  },
  {
   "cell_type": "code",
   "execution_count": 1,
   "metadata": {
    "scrolled": true,
    "tags": []
   },
   "outputs": [
    {
     "name": "stdout",
     "output_type": "stream",
     "text": [
      "Imported CNN and Mapping functions.\n",
      "Imported PI-Gan model.\n",
      "Loaded all helper functions.\n"
     ]
    },
    {
     "name": "stderr",
     "output_type": "stream",
     "text": [
      "/home/ptenkaate/.local/lib/python3.6/site-packages/matplotlib/backends/qt_editor/figureoptions.py:11: MatplotlibDeprecationWarning: \n",
      "The support for Qt4  was deprecated in Matplotlib 3.3 and will be removed two minor releases later.\n",
      "  from matplotlib.backends.qt_compat import QtGui\n"
     ]
    }
   ],
   "source": [
    "import torch\n",
    "import torch.nn.functional as F\n",
    "\n",
    "from torch import nn\n",
    "from torch.utils.data import DataLoader, Dataset\n",
    "from torchvision.transforms import Resize, Compose, ToTensor, Normalize\n",
    "\n",
    "import argparse\n",
    "import os\n",
    "import math \n",
    "import skimage\n",
    "import numpy as np\n",
    "import matplotlib.pyplot as plt\n",
    "from PIL import Image\n",
    "\n",
    "import time\n",
    "import pickle\n",
    "\n",
    "from datetime import datetime\n",
    "from pathlib import Path\n",
    "\n",
    "from py_files.new_dataset import *\n",
    "\n",
    "from py_files.cnn_model import *\n",
    "from py_files.pigan_model import *\n",
    "\n",
    "from py_files.seq_pi_gan_functions import *\n",
    "\n",
    "%matplotlib qt"
   ]
  },
  {
   "cell_type": "markdown",
   "metadata": {},
   "source": [
    "#### Import classes"
   ]
  },
  {
   "cell_type": "code",
   "execution_count": 2,
   "metadata": {},
   "outputs": [
    {
     "name": "stdout",
     "output_type": "stream",
     "text": [
      "----------------------------------\n",
      "Using device for training: cuda\n",
      "----------------------------------\n",
      "----------------------------------\n",
      "Using device for training: cuda\n",
      "----------------------------------\n"
     ]
    }
   ],
   "source": [
    "DEVICE = set_device()\n",
    "\n",
    "print('----------------------------------')\n",
    "print('Using device for training:', DEVICE)\n",
    "print('----------------------------------')"
   ]
  },
  {
   "cell_type": "markdown",
   "metadata": {},
   "source": [
    "# Set the run you want to evaluate "
   ]
  },
  {
   "cell_type": "code",
   "execution_count": 3,
   "metadata": {
    "scrolled": true
   },
   "outputs": [
    {
     "data": {
      "text/plain": [
       "['pi-gan 21-05-2021 18:39:52 cnn setup 5 mapping setup 8',\n",
       " 'pi-gan 21-05-2021 23:33:42 cnn setup 5 mapping setup 7',\n",
       " 'pi-gan 22-05-2021 04:28:59 cnn setup 6 mapping setup 7',\n",
       " 'pi-gan 22-05-2021 09:21:36 cnn setup 7 mapping setup 7',\n",
       " 'pi-gan 22-05-2021 15:04:31 cnn setup 8 mapping setup 7',\n",
       " 'pi-gan 22-05-2021 18:48:27 cnn setup 9 mapping setup 7',\n",
       " 'pi-gan 22-05-2021 22:29:28 cnn setup 10 mapping setup 7',\n",
       " 'pi-gan 23-05-2021 03:47:35 cnn setup 13 mapping setup 7',\n",
       " 'pi-gan 23-05-2021 08:39:43 cnn setup 11 mapping setup 6',\n",
       " 'pi-gan 23-05-2021 10:29:06 cnn setup 12 mapping setup 6',\n",
       " 'pi-gan 23-05-2021 14:22:41 cnn setup 12 mapping setup 6 continuing',\n",
       " 'pi-gan 23-05-2021 16:26:08 cnn setup 14 mapping setup 7',\n",
       " 'pi-gan 23-05-2021 20:33:49 cnn setup 14 mapping setup 7 continuing',\n",
       " 'pi-gan 23-05-2021 22:18:32 cnn setup 15 mapping setup 7',\n",
       " 'pi-gan 24-05-2021 01:52:31 cnn setup 6 mapping setup 7 with weight decay',\n",
       " 'pi-gan 24-05-2021 16:53:49 cnn setup 14 mapping setup 7 weight decay 5e-5',\n",
       " 'pi-gan 24-05-2021 20:06:39 cnn setup 14 mapping setup 7 no data transformation',\n",
       " 'pi-gan 24-05-2021 21:12:38 cnn setup 16 mapping setup 7',\n",
       " 'pi-gan 25-05-2021 04:50:07 cnn setup 14 mapping setup 7 weight decay 1e-5 cnn and sirens',\n",
       " 'pi-gan 25-05-2021 19:43:38 cnn setup -2 mapping setup 7',\n",
       " 'pi-gan 26-05-2021 05:21:32 cnn setup -1 mapping setup 7',\n",
       " 'pi-gan 26-05-2021 15:49:32 no translation',\n",
       " 'pi-gan 26-05-2021 16:21:04 cnn setup 14 mapping setup 7']"
      ]
     },
     "execution_count": 3,
     "metadata": {},
     "output_type": "execute_result"
    }
   ],
   "source": [
    "sorted(os.listdir(path='saved_runs'))"
   ]
  },
  {
   "cell_type": "code",
   "execution_count": 5,
   "metadata": {
    "scrolled": false
   },
   "outputs": [
    {
     "name": "stdout",
     "output_type": "stream",
     "text": [
      "WARNING: ARGS class initialized.\n",
      "pi-gan 26-05-2021 15:49:32 no translation\n",
      "device          \t GPU\n",
      "print_models    \t False\n",
      "name            \t no translation\n",
      "pretrained      \t None\n",
      "pretrained_best_dataset \t train\n",
      "pretrained_best_loss \t mask\n",
      "pretrained_models \t None\n",
      "pretrained_lr_reset \t None\n",
      "dataset         \t small\n",
      "rotate          \t False\n",
      "translate       \t False\n",
      "flip            \t False\n",
      "crop            \t False\n",
      "stretch         \t False\n",
      "stretch_factor  \t 1.2\n",
      "norm_min_max    \t [0, 1]\n",
      "seed            \t 34\n",
      "pcmra_epochs    \t 2500\n",
      "mask_epochs     \t 2000\n",
      "batch_size      \t 24\n",
      "eval_every      \t 50\n",
      "shuffle         \t True\n",
      "n_coords_sample \t 5000\n",
      "cnn_setup       \t 14\n",
      "pcmra_train_cnn \t True\n",
      "mask_train_cnn  \t False\n",
      "mapping_setup   \t 7\n",
      "dim_hidden      \t 256\n",
      "siren_hidden_layers \t 3\n",
      "first_omega_0   \t 30.0\n",
      "hidden_omega_0  \t 30.0\n",
      "pcmra_first_omega_0 \t 30.0\n",
      "pcmra_hidden_omega_0 \t 30.0\n",
      "cnn_lr          \t 0.0001\n",
      "cnn_wd          \t 0\n",
      "mapping_lr      \t 0.0001\n",
      "pcmra_mapping_lr \t 0.0001\n",
      "siren_lr        \t 0.0001\n",
      "siren_wd        \t 0\n",
      "pcmra_siren_lr  \t 0.0001\n",
      "pcmra_siren_wd  \t 0\n",
      "patience        \t 100\n"
     ]
    }
   ],
   "source": [
    "# run = sorted(os.listdir(path='saved_runs'))[-1]\n",
    "run = \"pi-gan 26-05-2021 15:49:32 no translation\"\n",
    "\n",
    "ARGS = load_args(run, print_changed=False)\n",
    "\n",
    "print(run)\n",
    "\n",
    "for var, val in vars(ARGS).items():\n",
    "    print(f\"{var.ljust(15)} \\t {val}\")"
   ]
  },
  {
   "cell_type": "markdown",
   "metadata": {},
   "source": [
    "# Evaluation"
   ]
  },
  {
   "cell_type": "code",
   "execution_count": 7,
   "metadata": {},
   "outputs": [
    {
     "name": "stdout",
     "output_type": "stream",
     "text": [
      "----------------------------------\n",
      "Using device for training: cuda\n",
      "----------------------------------\n",
      "Train subjects: 84\n",
      "Val subjects: 28\n",
      "Test subjects: 28\n"
     ]
    }
   ],
   "source": [
    "ARGS.batch_size = 3\n",
    "\n",
    "train_dl, val_dl, test_dl = initialize_dataloaders(ARGS)"
   ]
  },
  {
   "cell_type": "markdown",
   "metadata": {},
   "source": [
    "#### Load models"
   ]
  },
  {
   "cell_type": "code",
   "execution_count": 8,
   "metadata": {
    "scrolled": true
   },
   "outputs": [
    {
     "name": "stdout",
     "output_type": "stream",
     "text": [
      "----------------------------------\n",
      "Using device for training: cuda\n",
      "----------------------------------\n",
      "CNN\n",
      "MAPPING\n",
      "SIREN\n",
      "PCMRA_MAPPING\n",
      "PCMRA_SIREN\n"
     ]
    }
   ],
   "source": [
    "ARGS.print_models=False\n",
    "models, optims, schedulers = load_models_and_optims(ARGS)"
   ]
  },
  {
   "cell_type": "code",
   "execution_count": 9,
   "metadata": {},
   "outputs": [
    {
     "name": "stdout",
     "output_type": "stream",
     "text": [
      "Loading params from cnn\n",
      "Loading params from mapping\n",
      "Loading params from siren\n",
      "Loading params from pcmra_mapping\n",
      "Loading params from pcmra_siren\n"
     ]
    }
   ],
   "source": [
    "ARGS.pretrained_best_dataset = \"train\"\n",
    "ARGS.pretrained_best_loss = \"mask\"\n",
    "\n",
    "load_pretrained_models(run, ARGS.pretrained_best_dataset, ARGS.pretrained_best_loss,\n",
    "                       models, optims, pretrained_models=None)"
   ]
  },
  {
   "cell_type": "code",
   "execution_count": 10,
   "metadata": {},
   "outputs": [],
   "source": [
    "##### loss function #####\n",
    "mask_criterion = nn.BCELoss()    \n",
    "pcmra_criterion = nn.MSELoss()    "
   ]
  },
  {
   "cell_type": "code",
   "execution_count": 11,
   "metadata": {},
   "outputs": [],
   "source": [
    "def scroll_through_output(dataloader, shape=[24, 64, 64], transform=False):\n",
    "    with torch.no_grad():\n",
    "        pcmras = masks = loss_covers = mask_outs = pcmra_outs = torch.Tensor([])\n",
    "\n",
    "        titles = []\n",
    "\n",
    "        mask_losses, pcmra_losses = [], []\n",
    "\n",
    "        for batch in dataloader: \n",
    "\n",
    "            if transform:\n",
    "                batch = transform_batch(batch, ARGS)\n",
    "\n",
    "\n",
    "            _, _, _, pcmra, coords, pcmra_array, mask_array, loss_cover_array = get_siren_batch(batch)\n",
    "\n",
    "\n",
    "            mask_out = get_complete_image(models, pcmra, coords, ARGS)\n",
    "            pcmra_out = get_complete_image(models, pcmra, coords, ARGS, output=\"pcmra\")\n",
    "\n",
    "            mask_loss = mask_criterion(mask_out, mask_array) \n",
    "            pcmra_loss = pcmra_criterion(pcmra_out, pcmra_array) \n",
    "\n",
    "            mask_losses.append(mask_loss.item())\n",
    "            pcmra_losses.append(pcmra_loss.item())\n",
    "\n",
    "            for p, m, po, mo, lc in zip(pcmra_array, mask_array, pcmra_out, mask_out, loss_cover_array):\n",
    "                pcmras = torch.cat((pcmras, p.cpu().view(shape).detach().permute(1, 2, 0)), 2)\n",
    "                masks = torch.cat((masks, m.cpu().view(shape).detach().permute(1, 2, 0)), 2)\n",
    "                mask_outs = torch.cat((mask_outs, mo.cpu().view(shape).detach().permute(1, 2, 0)), 2)\n",
    "                pcmra_outs = torch.cat((pcmra_outs, po.cpu().view(shape).detach().permute(1, 2, 0)), 2)\n",
    "                loss_covers = torch.cat((loss_covers, lc.cpu().view(shape).detach().permute(1, 2, 0)), 2)\n",
    "\n",
    "\n",
    "        \n",
    "        print(\"MASK: \", np.array(mask_losses).mean())\n",
    "        print(\"PCMRA:\", np.array(pcmra_losses).mean())\n",
    "\n",
    "        titles = \"Results\"\n",
    "\n",
    "        window = Show_images(titles, (pcmras.numpy(), \"pcmras\"), \n",
    "                                     (masks.numpy(), \"masks\"),\n",
    "#                                      (masks.numpy().round(), \"masks rounded\"),\n",
    "#                                      (loss_covers.numpy(), \"loss_covers\"),\n",
    "#                             )\n",
    "                                     (mask_outs.numpy(), \"mask output\"), \n",
    "                                     (pcmra_outs.numpy(), \"pcmra output\"))\n",
    "\n",
    "        return window"
   ]
  },
  {
   "cell_type": "code",
   "execution_count": 12,
   "metadata": {
    "scrolled": false
   },
   "outputs": [
    {
     "name": "stdout",
     "output_type": "stream",
     "text": [
      "MASK:  0.005189981727328684\n",
      "PCMRA: 0.00047619071119697765\n"
     ]
    }
   ],
   "source": [
    "ARGS.rotate = True\n",
    "ARGS.translate = True\n",
    "ARGS.flip = True\n",
    "ARGS.crop = True\n",
    "ARGS.stretch = True\n",
    "\n",
    "window = scroll_through_output(train_dl, transform=False)\n",
    "# window = scroll_through_output(val_dl)\n",
    "# window = scroll_through_output(test_dl)"
   ]
  },
  {
   "cell_type": "code",
   "execution_count": null,
   "metadata": {},
   "outputs": [],
   "source": [
    "# criterion = nn.MSELoss()\n",
    "\n",
    "# for idx, subj, proj, pcmra, coords, pcmra_array, mask_array in val_dl:\n",
    "#     if idx == 1:\n",
    "#         break\n",
    "\n",
    "# print(pcmra.shape)\n",
    "# out = get_complete_image(models, pcmra, coords, ARGS, output=\"pcmra\")\n",
    "# out = out.view(1, 1, 64, 64, 24).permute(0, 1, 4, 2, 3)\n",
    "\n",
    "# plt.imshow(pcmra[0, 0, 8, :, :].cpu())\n",
    "# plt.show()\n",
    "\n",
    "# plt.imshow(out[0, 0, 8, :, :].cpu().detach())\n",
    "# plt.show()\n",
    "\n",
    "# print(criterion(pcmra, out).item())"
   ]
  },
  {
   "cell_type": "code",
   "execution_count": null,
   "metadata": {},
   "outputs": [],
   "source": []
  },
  {
   "cell_type": "code",
   "execution_count": null,
   "metadata": {},
   "outputs": [],
   "source": []
  }
 ],
 "metadata": {
  "kernelspec": {
   "display_name": "Python 3.6.8 64-bit",
   "language": "python",
   "name": "python36864bitc17f53f707db4b89be7c32a22adf91a3"
  },
  "language_info": {
   "codemirror_mode": {
    "name": "ipython",
    "version": 3
   },
   "file_extension": ".py",
   "mimetype": "text/x-python",
   "name": "python",
   "nbconvert_exporter": "python",
   "pygments_lexer": "ipython3",
   "version": "3.6.8"
  }
 },
 "nbformat": 4,
 "nbformat_minor": 4
}
