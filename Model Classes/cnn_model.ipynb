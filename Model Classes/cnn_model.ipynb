{
 "cells": [
  {
   "cell_type": "code",
   "execution_count": null,
   "metadata": {},
   "outputs": [],
   "source": [
    "import torch\n",
    "from torch import nn\n",
    "import torch.nn.functional as F\n",
    "from torch.utils.data import DataLoader, Dataset\n",
    "import os\n",
    "\n",
    "from PIL import Image\n",
    "from torchvision.transforms import Resize, Compose, ToTensor, Normalize\n",
    "import numpy as np\n",
    "import skimage\n",
    "import matplotlib.pyplot as plt\n",
    "\n",
    "import time\n",
    "import pickle\n",
    "\n",
    "from datetime import datetime\n",
    "from pathlib import Path"
   ]
  },
  {
   "cell_type": "code",
   "execution_count": null,
   "metadata": {},
   "outputs": [],
   "source": [
    "class Flatten(nn.Module):\n",
    "    \"\"\" Reshapes a 4d matrix to a 2d matrix. \"\"\"\n",
    "    def forward(self, input):\n",
    "        return input.view(input.size(0), -1)\n",
    "    \n",
    "class CNN(nn.Module):\n",
    "\n",
    "    def __init__(self, *layers):\n",
    "        super(CNN, self).__init__()\n",
    "        \n",
    "        self.model = []\n",
    "        \n",
    "        for i in range(len(layers)): \n",
    "            \n",
    "            if i+1 != len(layers): \n",
    "                self.append_conv_layer(*layers[i])\n",
    "            else:    \n",
    "                self.model.append(Flatten())    \n",
    "                self.model.append(nn.Dropout(0.25))\n",
    "                self.model.append(nn.Linear(*layers[i]))\n",
    "                \n",
    "        self.model = nn.Sequential(*self.model)\n",
    "        \n",
    "    def append_conv_layer(self, in_channels, out_channels, kernel_size=3, activation=nn.ReLU()):\n",
    "        \n",
    "        self.model.append(nn.Conv3d(in_channels, out_channels, kernel_size, padding=1))\n",
    "        \n",
    "        self.model.append(activation)        \n",
    "        \n",
    "        self.model.append(nn.MaxPool3d(2, stride=2, ceil_mode=True))\n",
    "        \n",
    "        self.model.append(nn.BatchNorm3d(out_channels))\n",
    "        \n",
    "        \n",
    "    def forward(self, x):\n",
    "        out = self.model(x)\n",
    "        return out"
   ]
  },
  {
   "cell_type": "code",
   "execution_count": 1,
   "metadata": {},
   "outputs": [
    {
     "name": "stdout",
     "output_type": "stream",
     "text": [
      "1 2\n"
     ]
    }
   ],
   "source": []
  },
  {
   "cell_type": "code",
   "execution_count": null,
   "metadata": {},
   "outputs": [],
   "source": [
    "print(\"Imported CNN model.\")"
   ]
  },
  {
   "cell_type": "code",
   "execution_count": null,
   "metadata": {},
   "outputs": [],
   "source": []
  }
 ],
 "metadata": {
  "kernelspec": {
   "display_name": "Python 3.6.8 64-bit",
   "language": "python",
   "name": "python36864bitc17f53f707db4b89be7c32a22adf91a3"
  },
  "language_info": {
   "codemirror_mode": {
    "name": "ipython",
    "version": 3
   },
   "file_extension": ".py",
   "mimetype": "text/x-python",
   "name": "python",
   "nbconvert_exporter": "python",
   "pygments_lexer": "ipython3",
   "version": "3.6.8"
  }
 },
 "nbformat": 4,
 "nbformat_minor": 4
}
