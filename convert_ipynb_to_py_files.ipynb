{
 "cells": [
  {
   "cell_type": "code",
   "execution_count": 10,
   "metadata": {},
   "outputs": [
    {
     "name": "stdout",
     "output_type": "stream",
     "text": [
      "[NbConvertApp] Converting notebook data_classes/new_dataset.ipynb to script\n",
      "[NbConvertApp] Writing 3803 bytes to data_classes/py_files/new_dataset.py\n"
     ]
    }
   ],
   "source": [
    "# !jupyter nbconvert --to script --output-dir data_classes/py_files data_classes/data_classes.ipynb \n",
    "!jupyter nbconvert --to script --output-dir data_classes/py_files data_classes/new_dataset.ipynb \n",
    "# !jupyter nbconvert --to script --output-dir data_classes/py_files data_classes/custom_datasets.ipynb"
   ]
  },
  {
   "cell_type": "code",
   "execution_count": 2,
   "metadata": {},
   "outputs": [
    {
     "name": "stdout",
     "output_type": "stream",
     "text": [
      "[NbConvertApp] Converting notebook model_classes/cnn_model.ipynb to script\n",
      "[NbConvertApp] Writing 4494 bytes to model_classes/py_files/cnn_model.py\n",
      "[NbConvertApp] Converting notebook model_classes/pigan_model.ipynb to script\n",
      "[NbConvertApp] Writing 4299 bytes to model_classes/py_files/pigan_model.py\n"
     ]
    }
   ],
   "source": [
    "!jupyter nbconvert --to script --output-dir model_classes/py_files model_classes/cnn_model.ipynb \n",
    "!jupyter nbconvert --to script --output-dir model_classes/py_files model_classes/pigan_model.ipynb \n",
    "# !jupyter nbconvert --to script --output-dir model_classes/py_files model_classes/siren_model.ipynb "
   ]
  },
  {
   "cell_type": "code",
   "execution_count": 9,
   "metadata": {
    "scrolled": false
   },
   "outputs": [
    {
     "name": "stdout",
     "output_type": "stream",
     "text": [
      "[NbConvertApp] Converting notebook functions.ipynb to script\n",
      "[NbConvertApp] Writing 39878 bytes to functions.py\n"
     ]
    }
   ],
   "source": [
    "!jupyter nbconvert --to script functions.ipynb "
   ]
  },
  {
   "cell_type": "code",
   "execution_count": 9,
   "metadata": {},
   "outputs": [
    {
     "name": "stdout",
     "output_type": "stream",
     "text": [
      "[NbConvertApp] Converting notebook pi_gan.ipynb to script\n",
      "[NbConvertApp] Writing 7094 bytes to pi_gan.py\n"
     ]
    }
   ],
   "source": [
    "!jupyter nbconvert --to script pi_gan.ipynb "
   ]
  },
  {
   "cell_type": "code",
   "execution_count": null,
   "metadata": {},
   "outputs": [],
   "source": [
    "print(\"Saved py files.\")"
   ]
  }
 ],
 "metadata": {
  "kernelspec": {
   "display_name": "Python 3.6.8 64-bit",
   "language": "python",
   "name": "python36864bitc17f53f707db4b89be7c32a22adf91a3"
  },
  "language_info": {
   "codemirror_mode": {
    "name": "ipython",
    "version": 3
   },
   "file_extension": ".py",
   "mimetype": "text/x-python",
   "name": "python",
   "nbconvert_exporter": "python",
   "pygments_lexer": "ipython3",
   "version": "3.6.8"
  }
 },
 "nbformat": 4,
 "nbformat_minor": 4
}
