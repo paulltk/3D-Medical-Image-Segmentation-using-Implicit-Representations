{
 "cells": [
  {
   "cell_type": "code",
   "execution_count": null,
   "metadata": {},
   "outputs": [],
   "source": [
    "!jupyter nbconvert --to script --output-dir py_files \\\n",
    "    /home/ptenkaate/scratch/Master-Thesis/data_classes/new_dataset.ipynb "
   ]
  },
  {
   "cell_type": "code",
   "execution_count": null,
   "metadata": {},
   "outputs": [],
   "source": [
    "!jupyter nbconvert --to script --output-dir py_files \\\n",
    "    /home/ptenkaate/scratch/Master-Thesis/model_classes/cnn_model.ipynb "
   ]
  },
  {
   "cell_type": "code",
   "execution_count": null,
   "metadata": {},
   "outputs": [],
   "source": [
    "!jupyter nbconvert --to script --output-dir py_files \\\n",
    "    /home/ptenkaate/scratch/Master-Thesis/model_classes/pigan_model.ipynb "
   ]
  },
  {
   "cell_type": "code",
   "execution_count": null,
   "metadata": {},
   "outputs": [],
   "source": [
    "!jupyter nbconvert --to script --output-dir py_files \\\n",
    "    /home/ptenkaate/scratch/Master-Thesis/pi-gan/pi_gan_functions.ipynb"
   ]
  },
  {
   "cell_type": "code",
   "execution_count": null,
   "metadata": {},
   "outputs": [],
   "source": [
    "!jupyter nbconvert --to script --output-dir py_files \\\n",
    "    /home/ptenkaate/scratch/Master-Thesis/pi-gan_sequential/seq_pi_gan_functions.ipynb"
   ]
  },
  {
   "cell_type": "code",
   "execution_count": 3,
   "metadata": {},
   "outputs": [
    {
     "name": "stdout",
     "output_type": "stream",
     "text": [
      "[NbConvertApp] Converting notebook /home/ptenkaate/scratch/Master-Thesis/pi-gan_sequential/seq_pi_gan.ipynb to script\n",
      "[NbConvertApp] Writing 13181 bytes to /home/ptenkaate/scratch/Master-Thesis/pi-gan_sequential/seq_pi_gan.py\n"
     ]
    }
   ],
   "source": [
    "# !jupyter nbconvert --to script \\\n",
    "#     /home/ptenkaate/scratch/Master-Thesis/pi-gan_sequential/seq_pi_gan.ipynb"
   ]
  },
  {
   "cell_type": "code",
   "execution_count": null,
   "metadata": {},
   "outputs": [],
   "source": [
    "print(\"Saved py files.\")"
   ]
  }
 ],
 "metadata": {
  "kernelspec": {
   "display_name": "Python 3.6.8 64-bit",
   "language": "python",
   "name": "python36864bitc17f53f707db4b89be7c32a22adf91a3"
  },
  "language_info": {
   "codemirror_mode": {
    "name": "ipython",
    "version": 3
   },
   "file_extension": ".py",
   "mimetype": "text/x-python",
   "name": "python",
   "nbconvert_exporter": "python",
   "pygments_lexer": "ipython3",
   "version": "3.6.8"
  }
 },
 "nbformat": 4,
 "nbformat_minor": 4
}
